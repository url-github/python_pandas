{
  "nbformat": 4,
  "nbformat_minor": 0,
  "metadata": {
    "colab": {
      "name": "5.Sortowanie Serii.ipynb",
      "provenance": [],
      "collapsed_sections": [],
      "authorship_tag": "ABX9TyNa6mkZxAG0s16f2wCSPNuj"
    },
    "kernelspec": {
      "name": "python3",
      "display_name": "Python 3"
    },
    "language_info": {
      "name": "python"
    }
  },
  "cells": [
    {
      "cell_type": "code",
      "metadata": {
        "id": "_JMNPumJO3_5"
      },
      "source": [
        "import pandas as pd\n",
        "import numpy as np\n",
        "import matplotlib.pyplot as plt\n",
        "import math as math"
      ],
      "execution_count": null,
      "outputs": []
    },
    {
      "cell_type": "code",
      "metadata": {
        "id": "hh_JNWqGPNYi"
      },
      "source": [
        "pok = pd.read_csv(\"/content/pokemon.csv\", usecols=['Name'], squeeze=True)"
      ],
      "execution_count": null,
      "outputs": []
    },
    {
      "cell_type": "code",
      "metadata": {
        "colab": {
          "base_uri": "https://localhost:8080/"
        },
        "id": "7PdLjP-qQESJ",
        "outputId": "dcdad62e-175b-40d7-a368-4cfc2fd45a32"
      },
      "source": [
        "pok.head()"
      ],
      "execution_count": null,
      "outputs": [
        {
          "output_type": "execute_result",
          "data": {
            "text/plain": [
              "0                Bulbasaur\n",
              "1                  Ivysaur\n",
              "2                 Venusaur\n",
              "3    VenusaurMega Venusaur\n",
              "4               Charmander\n",
              "Name: Name, dtype: object"
            ]
          },
          "metadata": {
            "tags": []
          },
          "execution_count": 3
        }
      ]
    },
    {
      "cell_type": "code",
      "metadata": {
        "colab": {
          "base_uri": "https://localhost:8080/"
        },
        "id": "p4gEWRQoQI7h",
        "outputId": "8555b908-e05f-420f-f0c4-3615cfd556bb"
      },
      "source": [
        "pok.sort_values().head()"
      ],
      "execution_count": null,
      "outputs": [
        {
          "output_type": "execute_result",
          "data": {
            "text/plain": [
              "510                  Abomasnow\n",
              "511    AbomasnowMega Abomasnow\n",
              "68                        Abra\n",
              "392                      Absol\n",
              "393            AbsolMega Absol\n",
              "Name: Name, dtype: object"
            ]
          },
          "metadata": {
            "tags": []
          },
          "execution_count": 4
        }
      ]
    },
    {
      "cell_type": "code",
      "metadata": {
        "colab": {
          "base_uri": "https://localhost:8080/"
        },
        "id": "8MJmzA4jQjBx",
        "outputId": "af96c405-3c96-44f8-93a2-5348ca196cdf"
      },
      "source": [
        "pok.sort_values(ascending=False).head()"
      ],
      "execution_count": null,
      "outputs": [
        {
          "output_type": "execute_result",
          "data": {
            "text/plain": [
              "794    Zygarde50% Forme\n",
              "695            Zweilous\n",
              "46                Zubat\n",
              "631               Zorua\n",
              "632             Zoroark\n",
              "Name: Name, dtype: object"
            ]
          },
          "metadata": {
            "tags": []
          },
          "execution_count": 5
        }
      ]
    },
    {
      "cell_type": "code",
      "metadata": {
        "colab": {
          "base_uri": "https://localhost:8080/"
        },
        "id": "I2YB8UdORIzV",
        "outputId": "ad42f3c7-5a59-4234-de36-47cbbbe567d4"
      },
      "source": [
        "# Samo sortowanie nie wpływa na obiekt pok\n",
        "\n",
        "pok.head()"
      ],
      "execution_count": null,
      "outputs": [
        {
          "output_type": "execute_result",
          "data": {
            "text/plain": [
              "0                Bulbasaur\n",
              "1                  Ivysaur\n",
              "2                 Venusaur\n",
              "3    VenusaurMega Venusaur\n",
              "4               Charmander\n",
              "Name: Name, dtype: object"
            ]
          },
          "metadata": {
            "tags": []
          },
          "execution_count": 6
        }
      ]
    },
    {
      "cell_type": "code",
      "metadata": {
        "colab": {
          "base_uri": "https://localhost:8080/"
        },
        "id": "WUh6ta5WSOPi",
        "outputId": "9ab0fcbf-5e81-4600-c49c-ebc91e64cad8"
      },
      "source": [
        "# Aby zapisać sortowanie stosuje parametr\n",
        "\n",
        "pok.sort_values(inplace=True)\n",
        "pok.head()"
      ],
      "execution_count": null,
      "outputs": [
        {
          "output_type": "execute_result",
          "data": {
            "text/plain": [
              "510                  Abomasnow\n",
              "511    AbomasnowMega Abomasnow\n",
              "68                        Abra\n",
              "392                      Absol\n",
              "393            AbsolMega Absol\n",
              "Name: Name, dtype: object"
            ]
          },
          "metadata": {
            "tags": []
          },
          "execution_count": 7
        }
      ]
    },
    {
      "cell_type": "code",
      "metadata": {
        "colab": {
          "base_uri": "https://localhost:8080/"
        },
        "id": "E2ZtrWYWS3MS",
        "outputId": "1fad1c5e-f22f-403e-ba87-e7cc176ba240"
      },
      "source": [
        "# Sortowanie po indeksie \n",
        "\n",
        "pok.sort_index().head()"
      ],
      "execution_count": null,
      "outputs": [
        {
          "output_type": "execute_result",
          "data": {
            "text/plain": [
              "0                Bulbasaur\n",
              "1                  Ivysaur\n",
              "2                 Venusaur\n",
              "3    VenusaurMega Venusaur\n",
              "4               Charmander\n",
              "Name: Name, dtype: object"
            ]
          },
          "metadata": {
            "tags": []
          },
          "execution_count": 8
        }
      ]
    },
    {
      "cell_type": "code",
      "metadata": {
        "colab": {
          "base_uri": "https://localhost:8080/"
        },
        "id": "7V46-vEpUg3I",
        "outputId": "e42e7ce9-eab6-4f10-887e-7f65fbc44b42"
      },
      "source": [
        "# Sortowanie po indeksie malejąco (tworzę nową Serię)\n",
        "\n",
        "pok = pok.sort_index(ascending=False)\n",
        "pok.head()"
      ],
      "execution_count": null,
      "outputs": [
        {
          "output_type": "execute_result",
          "data": {
            "text/plain": [
              "799              Volcanion\n",
              "798     HoopaHoopa Unbound\n",
              "797    HoopaHoopa Confined\n",
              "796    DiancieMega Diancie\n",
              "795                Diancie\n",
              "Name: Name, dtype: object"
            ]
          },
          "metadata": {
            "tags": []
          },
          "execution_count": 11
        }
      ]
    },
    {
      "cell_type": "code",
      "metadata": {
        "id": "2VdFJsNwV2XX"
      },
      "source": [
        ""
      ],
      "execution_count": null,
      "outputs": []
    }
  ]
}