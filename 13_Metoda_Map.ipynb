{
  "nbformat": 4,
  "nbformat_minor": 0,
  "metadata": {
    "colab": {
      "name": "13.Metoda Map.ipynb",
      "provenance": [],
      "authorship_tag": "ABX9TyOqse+dtOc8nNa/wiCSWoLK"
    },
    "kernelspec": {
      "name": "python3",
      "display_name": "Python 3"
    },
    "language_info": {
      "name": "python"
    }
  },
  "cells": [
    {
      "cell_type": "code",
      "metadata": {
        "id": "Kkwjwc3t33B4"
      },
      "source": [
        "import pandas as pd\n",
        "import numpy as np\n",
        "import matplotlib.pyplot as plt\n",
        "import math as math"
      ],
      "execution_count": null,
      "outputs": []
    },
    {
      "cell_type": "code",
      "metadata": {
        "colab": {
          "base_uri": "https://localhost:8080/"
        },
        "id": "o_oOYOE04hqW",
        "outputId": "1b944c2c-0767-48e2-c80c-ca9eb27e05ea"
      },
      "source": [
        "# Map wykonuje czynność na 2 seriach danych\n",
        "\n",
        "team = pd.Series(data=[5,3,5,7,8,4,6,8],index=['Piotr', 'Tadek', 'Agusia', 'Stefan', 'Henry', 'Ivan', 'Olek', 'Antek'])\n",
        "team"
      ],
      "execution_count": null,
      "outputs": [
        {
          "output_type": "execute_result",
          "data": {
            "text/plain": [
              "Piotr     5\n",
              "Tadek     3\n",
              "Agusia    5\n",
              "Stefan    7\n",
              "Henry     8\n",
              "Ivan      4\n",
              "Olek      6\n",
              "Antek     8\n",
              "dtype: int64"
            ]
          },
          "metadata": {
            "tags": []
          },
          "execution_count": 2
        }
      ]
    },
    {
      "cell_type": "code",
      "metadata": {
        "colab": {
          "base_uri": "https://localhost:8080/"
        },
        "id": "tv-McTwW5R0Y",
        "outputId": "acb66025-399e-4c08-eb0e-2c14c4946f50"
      },
      "source": [
        "notes=pd.Series(data=['C','C','B','A','A+'],index=[1,2,3,4,5])\n",
        "notes"
      ],
      "execution_count": null,
      "outputs": [
        {
          "output_type": "execute_result",
          "data": {
            "text/plain": [
              "1     C\n",
              "2     C\n",
              "3     B\n",
              "4     A\n",
              "5    A+\n",
              "dtype: object"
            ]
          },
          "metadata": {
            "tags": []
          },
          "execution_count": 3
        }
      ]
    },
    {
      "cell_type": "code",
      "metadata": {
        "colab": {
          "base_uri": "https://localhost:8080/"
        },
        "id": "4FbaH4r65ncm",
        "outputId": "9ff70512-25ce-487a-8c28-d3e4a064e036"
      },
      "source": [
        "team.map(notes)"
      ],
      "execution_count": null,
      "outputs": [
        {
          "output_type": "execute_result",
          "data": {
            "text/plain": [
              "Piotr      A+\n",
              "Tadek       B\n",
              "Agusia     A+\n",
              "Stefan    NaN\n",
              "Henry     NaN\n",
              "Ivan        A\n",
              "Olek      NaN\n",
              "Antek     NaN\n",
              "dtype: object"
            ]
          },
          "metadata": {
            "tags": []
          },
          "execution_count": 4
        }
      ]
    }
  ]
}