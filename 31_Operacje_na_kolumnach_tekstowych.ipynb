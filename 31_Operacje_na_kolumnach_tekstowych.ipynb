{
  "nbformat": 4,
  "nbformat_minor": 0,
  "metadata": {
    "colab": {
      "name": "31.Operacje na kolumnach tekstowych.ipynb",
      "provenance": [],
      "authorship_tag": "ABX9TyPRR2ocVsZbDRwsMG0u8EWM"
    },
    "kernelspec": {
      "name": "python3",
      "display_name": "Python 3"
    },
    "language_info": {
      "name": "python"
    }
  },
  "cells": [
    {
      "cell_type": "code",
      "metadata": {
        "id": "WqufQI7o8QDs"
      },
      "source": [
        "import pandas as pd\n",
        "import numpy as np\n",
        "import matplotlib.pyplot as plt\n",
        "import math as math"
      ],
      "execution_count": null,
      "outputs": []
    },
    {
      "cell_type": "code",
      "metadata": {
        "colab": {
          "base_uri": "https://localhost:8080/",
          "height": 204
        },
        "id": "UhEsgH5v8SFF",
        "outputId": "230beccb-e291-455b-f215-76e5c87c5d9a"
      },
      "source": [
        "frame = pd.read_csv('/content/PublicTransitExpenses.csv', usecols=['Agency', 'Reporter Type', 'Total Operating Expenses'])\n",
        "frame.head()"
      ],
      "execution_count": null,
      "outputs": [
        {
          "output_type": "execute_result",
          "data": {
            "text/html": [
              "<div>\n",
              "<style scoped>\n",
              "    .dataframe tbody tr th:only-of-type {\n",
              "        vertical-align: middle;\n",
              "    }\n",
              "\n",
              "    .dataframe tbody tr th {\n",
              "        vertical-align: top;\n",
              "    }\n",
              "\n",
              "    .dataframe thead th {\n",
              "        text-align: right;\n",
              "    }\n",
              "</style>\n",
              "<table border=\"1\" class=\"dataframe\">\n",
              "  <thead>\n",
              "    <tr style=\"text-align: right;\">\n",
              "      <th></th>\n",
              "      <th>Agency</th>\n",
              "      <th>Reporter Type</th>\n",
              "      <th>Total Operating Expenses</th>\n",
              "    </tr>\n",
              "  </thead>\n",
              "  <tbody>\n",
              "    <tr>\n",
              "      <th>0</th>\n",
              "      <td>Washington County Commissioners</td>\n",
              "      <td>Reduced Reporter</td>\n",
              "      <td>$122524.00</td>\n",
              "    </tr>\n",
              "    <tr>\n",
              "      <th>1</th>\n",
              "      <td>Washington County Commissioners</td>\n",
              "      <td>Reduced Reporter</td>\n",
              "      <td>$272715.00</td>\n",
              "    </tr>\n",
              "    <tr>\n",
              "      <th>2</th>\n",
              "      <td>Texoma Area Paratransit System, Inc</td>\n",
              "      <td>Full Reporter</td>\n",
              "      <td>$7295.00</td>\n",
              "    </tr>\n",
              "    <tr>\n",
              "      <th>3</th>\n",
              "      <td>Kalispel Tribe of Indians</td>\n",
              "      <td>Reduced Reporter</td>\n",
              "      <td>$37416.00</td>\n",
              "    </tr>\n",
              "    <tr>\n",
              "      <th>4</th>\n",
              "      <td>Kalispel Tribe of Indians</td>\n",
              "      <td>Reduced Reporter</td>\n",
              "      <td>$345789.00</td>\n",
              "    </tr>\n",
              "  </tbody>\n",
              "</table>\n",
              "</div>"
            ],
            "text/plain": [
              "                                Agency  ... Total Operating Expenses\n",
              "0      Washington County Commissioners  ...               $122524.00\n",
              "1      Washington County Commissioners  ...               $272715.00\n",
              "2  Texoma Area Paratransit System, Inc  ...                 $7295.00\n",
              "3            Kalispel Tribe of Indians  ...                $37416.00\n",
              "4            Kalispel Tribe of Indians  ...               $345789.00\n",
              "\n",
              "[5 rows x 3 columns]"
            ]
          },
          "metadata": {
            "tags": []
          },
          "execution_count": 2
        }
      ]
    },
    {
      "cell_type": "code",
      "metadata": {
        "colab": {
          "base_uri": "https://localhost:8080/"
        },
        "id": "Wq7GbaDJ9E_7",
        "outputId": "79af0b23-ce4f-4345-f032-28e10dc1f218"
      },
      "source": [
        "frame['Agency'].str.contains('Washington')"
      ],
      "execution_count": null,
      "outputs": [
        {
          "output_type": "execute_result",
          "data": {
            "text/plain": [
              "0         True\n",
              "1         True\n",
              "2        False\n",
              "3        False\n",
              "4        False\n",
              "         ...  \n",
              "17839    False\n",
              "17840    False\n",
              "17841    False\n",
              "17842    False\n",
              "17843    False\n",
              "Name: Agency, Length: 17844, dtype: bool"
            ]
          },
          "metadata": {
            "tags": []
          },
          "execution_count": 4
        }
      ]
    },
    {
      "cell_type": "code",
      "metadata": {
        "colab": {
          "base_uri": "https://localhost:8080/",
          "height": 419
        },
        "id": "yTXIiXhjoVkP",
        "outputId": "be5427ce-8607-44c1-8bda-20cbe6519d5a"
      },
      "source": [
        "frame[frame['Agency'].str.contains('Washington')]"
      ],
      "execution_count": null,
      "outputs": [
        {
          "output_type": "execute_result",
          "data": {
            "text/html": [
              "<div>\n",
              "<style scoped>\n",
              "    .dataframe tbody tr th:only-of-type {\n",
              "        vertical-align: middle;\n",
              "    }\n",
              "\n",
              "    .dataframe tbody tr th {\n",
              "        vertical-align: top;\n",
              "    }\n",
              "\n",
              "    .dataframe thead th {\n",
              "        text-align: right;\n",
              "    }\n",
              "</style>\n",
              "<table border=\"1\" class=\"dataframe\">\n",
              "  <thead>\n",
              "    <tr style=\"text-align: right;\">\n",
              "      <th></th>\n",
              "      <th>Agency</th>\n",
              "      <th>Reporter Type</th>\n",
              "      <th>Total Operating Expenses</th>\n",
              "    </tr>\n",
              "  </thead>\n",
              "  <tbody>\n",
              "    <tr>\n",
              "      <th>0</th>\n",
              "      <td>Washington County Commissioners</td>\n",
              "      <td>Reduced Reporter</td>\n",
              "      <td>$122524.00</td>\n",
              "    </tr>\n",
              "    <tr>\n",
              "      <th>1</th>\n",
              "      <td>Washington County Commissioners</td>\n",
              "      <td>Reduced Reporter</td>\n",
              "      <td>$272715.00</td>\n",
              "    </tr>\n",
              "    <tr>\n",
              "      <th>199</th>\n",
              "      <td>Washington State Ferries</td>\n",
              "      <td>Full Reporter</td>\n",
              "      <td>$16215777.00</td>\n",
              "    </tr>\n",
              "    <tr>\n",
              "      <th>213</th>\n",
              "      <td>Washington State Ferries</td>\n",
              "      <td>Full Reporter</td>\n",
              "      <td>$11132493.00</td>\n",
              "    </tr>\n",
              "    <tr>\n",
              "      <th>364</th>\n",
              "      <td>Washington State Ferries</td>\n",
              "      <td>Full Reporter</td>\n",
              "      <td>$11750411.00</td>\n",
              "    </tr>\n",
              "    <tr>\n",
              "      <th>...</th>\n",
              "      <td>...</td>\n",
              "      <td>...</td>\n",
              "      <td>...</td>\n",
              "    </tr>\n",
              "    <tr>\n",
              "      <th>15871</th>\n",
              "      <td>Washington Hancock Community Agency</td>\n",
              "      <td>Rural Reporter</td>\n",
              "      <td>$995395.00</td>\n",
              "    </tr>\n",
              "    <tr>\n",
              "      <th>16213</th>\n",
              "      <td>City of Washington</td>\n",
              "      <td>Rural Reporter</td>\n",
              "      <td>$105117.00</td>\n",
              "    </tr>\n",
              "    <tr>\n",
              "      <th>16313</th>\n",
              "      <td>City of Washington</td>\n",
              "      <td>Rural Reporter</td>\n",
              "      <td>$102799.00</td>\n",
              "    </tr>\n",
              "    <tr>\n",
              "      <th>16316</th>\n",
              "      <td>Washington Parish Council on Aging</td>\n",
              "      <td>Rural Reporter</td>\n",
              "      <td>$546300.00</td>\n",
              "    </tr>\n",
              "    <tr>\n",
              "      <th>16780</th>\n",
              "      <td>Washington Parish Council on Aging</td>\n",
              "      <td>Rural Reporter</td>\n",
              "      <td>$550224.00</td>\n",
              "    </tr>\n",
              "  </tbody>\n",
              "</table>\n",
              "<p>137 rows × 3 columns</p>\n",
              "</div>"
            ],
            "text/plain": [
              "                                    Agency  ... Total Operating Expenses\n",
              "0          Washington County Commissioners  ...               $122524.00\n",
              "1          Washington County Commissioners  ...               $272715.00\n",
              "199               Washington State Ferries  ...             $16215777.00\n",
              "213               Washington State Ferries  ...             $11132493.00\n",
              "364               Washington State Ferries  ...             $11750411.00\n",
              "...                                    ...  ...                      ...\n",
              "15871  Washington Hancock Community Agency  ...               $995395.00\n",
              "16213                   City of Washington  ...               $105117.00\n",
              "16313                   City of Washington  ...               $102799.00\n",
              "16316   Washington Parish Council on Aging  ...               $546300.00\n",
              "16780   Washington Parish Council on Aging  ...               $550224.00\n",
              "\n",
              "[137 rows x 3 columns]"
            ]
          },
          "metadata": {
            "tags": []
          },
          "execution_count": 5
        }
      ]
    },
    {
      "cell_type": "code",
      "metadata": {
        "colab": {
          "base_uri": "https://localhost:8080/"
        },
        "id": "qAqfJJhooqXs",
        "outputId": "386bb762-6d4e-4f40-cd54-4baeefdbe17c"
      },
      "source": [
        "frame['Agency'].str.lower()"
      ],
      "execution_count": null,
      "outputs": [
        {
          "output_type": "execute_result",
          "data": {
            "text/plain": [
              "0            washington county commissioners\n",
              "1            washington county commissioners\n",
              "2        texoma area paratransit system, inc\n",
              "3                  kalispel tribe of indians\n",
              "4                  kalispel tribe of indians\n",
              "                        ...                 \n",
              "17839      cedar area transportation service\n",
              "17840                          tehama county\n",
              "17841                         city of dixon \n",
              "17842        morongo basin transit authority\n",
              "17843                          city of arvin\n",
              "Name: Agency, Length: 17844, dtype: object"
            ]
          },
          "metadata": {
            "tags": []
          },
          "execution_count": 6
        }
      ]
    },
    {
      "cell_type": "code",
      "metadata": {
        "colab": {
          "base_uri": "https://localhost:8080/",
          "height": 204
        },
        "id": "16MH-8uTo8Ix",
        "outputId": "2db0771b-4d54-4edf-ef35-8ac162ace023"
      },
      "source": [
        "frame['Agency'] = frame['Agency'].str.lower()\n",
        "frame.head()"
      ],
      "execution_count": null,
      "outputs": [
        {
          "output_type": "execute_result",
          "data": {
            "text/html": [
              "<div>\n",
              "<style scoped>\n",
              "    .dataframe tbody tr th:only-of-type {\n",
              "        vertical-align: middle;\n",
              "    }\n",
              "\n",
              "    .dataframe tbody tr th {\n",
              "        vertical-align: top;\n",
              "    }\n",
              "\n",
              "    .dataframe thead th {\n",
              "        text-align: right;\n",
              "    }\n",
              "</style>\n",
              "<table border=\"1\" class=\"dataframe\">\n",
              "  <thead>\n",
              "    <tr style=\"text-align: right;\">\n",
              "      <th></th>\n",
              "      <th>Agency</th>\n",
              "      <th>Reporter Type</th>\n",
              "      <th>Total Operating Expenses</th>\n",
              "    </tr>\n",
              "  </thead>\n",
              "  <tbody>\n",
              "    <tr>\n",
              "      <th>0</th>\n",
              "      <td>washington county commissioners</td>\n",
              "      <td>Reduced Reporter</td>\n",
              "      <td>$122524.00</td>\n",
              "    </tr>\n",
              "    <tr>\n",
              "      <th>1</th>\n",
              "      <td>washington county commissioners</td>\n",
              "      <td>Reduced Reporter</td>\n",
              "      <td>$272715.00</td>\n",
              "    </tr>\n",
              "    <tr>\n",
              "      <th>2</th>\n",
              "      <td>texoma area paratransit system, inc</td>\n",
              "      <td>Full Reporter</td>\n",
              "      <td>$7295.00</td>\n",
              "    </tr>\n",
              "    <tr>\n",
              "      <th>3</th>\n",
              "      <td>kalispel tribe of indians</td>\n",
              "      <td>Reduced Reporter</td>\n",
              "      <td>$37416.00</td>\n",
              "    </tr>\n",
              "    <tr>\n",
              "      <th>4</th>\n",
              "      <td>kalispel tribe of indians</td>\n",
              "      <td>Reduced Reporter</td>\n",
              "      <td>$345789.00</td>\n",
              "    </tr>\n",
              "  </tbody>\n",
              "</table>\n",
              "</div>"
            ],
            "text/plain": [
              "                                Agency  ... Total Operating Expenses\n",
              "0      washington county commissioners  ...               $122524.00\n",
              "1      washington county commissioners  ...               $272715.00\n",
              "2  texoma area paratransit system, inc  ...                 $7295.00\n",
              "3            kalispel tribe of indians  ...                $37416.00\n",
              "4            kalispel tribe of indians  ...               $345789.00\n",
              "\n",
              "[5 rows x 3 columns]"
            ]
          },
          "metadata": {
            "tags": []
          },
          "execution_count": 8
        }
      ]
    },
    {
      "cell_type": "code",
      "metadata": {
        "colab": {
          "base_uri": "https://localhost:8080/",
          "height": 204
        },
        "id": "E5JFbF31pLcA",
        "outputId": "d4f37241-72b9-4e17-9841-f87b8374e1d8"
      },
      "source": [
        "frame[frame['Agency'].str.contains('washington')].head()"
      ],
      "execution_count": null,
      "outputs": [
        {
          "output_type": "execute_result",
          "data": {
            "text/html": [
              "<div>\n",
              "<style scoped>\n",
              "    .dataframe tbody tr th:only-of-type {\n",
              "        vertical-align: middle;\n",
              "    }\n",
              "\n",
              "    .dataframe tbody tr th {\n",
              "        vertical-align: top;\n",
              "    }\n",
              "\n",
              "    .dataframe thead th {\n",
              "        text-align: right;\n",
              "    }\n",
              "</style>\n",
              "<table border=\"1\" class=\"dataframe\">\n",
              "  <thead>\n",
              "    <tr style=\"text-align: right;\">\n",
              "      <th></th>\n",
              "      <th>Agency</th>\n",
              "      <th>Reporter Type</th>\n",
              "      <th>Total Operating Expenses</th>\n",
              "    </tr>\n",
              "  </thead>\n",
              "  <tbody>\n",
              "    <tr>\n",
              "      <th>0</th>\n",
              "      <td>washington county commissioners</td>\n",
              "      <td>Reduced Reporter</td>\n",
              "      <td>$122524.00</td>\n",
              "    </tr>\n",
              "    <tr>\n",
              "      <th>1</th>\n",
              "      <td>washington county commissioners</td>\n",
              "      <td>Reduced Reporter</td>\n",
              "      <td>$272715.00</td>\n",
              "    </tr>\n",
              "    <tr>\n",
              "      <th>199</th>\n",
              "      <td>washington state ferries</td>\n",
              "      <td>Full Reporter</td>\n",
              "      <td>$16215777.00</td>\n",
              "    </tr>\n",
              "    <tr>\n",
              "      <th>213</th>\n",
              "      <td>washington state ferries</td>\n",
              "      <td>Full Reporter</td>\n",
              "      <td>$11132493.00</td>\n",
              "    </tr>\n",
              "    <tr>\n",
              "      <th>364</th>\n",
              "      <td>washington state ferries</td>\n",
              "      <td>Full Reporter</td>\n",
              "      <td>$11750411.00</td>\n",
              "    </tr>\n",
              "  </tbody>\n",
              "</table>\n",
              "</div>"
            ],
            "text/plain": [
              "                              Agency     Reporter Type Total Operating Expenses\n",
              "0    washington county commissioners  Reduced Reporter               $122524.00\n",
              "1    washington county commissioners  Reduced Reporter               $272715.00\n",
              "199         washington state ferries     Full Reporter             $16215777.00\n",
              "213         washington state ferries     Full Reporter             $11132493.00\n",
              "364         washington state ferries     Full Reporter             $11750411.00"
            ]
          },
          "metadata": {
            "tags": []
          },
          "execution_count": 9
        }
      ]
    },
    {
      "cell_type": "code",
      "metadata": {
        "colab": {
          "base_uri": "https://localhost:8080/",
          "height": 204
        },
        "id": "Ohe4dWz1p6fw",
        "outputId": "52aaf939-4217-4dd3-ae04-ea2f4c903b4b"
      },
      "source": [
        "frame = pd.read_csv('/content/PublicTransitExpenses.csv', usecols=['Agency', 'Reporter Type', 'Total Operating Expenses'])\n",
        "frame.head()"
      ],
      "execution_count": null,
      "outputs": [
        {
          "output_type": "execute_result",
          "data": {
            "text/html": [
              "<div>\n",
              "<style scoped>\n",
              "    .dataframe tbody tr th:only-of-type {\n",
              "        vertical-align: middle;\n",
              "    }\n",
              "\n",
              "    .dataframe tbody tr th {\n",
              "        vertical-align: top;\n",
              "    }\n",
              "\n",
              "    .dataframe thead th {\n",
              "        text-align: right;\n",
              "    }\n",
              "</style>\n",
              "<table border=\"1\" class=\"dataframe\">\n",
              "  <thead>\n",
              "    <tr style=\"text-align: right;\">\n",
              "      <th></th>\n",
              "      <th>Agency</th>\n",
              "      <th>Reporter Type</th>\n",
              "      <th>Total Operating Expenses</th>\n",
              "    </tr>\n",
              "  </thead>\n",
              "  <tbody>\n",
              "    <tr>\n",
              "      <th>0</th>\n",
              "      <td>Washington County Commissioners</td>\n",
              "      <td>Reduced Reporter</td>\n",
              "      <td>$122524.00</td>\n",
              "    </tr>\n",
              "    <tr>\n",
              "      <th>1</th>\n",
              "      <td>Washington County Commissioners</td>\n",
              "      <td>Reduced Reporter</td>\n",
              "      <td>$272715.00</td>\n",
              "    </tr>\n",
              "    <tr>\n",
              "      <th>2</th>\n",
              "      <td>Texoma Area Paratransit System, Inc</td>\n",
              "      <td>Full Reporter</td>\n",
              "      <td>$7295.00</td>\n",
              "    </tr>\n",
              "    <tr>\n",
              "      <th>3</th>\n",
              "      <td>Kalispel Tribe of Indians</td>\n",
              "      <td>Reduced Reporter</td>\n",
              "      <td>$37416.00</td>\n",
              "    </tr>\n",
              "    <tr>\n",
              "      <th>4</th>\n",
              "      <td>Kalispel Tribe of Indians</td>\n",
              "      <td>Reduced Reporter</td>\n",
              "      <td>$345789.00</td>\n",
              "    </tr>\n",
              "  </tbody>\n",
              "</table>\n",
              "</div>"
            ],
            "text/plain": [
              "                                Agency  ... Total Operating Expenses\n",
              "0      Washington County Commissioners  ...               $122524.00\n",
              "1      Washington County Commissioners  ...               $272715.00\n",
              "2  Texoma Area Paratransit System, Inc  ...                 $7295.00\n",
              "3            Kalispel Tribe of Indians  ...                $37416.00\n",
              "4            Kalispel Tribe of Indians  ...               $345789.00\n",
              "\n",
              "[5 rows x 3 columns]"
            ]
          },
          "metadata": {
            "tags": []
          },
          "execution_count": 10
        }
      ]
    },
    {
      "cell_type": "code",
      "metadata": {
        "colab": {
          "base_uri": "https://localhost:8080/",
          "height": 359
        },
        "id": "KFblY8smqLRx",
        "outputId": "268a51dc-8658-4aad-95bf-172da4f55dba"
      },
      "source": [
        "frame[frame['Agency'].str.lower().str.endswith('ferries')]"
      ],
      "execution_count": null,
      "outputs": [
        {
          "output_type": "execute_result",
          "data": {
            "text/html": [
              "<div>\n",
              "<style scoped>\n",
              "    .dataframe tbody tr th:only-of-type {\n",
              "        vertical-align: middle;\n",
              "    }\n",
              "\n",
              "    .dataframe tbody tr th {\n",
              "        vertical-align: top;\n",
              "    }\n",
              "\n",
              "    .dataframe thead th {\n",
              "        text-align: right;\n",
              "    }\n",
              "</style>\n",
              "<table border=\"1\" class=\"dataframe\">\n",
              "  <thead>\n",
              "    <tr style=\"text-align: right;\">\n",
              "      <th></th>\n",
              "      <th>Agency</th>\n",
              "      <th>Reporter Type</th>\n",
              "      <th>Total Operating Expenses</th>\n",
              "    </tr>\n",
              "  </thead>\n",
              "  <tbody>\n",
              "    <tr>\n",
              "      <th>199</th>\n",
              "      <td>Washington State Ferries</td>\n",
              "      <td>Full Reporter</td>\n",
              "      <td>$16215777.00</td>\n",
              "    </tr>\n",
              "    <tr>\n",
              "      <th>213</th>\n",
              "      <td>Washington State Ferries</td>\n",
              "      <td>Full Reporter</td>\n",
              "      <td>$11132493.00</td>\n",
              "    </tr>\n",
              "    <tr>\n",
              "      <th>364</th>\n",
              "      <td>Washington State Ferries</td>\n",
              "      <td>Full Reporter</td>\n",
              "      <td>$11750411.00</td>\n",
              "    </tr>\n",
              "    <tr>\n",
              "      <th>397</th>\n",
              "      <td>Washington State Ferries</td>\n",
              "      <td>Full Reporter</td>\n",
              "      <td>$22400732.00</td>\n",
              "    </tr>\n",
              "    <tr>\n",
              "      <th>604</th>\n",
              "      <td>Washington State Ferries</td>\n",
              "      <td>Full Reporter</td>\n",
              "      <td>$17715787.00</td>\n",
              "    </tr>\n",
              "    <tr>\n",
              "      <th>634</th>\n",
              "      <td>Washington State Ferries</td>\n",
              "      <td>Full Reporter</td>\n",
              "      <td>$236320045.00</td>\n",
              "    </tr>\n",
              "    <tr>\n",
              "      <th>653</th>\n",
              "      <td>Washington State Ferries</td>\n",
              "      <td>Full Reporter</td>\n",
              "      <td>$184425025.00</td>\n",
              "    </tr>\n",
              "    <tr>\n",
              "      <th>684</th>\n",
              "      <td>Washington State Ferries</td>\n",
              "      <td>Full Reporter</td>\n",
              "      <td>$186344635.00</td>\n",
              "    </tr>\n",
              "    <tr>\n",
              "      <th>915</th>\n",
              "      <td>Washington State Ferries</td>\n",
              "      <td>Full Reporter</td>\n",
              "      <td>$236711555.00</td>\n",
              "    </tr>\n",
              "    <tr>\n",
              "      <th>1114</th>\n",
              "      <td>Washington State Ferries</td>\n",
              "      <td>Full Reporter</td>\n",
              "      <td>$23046740.00</td>\n",
              "    </tr>\n",
              "  </tbody>\n",
              "</table>\n",
              "</div>"
            ],
            "text/plain": [
              "                        Agency  Reporter Type Total Operating Expenses\n",
              "199   Washington State Ferries  Full Reporter             $16215777.00\n",
              "213   Washington State Ferries  Full Reporter             $11132493.00\n",
              "364   Washington State Ferries  Full Reporter             $11750411.00\n",
              "397   Washington State Ferries  Full Reporter             $22400732.00\n",
              "604   Washington State Ferries  Full Reporter             $17715787.00\n",
              "634   Washington State Ferries  Full Reporter            $236320045.00\n",
              "653   Washington State Ferries  Full Reporter            $184425025.00\n",
              "684   Washington State Ferries  Full Reporter            $186344635.00\n",
              "915   Washington State Ferries  Full Reporter            $236711555.00\n",
              "1114  Washington State Ferries  Full Reporter             $23046740.00"
            ]
          },
          "metadata": {
            "tags": []
          },
          "execution_count": 12
        }
      ]
    },
    {
      "cell_type": "code",
      "metadata": {
        "colab": {
          "base_uri": "https://localhost:8080/",
          "height": 359
        },
        "id": "pX1q_ZYeqXAM",
        "outputId": "0d27bd81-efbf-46fc-8029-1b3d4c3516dc"
      },
      "source": [
        "endsWithFerries = frame['Agency'].str.lower().str.strip().str.endswith('ferries')\n",
        "frame[endsWithFerries]"
      ],
      "execution_count": null,
      "outputs": [
        {
          "output_type": "execute_result",
          "data": {
            "text/html": [
              "<div>\n",
              "<style scoped>\n",
              "    .dataframe tbody tr th:only-of-type {\n",
              "        vertical-align: middle;\n",
              "    }\n",
              "\n",
              "    .dataframe tbody tr th {\n",
              "        vertical-align: top;\n",
              "    }\n",
              "\n",
              "    .dataframe thead th {\n",
              "        text-align: right;\n",
              "    }\n",
              "</style>\n",
              "<table border=\"1\" class=\"dataframe\">\n",
              "  <thead>\n",
              "    <tr style=\"text-align: right;\">\n",
              "      <th></th>\n",
              "      <th>Agency</th>\n",
              "      <th>Reporter Type</th>\n",
              "      <th>Total Operating Expenses</th>\n",
              "    </tr>\n",
              "  </thead>\n",
              "  <tbody>\n",
              "    <tr>\n",
              "      <th>199</th>\n",
              "      <td>Washington State Ferries</td>\n",
              "      <td>Full Reporter</td>\n",
              "      <td>$16215777.00</td>\n",
              "    </tr>\n",
              "    <tr>\n",
              "      <th>213</th>\n",
              "      <td>Washington State Ferries</td>\n",
              "      <td>Full Reporter</td>\n",
              "      <td>$11132493.00</td>\n",
              "    </tr>\n",
              "    <tr>\n",
              "      <th>364</th>\n",
              "      <td>Washington State Ferries</td>\n",
              "      <td>Full Reporter</td>\n",
              "      <td>$11750411.00</td>\n",
              "    </tr>\n",
              "    <tr>\n",
              "      <th>397</th>\n",
              "      <td>Washington State Ferries</td>\n",
              "      <td>Full Reporter</td>\n",
              "      <td>$22400732.00</td>\n",
              "    </tr>\n",
              "    <tr>\n",
              "      <th>604</th>\n",
              "      <td>Washington State Ferries</td>\n",
              "      <td>Full Reporter</td>\n",
              "      <td>$17715787.00</td>\n",
              "    </tr>\n",
              "    <tr>\n",
              "      <th>634</th>\n",
              "      <td>Washington State Ferries</td>\n",
              "      <td>Full Reporter</td>\n",
              "      <td>$236320045.00</td>\n",
              "    </tr>\n",
              "    <tr>\n",
              "      <th>653</th>\n",
              "      <td>Washington State Ferries</td>\n",
              "      <td>Full Reporter</td>\n",
              "      <td>$184425025.00</td>\n",
              "    </tr>\n",
              "    <tr>\n",
              "      <th>684</th>\n",
              "      <td>Washington State Ferries</td>\n",
              "      <td>Full Reporter</td>\n",
              "      <td>$186344635.00</td>\n",
              "    </tr>\n",
              "    <tr>\n",
              "      <th>915</th>\n",
              "      <td>Washington State Ferries</td>\n",
              "      <td>Full Reporter</td>\n",
              "      <td>$236711555.00</td>\n",
              "    </tr>\n",
              "    <tr>\n",
              "      <th>1114</th>\n",
              "      <td>Washington State Ferries</td>\n",
              "      <td>Full Reporter</td>\n",
              "      <td>$23046740.00</td>\n",
              "    </tr>\n",
              "  </tbody>\n",
              "</table>\n",
              "</div>"
            ],
            "text/plain": [
              "                        Agency  Reporter Type Total Operating Expenses\n",
              "199   Washington State Ferries  Full Reporter             $16215777.00\n",
              "213   Washington State Ferries  Full Reporter             $11132493.00\n",
              "364   Washington State Ferries  Full Reporter             $11750411.00\n",
              "397   Washington State Ferries  Full Reporter             $22400732.00\n",
              "604   Washington State Ferries  Full Reporter             $17715787.00\n",
              "634   Washington State Ferries  Full Reporter            $236320045.00\n",
              "653   Washington State Ferries  Full Reporter            $184425025.00\n",
              "684   Washington State Ferries  Full Reporter            $186344635.00\n",
              "915   Washington State Ferries  Full Reporter            $236711555.00\n",
              "1114  Washington State Ferries  Full Reporter             $23046740.00"
            ]
          },
          "metadata": {
            "tags": []
          },
          "execution_count": 13
        }
      ]
    },
    {
      "cell_type": "code",
      "metadata": {
        "colab": {
          "base_uri": "https://localhost:8080/",
          "height": 235
        },
        "id": "W9Bkp-8TrlMv",
        "outputId": "5fbacd7b-90e1-4259-ae01-1feb9d54056f"
      },
      "source": [
        "frame.set_index('Agency', inplace=True)\n",
        "frame.head()"
      ],
      "execution_count": null,
      "outputs": [
        {
          "output_type": "execute_result",
          "data": {
            "text/html": [
              "<div>\n",
              "<style scoped>\n",
              "    .dataframe tbody tr th:only-of-type {\n",
              "        vertical-align: middle;\n",
              "    }\n",
              "\n",
              "    .dataframe tbody tr th {\n",
              "        vertical-align: top;\n",
              "    }\n",
              "\n",
              "    .dataframe thead th {\n",
              "        text-align: right;\n",
              "    }\n",
              "</style>\n",
              "<table border=\"1\" class=\"dataframe\">\n",
              "  <thead>\n",
              "    <tr style=\"text-align: right;\">\n",
              "      <th></th>\n",
              "      <th>Reporter Type</th>\n",
              "      <th>Total Operating Expenses</th>\n",
              "    </tr>\n",
              "    <tr>\n",
              "      <th>Agency</th>\n",
              "      <th></th>\n",
              "      <th></th>\n",
              "    </tr>\n",
              "  </thead>\n",
              "  <tbody>\n",
              "    <tr>\n",
              "      <th>Washington County Commissioners</th>\n",
              "      <td>Reduced Reporter</td>\n",
              "      <td>$122524.00</td>\n",
              "    </tr>\n",
              "    <tr>\n",
              "      <th>Washington County Commissioners</th>\n",
              "      <td>Reduced Reporter</td>\n",
              "      <td>$272715.00</td>\n",
              "    </tr>\n",
              "    <tr>\n",
              "      <th>Texoma Area Paratransit System, Inc</th>\n",
              "      <td>Full Reporter</td>\n",
              "      <td>$7295.00</td>\n",
              "    </tr>\n",
              "    <tr>\n",
              "      <th>Kalispel Tribe of Indians</th>\n",
              "      <td>Reduced Reporter</td>\n",
              "      <td>$37416.00</td>\n",
              "    </tr>\n",
              "    <tr>\n",
              "      <th>Kalispel Tribe of Indians</th>\n",
              "      <td>Reduced Reporter</td>\n",
              "      <td>$345789.00</td>\n",
              "    </tr>\n",
              "  </tbody>\n",
              "</table>\n",
              "</div>"
            ],
            "text/plain": [
              "                                        Reporter Type Total Operating Expenses\n",
              "Agency                                                                        \n",
              "Washington County Commissioners      Reduced Reporter               $122524.00\n",
              "Washington County Commissioners      Reduced Reporter               $272715.00\n",
              "Texoma Area Paratransit System, Inc     Full Reporter                 $7295.00\n",
              "Kalispel Tribe of Indians            Reduced Reporter                $37416.00\n",
              "Kalispel Tribe of Indians            Reduced Reporter               $345789.00"
            ]
          },
          "metadata": {
            "tags": []
          },
          "execution_count": 14
        }
      ]
    },
    {
      "cell_type": "code",
      "metadata": {
        "colab": {
          "base_uri": "https://localhost:8080/",
          "height": 235
        },
        "id": "LIT9VWuysMrQ",
        "outputId": "8d618a26-b285-491d-f9b6-099b39dd2610"
      },
      "source": [
        "frame.index = frame.index.str.strip().str.upper()\n",
        "frame.head()"
      ],
      "execution_count": null,
      "outputs": [
        {
          "output_type": "execute_result",
          "data": {
            "text/html": [
              "<div>\n",
              "<style scoped>\n",
              "    .dataframe tbody tr th:only-of-type {\n",
              "        vertical-align: middle;\n",
              "    }\n",
              "\n",
              "    .dataframe tbody tr th {\n",
              "        vertical-align: top;\n",
              "    }\n",
              "\n",
              "    .dataframe thead th {\n",
              "        text-align: right;\n",
              "    }\n",
              "</style>\n",
              "<table border=\"1\" class=\"dataframe\">\n",
              "  <thead>\n",
              "    <tr style=\"text-align: right;\">\n",
              "      <th></th>\n",
              "      <th>Reporter Type</th>\n",
              "      <th>Total Operating Expenses</th>\n",
              "    </tr>\n",
              "    <tr>\n",
              "      <th>Agency</th>\n",
              "      <th></th>\n",
              "      <th></th>\n",
              "    </tr>\n",
              "  </thead>\n",
              "  <tbody>\n",
              "    <tr>\n",
              "      <th>WASHINGTON COUNTY COMMISSIONERS</th>\n",
              "      <td>Reduced Reporter</td>\n",
              "      <td>$122524.00</td>\n",
              "    </tr>\n",
              "    <tr>\n",
              "      <th>WASHINGTON COUNTY COMMISSIONERS</th>\n",
              "      <td>Reduced Reporter</td>\n",
              "      <td>$272715.00</td>\n",
              "    </tr>\n",
              "    <tr>\n",
              "      <th>TEXOMA AREA PARATRANSIT SYSTEM, INC</th>\n",
              "      <td>Full Reporter</td>\n",
              "      <td>$7295.00</td>\n",
              "    </tr>\n",
              "    <tr>\n",
              "      <th>KALISPEL TRIBE OF INDIANS</th>\n",
              "      <td>Reduced Reporter</td>\n",
              "      <td>$37416.00</td>\n",
              "    </tr>\n",
              "    <tr>\n",
              "      <th>KALISPEL TRIBE OF INDIANS</th>\n",
              "      <td>Reduced Reporter</td>\n",
              "      <td>$345789.00</td>\n",
              "    </tr>\n",
              "  </tbody>\n",
              "</table>\n",
              "</div>"
            ],
            "text/plain": [
              "                                        Reporter Type Total Operating Expenses\n",
              "Agency                                                                        \n",
              "WASHINGTON COUNTY COMMISSIONERS      Reduced Reporter               $122524.00\n",
              "WASHINGTON COUNTY COMMISSIONERS      Reduced Reporter               $272715.00\n",
              "TEXOMA AREA PARATRANSIT SYSTEM, INC     Full Reporter                 $7295.00\n",
              "KALISPEL TRIBE OF INDIANS            Reduced Reporter                $37416.00\n",
              "KALISPEL TRIBE OF INDIANS            Reduced Reporter               $345789.00"
            ]
          },
          "metadata": {
            "tags": []
          },
          "execution_count": 16
        }
      ]
    },
    {
      "cell_type": "code",
      "metadata": {
        "colab": {
          "base_uri": "https://localhost:8080/"
        },
        "id": "n_tG-ZMttPD8",
        "outputId": "d28ea84b-f655-4e6e-fbc7-753fd053d57e"
      },
      "source": [
        "frame['Reporter Type'].value_counts().head()"
      ],
      "execution_count": null,
      "outputs": [
        {
          "output_type": "execute_result",
          "data": {
            "text/plain": [
              "Full Reporter       13345\n",
              "Rural Reporter       3116\n",
              "Reduced Reporter     1313\n",
              "Separate Service       70\n",
              "Name: Reporter Type, dtype: int64"
            ]
          },
          "metadata": {
            "tags": []
          },
          "execution_count": 17
        }
      ]
    },
    {
      "cell_type": "code",
      "metadata": {
        "colab": {
          "base_uri": "https://localhost:8080/"
        },
        "id": "wWJgeSYwtxaj",
        "outputId": "db1390ef-90e4-490d-f034-64527ed7258d"
      },
      "source": [
        "frame['Reporter Type'].str.split(' ').head()"
      ],
      "execution_count": null,
      "outputs": [
        {
          "output_type": "execute_result",
          "data": {
            "text/plain": [
              "Agency\n",
              "WASHINGTON COUNTY COMMISSIONERS        [Reduced, Reporter]\n",
              "WASHINGTON COUNTY COMMISSIONERS        [Reduced, Reporter]\n",
              "TEXOMA AREA PARATRANSIT SYSTEM, INC       [Full, Reporter]\n",
              "KALISPEL TRIBE OF INDIANS              [Reduced, Reporter]\n",
              "KALISPEL TRIBE OF INDIANS              [Reduced, Reporter]\n",
              "Name: Reporter Type, dtype: object"
            ]
          },
          "metadata": {
            "tags": []
          },
          "execution_count": 18
        }
      ]
    },
    {
      "cell_type": "code",
      "metadata": {
        "colab": {
          "base_uri": "https://localhost:8080/"
        },
        "id": "0FmGLi3-uNFC",
        "outputId": "312e3fff-57f8-43ed-94fd-cf0dbaf04709"
      },
      "source": [
        "frame['Reporter Type'].str.split(' ').str[0].head()"
      ],
      "execution_count": null,
      "outputs": [
        {
          "output_type": "execute_result",
          "data": {
            "text/plain": [
              "Agency\n",
              "WASHINGTON COUNTY COMMISSIONERS        Reduced\n",
              "WASHINGTON COUNTY COMMISSIONERS        Reduced\n",
              "TEXOMA AREA PARATRANSIT SYSTEM, INC       Full\n",
              "KALISPEL TRIBE OF INDIANS              Reduced\n",
              "KALISPEL TRIBE OF INDIANS              Reduced\n",
              "Name: Reporter Type, dtype: object"
            ]
          },
          "metadata": {
            "tags": []
          },
          "execution_count": 19
        }
      ]
    },
    {
      "cell_type": "code",
      "metadata": {
        "colab": {
          "base_uri": "https://localhost:8080/",
          "height": 235
        },
        "id": "hwoknQ09unm2",
        "outputId": "d78e44c8-cfb7-4987-f771-72cd26288bd6"
      },
      "source": [
        "frame['Reporter Type'].str.split(' ',expand=True).head()"
      ],
      "execution_count": null,
      "outputs": [
        {
          "output_type": "execute_result",
          "data": {
            "text/html": [
              "<div>\n",
              "<style scoped>\n",
              "    .dataframe tbody tr th:only-of-type {\n",
              "        vertical-align: middle;\n",
              "    }\n",
              "\n",
              "    .dataframe tbody tr th {\n",
              "        vertical-align: top;\n",
              "    }\n",
              "\n",
              "    .dataframe thead th {\n",
              "        text-align: right;\n",
              "    }\n",
              "</style>\n",
              "<table border=\"1\" class=\"dataframe\">\n",
              "  <thead>\n",
              "    <tr style=\"text-align: right;\">\n",
              "      <th></th>\n",
              "      <th>0</th>\n",
              "      <th>1</th>\n",
              "    </tr>\n",
              "    <tr>\n",
              "      <th>Agency</th>\n",
              "      <th></th>\n",
              "      <th></th>\n",
              "    </tr>\n",
              "  </thead>\n",
              "  <tbody>\n",
              "    <tr>\n",
              "      <th>WASHINGTON COUNTY COMMISSIONERS</th>\n",
              "      <td>Reduced</td>\n",
              "      <td>Reporter</td>\n",
              "    </tr>\n",
              "    <tr>\n",
              "      <th>WASHINGTON COUNTY COMMISSIONERS</th>\n",
              "      <td>Reduced</td>\n",
              "      <td>Reporter</td>\n",
              "    </tr>\n",
              "    <tr>\n",
              "      <th>TEXOMA AREA PARATRANSIT SYSTEM, INC</th>\n",
              "      <td>Full</td>\n",
              "      <td>Reporter</td>\n",
              "    </tr>\n",
              "    <tr>\n",
              "      <th>KALISPEL TRIBE OF INDIANS</th>\n",
              "      <td>Reduced</td>\n",
              "      <td>Reporter</td>\n",
              "    </tr>\n",
              "    <tr>\n",
              "      <th>KALISPEL TRIBE OF INDIANS</th>\n",
              "      <td>Reduced</td>\n",
              "      <td>Reporter</td>\n",
              "    </tr>\n",
              "  </tbody>\n",
              "</table>\n",
              "</div>"
            ],
            "text/plain": [
              "                                           0         1\n",
              "Agency                                                \n",
              "WASHINGTON COUNTY COMMISSIONERS      Reduced  Reporter\n",
              "WASHINGTON COUNTY COMMISSIONERS      Reduced  Reporter\n",
              "TEXOMA AREA PARATRANSIT SYSTEM, INC     Full  Reporter\n",
              "KALISPEL TRIBE OF INDIANS            Reduced  Reporter\n",
              "KALISPEL TRIBE OF INDIANS            Reduced  Reporter"
            ]
          },
          "metadata": {
            "tags": []
          },
          "execution_count": 20
        }
      ]
    },
    {
      "cell_type": "code",
      "metadata": {
        "colab": {
          "base_uri": "https://localhost:8080/",
          "height": 235
        },
        "id": "2l1zaMUrvDzm",
        "outputId": "0c415da1-36b2-4b11-bd73-9eb9909a15ca"
      },
      "source": [
        "frame[['ReaporterType1', 'ReporterType2']] = frame['Reporter Type'].str.split(' ',expand=True)\n",
        "frame.head()"
      ],
      "execution_count": null,
      "outputs": [
        {
          "output_type": "execute_result",
          "data": {
            "text/html": [
              "<div>\n",
              "<style scoped>\n",
              "    .dataframe tbody tr th:only-of-type {\n",
              "        vertical-align: middle;\n",
              "    }\n",
              "\n",
              "    .dataframe tbody tr th {\n",
              "        vertical-align: top;\n",
              "    }\n",
              "\n",
              "    .dataframe thead th {\n",
              "        text-align: right;\n",
              "    }\n",
              "</style>\n",
              "<table border=\"1\" class=\"dataframe\">\n",
              "  <thead>\n",
              "    <tr style=\"text-align: right;\">\n",
              "      <th></th>\n",
              "      <th>Reporter Type</th>\n",
              "      <th>Total Operating Expenses</th>\n",
              "      <th>ReaporterType1</th>\n",
              "      <th>ReporterType2</th>\n",
              "    </tr>\n",
              "    <tr>\n",
              "      <th>Agency</th>\n",
              "      <th></th>\n",
              "      <th></th>\n",
              "      <th></th>\n",
              "      <th></th>\n",
              "    </tr>\n",
              "  </thead>\n",
              "  <tbody>\n",
              "    <tr>\n",
              "      <th>WASHINGTON COUNTY COMMISSIONERS</th>\n",
              "      <td>Reduced Reporter</td>\n",
              "      <td>$122524.00</td>\n",
              "      <td>Reduced</td>\n",
              "      <td>Reporter</td>\n",
              "    </tr>\n",
              "    <tr>\n",
              "      <th>WASHINGTON COUNTY COMMISSIONERS</th>\n",
              "      <td>Reduced Reporter</td>\n",
              "      <td>$272715.00</td>\n",
              "      <td>Reduced</td>\n",
              "      <td>Reporter</td>\n",
              "    </tr>\n",
              "    <tr>\n",
              "      <th>TEXOMA AREA PARATRANSIT SYSTEM, INC</th>\n",
              "      <td>Full Reporter</td>\n",
              "      <td>$7295.00</td>\n",
              "      <td>Full</td>\n",
              "      <td>Reporter</td>\n",
              "    </tr>\n",
              "    <tr>\n",
              "      <th>KALISPEL TRIBE OF INDIANS</th>\n",
              "      <td>Reduced Reporter</td>\n",
              "      <td>$37416.00</td>\n",
              "      <td>Reduced</td>\n",
              "      <td>Reporter</td>\n",
              "    </tr>\n",
              "    <tr>\n",
              "      <th>KALISPEL TRIBE OF INDIANS</th>\n",
              "      <td>Reduced Reporter</td>\n",
              "      <td>$345789.00</td>\n",
              "      <td>Reduced</td>\n",
              "      <td>Reporter</td>\n",
              "    </tr>\n",
              "  </tbody>\n",
              "</table>\n",
              "</div>"
            ],
            "text/plain": [
              "                                        Reporter Type  ... ReporterType2\n",
              "Agency                                                 ...              \n",
              "WASHINGTON COUNTY COMMISSIONERS      Reduced Reporter  ...      Reporter\n",
              "WASHINGTON COUNTY COMMISSIONERS      Reduced Reporter  ...      Reporter\n",
              "TEXOMA AREA PARATRANSIT SYSTEM, INC     Full Reporter  ...      Reporter\n",
              "KALISPEL TRIBE OF INDIANS            Reduced Reporter  ...      Reporter\n",
              "KALISPEL TRIBE OF INDIANS            Reduced Reporter  ...      Reporter\n",
              "\n",
              "[5 rows x 4 columns]"
            ]
          },
          "metadata": {
            "tags": []
          },
          "execution_count": 21
        }
      ]
    },
    {
      "cell_type": "code",
      "metadata": {
        "colab": {
          "base_uri": "https://localhost:8080/",
          "height": 337
        },
        "id": "mi94SXA2vb6B",
        "outputId": "5453c2f0-9f30-40c6-9cb3-aa05e9d2f9e1"
      },
      "source": [
        "frame['Agency2'] = frame.index\n",
        "frame.head()"
      ],
      "execution_count": null,
      "outputs": [
        {
          "output_type": "execute_result",
          "data": {
            "text/html": [
              "<div>\n",
              "<style scoped>\n",
              "    .dataframe tbody tr th:only-of-type {\n",
              "        vertical-align: middle;\n",
              "    }\n",
              "\n",
              "    .dataframe tbody tr th {\n",
              "        vertical-align: top;\n",
              "    }\n",
              "\n",
              "    .dataframe thead th {\n",
              "        text-align: right;\n",
              "    }\n",
              "</style>\n",
              "<table border=\"1\" class=\"dataframe\">\n",
              "  <thead>\n",
              "    <tr style=\"text-align: right;\">\n",
              "      <th></th>\n",
              "      <th>Reporter Type</th>\n",
              "      <th>Total Operating Expenses</th>\n",
              "      <th>ReaporterType1</th>\n",
              "      <th>ReporterType2</th>\n",
              "      <th>Agency2</th>\n",
              "    </tr>\n",
              "    <tr>\n",
              "      <th>Agency</th>\n",
              "      <th></th>\n",
              "      <th></th>\n",
              "      <th></th>\n",
              "      <th></th>\n",
              "      <th></th>\n",
              "    </tr>\n",
              "  </thead>\n",
              "  <tbody>\n",
              "    <tr>\n",
              "      <th>WASHINGTON COUNTY COMMISSIONERS</th>\n",
              "      <td>Reduced Reporter</td>\n",
              "      <td>$122524.00</td>\n",
              "      <td>Reduced</td>\n",
              "      <td>Reporter</td>\n",
              "      <td>WASHINGTON COUNTY COMMISSIONERS</td>\n",
              "    </tr>\n",
              "    <tr>\n",
              "      <th>WASHINGTON COUNTY COMMISSIONERS</th>\n",
              "      <td>Reduced Reporter</td>\n",
              "      <td>$272715.00</td>\n",
              "      <td>Reduced</td>\n",
              "      <td>Reporter</td>\n",
              "      <td>WASHINGTON COUNTY COMMISSIONERS</td>\n",
              "    </tr>\n",
              "    <tr>\n",
              "      <th>TEXOMA AREA PARATRANSIT SYSTEM, INC</th>\n",
              "      <td>Full Reporter</td>\n",
              "      <td>$7295.00</td>\n",
              "      <td>Full</td>\n",
              "      <td>Reporter</td>\n",
              "      <td>TEXOMA AREA PARATRANSIT SYSTEM, INC</td>\n",
              "    </tr>\n",
              "    <tr>\n",
              "      <th>KALISPEL TRIBE OF INDIANS</th>\n",
              "      <td>Reduced Reporter</td>\n",
              "      <td>$37416.00</td>\n",
              "      <td>Reduced</td>\n",
              "      <td>Reporter</td>\n",
              "      <td>KALISPEL TRIBE OF INDIANS</td>\n",
              "    </tr>\n",
              "    <tr>\n",
              "      <th>KALISPEL TRIBE OF INDIANS</th>\n",
              "      <td>Reduced Reporter</td>\n",
              "      <td>$345789.00</td>\n",
              "      <td>Reduced</td>\n",
              "      <td>Reporter</td>\n",
              "      <td>KALISPEL TRIBE OF INDIANS</td>\n",
              "    </tr>\n",
              "  </tbody>\n",
              "</table>\n",
              "</div>"
            ],
            "text/plain": [
              "                                        Reporter Type  ...                              Agency2\n",
              "Agency                                                 ...                                     \n",
              "WASHINGTON COUNTY COMMISSIONERS      Reduced Reporter  ...      WASHINGTON COUNTY COMMISSIONERS\n",
              "WASHINGTON COUNTY COMMISSIONERS      Reduced Reporter  ...      WASHINGTON COUNTY COMMISSIONERS\n",
              "TEXOMA AREA PARATRANSIT SYSTEM, INC     Full Reporter  ...  TEXOMA AREA PARATRANSIT SYSTEM, INC\n",
              "KALISPEL TRIBE OF INDIANS            Reduced Reporter  ...            KALISPEL TRIBE OF INDIANS\n",
              "KALISPEL TRIBE OF INDIANS            Reduced Reporter  ...            KALISPEL TRIBE OF INDIANS\n",
              "\n",
              "[5 rows x 5 columns]"
            ]
          },
          "metadata": {
            "tags": []
          },
          "execution_count": 22
        }
      ]
    },
    {
      "cell_type": "markdown",
      "metadata": {
        "id": "d-VFXAqywafx"
      },
      "source": [
        "Parametrem n=10 określam, że ma być wydobywanych maksymalnie 10 spacji"
      ]
    },
    {
      "cell_type": "code",
      "metadata": {
        "colab": {
          "base_uri": "https://localhost:8080/",
          "height": 235
        },
        "id": "ivC70BXvv-Xa",
        "outputId": "5803ded9-b15f-4fc1-a166-4d5fd776e816"
      },
      "source": [
        "frame['Agency2'].str.split(' ', expand=True,n=10).head()"
      ],
      "execution_count": null,
      "outputs": [
        {
          "output_type": "execute_result",
          "data": {
            "text/html": [
              "<div>\n",
              "<style scoped>\n",
              "    .dataframe tbody tr th:only-of-type {\n",
              "        vertical-align: middle;\n",
              "    }\n",
              "\n",
              "    .dataframe tbody tr th {\n",
              "        vertical-align: top;\n",
              "    }\n",
              "\n",
              "    .dataframe thead th {\n",
              "        text-align: right;\n",
              "    }\n",
              "</style>\n",
              "<table border=\"1\" class=\"dataframe\">\n",
              "  <thead>\n",
              "    <tr style=\"text-align: right;\">\n",
              "      <th></th>\n",
              "      <th>0</th>\n",
              "      <th>1</th>\n",
              "      <th>2</th>\n",
              "      <th>3</th>\n",
              "      <th>4</th>\n",
              "      <th>5</th>\n",
              "      <th>6</th>\n",
              "      <th>7</th>\n",
              "      <th>8</th>\n",
              "      <th>9</th>\n",
              "      <th>10</th>\n",
              "    </tr>\n",
              "    <tr>\n",
              "      <th>Agency</th>\n",
              "      <th></th>\n",
              "      <th></th>\n",
              "      <th></th>\n",
              "      <th></th>\n",
              "      <th></th>\n",
              "      <th></th>\n",
              "      <th></th>\n",
              "      <th></th>\n",
              "      <th></th>\n",
              "      <th></th>\n",
              "      <th></th>\n",
              "    </tr>\n",
              "  </thead>\n",
              "  <tbody>\n",
              "    <tr>\n",
              "      <th>WASHINGTON COUNTY COMMISSIONERS</th>\n",
              "      <td>WASHINGTON</td>\n",
              "      <td>COUNTY</td>\n",
              "      <td>COMMISSIONERS</td>\n",
              "      <td>None</td>\n",
              "      <td>None</td>\n",
              "      <td>None</td>\n",
              "      <td>None</td>\n",
              "      <td>None</td>\n",
              "      <td>None</td>\n",
              "      <td>None</td>\n",
              "      <td>None</td>\n",
              "    </tr>\n",
              "    <tr>\n",
              "      <th>WASHINGTON COUNTY COMMISSIONERS</th>\n",
              "      <td>WASHINGTON</td>\n",
              "      <td>COUNTY</td>\n",
              "      <td>COMMISSIONERS</td>\n",
              "      <td>None</td>\n",
              "      <td>None</td>\n",
              "      <td>None</td>\n",
              "      <td>None</td>\n",
              "      <td>None</td>\n",
              "      <td>None</td>\n",
              "      <td>None</td>\n",
              "      <td>None</td>\n",
              "    </tr>\n",
              "    <tr>\n",
              "      <th>TEXOMA AREA PARATRANSIT SYSTEM, INC</th>\n",
              "      <td>TEXOMA</td>\n",
              "      <td>AREA</td>\n",
              "      <td>PARATRANSIT</td>\n",
              "      <td>SYSTEM,</td>\n",
              "      <td>INC</td>\n",
              "      <td>None</td>\n",
              "      <td>None</td>\n",
              "      <td>None</td>\n",
              "      <td>None</td>\n",
              "      <td>None</td>\n",
              "      <td>None</td>\n",
              "    </tr>\n",
              "    <tr>\n",
              "      <th>KALISPEL TRIBE OF INDIANS</th>\n",
              "      <td>KALISPEL</td>\n",
              "      <td>TRIBE</td>\n",
              "      <td>OF</td>\n",
              "      <td>INDIANS</td>\n",
              "      <td>None</td>\n",
              "      <td>None</td>\n",
              "      <td>None</td>\n",
              "      <td>None</td>\n",
              "      <td>None</td>\n",
              "      <td>None</td>\n",
              "      <td>None</td>\n",
              "    </tr>\n",
              "    <tr>\n",
              "      <th>KALISPEL TRIBE OF INDIANS</th>\n",
              "      <td>KALISPEL</td>\n",
              "      <td>TRIBE</td>\n",
              "      <td>OF</td>\n",
              "      <td>INDIANS</td>\n",
              "      <td>None</td>\n",
              "      <td>None</td>\n",
              "      <td>None</td>\n",
              "      <td>None</td>\n",
              "      <td>None</td>\n",
              "      <td>None</td>\n",
              "      <td>None</td>\n",
              "    </tr>\n",
              "  </tbody>\n",
              "</table>\n",
              "</div>"
            ],
            "text/plain": [
              "                                             0       1   ...    9     10\n",
              "Agency                                                   ...            \n",
              "WASHINGTON COUNTY COMMISSIONERS      WASHINGTON  COUNTY  ...  None  None\n",
              "WASHINGTON COUNTY COMMISSIONERS      WASHINGTON  COUNTY  ...  None  None\n",
              "TEXOMA AREA PARATRANSIT SYSTEM, INC      TEXOMA    AREA  ...  None  None\n",
              "KALISPEL TRIBE OF INDIANS              KALISPEL   TRIBE  ...  None  None\n",
              "KALISPEL TRIBE OF INDIANS              KALISPEL   TRIBE  ...  None  None\n",
              "\n",
              "[5 rows x 11 columns]"
            ]
          },
          "metadata": {
            "tags": []
          },
          "execution_count": 23
        }
      ]
    },
    {
      "cell_type": "markdown",
      "metadata": {
        "id": "Qs31ptnZ3Xuo"
      },
      "source": [
        "Metoda Apply pozwala uruchomić zdefiniowaną funkcję dla każdego wiersza oddzielnie"
      ]
    },
    {
      "cell_type": "code",
      "metadata": {
        "id": "xRrM4X2xwuQF"
      },
      "source": [
        "def getComment(row):\n",
        "  reporterType = row['Reporter Type']\n",
        "  cost = float(row['Total Operating Expenses'].replace('$',''))\n",
        "\n",
        "  if(cost > 2000000):\n",
        "    comment = 'CLASS A'\n",
        "  else:\n",
        "    comment = 'CLASS B'\n",
        "  return(reporterType+'/'+comment)"
      ],
      "execution_count": null,
      "outputs": []
    },
    {
      "cell_type": "code",
      "metadata": {
        "colab": {
          "base_uri": "https://localhost:8080/",
          "height": 337
        },
        "id": "F66cYRAG0pcC",
        "outputId": "33316970-8d79-4ee7-b5ed-068c00546396"
      },
      "source": [
        "frame.head()"
      ],
      "execution_count": null,
      "outputs": [
        {
          "output_type": "execute_result",
          "data": {
            "text/html": [
              "<div>\n",
              "<style scoped>\n",
              "    .dataframe tbody tr th:only-of-type {\n",
              "        vertical-align: middle;\n",
              "    }\n",
              "\n",
              "    .dataframe tbody tr th {\n",
              "        vertical-align: top;\n",
              "    }\n",
              "\n",
              "    .dataframe thead th {\n",
              "        text-align: right;\n",
              "    }\n",
              "</style>\n",
              "<table border=\"1\" class=\"dataframe\">\n",
              "  <thead>\n",
              "    <tr style=\"text-align: right;\">\n",
              "      <th></th>\n",
              "      <th>Reporter Type</th>\n",
              "      <th>Total Operating Expenses</th>\n",
              "      <th>ReaporterType1</th>\n",
              "      <th>ReporterType2</th>\n",
              "      <th>Agency2</th>\n",
              "    </tr>\n",
              "    <tr>\n",
              "      <th>Agency</th>\n",
              "      <th></th>\n",
              "      <th></th>\n",
              "      <th></th>\n",
              "      <th></th>\n",
              "      <th></th>\n",
              "    </tr>\n",
              "  </thead>\n",
              "  <tbody>\n",
              "    <tr>\n",
              "      <th>WASHINGTON COUNTY COMMISSIONERS</th>\n",
              "      <td>Reduced Reporter</td>\n",
              "      <td>$122524.00</td>\n",
              "      <td>Reduced</td>\n",
              "      <td>Reporter</td>\n",
              "      <td>WASHINGTON COUNTY COMMISSIONERS</td>\n",
              "    </tr>\n",
              "    <tr>\n",
              "      <th>WASHINGTON COUNTY COMMISSIONERS</th>\n",
              "      <td>Reduced Reporter</td>\n",
              "      <td>$272715.00</td>\n",
              "      <td>Reduced</td>\n",
              "      <td>Reporter</td>\n",
              "      <td>WASHINGTON COUNTY COMMISSIONERS</td>\n",
              "    </tr>\n",
              "    <tr>\n",
              "      <th>TEXOMA AREA PARATRANSIT SYSTEM, INC</th>\n",
              "      <td>Full Reporter</td>\n",
              "      <td>$7295.00</td>\n",
              "      <td>Full</td>\n",
              "      <td>Reporter</td>\n",
              "      <td>TEXOMA AREA PARATRANSIT SYSTEM, INC</td>\n",
              "    </tr>\n",
              "    <tr>\n",
              "      <th>KALISPEL TRIBE OF INDIANS</th>\n",
              "      <td>Reduced Reporter</td>\n",
              "      <td>$37416.00</td>\n",
              "      <td>Reduced</td>\n",
              "      <td>Reporter</td>\n",
              "      <td>KALISPEL TRIBE OF INDIANS</td>\n",
              "    </tr>\n",
              "    <tr>\n",
              "      <th>KALISPEL TRIBE OF INDIANS</th>\n",
              "      <td>Reduced Reporter</td>\n",
              "      <td>$345789.00</td>\n",
              "      <td>Reduced</td>\n",
              "      <td>Reporter</td>\n",
              "      <td>KALISPEL TRIBE OF INDIANS</td>\n",
              "    </tr>\n",
              "  </tbody>\n",
              "</table>\n",
              "</div>"
            ],
            "text/plain": [
              "                                        Reporter Type  ...                              Agency2\n",
              "Agency                                                 ...                                     \n",
              "WASHINGTON COUNTY COMMISSIONERS      Reduced Reporter  ...      WASHINGTON COUNTY COMMISSIONERS\n",
              "WASHINGTON COUNTY COMMISSIONERS      Reduced Reporter  ...      WASHINGTON COUNTY COMMISSIONERS\n",
              "TEXOMA AREA PARATRANSIT SYSTEM, INC     Full Reporter  ...  TEXOMA AREA PARATRANSIT SYSTEM, INC\n",
              "KALISPEL TRIBE OF INDIANS            Reduced Reporter  ...            KALISPEL TRIBE OF INDIANS\n",
              "KALISPEL TRIBE OF INDIANS            Reduced Reporter  ...            KALISPEL TRIBE OF INDIANS\n",
              "\n",
              "[5 rows x 5 columns]"
            ]
          },
          "metadata": {
            "tags": []
          },
          "execution_count": 25
        }
      ]
    },
    {
      "cell_type": "code",
      "metadata": {
        "id": "IsCrF_T10t50",
        "colab": {
          "base_uri": "https://localhost:8080/"
        },
        "outputId": "e41d4618-08c0-49e1-e9d7-1bf1cc6a97cf"
      },
      "source": [
        "frame.apply(getComment,axis=1).head()"
      ],
      "execution_count": null,
      "outputs": [
        {
          "output_type": "execute_result",
          "data": {
            "text/plain": [
              "Agency\n",
              "WASHINGTON COUNTY COMMISSIONERS        Reduced Reporter/CLASS B\n",
              "WASHINGTON COUNTY COMMISSIONERS        Reduced Reporter/CLASS B\n",
              "TEXOMA AREA PARATRANSIT SYSTEM, INC       Full Reporter/CLASS B\n",
              "KALISPEL TRIBE OF INDIANS              Reduced Reporter/CLASS B\n",
              "KALISPEL TRIBE OF INDIANS              Reduced Reporter/CLASS B\n",
              "dtype: object"
            ]
          },
          "metadata": {
            "tags": []
          },
          "execution_count": 26
        }
      ]
    },
    {
      "cell_type": "code",
      "metadata": {
        "colab": {
          "base_uri": "https://localhost:8080/",
          "height": 235
        },
        "id": "5qnBJ-eD4a5H",
        "outputId": "f6551777-56b0-423e-8131-9905aa1dfd62"
      },
      "source": [
        "frame.head()"
      ],
      "execution_count": null,
      "outputs": [
        {
          "output_type": "execute_result",
          "data": {
            "text/html": [
              "<div>\n",
              "<style scoped>\n",
              "    .dataframe tbody tr th:only-of-type {\n",
              "        vertical-align: middle;\n",
              "    }\n",
              "\n",
              "    .dataframe tbody tr th {\n",
              "        vertical-align: top;\n",
              "    }\n",
              "\n",
              "    .dataframe thead th {\n",
              "        text-align: right;\n",
              "    }\n",
              "</style>\n",
              "<table border=\"1\" class=\"dataframe\">\n",
              "  <thead>\n",
              "    <tr style=\"text-align: right;\">\n",
              "      <th></th>\n",
              "      <th>Reporter Type</th>\n",
              "      <th>Total Operating Expenses</th>\n",
              "      <th>ReaporterType1</th>\n",
              "      <th>ReporterType2</th>\n",
              "      <th>Agency2</th>\n",
              "    </tr>\n",
              "    <tr>\n",
              "      <th>Agency</th>\n",
              "      <th></th>\n",
              "      <th></th>\n",
              "      <th></th>\n",
              "      <th></th>\n",
              "      <th></th>\n",
              "    </tr>\n",
              "  </thead>\n",
              "  <tbody>\n",
              "    <tr>\n",
              "      <th>WASHINGTON COUNTY COMMISSIONERS</th>\n",
              "      <td>Reduced Reporter</td>\n",
              "      <td>$122524.00</td>\n",
              "      <td>Reduced</td>\n",
              "      <td>Reporter</td>\n",
              "      <td>WASHINGTON COUNTY COMMISSIONERS</td>\n",
              "    </tr>\n",
              "    <tr>\n",
              "      <th>WASHINGTON COUNTY COMMISSIONERS</th>\n",
              "      <td>Reduced Reporter</td>\n",
              "      <td>$272715.00</td>\n",
              "      <td>Reduced</td>\n",
              "      <td>Reporter</td>\n",
              "      <td>WASHINGTON COUNTY COMMISSIONERS</td>\n",
              "    </tr>\n",
              "    <tr>\n",
              "      <th>TEXOMA AREA PARATRANSIT SYSTEM, INC</th>\n",
              "      <td>Full Reporter</td>\n",
              "      <td>$7295.00</td>\n",
              "      <td>Full</td>\n",
              "      <td>Reporter</td>\n",
              "      <td>TEXOMA AREA PARATRANSIT SYSTEM, INC</td>\n",
              "    </tr>\n",
              "    <tr>\n",
              "      <th>KALISPEL TRIBE OF INDIANS</th>\n",
              "      <td>Reduced Reporter</td>\n",
              "      <td>$37416.00</td>\n",
              "      <td>Reduced</td>\n",
              "      <td>Reporter</td>\n",
              "      <td>KALISPEL TRIBE OF INDIANS</td>\n",
              "    </tr>\n",
              "    <tr>\n",
              "      <th>KALISPEL TRIBE OF INDIANS</th>\n",
              "      <td>Reduced Reporter</td>\n",
              "      <td>$345789.00</td>\n",
              "      <td>Reduced</td>\n",
              "      <td>Reporter</td>\n",
              "      <td>KALISPEL TRIBE OF INDIANS</td>\n",
              "    </tr>\n",
              "  </tbody>\n",
              "</table>\n",
              "</div>"
            ],
            "text/plain": [
              "                                        Reporter Type  ...                              Agency2\n",
              "Agency                                                 ...                                     \n",
              "WASHINGTON COUNTY COMMISSIONERS      Reduced Reporter  ...      WASHINGTON COUNTY COMMISSIONERS\n",
              "WASHINGTON COUNTY COMMISSIONERS      Reduced Reporter  ...      WASHINGTON COUNTY COMMISSIONERS\n",
              "TEXOMA AREA PARATRANSIT SYSTEM, INC     Full Reporter  ...  TEXOMA AREA PARATRANSIT SYSTEM, INC\n",
              "KALISPEL TRIBE OF INDIANS            Reduced Reporter  ...            KALISPEL TRIBE OF INDIANS\n",
              "KALISPEL TRIBE OF INDIANS            Reduced Reporter  ...            KALISPEL TRIBE OF INDIANS\n",
              "\n",
              "[5 rows x 5 columns]"
            ]
          },
          "metadata": {
            "tags": []
          },
          "execution_count": 27
        }
      ]
    },
    {
      "cell_type": "code",
      "metadata": {
        "colab": {
          "base_uri": "https://localhost:8080/",
          "height": 235
        },
        "id": "t1goI0Mz5Yo3",
        "outputId": "782b2577-4490-40e0-eea7-47dc37ab0a6d"
      },
      "source": [
        "frame[['ReporterType3']] = frame.apply(getComment,axis=1)\n",
        "frame.head()"
      ],
      "execution_count": null,
      "outputs": [
        {
          "output_type": "execute_result",
          "data": {
            "text/html": [
              "<div>\n",
              "<style scoped>\n",
              "    .dataframe tbody tr th:only-of-type {\n",
              "        vertical-align: middle;\n",
              "    }\n",
              "\n",
              "    .dataframe tbody tr th {\n",
              "        vertical-align: top;\n",
              "    }\n",
              "\n",
              "    .dataframe thead th {\n",
              "        text-align: right;\n",
              "    }\n",
              "</style>\n",
              "<table border=\"1\" class=\"dataframe\">\n",
              "  <thead>\n",
              "    <tr style=\"text-align: right;\">\n",
              "      <th></th>\n",
              "      <th>Reporter Type</th>\n",
              "      <th>Total Operating Expenses</th>\n",
              "      <th>ReaporterType1</th>\n",
              "      <th>ReporterType2</th>\n",
              "      <th>Agency2</th>\n",
              "      <th>ReporterType3</th>\n",
              "    </tr>\n",
              "    <tr>\n",
              "      <th>Agency</th>\n",
              "      <th></th>\n",
              "      <th></th>\n",
              "      <th></th>\n",
              "      <th></th>\n",
              "      <th></th>\n",
              "      <th></th>\n",
              "    </tr>\n",
              "  </thead>\n",
              "  <tbody>\n",
              "    <tr>\n",
              "      <th>WASHINGTON COUNTY COMMISSIONERS</th>\n",
              "      <td>Reduced Reporter</td>\n",
              "      <td>$122524.00</td>\n",
              "      <td>Reduced</td>\n",
              "      <td>Reporter</td>\n",
              "      <td>WASHINGTON COUNTY COMMISSIONERS</td>\n",
              "      <td>Reduced Reporter/CLASS B</td>\n",
              "    </tr>\n",
              "    <tr>\n",
              "      <th>WASHINGTON COUNTY COMMISSIONERS</th>\n",
              "      <td>Reduced Reporter</td>\n",
              "      <td>$272715.00</td>\n",
              "      <td>Reduced</td>\n",
              "      <td>Reporter</td>\n",
              "      <td>WASHINGTON COUNTY COMMISSIONERS</td>\n",
              "      <td>Reduced Reporter/CLASS B</td>\n",
              "    </tr>\n",
              "    <tr>\n",
              "      <th>TEXOMA AREA PARATRANSIT SYSTEM, INC</th>\n",
              "      <td>Full Reporter</td>\n",
              "      <td>$7295.00</td>\n",
              "      <td>Full</td>\n",
              "      <td>Reporter</td>\n",
              "      <td>TEXOMA AREA PARATRANSIT SYSTEM, INC</td>\n",
              "      <td>Full Reporter/CLASS B</td>\n",
              "    </tr>\n",
              "    <tr>\n",
              "      <th>KALISPEL TRIBE OF INDIANS</th>\n",
              "      <td>Reduced Reporter</td>\n",
              "      <td>$37416.00</td>\n",
              "      <td>Reduced</td>\n",
              "      <td>Reporter</td>\n",
              "      <td>KALISPEL TRIBE OF INDIANS</td>\n",
              "      <td>Reduced Reporter/CLASS B</td>\n",
              "    </tr>\n",
              "    <tr>\n",
              "      <th>KALISPEL TRIBE OF INDIANS</th>\n",
              "      <td>Reduced Reporter</td>\n",
              "      <td>$345789.00</td>\n",
              "      <td>Reduced</td>\n",
              "      <td>Reporter</td>\n",
              "      <td>KALISPEL TRIBE OF INDIANS</td>\n",
              "      <td>Reduced Reporter/CLASS B</td>\n",
              "    </tr>\n",
              "  </tbody>\n",
              "</table>\n",
              "</div>"
            ],
            "text/plain": [
              "                                        Reporter Type  ...             ReporterType3\n",
              "Agency                                                 ...                          \n",
              "WASHINGTON COUNTY COMMISSIONERS      Reduced Reporter  ...  Reduced Reporter/CLASS B\n",
              "WASHINGTON COUNTY COMMISSIONERS      Reduced Reporter  ...  Reduced Reporter/CLASS B\n",
              "TEXOMA AREA PARATRANSIT SYSTEM, INC     Full Reporter  ...     Full Reporter/CLASS B\n",
              "KALISPEL TRIBE OF INDIANS            Reduced Reporter  ...  Reduced Reporter/CLASS B\n",
              "KALISPEL TRIBE OF INDIANS            Reduced Reporter  ...  Reduced Reporter/CLASS B\n",
              "\n",
              "[5 rows x 6 columns]"
            ]
          },
          "metadata": {
            "tags": []
          },
          "execution_count": 28
        }
      ]
    },
    {
      "cell_type": "code",
      "metadata": {
        "colab": {
          "base_uri": "https://localhost:8080/"
        },
        "id": "8Brz3Iya5up_",
        "outputId": "26b691ca-f8f2-4828-816f-5d5f2962891e"
      },
      "source": [
        "frame2 = frame\n",
        "frame2.head()"
      ],
      "execution_count": null,
      "outputs": [
        {
          "output_type": "execute_result",
          "data": {
            "text/plain": [
              "Agency\n",
              "WASHINGTON COUNTY COMMISSIONERS        Reduced Reporter/CLASS B\n",
              "WASHINGTON COUNTY COMMISSIONERS        Reduced Reporter/CLASS B\n",
              "TEXOMA AREA PARATRANSIT SYSTEM, INC       Full Reporter/CLASS B\n",
              "KALISPEL TRIBE OF INDIANS              Reduced Reporter/CLASS B\n",
              "KALISPEL TRIBE OF INDIANS              Reduced Reporter/CLASS B\n",
              "dtype: object"
            ]
          },
          "metadata": {
            "tags": []
          },
          "execution_count": 32
        }
      ]
    }
  ]
}