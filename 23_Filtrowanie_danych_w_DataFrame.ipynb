{
  "nbformat": 4,
  "nbformat_minor": 0,
  "metadata": {
    "colab": {
      "name": "23.Filtrowanie danych w DataFrame.ipynb",
      "provenance": [],
      "authorship_tag": "ABX9TyNjserIYq4X7PzNk7ZaGGz0"
    },
    "kernelspec": {
      "name": "python3",
      "display_name": "Python 3"
    },
    "language_info": {
      "name": "python"
    }
  },
  "cells": [
    {
      "cell_type": "code",
      "metadata": {
        "id": "6IxIKc9k4IQg"
      },
      "source": [
        "import pandas as pd\n",
        "import numpy as np\n",
        "import matplotlib.pyplot as plt\n",
        "import math as math"
      ],
      "execution_count": null,
      "outputs": []
    },
    {
      "cell_type": "code",
      "metadata": {
        "colab": {
          "base_uri": "https://localhost:8080/",
          "height": 204
        },
        "id": "aCvCpNuP4SnM",
        "outputId": "e39c9740-9d72-4d68-b139-668fb8d23ee5"
      },
      "source": [
        "frame = pd.read_csv('/content/Mcdonalds.csv', usecols=['Item', 'Category', 'Serving Size', 'Calories', 'TotalFat'])\n",
        "frame.head()"
      ],
      "execution_count": null,
      "outputs": [
        {
          "output_type": "execute_result",
          "data": {
            "text/html": [
              "<div>\n",
              "<style scoped>\n",
              "    .dataframe tbody tr th:only-of-type {\n",
              "        vertical-align: middle;\n",
              "    }\n",
              "\n",
              "    .dataframe tbody tr th {\n",
              "        vertical-align: top;\n",
              "    }\n",
              "\n",
              "    .dataframe thead th {\n",
              "        text-align: right;\n",
              "    }\n",
              "</style>\n",
              "<table border=\"1\" class=\"dataframe\">\n",
              "  <thead>\n",
              "    <tr style=\"text-align: right;\">\n",
              "      <th></th>\n",
              "      <th>Category</th>\n",
              "      <th>Item</th>\n",
              "      <th>Serving Size</th>\n",
              "      <th>Calories</th>\n",
              "      <th>TotalFat</th>\n",
              "    </tr>\n",
              "  </thead>\n",
              "  <tbody>\n",
              "    <tr>\n",
              "      <th>0</th>\n",
              "      <td>Breakfast</td>\n",
              "      <td>Egg McMuffin</td>\n",
              "      <td>4.8 oz (136 g)</td>\n",
              "      <td>300</td>\n",
              "      <td>13.0</td>\n",
              "    </tr>\n",
              "    <tr>\n",
              "      <th>1</th>\n",
              "      <td>Breakfast</td>\n",
              "      <td>Egg White Delight</td>\n",
              "      <td>4.8 oz (135 g)</td>\n",
              "      <td>250</td>\n",
              "      <td>8.0</td>\n",
              "    </tr>\n",
              "    <tr>\n",
              "      <th>2</th>\n",
              "      <td>Breakfast</td>\n",
              "      <td>Sausage McMuffin</td>\n",
              "      <td>3.9 oz (111 g)</td>\n",
              "      <td>370</td>\n",
              "      <td>23.0</td>\n",
              "    </tr>\n",
              "    <tr>\n",
              "      <th>3</th>\n",
              "      <td>Breakfast</td>\n",
              "      <td>Sausage McMuffin with Egg</td>\n",
              "      <td>5.7 oz (161 g)</td>\n",
              "      <td>450</td>\n",
              "      <td>28.0</td>\n",
              "    </tr>\n",
              "    <tr>\n",
              "      <th>4</th>\n",
              "      <td>Breakfast</td>\n",
              "      <td>Sausage McMuffin with Egg Whites</td>\n",
              "      <td>5.7 oz (161 g)</td>\n",
              "      <td>400</td>\n",
              "      <td>23.0</td>\n",
              "    </tr>\n",
              "  </tbody>\n",
              "</table>\n",
              "</div>"
            ],
            "text/plain": [
              "    Category                              Item  ... Calories  TotalFat\n",
              "0  Breakfast                      Egg McMuffin  ...      300      13.0\n",
              "1  Breakfast                 Egg White Delight  ...      250       8.0\n",
              "2  Breakfast                  Sausage McMuffin  ...      370      23.0\n",
              "3  Breakfast         Sausage McMuffin with Egg  ...      450      28.0\n",
              "4  Breakfast  Sausage McMuffin with Egg Whites  ...      400      23.0\n",
              "\n",
              "[5 rows x 5 columns]"
            ]
          },
          "metadata": {
            "tags": []
          },
          "execution_count": 2
        }
      ]
    },
    {
      "cell_type": "code",
      "metadata": {
        "colab": {
          "base_uri": "https://localhost:8080/"
        },
        "id": "LMMjKxaA4agC",
        "outputId": "763b5ab5-51ee-4653-d279-449fd25841b1"
      },
      "source": [
        "(frame['Calories'] >=400).head()"
      ],
      "execution_count": null,
      "outputs": [
        {
          "output_type": "execute_result",
          "data": {
            "text/plain": [
              "0    False\n",
              "1    False\n",
              "2    False\n",
              "3     True\n",
              "4     True\n",
              "Name: Calories, dtype: bool"
            ]
          },
          "metadata": {
            "tags": []
          },
          "execution_count": 4
        }
      ]
    },
    {
      "cell_type": "code",
      "metadata": {
        "id": "K_ac_sYq4muf"
      },
      "source": [
        "caloriesGreaterEqual400 = frame['Calories'] >= 400\n",
        "totalFatLessEqual20 = frame['TotalFat'] <= 20"
      ],
      "execution_count": null,
      "outputs": []
    },
    {
      "cell_type": "code",
      "metadata": {
        "colab": {
          "base_uri": "https://localhost:8080/",
          "height": 204
        },
        "id": "gWUMyTln5aX9",
        "outputId": "a7a5bb63-e75a-42d1-b246-3a02482c9b1c"
      },
      "source": [
        "frame[caloriesGreaterEqual400].head()"
      ],
      "execution_count": null,
      "outputs": [
        {
          "output_type": "execute_result",
          "data": {
            "text/html": [
              "<div>\n",
              "<style scoped>\n",
              "    .dataframe tbody tr th:only-of-type {\n",
              "        vertical-align: middle;\n",
              "    }\n",
              "\n",
              "    .dataframe tbody tr th {\n",
              "        vertical-align: top;\n",
              "    }\n",
              "\n",
              "    .dataframe thead th {\n",
              "        text-align: right;\n",
              "    }\n",
              "</style>\n",
              "<table border=\"1\" class=\"dataframe\">\n",
              "  <thead>\n",
              "    <tr style=\"text-align: right;\">\n",
              "      <th></th>\n",
              "      <th>Category</th>\n",
              "      <th>Item</th>\n",
              "      <th>Serving Size</th>\n",
              "      <th>Calories</th>\n",
              "      <th>TotalFat</th>\n",
              "    </tr>\n",
              "  </thead>\n",
              "  <tbody>\n",
              "    <tr>\n",
              "      <th>3</th>\n",
              "      <td>Breakfast</td>\n",
              "      <td>Sausage McMuffin with Egg</td>\n",
              "      <td>5.7 oz (161 g)</td>\n",
              "      <td>450</td>\n",
              "      <td>28.0</td>\n",
              "    </tr>\n",
              "    <tr>\n",
              "      <th>4</th>\n",
              "      <td>Breakfast</td>\n",
              "      <td>Sausage McMuffin with Egg Whites</td>\n",
              "      <td>5.7 oz (161 g)</td>\n",
              "      <td>400</td>\n",
              "      <td>23.0</td>\n",
              "    </tr>\n",
              "    <tr>\n",
              "      <th>5</th>\n",
              "      <td>Breakfast</td>\n",
              "      <td>Steak &amp; Egg McMuffin</td>\n",
              "      <td>6.5 oz (185 g)</td>\n",
              "      <td>430</td>\n",
              "      <td>23.0</td>\n",
              "    </tr>\n",
              "    <tr>\n",
              "      <th>6</th>\n",
              "      <td>Breakfast</td>\n",
              "      <td>Bacon, Egg &amp; Cheese Biscuit (Regular Biscuit)</td>\n",
              "      <td>5.3 oz (150 g)</td>\n",
              "      <td>460</td>\n",
              "      <td>26.0</td>\n",
              "    </tr>\n",
              "    <tr>\n",
              "      <th>7</th>\n",
              "      <td>Breakfast</td>\n",
              "      <td>Bacon, Egg &amp; Cheese Biscuit (Large Biscuit)</td>\n",
              "      <td>5.8 oz (164 g)</td>\n",
              "      <td>520</td>\n",
              "      <td>30.0</td>\n",
              "    </tr>\n",
              "  </tbody>\n",
              "</table>\n",
              "</div>"
            ],
            "text/plain": [
              "    Category                                           Item  ... Calories  TotalFat\n",
              "3  Breakfast                      Sausage McMuffin with Egg  ...      450      28.0\n",
              "4  Breakfast               Sausage McMuffin with Egg Whites  ...      400      23.0\n",
              "5  Breakfast                           Steak & Egg McMuffin  ...      430      23.0\n",
              "6  Breakfast  Bacon, Egg & Cheese Biscuit (Regular Biscuit)  ...      460      26.0\n",
              "7  Breakfast    Bacon, Egg & Cheese Biscuit (Large Biscuit)  ...      520      30.0\n",
              "\n",
              "[5 rows x 5 columns]"
            ]
          },
          "metadata": {
            "tags": []
          },
          "execution_count": 6
        }
      ]
    },
    {
      "cell_type": "code",
      "metadata": {
        "colab": {
          "base_uri": "https://localhost:8080/",
          "height": 204
        },
        "id": "F2bxMRCj9Leq",
        "outputId": "d5c65705-b547-482e-d7d5-d546f8d93867"
      },
      "source": [
        "frame[totalFatLessEqual20].head()"
      ],
      "execution_count": null,
      "outputs": [
        {
          "output_type": "execute_result",
          "data": {
            "text/html": [
              "<div>\n",
              "<style scoped>\n",
              "    .dataframe tbody tr th:only-of-type {\n",
              "        vertical-align: middle;\n",
              "    }\n",
              "\n",
              "    .dataframe tbody tr th {\n",
              "        vertical-align: top;\n",
              "    }\n",
              "\n",
              "    .dataframe thead th {\n",
              "        text-align: right;\n",
              "    }\n",
              "</style>\n",
              "<table border=\"1\" class=\"dataframe\">\n",
              "  <thead>\n",
              "    <tr style=\"text-align: right;\">\n",
              "      <th></th>\n",
              "      <th>Category</th>\n",
              "      <th>Item</th>\n",
              "      <th>Serving Size</th>\n",
              "      <th>Calories</th>\n",
              "      <th>TotalFat</th>\n",
              "    </tr>\n",
              "  </thead>\n",
              "  <tbody>\n",
              "    <tr>\n",
              "      <th>0</th>\n",
              "      <td>Breakfast</td>\n",
              "      <td>Egg McMuffin</td>\n",
              "      <td>4.8 oz (136 g)</td>\n",
              "      <td>300</td>\n",
              "      <td>13.0</td>\n",
              "    </tr>\n",
              "    <tr>\n",
              "      <th>1</th>\n",
              "      <td>Breakfast</td>\n",
              "      <td>Egg White Delight</td>\n",
              "      <td>4.8 oz (135 g)</td>\n",
              "      <td>250</td>\n",
              "      <td>8.0</td>\n",
              "    </tr>\n",
              "    <tr>\n",
              "      <th>8</th>\n",
              "      <td>Breakfast</td>\n",
              "      <td>Bacon, Egg &amp; Cheese Biscuit with Egg Whites (R...</td>\n",
              "      <td>5.4 oz (153 g)</td>\n",
              "      <td>410</td>\n",
              "      <td>20.0</td>\n",
              "    </tr>\n",
              "    <tr>\n",
              "      <th>16</th>\n",
              "      <td>Breakfast</td>\n",
              "      <td>Southern Style Chicken Biscuit (Regular Biscuit)</td>\n",
              "      <td>5 oz (143 g)</td>\n",
              "      <td>410</td>\n",
              "      <td>20.0</td>\n",
              "    </tr>\n",
              "    <tr>\n",
              "      <th>20</th>\n",
              "      <td>Breakfast</td>\n",
              "      <td>Bacon, Egg &amp; Cheese McGriddles with Egg Whites</td>\n",
              "      <td>6.3 oz (178 g)</td>\n",
              "      <td>400</td>\n",
              "      <td>15.0</td>\n",
              "    </tr>\n",
              "  </tbody>\n",
              "</table>\n",
              "</div>"
            ],
            "text/plain": [
              "     Category  ... TotalFat\n",
              "0   Breakfast  ...     13.0\n",
              "1   Breakfast  ...      8.0\n",
              "8   Breakfast  ...     20.0\n",
              "16  Breakfast  ...     20.0\n",
              "20  Breakfast  ...     15.0\n",
              "\n",
              "[5 rows x 5 columns]"
            ]
          },
          "metadata": {
            "tags": []
          },
          "execution_count": 7
        }
      ]
    },
    {
      "cell_type": "code",
      "metadata": {
        "colab": {
          "base_uri": "https://localhost:8080/",
          "height": 204
        },
        "id": "n9VUzFFC9ZZS",
        "outputId": "70661af2-1df2-434c-e1fe-e614a0fbde22"
      },
      "source": [
        "isBreakfast = frame['Category'] == 'Breakfast'\n",
        "frame[isBreakfast & caloriesGreaterEqual400].head()"
      ],
      "execution_count": null,
      "outputs": [
        {
          "output_type": "execute_result",
          "data": {
            "text/html": [
              "<div>\n",
              "<style scoped>\n",
              "    .dataframe tbody tr th:only-of-type {\n",
              "        vertical-align: middle;\n",
              "    }\n",
              "\n",
              "    .dataframe tbody tr th {\n",
              "        vertical-align: top;\n",
              "    }\n",
              "\n",
              "    .dataframe thead th {\n",
              "        text-align: right;\n",
              "    }\n",
              "</style>\n",
              "<table border=\"1\" class=\"dataframe\">\n",
              "  <thead>\n",
              "    <tr style=\"text-align: right;\">\n",
              "      <th></th>\n",
              "      <th>Category</th>\n",
              "      <th>Item</th>\n",
              "      <th>Serving Size</th>\n",
              "      <th>Calories</th>\n",
              "      <th>TotalFat</th>\n",
              "    </tr>\n",
              "  </thead>\n",
              "  <tbody>\n",
              "    <tr>\n",
              "      <th>3</th>\n",
              "      <td>Breakfast</td>\n",
              "      <td>Sausage McMuffin with Egg</td>\n",
              "      <td>5.7 oz (161 g)</td>\n",
              "      <td>450</td>\n",
              "      <td>28.0</td>\n",
              "    </tr>\n",
              "    <tr>\n",
              "      <th>4</th>\n",
              "      <td>Breakfast</td>\n",
              "      <td>Sausage McMuffin with Egg Whites</td>\n",
              "      <td>5.7 oz (161 g)</td>\n",
              "      <td>400</td>\n",
              "      <td>23.0</td>\n",
              "    </tr>\n",
              "    <tr>\n",
              "      <th>5</th>\n",
              "      <td>Breakfast</td>\n",
              "      <td>Steak &amp; Egg McMuffin</td>\n",
              "      <td>6.5 oz (185 g)</td>\n",
              "      <td>430</td>\n",
              "      <td>23.0</td>\n",
              "    </tr>\n",
              "    <tr>\n",
              "      <th>6</th>\n",
              "      <td>Breakfast</td>\n",
              "      <td>Bacon, Egg &amp; Cheese Biscuit (Regular Biscuit)</td>\n",
              "      <td>5.3 oz (150 g)</td>\n",
              "      <td>460</td>\n",
              "      <td>26.0</td>\n",
              "    </tr>\n",
              "    <tr>\n",
              "      <th>7</th>\n",
              "      <td>Breakfast</td>\n",
              "      <td>Bacon, Egg &amp; Cheese Biscuit (Large Biscuit)</td>\n",
              "      <td>5.8 oz (164 g)</td>\n",
              "      <td>520</td>\n",
              "      <td>30.0</td>\n",
              "    </tr>\n",
              "  </tbody>\n",
              "</table>\n",
              "</div>"
            ],
            "text/plain": [
              "    Category                                           Item  ... Calories  TotalFat\n",
              "3  Breakfast                      Sausage McMuffin with Egg  ...      450      28.0\n",
              "4  Breakfast               Sausage McMuffin with Egg Whites  ...      400      23.0\n",
              "5  Breakfast                           Steak & Egg McMuffin  ...      430      23.0\n",
              "6  Breakfast  Bacon, Egg & Cheese Biscuit (Regular Biscuit)  ...      460      26.0\n",
              "7  Breakfast    Bacon, Egg & Cheese Biscuit (Large Biscuit)  ...      520      30.0\n",
              "\n",
              "[5 rows x 5 columns]"
            ]
          },
          "metadata": {
            "tags": []
          },
          "execution_count": 8
        }
      ]
    },
    {
      "cell_type": "code",
      "metadata": {
        "id": "ULa6U7Cz-hY6",
        "colab": {
          "base_uri": "https://localhost:8080/",
          "height": 173
        },
        "outputId": "d6698d78-dba5-49c4-8f40-83a8548d3719"
      },
      "source": [
        "frame[caloriesGreaterEqual400 & totalFatLessEqual20 & isBreakfast].head()"
      ],
      "execution_count": null,
      "outputs": [
        {
          "output_type": "execute_result",
          "data": {
            "text/html": [
              "<div>\n",
              "<style scoped>\n",
              "    .dataframe tbody tr th:only-of-type {\n",
              "        vertical-align: middle;\n",
              "    }\n",
              "\n",
              "    .dataframe tbody tr th {\n",
              "        vertical-align: top;\n",
              "    }\n",
              "\n",
              "    .dataframe thead th {\n",
              "        text-align: right;\n",
              "    }\n",
              "</style>\n",
              "<table border=\"1\" class=\"dataframe\">\n",
              "  <thead>\n",
              "    <tr style=\"text-align: right;\">\n",
              "      <th></th>\n",
              "      <th>Category</th>\n",
              "      <th>Item</th>\n",
              "      <th>Serving Size</th>\n",
              "      <th>Calories</th>\n",
              "      <th>TotalFat</th>\n",
              "    </tr>\n",
              "  </thead>\n",
              "  <tbody>\n",
              "    <tr>\n",
              "      <th>8</th>\n",
              "      <td>Breakfast</td>\n",
              "      <td>Bacon, Egg &amp; Cheese Biscuit with Egg Whites (R...</td>\n",
              "      <td>5.4 oz (153 g)</td>\n",
              "      <td>410</td>\n",
              "      <td>20.0</td>\n",
              "    </tr>\n",
              "    <tr>\n",
              "      <th>16</th>\n",
              "      <td>Breakfast</td>\n",
              "      <td>Southern Style Chicken Biscuit (Regular Biscuit)</td>\n",
              "      <td>5 oz (143 g)</td>\n",
              "      <td>410</td>\n",
              "      <td>20.0</td>\n",
              "    </tr>\n",
              "    <tr>\n",
              "      <th>20</th>\n",
              "      <td>Breakfast</td>\n",
              "      <td>Bacon, Egg &amp; Cheese McGriddles with Egg Whites</td>\n",
              "      <td>6.3 oz (178 g)</td>\n",
              "      <td>400</td>\n",
              "      <td>15.0</td>\n",
              "    </tr>\n",
              "    <tr>\n",
              "      <th>39</th>\n",
              "      <td>Breakfast</td>\n",
              "      <td>Cinnamon Melts</td>\n",
              "      <td>4 oz (114 g)</td>\n",
              "      <td>460</td>\n",
              "      <td>19.0</td>\n",
              "    </tr>\n",
              "  </tbody>\n",
              "</table>\n",
              "</div>"
            ],
            "text/plain": [
              "     Category  ... TotalFat\n",
              "8   Breakfast  ...     20.0\n",
              "16  Breakfast  ...     20.0\n",
              "20  Breakfast  ...     15.0\n",
              "39  Breakfast  ...     19.0\n",
              "\n",
              "[4 rows x 5 columns]"
            ]
          },
          "metadata": {
            "tags": []
          },
          "execution_count": 9
        }
      ]
    },
    {
      "cell_type": "markdown",
      "metadata": {
        "id": "KVv4VExhPxMl"
      },
      "source": [
        "Znak ~ to zaprzeczenie"
      ]
    },
    {
      "cell_type": "code",
      "metadata": {
        "colab": {
          "base_uri": "https://localhost:8080/",
          "height": 204
        },
        "id": "Cs5AxvKXA4gP",
        "outputId": "e88c9d60-dd59-4966-9b8e-c76d1ed0f7bf"
      },
      "source": [
        "frame[~ isBreakfast].head()"
      ],
      "execution_count": null,
      "outputs": [
        {
          "output_type": "execute_result",
          "data": {
            "text/html": [
              "<div>\n",
              "<style scoped>\n",
              "    .dataframe tbody tr th:only-of-type {\n",
              "        vertical-align: middle;\n",
              "    }\n",
              "\n",
              "    .dataframe tbody tr th {\n",
              "        vertical-align: top;\n",
              "    }\n",
              "\n",
              "    .dataframe thead th {\n",
              "        text-align: right;\n",
              "    }\n",
              "</style>\n",
              "<table border=\"1\" class=\"dataframe\">\n",
              "  <thead>\n",
              "    <tr style=\"text-align: right;\">\n",
              "      <th></th>\n",
              "      <th>Category</th>\n",
              "      <th>Item</th>\n",
              "      <th>Serving Size</th>\n",
              "      <th>Calories</th>\n",
              "      <th>TotalFat</th>\n",
              "    </tr>\n",
              "  </thead>\n",
              "  <tbody>\n",
              "    <tr>\n",
              "      <th>42</th>\n",
              "      <td>Beef &amp; Pork</td>\n",
              "      <td>Big Mac</td>\n",
              "      <td>7.4 oz (211 g)</td>\n",
              "      <td>530</td>\n",
              "      <td>27.0</td>\n",
              "    </tr>\n",
              "    <tr>\n",
              "      <th>43</th>\n",
              "      <td>Beef &amp; Pork</td>\n",
              "      <td>Quarter Pounder with Cheese</td>\n",
              "      <td>7.1 oz (202 g)</td>\n",
              "      <td>520</td>\n",
              "      <td>26.0</td>\n",
              "    </tr>\n",
              "    <tr>\n",
              "      <th>44</th>\n",
              "      <td>Beef &amp; Pork</td>\n",
              "      <td>Quarter Pounder with Bacon &amp; Cheese</td>\n",
              "      <td>8 oz (227 g)</td>\n",
              "      <td>600</td>\n",
              "      <td>29.0</td>\n",
              "    </tr>\n",
              "    <tr>\n",
              "      <th>45</th>\n",
              "      <td>Beef &amp; Pork</td>\n",
              "      <td>Quarter Pounder with Bacon Habanero Ranch</td>\n",
              "      <td>8.3 oz (235 g)</td>\n",
              "      <td>610</td>\n",
              "      <td>31.0</td>\n",
              "    </tr>\n",
              "    <tr>\n",
              "      <th>46</th>\n",
              "      <td>Beef &amp; Pork</td>\n",
              "      <td>Quarter Pounder Deluxe</td>\n",
              "      <td>8.6 oz (244 g)</td>\n",
              "      <td>540</td>\n",
              "      <td>27.0</td>\n",
              "    </tr>\n",
              "  </tbody>\n",
              "</table>\n",
              "</div>"
            ],
            "text/plain": [
              "       Category                                       Item  ... Calories  TotalFat\n",
              "42  Beef & Pork                                    Big Mac  ...      530      27.0\n",
              "43  Beef & Pork                Quarter Pounder with Cheese  ...      520      26.0\n",
              "44  Beef & Pork        Quarter Pounder with Bacon & Cheese  ...      600      29.0\n",
              "45  Beef & Pork  Quarter Pounder with Bacon Habanero Ranch  ...      610      31.0\n",
              "46  Beef & Pork                     Quarter Pounder Deluxe  ...      540      27.0\n",
              "\n",
              "[5 rows x 5 columns]"
            ]
          },
          "metadata": {
            "tags": []
          },
          "execution_count": 10
        }
      ]
    }
  ]
}