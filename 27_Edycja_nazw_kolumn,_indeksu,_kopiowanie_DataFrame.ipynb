{
  "nbformat": 4,
  "nbformat_minor": 0,
  "metadata": {
    "colab": {
      "name": "27.Edycja nazw kolumn, indeksu, kopiowanie DataFrame.ipynb",
      "provenance": [],
      "authorship_tag": "ABX9TyML42s4zj0r1mJmSSw2o31F"
    },
    "kernelspec": {
      "name": "python3",
      "display_name": "Python 3"
    },
    "language_info": {
      "name": "python"
    }
  },
  "cells": [
    {
      "cell_type": "code",
      "metadata": {
        "id": "ZWMQv-R1b43g"
      },
      "source": [
        "import pandas as pd\n",
        "import numpy as np\n",
        "import matplotlib.pyplot as plt\n",
        "import math as math"
      ],
      "execution_count": null,
      "outputs": []
    },
    {
      "cell_type": "code",
      "metadata": {
        "colab": {
          "base_uri": "https://localhost:8080/",
          "height": 205
        },
        "id": "Cmr0Vja-b6Lk",
        "outputId": "cbe3e58b-a20d-4ad2-88d6-9c9949c9d0b5"
      },
      "source": [
        "frame = pd.read_csv('/content/mammals.csv')\n",
        "frame.head()"
      ],
      "execution_count": null,
      "outputs": [
        {
          "output_type": "execute_result",
          "data": {
            "text/html": [
              "<div>\n",
              "<style scoped>\n",
              "    .dataframe tbody tr th:only-of-type {\n",
              "        vertical-align: middle;\n",
              "    }\n",
              "\n",
              "    .dataframe tbody tr th {\n",
              "        vertical-align: top;\n",
              "    }\n",
              "\n",
              "    .dataframe thead th {\n",
              "        text-align: right;\n",
              "    }\n",
              "</style>\n",
              "<table border=\"1\" class=\"dataframe\">\n",
              "  <thead>\n",
              "    <tr style=\"text-align: right;\">\n",
              "      <th></th>\n",
              "      <th>name</th>\n",
              "      <th>body</th>\n",
              "      <th>brain</th>\n",
              "    </tr>\n",
              "  </thead>\n",
              "  <tbody>\n",
              "    <tr>\n",
              "      <th>0</th>\n",
              "      <td>Arctic fox</td>\n",
              "      <td>3.385</td>\n",
              "      <td>44.5</td>\n",
              "    </tr>\n",
              "    <tr>\n",
              "      <th>1</th>\n",
              "      <td>Owl monkey</td>\n",
              "      <td>0.480</td>\n",
              "      <td>15.5</td>\n",
              "    </tr>\n",
              "    <tr>\n",
              "      <th>2</th>\n",
              "      <td>Mountain beaver</td>\n",
              "      <td>1.350</td>\n",
              "      <td>8.1</td>\n",
              "    </tr>\n",
              "    <tr>\n",
              "      <th>3</th>\n",
              "      <td>Cow</td>\n",
              "      <td>465.000</td>\n",
              "      <td>423.0</td>\n",
              "    </tr>\n",
              "    <tr>\n",
              "      <th>4</th>\n",
              "      <td>Grey wolf</td>\n",
              "      <td>36.330</td>\n",
              "      <td>119.5</td>\n",
              "    </tr>\n",
              "  </tbody>\n",
              "</table>\n",
              "</div>"
            ],
            "text/plain": [
              "              name     body  brain\n",
              "0       Arctic fox    3.385   44.5\n",
              "1       Owl monkey    0.480   15.5\n",
              "2  Mountain beaver    1.350    8.1\n",
              "3              Cow  465.000  423.0\n",
              "4        Grey wolf   36.330  119.5"
            ]
          },
          "metadata": {
            "tags": []
          },
          "execution_count": 2
        }
      ]
    },
    {
      "cell_type": "code",
      "metadata": {
        "colab": {
          "base_uri": "https://localhost:8080/"
        },
        "id": "dabGQ9CUcL1m",
        "outputId": "389c4d60-b19f-4938-9eea-41f6b5098fa1"
      },
      "source": [
        "frame.columns"
      ],
      "execution_count": null,
      "outputs": [
        {
          "output_type": "execute_result",
          "data": {
            "text/plain": [
              "Index(['name', 'body', 'brain'], dtype='object')"
            ]
          },
          "metadata": {
            "tags": []
          },
          "execution_count": 3
        }
      ]
    },
    {
      "cell_type": "code",
      "metadata": {
        "colab": {
          "base_uri": "https://localhost:8080/",
          "height": 205
        },
        "id": "tG_61Si-kQOb",
        "outputId": "a87761b0-5190-4ef6-bc83-28aea3f6f7b6"
      },
      "source": [
        "frame.columns = ['name', 'bodyKg', 'brainKg']\n",
        "frame.head()"
      ],
      "execution_count": null,
      "outputs": [
        {
          "output_type": "execute_result",
          "data": {
            "text/html": [
              "<div>\n",
              "<style scoped>\n",
              "    .dataframe tbody tr th:only-of-type {\n",
              "        vertical-align: middle;\n",
              "    }\n",
              "\n",
              "    .dataframe tbody tr th {\n",
              "        vertical-align: top;\n",
              "    }\n",
              "\n",
              "    .dataframe thead th {\n",
              "        text-align: right;\n",
              "    }\n",
              "</style>\n",
              "<table border=\"1\" class=\"dataframe\">\n",
              "  <thead>\n",
              "    <tr style=\"text-align: right;\">\n",
              "      <th></th>\n",
              "      <th>name</th>\n",
              "      <th>bodyKg</th>\n",
              "      <th>brainKg</th>\n",
              "    </tr>\n",
              "  </thead>\n",
              "  <tbody>\n",
              "    <tr>\n",
              "      <th>0</th>\n",
              "      <td>Arctic fox</td>\n",
              "      <td>3.385</td>\n",
              "      <td>44.5</td>\n",
              "    </tr>\n",
              "    <tr>\n",
              "      <th>1</th>\n",
              "      <td>Owl monkey</td>\n",
              "      <td>0.480</td>\n",
              "      <td>15.5</td>\n",
              "    </tr>\n",
              "    <tr>\n",
              "      <th>2</th>\n",
              "      <td>Mountain beaver</td>\n",
              "      <td>1.350</td>\n",
              "      <td>8.1</td>\n",
              "    </tr>\n",
              "    <tr>\n",
              "      <th>3</th>\n",
              "      <td>Cow</td>\n",
              "      <td>465.000</td>\n",
              "      <td>423.0</td>\n",
              "    </tr>\n",
              "    <tr>\n",
              "      <th>4</th>\n",
              "      <td>Grey wolf</td>\n",
              "      <td>36.330</td>\n",
              "      <td>119.5</td>\n",
              "    </tr>\n",
              "  </tbody>\n",
              "</table>\n",
              "</div>"
            ],
            "text/plain": [
              "              name   bodyKg  brainKg\n",
              "0       Arctic fox    3.385     44.5\n",
              "1       Owl monkey    0.480     15.5\n",
              "2  Mountain beaver    1.350      8.1\n",
              "3              Cow  465.000    423.0\n",
              "4        Grey wolf   36.330    119.5"
            ]
          },
          "metadata": {
            "tags": []
          },
          "execution_count": 5
        }
      ]
    },
    {
      "cell_type": "markdown",
      "metadata": {
        "id": "wmp3amhnk4Gr"
      },
      "source": [
        "Jeśli mam dużo kolumn stosuje słownik aby podmienić punktowo nazwy"
      ]
    },
    {
      "cell_type": "code",
      "metadata": {
        "colab": {
          "base_uri": "https://localhost:8080/",
          "height": 205
        },
        "id": "Ap84LIczk3uF",
        "outputId": "3744e9e4-e485-4029-ec58-16eb3d00d1fe"
      },
      "source": [
        "newColumnNames = {'bodyKg':'body_kg','brainKg':'brain_kg'}\n",
        "frame.rename(columns = newColumnNames, inplace=True)\n",
        "frame.head()"
      ],
      "execution_count": null,
      "outputs": [
        {
          "output_type": "execute_result",
          "data": {
            "text/html": [
              "<div>\n",
              "<style scoped>\n",
              "    .dataframe tbody tr th:only-of-type {\n",
              "        vertical-align: middle;\n",
              "    }\n",
              "\n",
              "    .dataframe tbody tr th {\n",
              "        vertical-align: top;\n",
              "    }\n",
              "\n",
              "    .dataframe thead th {\n",
              "        text-align: right;\n",
              "    }\n",
              "</style>\n",
              "<table border=\"1\" class=\"dataframe\">\n",
              "  <thead>\n",
              "    <tr style=\"text-align: right;\">\n",
              "      <th></th>\n",
              "      <th>name</th>\n",
              "      <th>body_kg</th>\n",
              "      <th>brain_kg</th>\n",
              "    </tr>\n",
              "  </thead>\n",
              "  <tbody>\n",
              "    <tr>\n",
              "      <th>0</th>\n",
              "      <td>Arctic fox</td>\n",
              "      <td>3.385</td>\n",
              "      <td>44.5</td>\n",
              "    </tr>\n",
              "    <tr>\n",
              "      <th>1</th>\n",
              "      <td>Owl monkey</td>\n",
              "      <td>0.480</td>\n",
              "      <td>15.5</td>\n",
              "    </tr>\n",
              "    <tr>\n",
              "      <th>2</th>\n",
              "      <td>Mountain beaver</td>\n",
              "      <td>1.350</td>\n",
              "      <td>8.1</td>\n",
              "    </tr>\n",
              "    <tr>\n",
              "      <th>3</th>\n",
              "      <td>Cow</td>\n",
              "      <td>465.000</td>\n",
              "      <td>423.0</td>\n",
              "    </tr>\n",
              "    <tr>\n",
              "      <th>4</th>\n",
              "      <td>Grey wolf</td>\n",
              "      <td>36.330</td>\n",
              "      <td>119.5</td>\n",
              "    </tr>\n",
              "  </tbody>\n",
              "</table>\n",
              "</div>"
            ],
            "text/plain": [
              "              name  body_kg  brain_kg\n",
              "0       Arctic fox    3.385      44.5\n",
              "1       Owl monkey    0.480      15.5\n",
              "2  Mountain beaver    1.350       8.1\n",
              "3              Cow  465.000     423.0\n",
              "4        Grey wolf   36.330     119.5"
            ]
          },
          "metadata": {
            "tags": []
          },
          "execution_count": 12
        }
      ]
    },
    {
      "cell_type": "code",
      "metadata": {
        "colab": {
          "base_uri": "https://localhost:8080/",
          "height": 236
        },
        "id": "PYaTtly6kqsE",
        "outputId": "503bc966-f74f-40cf-c67b-7d02bb22bd63"
      },
      "source": [
        "frame = pd.read_csv('/content/mammals.csv',index_col='name')\n",
        "frame.head()"
      ],
      "execution_count": null,
      "outputs": [
        {
          "output_type": "execute_result",
          "data": {
            "text/html": [
              "<div>\n",
              "<style scoped>\n",
              "    .dataframe tbody tr th:only-of-type {\n",
              "        vertical-align: middle;\n",
              "    }\n",
              "\n",
              "    .dataframe tbody tr th {\n",
              "        vertical-align: top;\n",
              "    }\n",
              "\n",
              "    .dataframe thead th {\n",
              "        text-align: right;\n",
              "    }\n",
              "</style>\n",
              "<table border=\"1\" class=\"dataframe\">\n",
              "  <thead>\n",
              "    <tr style=\"text-align: right;\">\n",
              "      <th></th>\n",
              "      <th>body</th>\n",
              "      <th>brain</th>\n",
              "    </tr>\n",
              "    <tr>\n",
              "      <th>name</th>\n",
              "      <th></th>\n",
              "      <th></th>\n",
              "    </tr>\n",
              "  </thead>\n",
              "  <tbody>\n",
              "    <tr>\n",
              "      <th>Arctic fox</th>\n",
              "      <td>3.385</td>\n",
              "      <td>44.5</td>\n",
              "    </tr>\n",
              "    <tr>\n",
              "      <th>Owl monkey</th>\n",
              "      <td>0.480</td>\n",
              "      <td>15.5</td>\n",
              "    </tr>\n",
              "    <tr>\n",
              "      <th>Mountain beaver</th>\n",
              "      <td>1.350</td>\n",
              "      <td>8.1</td>\n",
              "    </tr>\n",
              "    <tr>\n",
              "      <th>Cow</th>\n",
              "      <td>465.000</td>\n",
              "      <td>423.0</td>\n",
              "    </tr>\n",
              "    <tr>\n",
              "      <th>Grey wolf</th>\n",
              "      <td>36.330</td>\n",
              "      <td>119.5</td>\n",
              "    </tr>\n",
              "  </tbody>\n",
              "</table>\n",
              "</div>"
            ],
            "text/plain": [
              "                    body  brain\n",
              "name                           \n",
              "Arctic fox         3.385   44.5\n",
              "Owl monkey         0.480   15.5\n",
              "Mountain beaver    1.350    8.1\n",
              "Cow              465.000  423.0\n",
              "Grey wolf         36.330  119.5"
            ]
          },
          "metadata": {
            "tags": []
          },
          "execution_count": 14
        }
      ]
    },
    {
      "cell_type": "code",
      "metadata": {
        "colab": {
          "base_uri": "https://localhost:8080/",
          "height": 236
        },
        "id": "OL_chQwQnI3H",
        "outputId": "539fbbd5-ccc7-4997-ae37-cc351bcbae28"
      },
      "source": [
        "frame.rename(index = {'Cow':'Land cow'}, inplace=True)\n",
        "frame.head()"
      ],
      "execution_count": null,
      "outputs": [
        {
          "output_type": "execute_result",
          "data": {
            "text/html": [
              "<div>\n",
              "<style scoped>\n",
              "    .dataframe tbody tr th:only-of-type {\n",
              "        vertical-align: middle;\n",
              "    }\n",
              "\n",
              "    .dataframe tbody tr th {\n",
              "        vertical-align: top;\n",
              "    }\n",
              "\n",
              "    .dataframe thead th {\n",
              "        text-align: right;\n",
              "    }\n",
              "</style>\n",
              "<table border=\"1\" class=\"dataframe\">\n",
              "  <thead>\n",
              "    <tr style=\"text-align: right;\">\n",
              "      <th></th>\n",
              "      <th>body</th>\n",
              "      <th>brain</th>\n",
              "    </tr>\n",
              "    <tr>\n",
              "      <th>name</th>\n",
              "      <th></th>\n",
              "      <th></th>\n",
              "    </tr>\n",
              "  </thead>\n",
              "  <tbody>\n",
              "    <tr>\n",
              "      <th>Arctic fox</th>\n",
              "      <td>3.385</td>\n",
              "      <td>44.5</td>\n",
              "    </tr>\n",
              "    <tr>\n",
              "      <th>Owl monkey</th>\n",
              "      <td>0.480</td>\n",
              "      <td>15.5</td>\n",
              "    </tr>\n",
              "    <tr>\n",
              "      <th>Mountain beaver</th>\n",
              "      <td>1.350</td>\n",
              "      <td>8.1</td>\n",
              "    </tr>\n",
              "    <tr>\n",
              "      <th>Land cow</th>\n",
              "      <td>465.000</td>\n",
              "      <td>423.0</td>\n",
              "    </tr>\n",
              "    <tr>\n",
              "      <th>Grey wolf</th>\n",
              "      <td>36.330</td>\n",
              "      <td>119.5</td>\n",
              "    </tr>\n",
              "  </tbody>\n",
              "</table>\n",
              "</div>"
            ],
            "text/plain": [
              "                    body  brain\n",
              "name                           \n",
              "Arctic fox         3.385   44.5\n",
              "Owl monkey         0.480   15.5\n",
              "Mountain beaver    1.350    8.1\n",
              "Land cow         465.000  423.0\n",
              "Grey wolf         36.330  119.5"
            ]
          },
          "metadata": {
            "tags": []
          },
          "execution_count": 15
        }
      ]
    },
    {
      "cell_type": "code",
      "metadata": {
        "colab": {
          "base_uri": "https://localhost:8080/",
          "height": 236
        },
        "id": "GTOMpk__qYPQ",
        "outputId": "c13b8f7e-f4c3-42f2-cc49-63c311a2ee4b"
      },
      "source": [
        "frameCopy = frame\n",
        "frameCopy.head()"
      ],
      "execution_count": null,
      "outputs": [
        {
          "output_type": "execute_result",
          "data": {
            "text/html": [
              "<div>\n",
              "<style scoped>\n",
              "    .dataframe tbody tr th:only-of-type {\n",
              "        vertical-align: middle;\n",
              "    }\n",
              "\n",
              "    .dataframe tbody tr th {\n",
              "        vertical-align: top;\n",
              "    }\n",
              "\n",
              "    .dataframe thead th {\n",
              "        text-align: right;\n",
              "    }\n",
              "</style>\n",
              "<table border=\"1\" class=\"dataframe\">\n",
              "  <thead>\n",
              "    <tr style=\"text-align: right;\">\n",
              "      <th></th>\n",
              "      <th>body</th>\n",
              "      <th>brain</th>\n",
              "    </tr>\n",
              "    <tr>\n",
              "      <th>name</th>\n",
              "      <th></th>\n",
              "      <th></th>\n",
              "    </tr>\n",
              "  </thead>\n",
              "  <tbody>\n",
              "    <tr>\n",
              "      <th>Arctic fox</th>\n",
              "      <td>3.385</td>\n",
              "      <td>44.5</td>\n",
              "    </tr>\n",
              "    <tr>\n",
              "      <th>Owl monkey</th>\n",
              "      <td>0.480</td>\n",
              "      <td>15.5</td>\n",
              "    </tr>\n",
              "    <tr>\n",
              "      <th>Mountain beaver</th>\n",
              "      <td>1.350</td>\n",
              "      <td>8.1</td>\n",
              "    </tr>\n",
              "    <tr>\n",
              "      <th>Land cow</th>\n",
              "      <td>465.000</td>\n",
              "      <td>423.0</td>\n",
              "    </tr>\n",
              "    <tr>\n",
              "      <th>Grey wolf</th>\n",
              "      <td>36.330</td>\n",
              "      <td>119.5</td>\n",
              "    </tr>\n",
              "  </tbody>\n",
              "</table>\n",
              "</div>"
            ],
            "text/plain": [
              "                    body  brain\n",
              "name                           \n",
              "Arctic fox         3.385   44.5\n",
              "Owl monkey         0.480   15.5\n",
              "Mountain beaver    1.350    8.1\n",
              "Land cow         465.000  423.0\n",
              "Grey wolf         36.330  119.5"
            ]
          },
          "metadata": {
            "tags": []
          },
          "execution_count": 16
        }
      ]
    },
    {
      "cell_type": "code",
      "metadata": {
        "colab": {
          "base_uri": "https://localhost:8080/",
          "height": 236
        },
        "id": "izE-0d8Wqpz7",
        "outputId": "eba42871-bd45-42a8-bafa-0fb730186073"
      },
      "source": [
        "frameCopy.loc['Arctic fox', 'body'] = 5\n",
        "frameCopy.head()"
      ],
      "execution_count": null,
      "outputs": [
        {
          "output_type": "execute_result",
          "data": {
            "text/html": [
              "<div>\n",
              "<style scoped>\n",
              "    .dataframe tbody tr th:only-of-type {\n",
              "        vertical-align: middle;\n",
              "    }\n",
              "\n",
              "    .dataframe tbody tr th {\n",
              "        vertical-align: top;\n",
              "    }\n",
              "\n",
              "    .dataframe thead th {\n",
              "        text-align: right;\n",
              "    }\n",
              "</style>\n",
              "<table border=\"1\" class=\"dataframe\">\n",
              "  <thead>\n",
              "    <tr style=\"text-align: right;\">\n",
              "      <th></th>\n",
              "      <th>body</th>\n",
              "      <th>brain</th>\n",
              "    </tr>\n",
              "    <tr>\n",
              "      <th>name</th>\n",
              "      <th></th>\n",
              "      <th></th>\n",
              "    </tr>\n",
              "  </thead>\n",
              "  <tbody>\n",
              "    <tr>\n",
              "      <th>Arctic fox</th>\n",
              "      <td>5.00</td>\n",
              "      <td>44.5</td>\n",
              "    </tr>\n",
              "    <tr>\n",
              "      <th>Owl monkey</th>\n",
              "      <td>0.48</td>\n",
              "      <td>15.5</td>\n",
              "    </tr>\n",
              "    <tr>\n",
              "      <th>Mountain beaver</th>\n",
              "      <td>1.35</td>\n",
              "      <td>8.1</td>\n",
              "    </tr>\n",
              "    <tr>\n",
              "      <th>Land cow</th>\n",
              "      <td>465.00</td>\n",
              "      <td>423.0</td>\n",
              "    </tr>\n",
              "    <tr>\n",
              "      <th>Grey wolf</th>\n",
              "      <td>36.33</td>\n",
              "      <td>119.5</td>\n",
              "    </tr>\n",
              "  </tbody>\n",
              "</table>\n",
              "</div>"
            ],
            "text/plain": [
              "                   body  brain\n",
              "name                          \n",
              "Arctic fox         5.00   44.5\n",
              "Owl monkey         0.48   15.5\n",
              "Mountain beaver    1.35    8.1\n",
              "Land cow         465.00  423.0\n",
              "Grey wolf         36.33  119.5"
            ]
          },
          "metadata": {
            "tags": []
          },
          "execution_count": 17
        }
      ]
    },
    {
      "cell_type": "markdown",
      "metadata": {
        "id": "57BeunpWroe5"
      },
      "source": [
        "frameCopy - to tylko wskaźnik w pamięci do oryginalnego DataFrame"
      ]
    },
    {
      "cell_type": "code",
      "metadata": {
        "colab": {
          "base_uri": "https://localhost:8080/",
          "height": 236
        },
        "id": "HFdapGaQrfyD",
        "outputId": "3f6c4352-413b-47c9-babe-7af8f014a871"
      },
      "source": [
        "frame.head()"
      ],
      "execution_count": null,
      "outputs": [
        {
          "output_type": "execute_result",
          "data": {
            "text/html": [
              "<div>\n",
              "<style scoped>\n",
              "    .dataframe tbody tr th:only-of-type {\n",
              "        vertical-align: middle;\n",
              "    }\n",
              "\n",
              "    .dataframe tbody tr th {\n",
              "        vertical-align: top;\n",
              "    }\n",
              "\n",
              "    .dataframe thead th {\n",
              "        text-align: right;\n",
              "    }\n",
              "</style>\n",
              "<table border=\"1\" class=\"dataframe\">\n",
              "  <thead>\n",
              "    <tr style=\"text-align: right;\">\n",
              "      <th></th>\n",
              "      <th>body</th>\n",
              "      <th>brain</th>\n",
              "    </tr>\n",
              "    <tr>\n",
              "      <th>name</th>\n",
              "      <th></th>\n",
              "      <th></th>\n",
              "    </tr>\n",
              "  </thead>\n",
              "  <tbody>\n",
              "    <tr>\n",
              "      <th>Arctic fox</th>\n",
              "      <td>5.00</td>\n",
              "      <td>44.5</td>\n",
              "    </tr>\n",
              "    <tr>\n",
              "      <th>Owl monkey</th>\n",
              "      <td>0.48</td>\n",
              "      <td>15.5</td>\n",
              "    </tr>\n",
              "    <tr>\n",
              "      <th>Mountain beaver</th>\n",
              "      <td>1.35</td>\n",
              "      <td>8.1</td>\n",
              "    </tr>\n",
              "    <tr>\n",
              "      <th>Land cow</th>\n",
              "      <td>465.00</td>\n",
              "      <td>423.0</td>\n",
              "    </tr>\n",
              "    <tr>\n",
              "      <th>Grey wolf</th>\n",
              "      <td>36.33</td>\n",
              "      <td>119.5</td>\n",
              "    </tr>\n",
              "  </tbody>\n",
              "</table>\n",
              "</div>"
            ],
            "text/plain": [
              "                   body  brain\n",
              "name                          \n",
              "Arctic fox         5.00   44.5\n",
              "Owl monkey         0.48   15.5\n",
              "Mountain beaver    1.35    8.1\n",
              "Land cow         465.00  423.0\n",
              "Grey wolf         36.33  119.5"
            ]
          },
          "metadata": {
            "tags": []
          },
          "execution_count": 18
        }
      ]
    },
    {
      "cell_type": "markdown",
      "metadata": {
        "id": "TDNxDfj2s4jV"
      },
      "source": [
        "Teraz kopiuje za pomocą copy()"
      ]
    },
    {
      "cell_type": "code",
      "metadata": {
        "colab": {
          "base_uri": "https://localhost:8080/",
          "height": 236
        },
        "id": "RR--CfwZs33F",
        "outputId": "26e002d8-ec7c-4782-c266-b10bb9b1cee8"
      },
      "source": [
        "frameCopy = frame.copy()\n",
        "frameCopy.loc['Grey wolf', 'body'] = 40\n",
        "frameCopy.head()"
      ],
      "execution_count": null,
      "outputs": [
        {
          "output_type": "execute_result",
          "data": {
            "text/html": [
              "<div>\n",
              "<style scoped>\n",
              "    .dataframe tbody tr th:only-of-type {\n",
              "        vertical-align: middle;\n",
              "    }\n",
              "\n",
              "    .dataframe tbody tr th {\n",
              "        vertical-align: top;\n",
              "    }\n",
              "\n",
              "    .dataframe thead th {\n",
              "        text-align: right;\n",
              "    }\n",
              "</style>\n",
              "<table border=\"1\" class=\"dataframe\">\n",
              "  <thead>\n",
              "    <tr style=\"text-align: right;\">\n",
              "      <th></th>\n",
              "      <th>body</th>\n",
              "      <th>brain</th>\n",
              "    </tr>\n",
              "    <tr>\n",
              "      <th>name</th>\n",
              "      <th></th>\n",
              "      <th></th>\n",
              "    </tr>\n",
              "  </thead>\n",
              "  <tbody>\n",
              "    <tr>\n",
              "      <th>Arctic fox</th>\n",
              "      <td>5.00</td>\n",
              "      <td>44.5</td>\n",
              "    </tr>\n",
              "    <tr>\n",
              "      <th>Owl monkey</th>\n",
              "      <td>0.48</td>\n",
              "      <td>15.5</td>\n",
              "    </tr>\n",
              "    <tr>\n",
              "      <th>Mountain beaver</th>\n",
              "      <td>1.35</td>\n",
              "      <td>8.1</td>\n",
              "    </tr>\n",
              "    <tr>\n",
              "      <th>Land cow</th>\n",
              "      <td>465.00</td>\n",
              "      <td>423.0</td>\n",
              "    </tr>\n",
              "    <tr>\n",
              "      <th>Grey wolf</th>\n",
              "      <td>40.00</td>\n",
              "      <td>119.5</td>\n",
              "    </tr>\n",
              "  </tbody>\n",
              "</table>\n",
              "</div>"
            ],
            "text/plain": [
              "                   body  brain\n",
              "name                          \n",
              "Arctic fox         5.00   44.5\n",
              "Owl monkey         0.48   15.5\n",
              "Mountain beaver    1.35    8.1\n",
              "Land cow         465.00  423.0\n",
              "Grey wolf         40.00  119.5"
            ]
          },
          "metadata": {
            "tags": []
          },
          "execution_count": 20
        }
      ]
    },
    {
      "cell_type": "code",
      "metadata": {
        "colab": {
          "base_uri": "https://localhost:8080/",
          "height": 236
        },
        "id": "M2hZ_KP8rxu3",
        "outputId": "7604593e-cd1a-4b23-d80f-5494e1a69a90"
      },
      "source": [
        "frame.head()"
      ],
      "execution_count": null,
      "outputs": [
        {
          "output_type": "execute_result",
          "data": {
            "text/html": [
              "<div>\n",
              "<style scoped>\n",
              "    .dataframe tbody tr th:only-of-type {\n",
              "        vertical-align: middle;\n",
              "    }\n",
              "\n",
              "    .dataframe tbody tr th {\n",
              "        vertical-align: top;\n",
              "    }\n",
              "\n",
              "    .dataframe thead th {\n",
              "        text-align: right;\n",
              "    }\n",
              "</style>\n",
              "<table border=\"1\" class=\"dataframe\">\n",
              "  <thead>\n",
              "    <tr style=\"text-align: right;\">\n",
              "      <th></th>\n",
              "      <th>body</th>\n",
              "      <th>brain</th>\n",
              "    </tr>\n",
              "    <tr>\n",
              "      <th>name</th>\n",
              "      <th></th>\n",
              "      <th></th>\n",
              "    </tr>\n",
              "  </thead>\n",
              "  <tbody>\n",
              "    <tr>\n",
              "      <th>Arctic fox</th>\n",
              "      <td>5.00</td>\n",
              "      <td>44.5</td>\n",
              "    </tr>\n",
              "    <tr>\n",
              "      <th>Owl monkey</th>\n",
              "      <td>0.48</td>\n",
              "      <td>15.5</td>\n",
              "    </tr>\n",
              "    <tr>\n",
              "      <th>Mountain beaver</th>\n",
              "      <td>1.35</td>\n",
              "      <td>8.1</td>\n",
              "    </tr>\n",
              "    <tr>\n",
              "      <th>Land cow</th>\n",
              "      <td>465.00</td>\n",
              "      <td>423.0</td>\n",
              "    </tr>\n",
              "    <tr>\n",
              "      <th>Grey wolf</th>\n",
              "      <td>36.33</td>\n",
              "      <td>119.5</td>\n",
              "    </tr>\n",
              "  </tbody>\n",
              "</table>\n",
              "</div>"
            ],
            "text/plain": [
              "                   body  brain\n",
              "name                          \n",
              "Arctic fox         5.00   44.5\n",
              "Owl monkey         0.48   15.5\n",
              "Mountain beaver    1.35    8.1\n",
              "Land cow         465.00  423.0\n",
              "Grey wolf         36.33  119.5"
            ]
          },
          "metadata": {
            "tags": []
          },
          "execution_count": 21
        }
      ]
    }
  ]
}