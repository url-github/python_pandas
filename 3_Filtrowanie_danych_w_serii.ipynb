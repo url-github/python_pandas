{
  "nbformat": 4,
  "nbformat_minor": 0,
  "metadata": {
    "colab": {
      "name": "3.Filtrowanie danych w serii.ipynb",
      "provenance": [],
      "authorship_tag": "ABX9TyNNfur845odixQ+8Q/g4ahb"
    },
    "kernelspec": {
      "name": "python3",
      "display_name": "Python 3"
    },
    "language_info": {
      "name": "python"
    }
  },
  "cells": [
    {
      "cell_type": "code",
      "metadata": {
        "colab": {
          "base_uri": "https://localhost:8080/"
        },
        "id": "C7-Xl8ISUCbo",
        "outputId": "4f5438da-ed4a-4d01-c392-a622c6cbb89d"
      },
      "source": [
        "from google.colab import drive\n",
        "drive.mount('/content/drive')"
      ],
      "execution_count": null,
      "outputs": [
        {
          "output_type": "stream",
          "text": [
            "Mounted at /content/drive\n"
          ],
          "name": "stdout"
        }
      ]
    },
    {
      "cell_type": "code",
      "metadata": {
        "id": "VONXtJY7ULT9"
      },
      "source": [
        "import pandas as pd\n",
        "import numpy as np\n",
        "import matplotlib.pyplot as plt\n",
        "import math as math"
      ],
      "execution_count": null,
      "outputs": []
    },
    {
      "cell_type": "code",
      "metadata": {
        "colab": {
          "base_uri": "https://localhost:8080/"
        },
        "id": "w0tPjTVbUUM0",
        "outputId": "f15f1feb-9f29-4eab-c4d3-54ac4fbc866d"
      },
      "source": [
        "numbers = [1,2,3,11,12,13]\n",
        "numbers"
      ],
      "execution_count": null,
      "outputs": [
        {
          "output_type": "execute_result",
          "data": {
            "text/plain": [
              "[1, 2, 3, 11, 12, 13]"
            ]
          },
          "metadata": {
            "tags": []
          },
          "execution_count": 3
        }
      ]
    },
    {
      "cell_type": "code",
      "metadata": {
        "colab": {
          "base_uri": "https://localhost:8080/"
        },
        "id": "SHHN0e-AUiBf",
        "outputId": "c0727c44-4a47-45ae-fc76-6112e169f882"
      },
      "source": [
        "numSeries = pd.Series(numbers)\n",
        "numSeries"
      ],
      "execution_count": null,
      "outputs": [
        {
          "output_type": "execute_result",
          "data": {
            "text/plain": [
              "0     1\n",
              "1     2\n",
              "2     3\n",
              "3    11\n",
              "4    12\n",
              "5    13\n",
              "dtype: int64"
            ]
          },
          "metadata": {
            "tags": []
          },
          "execution_count": 4
        }
      ]
    },
    {
      "cell_type": "code",
      "metadata": {
        "colab": {
          "base_uri": "https://localhost:8080/"
        },
        "id": "yPTjH9EiZC5B",
        "outputId": "670816bb-7da8-4568-8059-65fb1c75298b"
      },
      "source": [
        "numSeries > 10"
      ],
      "execution_count": null,
      "outputs": [
        {
          "output_type": "execute_result",
          "data": {
            "text/plain": [
              "0    False\n",
              "1    False\n",
              "2    False\n",
              "3     True\n",
              "4     True\n",
              "5     True\n",
              "dtype: bool"
            ]
          },
          "metadata": {
            "tags": []
          },
          "execution_count": 5
        }
      ]
    },
    {
      "cell_type": "code",
      "metadata": {
        "colab": {
          "base_uri": "https://localhost:8080/"
        },
        "id": "g2MHSWXhZq4e",
        "outputId": "f546a8a5-3524-44bb-8726-7ce31bb40d1f"
      },
      "source": [
        "numSeries.where(numSeries > 10)"
      ],
      "execution_count": null,
      "outputs": [
        {
          "output_type": "execute_result",
          "data": {
            "text/plain": [
              "0     NaN\n",
              "1     NaN\n",
              "2     NaN\n",
              "3    11.0\n",
              "4    12.0\n",
              "5    13.0\n",
              "dtype: float64"
            ]
          },
          "metadata": {
            "tags": []
          },
          "execution_count": 6
        }
      ]
    },
    {
      "cell_type": "code",
      "metadata": {
        "colab": {
          "base_uri": "https://localhost:8080/"
        },
        "id": "RuOtxbRVZ-2W",
        "outputId": "8bb734e0-d996-4633-a089-f2640340ea02"
      },
      "source": [
        "numSeries.where(numSeries > 10, other=-1)\n",
        "\n",
        "# Parametrem other określam wartości, które nie spełniają kryteriów"
      ],
      "execution_count": null,
      "outputs": [
        {
          "output_type": "execute_result",
          "data": {
            "text/plain": [
              "0    -1\n",
              "1    -1\n",
              "2    -1\n",
              "3    11\n",
              "4    12\n",
              "5    13\n",
              "dtype: int64"
            ]
          },
          "metadata": {
            "tags": []
          },
          "execution_count": 7
        }
      ]
    },
    {
      "cell_type": "code",
      "metadata": {
        "colab": {
          "base_uri": "https://localhost:8080/"
        },
        "id": "KzOwWVZUafAV",
        "outputId": "64012f85-6eb5-4fa8-c7dd-5ab15600cd50"
      },
      "source": [
        "numSeries.where(numSeries > 10).dropna()\n",
        "\n",
        "# Metodą dropna() wystawiam wartości, które spełniają warunek"
      ],
      "execution_count": null,
      "outputs": [
        {
          "output_type": "execute_result",
          "data": {
            "text/plain": [
              "3    11.0\n",
              "4    12.0\n",
              "5    13.0\n",
              "dtype: float64"
            ]
          },
          "metadata": {
            "tags": []
          },
          "execution_count": 8
        }
      ]
    },
    {
      "cell_type": "code",
      "metadata": {
        "colab": {
          "base_uri": "https://localhost:8080/"
        },
        "id": "pyxxM3-Abbjn",
        "outputId": "9a9aa167-e9f7-49e3-d07d-e12b0605fff7"
      },
      "source": [
        "numSeries.where(numSeries > 10, inplace=True)\n",
        "numSeries"
      ],
      "execution_count": null,
      "outputs": [
        {
          "output_type": "execute_result",
          "data": {
            "text/plain": [
              "0     NaN\n",
              "1     NaN\n",
              "2     NaN\n",
              "3    11.0\n",
              "4    12.0\n",
              "5    13.0\n",
              "dtype: float64"
            ]
          },
          "metadata": {
            "tags": []
          },
          "execution_count": 9
        }
      ]
    },
    {
      "cell_type": "code",
      "metadata": {
        "colab": {
          "base_uri": "https://localhost:8080/"
        },
        "id": "k88ZvAjXcLP9",
        "outputId": "45d57906-46cc-409a-fa3a-30cc6a699369"
      },
      "source": [
        "numSeries.dropna(inplace=True)\n",
        "numSeries\n",
        "\n",
        "# Wartości tylko odflitrowane"
      ],
      "execution_count": null,
      "outputs": [
        {
          "output_type": "execute_result",
          "data": {
            "text/plain": [
              "3    11.0\n",
              "4    12.0\n",
              "5    13.0\n",
              "dtype: float64"
            ]
          },
          "metadata": {
            "tags": []
          },
          "execution_count": 10
        }
      ]
    },
    {
      "cell_type": "code",
      "metadata": {
        "colab": {
          "base_uri": "https://localhost:8080/"
        },
        "id": "OMZ8_PEccph4",
        "outputId": "219ee4d9-4c23-4865-9a84-80209d7dbfed"
      },
      "source": [
        "numSeries = pd.Series(numbers)\n",
        "numSeries"
      ],
      "execution_count": null,
      "outputs": [
        {
          "output_type": "execute_result",
          "data": {
            "text/plain": [
              "0     1\n",
              "1     2\n",
              "2     3\n",
              "3    11\n",
              "4    12\n",
              "5    13\n",
              "dtype: int64"
            ]
          },
          "metadata": {
            "tags": []
          },
          "execution_count": 11
        }
      ]
    },
    {
      "cell_type": "code",
      "metadata": {
        "colab": {
          "base_uri": "https://localhost:8080/"
        },
        "id": "EbvxO8jMc9No",
        "outputId": "64014141-e604-4698-f698-0bde79154205"
      },
      "source": [
        "# Filtrowanie na indeksach (nie wartościach)\n",
        "\n",
        "numSeries.filter(items=[0,2,4])"
      ],
      "execution_count": null,
      "outputs": [
        {
          "output_type": "execute_result",
          "data": {
            "text/plain": [
              "0     1\n",
              "2     3\n",
              "4    12\n",
              "dtype: int64"
            ]
          },
          "metadata": {
            "tags": []
          },
          "execution_count": 12
        }
      ]
    },
    {
      "cell_type": "code",
      "metadata": {
        "colab": {
          "base_uri": "https://localhost:8080/"
        },
        "id": "FVuLlaYkefvk",
        "outputId": "02428c20-887e-42a7-c866-a9b89f291a4a"
      },
      "source": [
        "numSeries"
      ],
      "execution_count": null,
      "outputs": [
        {
          "output_type": "execute_result",
          "data": {
            "text/plain": [
              "0     1\n",
              "1     2\n",
              "2     3\n",
              "3    11\n",
              "4    12\n",
              "5    13\n",
              "dtype: int64"
            ]
          },
          "metadata": {
            "tags": []
          },
          "execution_count": 13
        }
      ]
    },
    {
      "cell_type": "code",
      "metadata": {
        "colab": {
          "base_uri": "https://localhost:8080/"
        },
        "id": "WLAYroT9fYoD",
        "outputId": "a358303f-2561-4d72-f513-43a50c42fa19"
      },
      "source": [
        "numSeries % 2 == 1"
      ],
      "execution_count": null,
      "outputs": [
        {
          "output_type": "execute_result",
          "data": {
            "text/plain": [
              "0     True\n",
              "1    False\n",
              "2     True\n",
              "3     True\n",
              "4    False\n",
              "5     True\n",
              "dtype: bool"
            ]
          },
          "metadata": {
            "tags": []
          },
          "execution_count": 14
        }
      ]
    },
    {
      "cell_type": "code",
      "metadata": {
        "colab": {
          "base_uri": "https://localhost:8080/"
        },
        "id": "rfaWRFk8fd48",
        "outputId": "867dd3b9-f285-4ead-c918-d165bca0199c"
      },
      "source": [
        "numSeries.where(numSeries > 10).dropna()"
      ],
      "execution_count": null,
      "outputs": [
        {
          "output_type": "execute_result",
          "data": {
            "text/plain": [
              "3    11.0\n",
              "4    12.0\n",
              "5    13.0\n",
              "dtype: float64"
            ]
          },
          "metadata": {
            "tags": []
          },
          "execution_count": 15
        }
      ]
    },
    {
      "cell_type": "code",
      "metadata": {
        "colab": {
          "base_uri": "https://localhost:8080/"
        },
        "id": "Vuo4AQMGgjFh",
        "outputId": "69cd4800-51d0-4dde-eb2e-a7cf9c4d102c"
      },
      "source": [
        "# Odflitrowanie tam gdzie jest reszta z dzielenia\n",
        "\n",
        "numSeries.where(numSeries % 2 == 1).dropna()"
      ],
      "execution_count": null,
      "outputs": [
        {
          "output_type": "execute_result",
          "data": {
            "text/plain": [
              "0     1.0\n",
              "2     3.0\n",
              "3    11.0\n",
              "5    13.0\n",
              "dtype: float64"
            ]
          },
          "metadata": {
            "tags": []
          },
          "execution_count": 17
        }
      ]
    },
    {
      "cell_type": "code",
      "metadata": {
        "id": "ukXW4MbugzEE"
      },
      "source": [
        "# Użycie dwóch warunków zadziała tylko wtedy kiedy warunki będą osobnymi zmiennymi\n",
        "\n",
        "numberGreater10 = numSeries > 10\n",
        "numbersOdd = numSeries % 2 == 1"
      ],
      "execution_count": null,
      "outputs": []
    },
    {
      "cell_type": "code",
      "metadata": {
        "colab": {
          "base_uri": "https://localhost:8080/"
        },
        "id": "dTeyqiU8iIn2",
        "outputId": "908364ea-0b2d-4369-8e6e-eea338d51e4d"
      },
      "source": [
        "# Połączenie dwóch warunków filtrujących (dwie zmienne)\n",
        "\n",
        "numSeries.where(numberGreater10 & numbersOdd)"
      ],
      "execution_count": null,
      "outputs": [
        {
          "output_type": "execute_result",
          "data": {
            "text/plain": [
              "0     NaN\n",
              "1     NaN\n",
              "2     NaN\n",
              "3    11.0\n",
              "4     NaN\n",
              "5    13.0\n",
              "dtype: float64"
            ]
          },
          "metadata": {
            "tags": []
          },
          "execution_count": 19
        }
      ]
    },
    {
      "cell_type": "code",
      "metadata": {
        "colab": {
          "base_uri": "https://localhost:8080/"
        },
        "id": "R_HFAq8ZilTP",
        "outputId": "9163cb96-ba4a-4234-bf84-c673aaa383be"
      },
      "source": [
        "numSeries.where(numberGreater10 & numbersOdd).dropna()"
      ],
      "execution_count": null,
      "outputs": [
        {
          "output_type": "execute_result",
          "data": {
            "text/plain": [
              "3    11.0\n",
              "5    13.0\n",
              "dtype: float64"
            ]
          },
          "metadata": {
            "tags": []
          },
          "execution_count": 21
        }
      ]
    },
    {
      "cell_type": "code",
      "metadata": {
        "colab": {
          "base_uri": "https://localhost:8080/"
        },
        "id": "dS1udpamjKHT",
        "outputId": "c90b5f28-03c3-49ac-e361-aa41df0cdecd"
      },
      "source": [
        "numSeries.between(3,12)"
      ],
      "execution_count": null,
      "outputs": [
        {
          "output_type": "execute_result",
          "data": {
            "text/plain": [
              "0    False\n",
              "1    False\n",
              "2     True\n",
              "3     True\n",
              "4     True\n",
              "5    False\n",
              "dtype: bool"
            ]
          },
          "metadata": {
            "tags": []
          },
          "execution_count": 22
        }
      ]
    },
    {
      "cell_type": "code",
      "metadata": {
        "colab": {
          "base_uri": "https://localhost:8080/"
        },
        "id": "gcV9baNBj2Hn",
        "outputId": "d1026b34-174d-407f-9038-c727ebe8b351"
      },
      "source": [
        "numSeries.where(numSeries.between(3,12))"
      ],
      "execution_count": null,
      "outputs": [
        {
          "output_type": "execute_result",
          "data": {
            "text/plain": [
              "0     NaN\n",
              "1     NaN\n",
              "2     3.0\n",
              "3    11.0\n",
              "4    12.0\n",
              "5     NaN\n",
              "dtype: float64"
            ]
          },
          "metadata": {
            "tags": []
          },
          "execution_count": 23
        }
      ]
    }
  ]
}