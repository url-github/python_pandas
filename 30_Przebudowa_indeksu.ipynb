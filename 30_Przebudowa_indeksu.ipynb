{
  "nbformat": 4,
  "nbformat_minor": 0,
  "metadata": {
    "colab": {
      "name": "30.Przebudowa indeksu.ipynb",
      "provenance": [],
      "authorship_tag": "ABX9TyNVQusbU12wu3S6mBgUQB6h"
    },
    "kernelspec": {
      "name": "python3",
      "display_name": "Python 3"
    },
    "language_info": {
      "name": "python"
    }
  },
  "cells": [
    {
      "cell_type": "code",
      "metadata": {
        "id": "JffjPx4H1CLu"
      },
      "source": [
        "import pandas as pd\n",
        "import numpy as np\n",
        "import matplotlib.pyplot as plt\n",
        "import math as math"
      ],
      "execution_count": null,
      "outputs": []
    },
    {
      "cell_type": "code",
      "metadata": {
        "colab": {
          "base_uri": "https://localhost:8080/",
          "height": 204
        },
        "id": "qM1S69Oa1Jlr",
        "outputId": "cbee11f9-3328-4690-aaf7-bf6fb1071adb"
      },
      "source": [
        "frame = pd.read_csv('/content/mammals.csv')\n",
        "frame.head()"
      ],
      "execution_count": null,
      "outputs": [
        {
          "output_type": "execute_result",
          "data": {
            "text/html": [
              "<div>\n",
              "<style scoped>\n",
              "    .dataframe tbody tr th:only-of-type {\n",
              "        vertical-align: middle;\n",
              "    }\n",
              "\n",
              "    .dataframe tbody tr th {\n",
              "        vertical-align: top;\n",
              "    }\n",
              "\n",
              "    .dataframe thead th {\n",
              "        text-align: right;\n",
              "    }\n",
              "</style>\n",
              "<table border=\"1\" class=\"dataframe\">\n",
              "  <thead>\n",
              "    <tr style=\"text-align: right;\">\n",
              "      <th></th>\n",
              "      <th>name</th>\n",
              "      <th>body</th>\n",
              "      <th>brain</th>\n",
              "    </tr>\n",
              "  </thead>\n",
              "  <tbody>\n",
              "    <tr>\n",
              "      <th>0</th>\n",
              "      <td>Arctic fox</td>\n",
              "      <td>3.385</td>\n",
              "      <td>44.5</td>\n",
              "    </tr>\n",
              "    <tr>\n",
              "      <th>1</th>\n",
              "      <td>Owl monkey</td>\n",
              "      <td>0.480</td>\n",
              "      <td>15.5</td>\n",
              "    </tr>\n",
              "    <tr>\n",
              "      <th>2</th>\n",
              "      <td>Mountain beaver</td>\n",
              "      <td>1.350</td>\n",
              "      <td>8.1</td>\n",
              "    </tr>\n",
              "    <tr>\n",
              "      <th>3</th>\n",
              "      <td>Cow</td>\n",
              "      <td>465.000</td>\n",
              "      <td>423.0</td>\n",
              "    </tr>\n",
              "    <tr>\n",
              "      <th>4</th>\n",
              "      <td>Grey wolf</td>\n",
              "      <td>36.330</td>\n",
              "      <td>119.5</td>\n",
              "    </tr>\n",
              "  </tbody>\n",
              "</table>\n",
              "</div>"
            ],
            "text/plain": [
              "              name     body  brain\n",
              "0       Arctic fox    3.385   44.5\n",
              "1       Owl monkey    0.480   15.5\n",
              "2  Mountain beaver    1.350    8.1\n",
              "3              Cow  465.000  423.0\n",
              "4        Grey wolf   36.330  119.5"
            ]
          },
          "metadata": {
            "tags": []
          },
          "execution_count": 2
        }
      ]
    },
    {
      "cell_type": "code",
      "metadata": {
        "colab": {
          "base_uri": "https://localhost:8080/",
          "height": 235
        },
        "id": "q483qex_1tRe",
        "outputId": "ea1764ae-5070-4d15-dc4f-d7090e7e94b9"
      },
      "source": [
        "frame.set_index('name', inplace=True)\n",
        "frame.head()"
      ],
      "execution_count": null,
      "outputs": [
        {
          "output_type": "execute_result",
          "data": {
            "text/html": [
              "<div>\n",
              "<style scoped>\n",
              "    .dataframe tbody tr th:only-of-type {\n",
              "        vertical-align: middle;\n",
              "    }\n",
              "\n",
              "    .dataframe tbody tr th {\n",
              "        vertical-align: top;\n",
              "    }\n",
              "\n",
              "    .dataframe thead th {\n",
              "        text-align: right;\n",
              "    }\n",
              "</style>\n",
              "<table border=\"1\" class=\"dataframe\">\n",
              "  <thead>\n",
              "    <tr style=\"text-align: right;\">\n",
              "      <th></th>\n",
              "      <th>body</th>\n",
              "      <th>brain</th>\n",
              "    </tr>\n",
              "    <tr>\n",
              "      <th>name</th>\n",
              "      <th></th>\n",
              "      <th></th>\n",
              "    </tr>\n",
              "  </thead>\n",
              "  <tbody>\n",
              "    <tr>\n",
              "      <th>Arctic fox</th>\n",
              "      <td>3.385</td>\n",
              "      <td>44.5</td>\n",
              "    </tr>\n",
              "    <tr>\n",
              "      <th>Owl monkey</th>\n",
              "      <td>0.480</td>\n",
              "      <td>15.5</td>\n",
              "    </tr>\n",
              "    <tr>\n",
              "      <th>Mountain beaver</th>\n",
              "      <td>1.350</td>\n",
              "      <td>8.1</td>\n",
              "    </tr>\n",
              "    <tr>\n",
              "      <th>Cow</th>\n",
              "      <td>465.000</td>\n",
              "      <td>423.0</td>\n",
              "    </tr>\n",
              "    <tr>\n",
              "      <th>Grey wolf</th>\n",
              "      <td>36.330</td>\n",
              "      <td>119.5</td>\n",
              "    </tr>\n",
              "  </tbody>\n",
              "</table>\n",
              "</div>"
            ],
            "text/plain": [
              "                    body  brain\n",
              "name                           \n",
              "Arctic fox         3.385   44.5\n",
              "Owl monkey         0.480   15.5\n",
              "Mountain beaver    1.350    8.1\n",
              "Cow              465.000  423.0\n",
              "Grey wolf         36.330  119.5"
            ]
          },
          "metadata": {
            "tags": []
          },
          "execution_count": 3
        }
      ]
    },
    {
      "cell_type": "code",
      "metadata": {
        "colab": {
          "base_uri": "https://localhost:8080/",
          "height": 204
        },
        "id": "XiI6_Dqc2WqK",
        "outputId": "13528929-a7b7-413a-f142-0e9ccae8feab"
      },
      "source": [
        "frame.reset_index(inplace=True)\n",
        "frame.head()"
      ],
      "execution_count": null,
      "outputs": [
        {
          "output_type": "execute_result",
          "data": {
            "text/html": [
              "<div>\n",
              "<style scoped>\n",
              "    .dataframe tbody tr th:only-of-type {\n",
              "        vertical-align: middle;\n",
              "    }\n",
              "\n",
              "    .dataframe tbody tr th {\n",
              "        vertical-align: top;\n",
              "    }\n",
              "\n",
              "    .dataframe thead th {\n",
              "        text-align: right;\n",
              "    }\n",
              "</style>\n",
              "<table border=\"1\" class=\"dataframe\">\n",
              "  <thead>\n",
              "    <tr style=\"text-align: right;\">\n",
              "      <th></th>\n",
              "      <th>brain</th>\n",
              "      <th>name</th>\n",
              "      <th>body</th>\n",
              "    </tr>\n",
              "  </thead>\n",
              "  <tbody>\n",
              "    <tr>\n",
              "      <th>0</th>\n",
              "      <td>44.5</td>\n",
              "      <td>Arctic fox</td>\n",
              "      <td>3.385</td>\n",
              "    </tr>\n",
              "    <tr>\n",
              "      <th>1</th>\n",
              "      <td>15.5</td>\n",
              "      <td>Owl monkey</td>\n",
              "      <td>0.480</td>\n",
              "    </tr>\n",
              "    <tr>\n",
              "      <th>2</th>\n",
              "      <td>8.1</td>\n",
              "      <td>Mountain beaver</td>\n",
              "      <td>1.350</td>\n",
              "    </tr>\n",
              "    <tr>\n",
              "      <th>3</th>\n",
              "      <td>423.0</td>\n",
              "      <td>Cow</td>\n",
              "      <td>465.000</td>\n",
              "    </tr>\n",
              "    <tr>\n",
              "      <th>4</th>\n",
              "      <td>119.5</td>\n",
              "      <td>Grey wolf</td>\n",
              "      <td>36.330</td>\n",
              "    </tr>\n",
              "  </tbody>\n",
              "</table>\n",
              "</div>"
            ],
            "text/plain": [
              "   brain             name     body\n",
              "0   44.5       Arctic fox    3.385\n",
              "1   15.5       Owl monkey    0.480\n",
              "2    8.1  Mountain beaver    1.350\n",
              "3  423.0              Cow  465.000\n",
              "4  119.5        Grey wolf   36.330"
            ]
          },
          "metadata": {
            "tags": []
          },
          "execution_count": 7
        }
      ]
    },
    {
      "cell_type": "markdown",
      "metadata": {
        "id": "gbtPBOhW22GC"
      },
      "source": [
        "Operacjami set i reset można łatwo doprowadzić do utraty danych. Należy zresetować indeks kiedy zmieniam z jednej na drugą kolumnę indeks. W przeciwnym wypadku indeks z kolumny po zmianie na nowy zostanie utracony"
      ]
    },
    {
      "cell_type": "code",
      "metadata": {
        "colab": {
          "base_uri": "https://localhost:8080/",
          "height": 235
        },
        "id": "kksWrpv12qRW",
        "outputId": "668fd11b-4108-4686-9c24-d937a32faaf5"
      },
      "source": [
        "frame.set_index('brain', inplace=True)\n",
        "frame.head()"
      ],
      "execution_count": null,
      "outputs": [
        {
          "output_type": "execute_result",
          "data": {
            "text/html": [
              "<div>\n",
              "<style scoped>\n",
              "    .dataframe tbody tr th:only-of-type {\n",
              "        vertical-align: middle;\n",
              "    }\n",
              "\n",
              "    .dataframe tbody tr th {\n",
              "        vertical-align: top;\n",
              "    }\n",
              "\n",
              "    .dataframe thead th {\n",
              "        text-align: right;\n",
              "    }\n",
              "</style>\n",
              "<table border=\"1\" class=\"dataframe\">\n",
              "  <thead>\n",
              "    <tr style=\"text-align: right;\">\n",
              "      <th></th>\n",
              "      <th>name</th>\n",
              "      <th>body</th>\n",
              "    </tr>\n",
              "    <tr>\n",
              "      <th>brain</th>\n",
              "      <th></th>\n",
              "      <th></th>\n",
              "    </tr>\n",
              "  </thead>\n",
              "  <tbody>\n",
              "    <tr>\n",
              "      <th>44.5</th>\n",
              "      <td>Arctic fox</td>\n",
              "      <td>3.385</td>\n",
              "    </tr>\n",
              "    <tr>\n",
              "      <th>15.5</th>\n",
              "      <td>Owl monkey</td>\n",
              "      <td>0.480</td>\n",
              "    </tr>\n",
              "    <tr>\n",
              "      <th>8.1</th>\n",
              "      <td>Mountain beaver</td>\n",
              "      <td>1.350</td>\n",
              "    </tr>\n",
              "    <tr>\n",
              "      <th>423.0</th>\n",
              "      <td>Cow</td>\n",
              "      <td>465.000</td>\n",
              "    </tr>\n",
              "    <tr>\n",
              "      <th>119.5</th>\n",
              "      <td>Grey wolf</td>\n",
              "      <td>36.330</td>\n",
              "    </tr>\n",
              "  </tbody>\n",
              "</table>\n",
              "</div>"
            ],
            "text/plain": [
              "                  name     body\n",
              "brain                          \n",
              "44.5        Arctic fox    3.385\n",
              "15.5        Owl monkey    0.480\n",
              "8.1    Mountain beaver    1.350\n",
              "423.0              Cow  465.000\n",
              "119.5        Grey wolf   36.330"
            ]
          },
          "metadata": {
            "tags": []
          },
          "execution_count": 8
        }
      ]
    },
    {
      "cell_type": "code",
      "metadata": {
        "colab": {
          "base_uri": "https://localhost:8080/",
          "height": 235
        },
        "id": "9-N4rafD3hQd",
        "outputId": "308e20c5-e4e0-4b67-da3e-7d192217710a"
      },
      "source": [
        "frame.set_index('name', inplace=True)\n",
        "frame.head()"
      ],
      "execution_count": null,
      "outputs": [
        {
          "output_type": "execute_result",
          "data": {
            "text/html": [
              "<div>\n",
              "<style scoped>\n",
              "    .dataframe tbody tr th:only-of-type {\n",
              "        vertical-align: middle;\n",
              "    }\n",
              "\n",
              "    .dataframe tbody tr th {\n",
              "        vertical-align: top;\n",
              "    }\n",
              "\n",
              "    .dataframe thead th {\n",
              "        text-align: right;\n",
              "    }\n",
              "</style>\n",
              "<table border=\"1\" class=\"dataframe\">\n",
              "  <thead>\n",
              "    <tr style=\"text-align: right;\">\n",
              "      <th></th>\n",
              "      <th>body</th>\n",
              "    </tr>\n",
              "    <tr>\n",
              "      <th>name</th>\n",
              "      <th></th>\n",
              "    </tr>\n",
              "  </thead>\n",
              "  <tbody>\n",
              "    <tr>\n",
              "      <th>Arctic fox</th>\n",
              "      <td>3.385</td>\n",
              "    </tr>\n",
              "    <tr>\n",
              "      <th>Owl monkey</th>\n",
              "      <td>0.480</td>\n",
              "    </tr>\n",
              "    <tr>\n",
              "      <th>Mountain beaver</th>\n",
              "      <td>1.350</td>\n",
              "    </tr>\n",
              "    <tr>\n",
              "      <th>Cow</th>\n",
              "      <td>465.000</td>\n",
              "    </tr>\n",
              "    <tr>\n",
              "      <th>Grey wolf</th>\n",
              "      <td>36.330</td>\n",
              "    </tr>\n",
              "  </tbody>\n",
              "</table>\n",
              "</div>"
            ],
            "text/plain": [
              "                    body\n",
              "name                    \n",
              "Arctic fox         3.385\n",
              "Owl monkey         0.480\n",
              "Mountain beaver    1.350\n",
              "Cow              465.000\n",
              "Grey wolf         36.330"
            ]
          },
          "metadata": {
            "tags": []
          },
          "execution_count": 9
        }
      ]
    },
    {
      "cell_type": "code",
      "metadata": {
        "colab": {
          "base_uri": "https://localhost:8080/",
          "height": 204
        },
        "id": "hWt6ja1V4Sjp",
        "outputId": "02891112-060d-46b3-8f20-62296c226f02"
      },
      "source": [
        "frame = pd.read_csv('/content/mammals.csv')\n",
        "frame.head()"
      ],
      "execution_count": null,
      "outputs": [
        {
          "output_type": "execute_result",
          "data": {
            "text/html": [
              "<div>\n",
              "<style scoped>\n",
              "    .dataframe tbody tr th:only-of-type {\n",
              "        vertical-align: middle;\n",
              "    }\n",
              "\n",
              "    .dataframe tbody tr th {\n",
              "        vertical-align: top;\n",
              "    }\n",
              "\n",
              "    .dataframe thead th {\n",
              "        text-align: right;\n",
              "    }\n",
              "</style>\n",
              "<table border=\"1\" class=\"dataframe\">\n",
              "  <thead>\n",
              "    <tr style=\"text-align: right;\">\n",
              "      <th></th>\n",
              "      <th>name</th>\n",
              "      <th>body</th>\n",
              "      <th>brain</th>\n",
              "    </tr>\n",
              "  </thead>\n",
              "  <tbody>\n",
              "    <tr>\n",
              "      <th>0</th>\n",
              "      <td>Arctic fox</td>\n",
              "      <td>3.385</td>\n",
              "      <td>44.5</td>\n",
              "    </tr>\n",
              "    <tr>\n",
              "      <th>1</th>\n",
              "      <td>Owl monkey</td>\n",
              "      <td>0.480</td>\n",
              "      <td>15.5</td>\n",
              "    </tr>\n",
              "    <tr>\n",
              "      <th>2</th>\n",
              "      <td>Mountain beaver</td>\n",
              "      <td>1.350</td>\n",
              "      <td>8.1</td>\n",
              "    </tr>\n",
              "    <tr>\n",
              "      <th>3</th>\n",
              "      <td>Cow</td>\n",
              "      <td>465.000</td>\n",
              "      <td>423.0</td>\n",
              "    </tr>\n",
              "    <tr>\n",
              "      <th>4</th>\n",
              "      <td>Grey wolf</td>\n",
              "      <td>36.330</td>\n",
              "      <td>119.5</td>\n",
              "    </tr>\n",
              "  </tbody>\n",
              "</table>\n",
              "</div>"
            ],
            "text/plain": [
              "              name     body  brain\n",
              "0       Arctic fox    3.385   44.5\n",
              "1       Owl monkey    0.480   15.5\n",
              "2  Mountain beaver    1.350    8.1\n",
              "3              Cow  465.000  423.0\n",
              "4        Grey wolf   36.330  119.5"
            ]
          },
          "metadata": {
            "tags": []
          },
          "execution_count": 10
        }
      ]
    },
    {
      "cell_type": "code",
      "metadata": {
        "colab": {
          "base_uri": "https://localhost:8080/",
          "height": 235
        },
        "id": "51q2-8Qt4gmJ",
        "outputId": "2d1ca68f-2858-4ca6-9495-620110ee86d4"
      },
      "source": [
        "frame.set_index('brain', inplace=True)\n",
        "frame.head()"
      ],
      "execution_count": null,
      "outputs": [
        {
          "output_type": "execute_result",
          "data": {
            "text/html": [
              "<div>\n",
              "<style scoped>\n",
              "    .dataframe tbody tr th:only-of-type {\n",
              "        vertical-align: middle;\n",
              "    }\n",
              "\n",
              "    .dataframe tbody tr th {\n",
              "        vertical-align: top;\n",
              "    }\n",
              "\n",
              "    .dataframe thead th {\n",
              "        text-align: right;\n",
              "    }\n",
              "</style>\n",
              "<table border=\"1\" class=\"dataframe\">\n",
              "  <thead>\n",
              "    <tr style=\"text-align: right;\">\n",
              "      <th></th>\n",
              "      <th>name</th>\n",
              "      <th>body</th>\n",
              "    </tr>\n",
              "    <tr>\n",
              "      <th>brain</th>\n",
              "      <th></th>\n",
              "      <th></th>\n",
              "    </tr>\n",
              "  </thead>\n",
              "  <tbody>\n",
              "    <tr>\n",
              "      <th>44.5</th>\n",
              "      <td>Arctic fox</td>\n",
              "      <td>3.385</td>\n",
              "    </tr>\n",
              "    <tr>\n",
              "      <th>15.5</th>\n",
              "      <td>Owl monkey</td>\n",
              "      <td>0.480</td>\n",
              "    </tr>\n",
              "    <tr>\n",
              "      <th>8.1</th>\n",
              "      <td>Mountain beaver</td>\n",
              "      <td>1.350</td>\n",
              "    </tr>\n",
              "    <tr>\n",
              "      <th>423.0</th>\n",
              "      <td>Cow</td>\n",
              "      <td>465.000</td>\n",
              "    </tr>\n",
              "    <tr>\n",
              "      <th>119.5</th>\n",
              "      <td>Grey wolf</td>\n",
              "      <td>36.330</td>\n",
              "    </tr>\n",
              "  </tbody>\n",
              "</table>\n",
              "</div>"
            ],
            "text/plain": [
              "                  name     body\n",
              "brain                          \n",
              "44.5        Arctic fox    3.385\n",
              "15.5        Owl monkey    0.480\n",
              "8.1    Mountain beaver    1.350\n",
              "423.0              Cow  465.000\n",
              "119.5        Grey wolf   36.330"
            ]
          },
          "metadata": {
            "tags": []
          },
          "execution_count": 11
        }
      ]
    },
    {
      "cell_type": "code",
      "metadata": {
        "colab": {
          "base_uri": "https://localhost:8080/",
          "height": 204
        },
        "id": "dlV_X9xp4vWx",
        "outputId": "297083b7-63df-475b-eaa8-3a9360def708"
      },
      "source": [
        "frame.reset_index(inplace=True)\n",
        "frame.head()"
      ],
      "execution_count": null,
      "outputs": [
        {
          "output_type": "execute_result",
          "data": {
            "text/html": [
              "<div>\n",
              "<style scoped>\n",
              "    .dataframe tbody tr th:only-of-type {\n",
              "        vertical-align: middle;\n",
              "    }\n",
              "\n",
              "    .dataframe tbody tr th {\n",
              "        vertical-align: top;\n",
              "    }\n",
              "\n",
              "    .dataframe thead th {\n",
              "        text-align: right;\n",
              "    }\n",
              "</style>\n",
              "<table border=\"1\" class=\"dataframe\">\n",
              "  <thead>\n",
              "    <tr style=\"text-align: right;\">\n",
              "      <th></th>\n",
              "      <th>brain</th>\n",
              "      <th>name</th>\n",
              "      <th>body</th>\n",
              "    </tr>\n",
              "  </thead>\n",
              "  <tbody>\n",
              "    <tr>\n",
              "      <th>0</th>\n",
              "      <td>44.5</td>\n",
              "      <td>Arctic fox</td>\n",
              "      <td>3.385</td>\n",
              "    </tr>\n",
              "    <tr>\n",
              "      <th>1</th>\n",
              "      <td>15.5</td>\n",
              "      <td>Owl monkey</td>\n",
              "      <td>0.480</td>\n",
              "    </tr>\n",
              "    <tr>\n",
              "      <th>2</th>\n",
              "      <td>8.1</td>\n",
              "      <td>Mountain beaver</td>\n",
              "      <td>1.350</td>\n",
              "    </tr>\n",
              "    <tr>\n",
              "      <th>3</th>\n",
              "      <td>423.0</td>\n",
              "      <td>Cow</td>\n",
              "      <td>465.000</td>\n",
              "    </tr>\n",
              "    <tr>\n",
              "      <th>4</th>\n",
              "      <td>119.5</td>\n",
              "      <td>Grey wolf</td>\n",
              "      <td>36.330</td>\n",
              "    </tr>\n",
              "  </tbody>\n",
              "</table>\n",
              "</div>"
            ],
            "text/plain": [
              "   brain             name     body\n",
              "0   44.5       Arctic fox    3.385\n",
              "1   15.5       Owl monkey    0.480\n",
              "2    8.1  Mountain beaver    1.350\n",
              "3  423.0              Cow  465.000\n",
              "4  119.5        Grey wolf   36.330"
            ]
          },
          "metadata": {
            "tags": []
          },
          "execution_count": 12
        }
      ]
    },
    {
      "cell_type": "code",
      "metadata": {
        "colab": {
          "base_uri": "https://localhost:8080/",
          "height": 235
        },
        "id": "JDSxDIN_47uM",
        "outputId": "c793648e-95ae-440a-d3dd-19eef891672f"
      },
      "source": [
        "frame.set_index('name', inplace=True)\n",
        "frame.head()"
      ],
      "execution_count": null,
      "outputs": [
        {
          "output_type": "execute_result",
          "data": {
            "text/html": [
              "<div>\n",
              "<style scoped>\n",
              "    .dataframe tbody tr th:only-of-type {\n",
              "        vertical-align: middle;\n",
              "    }\n",
              "\n",
              "    .dataframe tbody tr th {\n",
              "        vertical-align: top;\n",
              "    }\n",
              "\n",
              "    .dataframe thead th {\n",
              "        text-align: right;\n",
              "    }\n",
              "</style>\n",
              "<table border=\"1\" class=\"dataframe\">\n",
              "  <thead>\n",
              "    <tr style=\"text-align: right;\">\n",
              "      <th></th>\n",
              "      <th>brain</th>\n",
              "      <th>body</th>\n",
              "    </tr>\n",
              "    <tr>\n",
              "      <th>name</th>\n",
              "      <th></th>\n",
              "      <th></th>\n",
              "    </tr>\n",
              "  </thead>\n",
              "  <tbody>\n",
              "    <tr>\n",
              "      <th>Arctic fox</th>\n",
              "      <td>44.5</td>\n",
              "      <td>3.385</td>\n",
              "    </tr>\n",
              "    <tr>\n",
              "      <th>Owl monkey</th>\n",
              "      <td>15.5</td>\n",
              "      <td>0.480</td>\n",
              "    </tr>\n",
              "    <tr>\n",
              "      <th>Mountain beaver</th>\n",
              "      <td>8.1</td>\n",
              "      <td>1.350</td>\n",
              "    </tr>\n",
              "    <tr>\n",
              "      <th>Cow</th>\n",
              "      <td>423.0</td>\n",
              "      <td>465.000</td>\n",
              "    </tr>\n",
              "    <tr>\n",
              "      <th>Grey wolf</th>\n",
              "      <td>119.5</td>\n",
              "      <td>36.330</td>\n",
              "    </tr>\n",
              "  </tbody>\n",
              "</table>\n",
              "</div>"
            ],
            "text/plain": [
              "                 brain     body\n",
              "name                           \n",
              "Arctic fox        44.5    3.385\n",
              "Owl monkey        15.5    0.480\n",
              "Mountain beaver    8.1    1.350\n",
              "Cow              423.0  465.000\n",
              "Grey wolf        119.5   36.330"
            ]
          },
          "metadata": {
            "tags": []
          },
          "execution_count": 13
        }
      ]
    },
    {
      "cell_type": "code",
      "metadata": {
        "colab": {
          "base_uri": "https://localhost:8080/"
        },
        "id": "tW_vsNN45LVR",
        "outputId": "56583f68-2376-48b5-f541-c71ce8c4cde6"
      },
      "source": [
        "frame.loc['Cow']"
      ],
      "execution_count": null,
      "outputs": [
        {
          "output_type": "execute_result",
          "data": {
            "text/plain": [
              "brain    423.0\n",
              "body     465.0\n",
              "Name: Cow, dtype: float64"
            ]
          },
          "metadata": {
            "tags": []
          },
          "execution_count": 14
        }
      ]
    },
    {
      "cell_type": "code",
      "metadata": {
        "colab": {
          "base_uri": "https://localhost:8080/",
          "height": 700
        },
        "id": "8I0SWrnh6VZk",
        "outputId": "f00ffd87-58a6-438d-8f1c-85cb24098bee"
      },
      "source": [
        "frame.sort_index(inplace=True)\n",
        "frame.head(20)"
      ],
      "execution_count": null,
      "outputs": [
        {
          "output_type": "execute_result",
          "data": {
            "text/html": [
              "<div>\n",
              "<style scoped>\n",
              "    .dataframe tbody tr th:only-of-type {\n",
              "        vertical-align: middle;\n",
              "    }\n",
              "\n",
              "    .dataframe tbody tr th {\n",
              "        vertical-align: top;\n",
              "    }\n",
              "\n",
              "    .dataframe thead th {\n",
              "        text-align: right;\n",
              "    }\n",
              "</style>\n",
              "<table border=\"1\" class=\"dataframe\">\n",
              "  <thead>\n",
              "    <tr style=\"text-align: right;\">\n",
              "      <th></th>\n",
              "      <th>brain</th>\n",
              "      <th>body</th>\n",
              "    </tr>\n",
              "    <tr>\n",
              "      <th>name</th>\n",
              "      <th></th>\n",
              "      <th></th>\n",
              "    </tr>\n",
              "  </thead>\n",
              "  <tbody>\n",
              "    <tr>\n",
              "      <th>African elephant</th>\n",
              "      <td>5712.0</td>\n",
              "      <td>6654.000</td>\n",
              "    </tr>\n",
              "    <tr>\n",
              "      <th>African giant pouched rat</th>\n",
              "      <td>6.6</td>\n",
              "      <td>1.000</td>\n",
              "    </tr>\n",
              "    <tr>\n",
              "      <th>Arctic fox</th>\n",
              "      <td>44.5</td>\n",
              "      <td>3.385</td>\n",
              "    </tr>\n",
              "    <tr>\n",
              "      <th>Arctic ground squirrel</th>\n",
              "      <td>5.7</td>\n",
              "      <td>0.920</td>\n",
              "    </tr>\n",
              "    <tr>\n",
              "      <th>Asian elephant</th>\n",
              "      <td>4603.0</td>\n",
              "      <td>2547.000</td>\n",
              "    </tr>\n",
              "    <tr>\n",
              "      <th>Baboon</th>\n",
              "      <td>179.5</td>\n",
              "      <td>10.550</td>\n",
              "    </tr>\n",
              "    <tr>\n",
              "      <th>Big brown bat</th>\n",
              "      <td>0.3</td>\n",
              "      <td>0.023</td>\n",
              "    </tr>\n",
              "    <tr>\n",
              "      <th>Brazilian tapir</th>\n",
              "      <td>169.0</td>\n",
              "      <td>160.000</td>\n",
              "    </tr>\n",
              "    <tr>\n",
              "      <th>Cat</th>\n",
              "      <td>25.6</td>\n",
              "      <td>3.300</td>\n",
              "    </tr>\n",
              "    <tr>\n",
              "      <th>Chimpanzee</th>\n",
              "      <td>440.0</td>\n",
              "      <td>52.160</td>\n",
              "    </tr>\n",
              "    <tr>\n",
              "      <th>Chinchilla</th>\n",
              "      <td>6.4</td>\n",
              "      <td>0.425</td>\n",
              "    </tr>\n",
              "    <tr>\n",
              "      <th>Cow</th>\n",
              "      <td>423.0</td>\n",
              "      <td>465.000</td>\n",
              "    </tr>\n",
              "    <tr>\n",
              "      <th>Desert hedgehog</th>\n",
              "      <td>2.4</td>\n",
              "      <td>0.550</td>\n",
              "    </tr>\n",
              "    <tr>\n",
              "      <th>Donkey</th>\n",
              "      <td>419.0</td>\n",
              "      <td>187.100</td>\n",
              "    </tr>\n",
              "    <tr>\n",
              "      <th>E. American mole</th>\n",
              "      <td>1.2</td>\n",
              "      <td>0.075</td>\n",
              "    </tr>\n",
              "    <tr>\n",
              "      <th>Echidna</th>\n",
              "      <td>25.0</td>\n",
              "      <td>3.000</td>\n",
              "    </tr>\n",
              "    <tr>\n",
              "      <th>European hedgehog</th>\n",
              "      <td>3.5</td>\n",
              "      <td>0.785</td>\n",
              "    </tr>\n",
              "    <tr>\n",
              "      <th>Galago</th>\n",
              "      <td>5.0</td>\n",
              "      <td>0.200</td>\n",
              "    </tr>\n",
              "    <tr>\n",
              "      <th>Genet</th>\n",
              "      <td>17.5</td>\n",
              "      <td>1.410</td>\n",
              "    </tr>\n",
              "    <tr>\n",
              "      <th>Giant armadillo</th>\n",
              "      <td>81.0</td>\n",
              "      <td>60.000</td>\n",
              "    </tr>\n",
              "  </tbody>\n",
              "</table>\n",
              "</div>"
            ],
            "text/plain": [
              "                            brain      body\n",
              "name                                       \n",
              "African elephant           5712.0  6654.000\n",
              "African giant pouched rat     6.6     1.000\n",
              "Arctic fox                   44.5     3.385\n",
              "Arctic ground squirrel        5.7     0.920\n",
              "Asian elephant             4603.0  2547.000\n",
              "Baboon                      179.5    10.550\n",
              "Big brown bat                 0.3     0.023\n",
              "Brazilian tapir             169.0   160.000\n",
              "Cat                          25.6     3.300\n",
              "Chimpanzee                  440.0    52.160\n",
              "Chinchilla                    6.4     0.425\n",
              "Cow                         423.0   465.000\n",
              "Desert hedgehog               2.4     0.550\n",
              "Donkey                      419.0   187.100\n",
              "E. American mole              1.2     0.075\n",
              "Echidna                      25.0     3.000\n",
              "European hedgehog             3.5     0.785\n",
              "Galago                        5.0     0.200\n",
              "Genet                        17.5     1.410\n",
              "Giant armadillo              81.0    60.000"
            ]
          },
          "metadata": {
            "tags": []
          },
          "execution_count": 15
        }
      ]
    },
    {
      "cell_type": "code",
      "metadata": {
        "colab": {
          "base_uri": "https://localhost:8080/",
          "height": 266
        },
        "id": "lsLqFVa56-Ag",
        "outputId": "6cdfbc09-fe98-40aa-f6c7-1c8439c52fd7"
      },
      "source": [
        "frame['Cat':'Donkey']"
      ],
      "execution_count": null,
      "outputs": [
        {
          "output_type": "execute_result",
          "data": {
            "text/html": [
              "<div>\n",
              "<style scoped>\n",
              "    .dataframe tbody tr th:only-of-type {\n",
              "        vertical-align: middle;\n",
              "    }\n",
              "\n",
              "    .dataframe tbody tr th {\n",
              "        vertical-align: top;\n",
              "    }\n",
              "\n",
              "    .dataframe thead th {\n",
              "        text-align: right;\n",
              "    }\n",
              "</style>\n",
              "<table border=\"1\" class=\"dataframe\">\n",
              "  <thead>\n",
              "    <tr style=\"text-align: right;\">\n",
              "      <th></th>\n",
              "      <th>brain</th>\n",
              "      <th>body</th>\n",
              "    </tr>\n",
              "    <tr>\n",
              "      <th>name</th>\n",
              "      <th></th>\n",
              "      <th></th>\n",
              "    </tr>\n",
              "  </thead>\n",
              "  <tbody>\n",
              "    <tr>\n",
              "      <th>Cat</th>\n",
              "      <td>25.6</td>\n",
              "      <td>3.300</td>\n",
              "    </tr>\n",
              "    <tr>\n",
              "      <th>Chimpanzee</th>\n",
              "      <td>440.0</td>\n",
              "      <td>52.160</td>\n",
              "    </tr>\n",
              "    <tr>\n",
              "      <th>Chinchilla</th>\n",
              "      <td>6.4</td>\n",
              "      <td>0.425</td>\n",
              "    </tr>\n",
              "    <tr>\n",
              "      <th>Cow</th>\n",
              "      <td>423.0</td>\n",
              "      <td>465.000</td>\n",
              "    </tr>\n",
              "    <tr>\n",
              "      <th>Desert hedgehog</th>\n",
              "      <td>2.4</td>\n",
              "      <td>0.550</td>\n",
              "    </tr>\n",
              "    <tr>\n",
              "      <th>Donkey</th>\n",
              "      <td>419.0</td>\n",
              "      <td>187.100</td>\n",
              "    </tr>\n",
              "  </tbody>\n",
              "</table>\n",
              "</div>"
            ],
            "text/plain": [
              "                 brain     body\n",
              "name                           \n",
              "Cat               25.6    3.300\n",
              "Chimpanzee       440.0   52.160\n",
              "Chinchilla         6.4    0.425\n",
              "Cow              423.0  465.000\n",
              "Desert hedgehog    2.4    0.550\n",
              "Donkey           419.0  187.100"
            ]
          },
          "metadata": {
            "tags": []
          },
          "execution_count": 16
        }
      ]
    },
    {
      "cell_type": "code",
      "metadata": {
        "colab": {
          "base_uri": "https://localhost:8080/",
          "height": 359
        },
        "id": "nOxh5f1Q7inM",
        "outputId": "569852e8-d8b2-4bba-deb8-f39746fdb140"
      },
      "source": [
        "frame[:'Cat']"
      ],
      "execution_count": null,
      "outputs": [
        {
          "output_type": "execute_result",
          "data": {
            "text/html": [
              "<div>\n",
              "<style scoped>\n",
              "    .dataframe tbody tr th:only-of-type {\n",
              "        vertical-align: middle;\n",
              "    }\n",
              "\n",
              "    .dataframe tbody tr th {\n",
              "        vertical-align: top;\n",
              "    }\n",
              "\n",
              "    .dataframe thead th {\n",
              "        text-align: right;\n",
              "    }\n",
              "</style>\n",
              "<table border=\"1\" class=\"dataframe\">\n",
              "  <thead>\n",
              "    <tr style=\"text-align: right;\">\n",
              "      <th></th>\n",
              "      <th>brain</th>\n",
              "      <th>body</th>\n",
              "    </tr>\n",
              "    <tr>\n",
              "      <th>name</th>\n",
              "      <th></th>\n",
              "      <th></th>\n",
              "    </tr>\n",
              "  </thead>\n",
              "  <tbody>\n",
              "    <tr>\n",
              "      <th>African elephant</th>\n",
              "      <td>5712.0</td>\n",
              "      <td>6654.000</td>\n",
              "    </tr>\n",
              "    <tr>\n",
              "      <th>African giant pouched rat</th>\n",
              "      <td>6.6</td>\n",
              "      <td>1.000</td>\n",
              "    </tr>\n",
              "    <tr>\n",
              "      <th>Arctic fox</th>\n",
              "      <td>44.5</td>\n",
              "      <td>3.385</td>\n",
              "    </tr>\n",
              "    <tr>\n",
              "      <th>Arctic ground squirrel</th>\n",
              "      <td>5.7</td>\n",
              "      <td>0.920</td>\n",
              "    </tr>\n",
              "    <tr>\n",
              "      <th>Asian elephant</th>\n",
              "      <td>4603.0</td>\n",
              "      <td>2547.000</td>\n",
              "    </tr>\n",
              "    <tr>\n",
              "      <th>Baboon</th>\n",
              "      <td>179.5</td>\n",
              "      <td>10.550</td>\n",
              "    </tr>\n",
              "    <tr>\n",
              "      <th>Big brown bat</th>\n",
              "      <td>0.3</td>\n",
              "      <td>0.023</td>\n",
              "    </tr>\n",
              "    <tr>\n",
              "      <th>Brazilian tapir</th>\n",
              "      <td>169.0</td>\n",
              "      <td>160.000</td>\n",
              "    </tr>\n",
              "    <tr>\n",
              "      <th>Cat</th>\n",
              "      <td>25.6</td>\n",
              "      <td>3.300</td>\n",
              "    </tr>\n",
              "  </tbody>\n",
              "</table>\n",
              "</div>"
            ],
            "text/plain": [
              "                            brain      body\n",
              "name                                       \n",
              "African elephant           5712.0  6654.000\n",
              "African giant pouched rat     6.6     1.000\n",
              "Arctic fox                   44.5     3.385\n",
              "Arctic ground squirrel        5.7     0.920\n",
              "Asian elephant             4603.0  2547.000\n",
              "Baboon                      179.5    10.550\n",
              "Big brown bat                 0.3     0.023\n",
              "Brazilian tapir             169.0   160.000\n",
              "Cat                          25.6     3.300"
            ]
          },
          "metadata": {
            "tags": []
          },
          "execution_count": 17
        }
      ]
    },
    {
      "cell_type": "code",
      "metadata": {
        "colab": {
          "base_uri": "https://localhost:8080/",
          "height": 328
        },
        "id": "T55Ze0aF7sRA",
        "outputId": "b8298487-85bb-4d65-d5d6-fe0e851e3bfc"
      },
      "source": [
        "frame['A':'C']"
      ],
      "execution_count": null,
      "outputs": [
        {
          "output_type": "execute_result",
          "data": {
            "text/html": [
              "<div>\n",
              "<style scoped>\n",
              "    .dataframe tbody tr th:only-of-type {\n",
              "        vertical-align: middle;\n",
              "    }\n",
              "\n",
              "    .dataframe tbody tr th {\n",
              "        vertical-align: top;\n",
              "    }\n",
              "\n",
              "    .dataframe thead th {\n",
              "        text-align: right;\n",
              "    }\n",
              "</style>\n",
              "<table border=\"1\" class=\"dataframe\">\n",
              "  <thead>\n",
              "    <tr style=\"text-align: right;\">\n",
              "      <th></th>\n",
              "      <th>brain</th>\n",
              "      <th>body</th>\n",
              "    </tr>\n",
              "    <tr>\n",
              "      <th>name</th>\n",
              "      <th></th>\n",
              "      <th></th>\n",
              "    </tr>\n",
              "  </thead>\n",
              "  <tbody>\n",
              "    <tr>\n",
              "      <th>African elephant</th>\n",
              "      <td>5712.0</td>\n",
              "      <td>6654.000</td>\n",
              "    </tr>\n",
              "    <tr>\n",
              "      <th>African giant pouched rat</th>\n",
              "      <td>6.6</td>\n",
              "      <td>1.000</td>\n",
              "    </tr>\n",
              "    <tr>\n",
              "      <th>Arctic fox</th>\n",
              "      <td>44.5</td>\n",
              "      <td>3.385</td>\n",
              "    </tr>\n",
              "    <tr>\n",
              "      <th>Arctic ground squirrel</th>\n",
              "      <td>5.7</td>\n",
              "      <td>0.920</td>\n",
              "    </tr>\n",
              "    <tr>\n",
              "      <th>Asian elephant</th>\n",
              "      <td>4603.0</td>\n",
              "      <td>2547.000</td>\n",
              "    </tr>\n",
              "    <tr>\n",
              "      <th>Baboon</th>\n",
              "      <td>179.5</td>\n",
              "      <td>10.550</td>\n",
              "    </tr>\n",
              "    <tr>\n",
              "      <th>Big brown bat</th>\n",
              "      <td>0.3</td>\n",
              "      <td>0.023</td>\n",
              "    </tr>\n",
              "    <tr>\n",
              "      <th>Brazilian tapir</th>\n",
              "      <td>169.0</td>\n",
              "      <td>160.000</td>\n",
              "    </tr>\n",
              "  </tbody>\n",
              "</table>\n",
              "</div>"
            ],
            "text/plain": [
              "                            brain      body\n",
              "name                                       \n",
              "African elephant           5712.0  6654.000\n",
              "African giant pouched rat     6.6     1.000\n",
              "Arctic fox                   44.5     3.385\n",
              "Arctic ground squirrel        5.7     0.920\n",
              "Asian elephant             4603.0  2547.000\n",
              "Baboon                      179.5    10.550\n",
              "Big brown bat                 0.3     0.023\n",
              "Brazilian tapir             169.0   160.000"
            ]
          },
          "metadata": {
            "tags": []
          },
          "execution_count": 18
        }
      ]
    }
  ]
}