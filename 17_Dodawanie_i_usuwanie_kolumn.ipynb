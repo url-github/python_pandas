{
  "nbformat": 4,
  "nbformat_minor": 0,
  "metadata": {
    "colab": {
      "name": "17.Dodawanie i usuwanie kolumn.ipynb",
      "provenance": [],
      "authorship_tag": "ABX9TyMUtkQl7gl/q5Yn7gIvcOvz"
    },
    "kernelspec": {
      "name": "python3",
      "display_name": "Python 3"
    },
    "language_info": {
      "name": "python"
    }
  },
  "cells": [
    {
      "cell_type": "code",
      "metadata": {
        "id": "3f1hSEzsiJyI"
      },
      "source": [
        "import pandas as pd\n",
        "import numpy as np\n",
        "import matplotlib.pyplot as plt\n",
        "import math as math"
      ],
      "execution_count": null,
      "outputs": []
    },
    {
      "cell_type": "code",
      "metadata": {
        "colab": {
          "base_uri": "https://localhost:8080/",
          "height": 204
        },
        "id": "K-6deTAaiYWG",
        "outputId": "57c6e69b-cc9a-41e5-a483-6c879ee50c35"
      },
      "source": [
        "frame = pd.read_csv('/content/Mcdonalds.csv', usecols=['Item', 'Category', 'Calories', 'TotalFat', 'Sugars', 'Protein', 'Cholesterol'])\n",
        "frame.head()"
      ],
      "execution_count": null,
      "outputs": [
        {
          "output_type": "execute_result",
          "data": {
            "text/html": [
              "<div>\n",
              "<style scoped>\n",
              "    .dataframe tbody tr th:only-of-type {\n",
              "        vertical-align: middle;\n",
              "    }\n",
              "\n",
              "    .dataframe tbody tr th {\n",
              "        vertical-align: top;\n",
              "    }\n",
              "\n",
              "    .dataframe thead th {\n",
              "        text-align: right;\n",
              "    }\n",
              "</style>\n",
              "<table border=\"1\" class=\"dataframe\">\n",
              "  <thead>\n",
              "    <tr style=\"text-align: right;\">\n",
              "      <th></th>\n",
              "      <th>Category</th>\n",
              "      <th>Item</th>\n",
              "      <th>Calories</th>\n",
              "      <th>TotalFat</th>\n",
              "      <th>Cholesterol</th>\n",
              "      <th>Sugars</th>\n",
              "      <th>Protein</th>\n",
              "    </tr>\n",
              "  </thead>\n",
              "  <tbody>\n",
              "    <tr>\n",
              "      <th>0</th>\n",
              "      <td>Breakfast</td>\n",
              "      <td>Egg McMuffin</td>\n",
              "      <td>300</td>\n",
              "      <td>13.0</td>\n",
              "      <td>260</td>\n",
              "      <td>3</td>\n",
              "      <td>17</td>\n",
              "    </tr>\n",
              "    <tr>\n",
              "      <th>1</th>\n",
              "      <td>Breakfast</td>\n",
              "      <td>Egg White Delight</td>\n",
              "      <td>250</td>\n",
              "      <td>8.0</td>\n",
              "      <td>25</td>\n",
              "      <td>3</td>\n",
              "      <td>18</td>\n",
              "    </tr>\n",
              "    <tr>\n",
              "      <th>2</th>\n",
              "      <td>Breakfast</td>\n",
              "      <td>Sausage McMuffin</td>\n",
              "      <td>370</td>\n",
              "      <td>23.0</td>\n",
              "      <td>45</td>\n",
              "      <td>2</td>\n",
              "      <td>14</td>\n",
              "    </tr>\n",
              "    <tr>\n",
              "      <th>3</th>\n",
              "      <td>Breakfast</td>\n",
              "      <td>Sausage McMuffin with Egg</td>\n",
              "      <td>450</td>\n",
              "      <td>28.0</td>\n",
              "      <td>285</td>\n",
              "      <td>2</td>\n",
              "      <td>21</td>\n",
              "    </tr>\n",
              "    <tr>\n",
              "      <th>4</th>\n",
              "      <td>Breakfast</td>\n",
              "      <td>Sausage McMuffin with Egg Whites</td>\n",
              "      <td>400</td>\n",
              "      <td>23.0</td>\n",
              "      <td>50</td>\n",
              "      <td>2</td>\n",
              "      <td>21</td>\n",
              "    </tr>\n",
              "  </tbody>\n",
              "</table>\n",
              "</div>"
            ],
            "text/plain": [
              "    Category                              Item  ...  Sugars  Protein\n",
              "0  Breakfast                      Egg McMuffin  ...       3       17\n",
              "1  Breakfast                 Egg White Delight  ...       3       18\n",
              "2  Breakfast                  Sausage McMuffin  ...       2       14\n",
              "3  Breakfast         Sausage McMuffin with Egg  ...       2       21\n",
              "4  Breakfast  Sausage McMuffin with Egg Whites  ...       2       21\n",
              "\n",
              "[5 rows x 7 columns]"
            ]
          },
          "metadata": {
            "tags": []
          },
          "execution_count": 19
        }
      ]
    },
    {
      "cell_type": "markdown",
      "metadata": {
        "id": "QKtb0sMxnkRl"
      },
      "source": [
        "Odwołanie do pojedyńczej kolumny"
      ]
    },
    {
      "cell_type": "code",
      "metadata": {
        "colab": {
          "base_uri": "https://localhost:8080/"
        },
        "id": "JP3mfpqannxg",
        "outputId": "393a0d6d-4969-4242-fd9f-f7db0559e6fc"
      },
      "source": [
        "frame.TotalFat.head()"
      ],
      "execution_count": null,
      "outputs": [
        {
          "output_type": "execute_result",
          "data": {
            "text/plain": [
              "0    13.0\n",
              "1     8.0\n",
              "2    23.0\n",
              "3    28.0\n",
              "4    23.0\n",
              "Name: TotalFat, dtype: float64"
            ]
          },
          "metadata": {
            "tags": []
          },
          "execution_count": 20
        }
      ]
    },
    {
      "cell_type": "code",
      "metadata": {
        "colab": {
          "base_uri": "https://localhost:8080/"
        },
        "id": "MI8eZ-YAoKMJ",
        "outputId": "3962baa3-b6ba-4161-ae87-151e640ce65e"
      },
      "source": [
        "frame['TotalFat'].head()"
      ],
      "execution_count": null,
      "outputs": [
        {
          "output_type": "execute_result",
          "data": {
            "text/plain": [
              "0    13.0\n",
              "1     8.0\n",
              "2    23.0\n",
              "3    28.0\n",
              "4    23.0\n",
              "Name: TotalFat, dtype: float64"
            ]
          },
          "metadata": {
            "tags": []
          },
          "execution_count": 21
        }
      ]
    },
    {
      "cell_type": "markdown",
      "metadata": {
        "id": "Oor7alDnpdhS"
      },
      "source": [
        "Dodanie nowej kolumny"
      ]
    },
    {
      "cell_type": "code",
      "metadata": {
        "id": "QhpnfW9ho2eM",
        "colab": {
          "base_uri": "https://localhost:8080/",
          "height": 204
        },
        "outputId": "94411631-41fa-4e91-d93f-643dbe263a6f"
      },
      "source": [
        "frame['TotalFat0'] = 0\n",
        "frame.head()"
      ],
      "execution_count": null,
      "outputs": [
        {
          "output_type": "execute_result",
          "data": {
            "text/html": [
              "<div>\n",
              "<style scoped>\n",
              "    .dataframe tbody tr th:only-of-type {\n",
              "        vertical-align: middle;\n",
              "    }\n",
              "\n",
              "    .dataframe tbody tr th {\n",
              "        vertical-align: top;\n",
              "    }\n",
              "\n",
              "    .dataframe thead th {\n",
              "        text-align: right;\n",
              "    }\n",
              "</style>\n",
              "<table border=\"1\" class=\"dataframe\">\n",
              "  <thead>\n",
              "    <tr style=\"text-align: right;\">\n",
              "      <th></th>\n",
              "      <th>Category</th>\n",
              "      <th>Item</th>\n",
              "      <th>Calories</th>\n",
              "      <th>TotalFat</th>\n",
              "      <th>Cholesterol</th>\n",
              "      <th>Sugars</th>\n",
              "      <th>Protein</th>\n",
              "      <th>TotalFat0</th>\n",
              "    </tr>\n",
              "  </thead>\n",
              "  <tbody>\n",
              "    <tr>\n",
              "      <th>0</th>\n",
              "      <td>Breakfast</td>\n",
              "      <td>Egg McMuffin</td>\n",
              "      <td>300</td>\n",
              "      <td>13.0</td>\n",
              "      <td>260</td>\n",
              "      <td>3</td>\n",
              "      <td>17</td>\n",
              "      <td>0</td>\n",
              "    </tr>\n",
              "    <tr>\n",
              "      <th>1</th>\n",
              "      <td>Breakfast</td>\n",
              "      <td>Egg White Delight</td>\n",
              "      <td>250</td>\n",
              "      <td>8.0</td>\n",
              "      <td>25</td>\n",
              "      <td>3</td>\n",
              "      <td>18</td>\n",
              "      <td>0</td>\n",
              "    </tr>\n",
              "    <tr>\n",
              "      <th>2</th>\n",
              "      <td>Breakfast</td>\n",
              "      <td>Sausage McMuffin</td>\n",
              "      <td>370</td>\n",
              "      <td>23.0</td>\n",
              "      <td>45</td>\n",
              "      <td>2</td>\n",
              "      <td>14</td>\n",
              "      <td>0</td>\n",
              "    </tr>\n",
              "    <tr>\n",
              "      <th>3</th>\n",
              "      <td>Breakfast</td>\n",
              "      <td>Sausage McMuffin with Egg</td>\n",
              "      <td>450</td>\n",
              "      <td>28.0</td>\n",
              "      <td>285</td>\n",
              "      <td>2</td>\n",
              "      <td>21</td>\n",
              "      <td>0</td>\n",
              "    </tr>\n",
              "    <tr>\n",
              "      <th>4</th>\n",
              "      <td>Breakfast</td>\n",
              "      <td>Sausage McMuffin with Egg Whites</td>\n",
              "      <td>400</td>\n",
              "      <td>23.0</td>\n",
              "      <td>50</td>\n",
              "      <td>2</td>\n",
              "      <td>21</td>\n",
              "      <td>0</td>\n",
              "    </tr>\n",
              "  </tbody>\n",
              "</table>\n",
              "</div>"
            ],
            "text/plain": [
              "    Category                              Item  ...  Protein  TotalFat0\n",
              "0  Breakfast                      Egg McMuffin  ...       17          0\n",
              "1  Breakfast                 Egg White Delight  ...       18          0\n",
              "2  Breakfast                  Sausage McMuffin  ...       14          0\n",
              "3  Breakfast         Sausage McMuffin with Egg  ...       21          0\n",
              "4  Breakfast  Sausage McMuffin with Egg Whites  ...       21          0\n",
              "\n",
              "[5 rows x 8 columns]"
            ]
          },
          "metadata": {
            "tags": []
          },
          "execution_count": 22
        }
      ]
    },
    {
      "cell_type": "code",
      "metadata": {
        "colab": {
          "base_uri": "https://localhost:8080/",
          "height": 204
        },
        "id": "VnTz_LHXpmZz",
        "outputId": "02bf8726-024c-49bf-a759-e3262fc46fd5"
      },
      "source": [
        "SugarAndFat = frame.Sugars + frame.TotalFat\n",
        "frame['SugarAndFat'] = SugarAndFat\n",
        "frame.head()"
      ],
      "execution_count": null,
      "outputs": [
        {
          "output_type": "execute_result",
          "data": {
            "text/html": [
              "<div>\n",
              "<style scoped>\n",
              "    .dataframe tbody tr th:only-of-type {\n",
              "        vertical-align: middle;\n",
              "    }\n",
              "\n",
              "    .dataframe tbody tr th {\n",
              "        vertical-align: top;\n",
              "    }\n",
              "\n",
              "    .dataframe thead th {\n",
              "        text-align: right;\n",
              "    }\n",
              "</style>\n",
              "<table border=\"1\" class=\"dataframe\">\n",
              "  <thead>\n",
              "    <tr style=\"text-align: right;\">\n",
              "      <th></th>\n",
              "      <th>Category</th>\n",
              "      <th>Item</th>\n",
              "      <th>Calories</th>\n",
              "      <th>TotalFat</th>\n",
              "      <th>Cholesterol</th>\n",
              "      <th>Sugars</th>\n",
              "      <th>Protein</th>\n",
              "      <th>TotalFat0</th>\n",
              "      <th>SugarAndFat</th>\n",
              "    </tr>\n",
              "  </thead>\n",
              "  <tbody>\n",
              "    <tr>\n",
              "      <th>0</th>\n",
              "      <td>Breakfast</td>\n",
              "      <td>Egg McMuffin</td>\n",
              "      <td>300</td>\n",
              "      <td>13.0</td>\n",
              "      <td>260</td>\n",
              "      <td>3</td>\n",
              "      <td>17</td>\n",
              "      <td>0</td>\n",
              "      <td>16.0</td>\n",
              "    </tr>\n",
              "    <tr>\n",
              "      <th>1</th>\n",
              "      <td>Breakfast</td>\n",
              "      <td>Egg White Delight</td>\n",
              "      <td>250</td>\n",
              "      <td>8.0</td>\n",
              "      <td>25</td>\n",
              "      <td>3</td>\n",
              "      <td>18</td>\n",
              "      <td>0</td>\n",
              "      <td>11.0</td>\n",
              "    </tr>\n",
              "    <tr>\n",
              "      <th>2</th>\n",
              "      <td>Breakfast</td>\n",
              "      <td>Sausage McMuffin</td>\n",
              "      <td>370</td>\n",
              "      <td>23.0</td>\n",
              "      <td>45</td>\n",
              "      <td>2</td>\n",
              "      <td>14</td>\n",
              "      <td>0</td>\n",
              "      <td>25.0</td>\n",
              "    </tr>\n",
              "    <tr>\n",
              "      <th>3</th>\n",
              "      <td>Breakfast</td>\n",
              "      <td>Sausage McMuffin with Egg</td>\n",
              "      <td>450</td>\n",
              "      <td>28.0</td>\n",
              "      <td>285</td>\n",
              "      <td>2</td>\n",
              "      <td>21</td>\n",
              "      <td>0</td>\n",
              "      <td>30.0</td>\n",
              "    </tr>\n",
              "    <tr>\n",
              "      <th>4</th>\n",
              "      <td>Breakfast</td>\n",
              "      <td>Sausage McMuffin with Egg Whites</td>\n",
              "      <td>400</td>\n",
              "      <td>23.0</td>\n",
              "      <td>50</td>\n",
              "      <td>2</td>\n",
              "      <td>21</td>\n",
              "      <td>0</td>\n",
              "      <td>25.0</td>\n",
              "    </tr>\n",
              "  </tbody>\n",
              "</table>\n",
              "</div>"
            ],
            "text/plain": [
              "    Category                              Item  ...  TotalFat0  SugarAndFat\n",
              "0  Breakfast                      Egg McMuffin  ...          0         16.0\n",
              "1  Breakfast                 Egg White Delight  ...          0         11.0\n",
              "2  Breakfast                  Sausage McMuffin  ...          0         25.0\n",
              "3  Breakfast         Sausage McMuffin with Egg  ...          0         30.0\n",
              "4  Breakfast  Sausage McMuffin with Egg Whites  ...          0         25.0\n",
              "\n",
              "[5 rows x 9 columns]"
            ]
          },
          "metadata": {
            "tags": []
          },
          "execution_count": 23
        }
      ]
    },
    {
      "cell_type": "code",
      "metadata": {
        "colab": {
          "base_uri": "https://localhost:8080/"
        },
        "id": "AwvL7Va2qcpr",
        "outputId": "db6b38ee-e8b3-4b6f-ac49-da264a77b4a6"
      },
      "source": [
        "SugarAndFat.head()"
      ],
      "execution_count": null,
      "outputs": [
        {
          "output_type": "execute_result",
          "data": {
            "text/plain": [
              "0    16.0\n",
              "1    11.0\n",
              "2    25.0\n",
              "3    30.0\n",
              "4    25.0\n",
              "dtype: float64"
            ]
          },
          "metadata": {
            "tags": []
          },
          "execution_count": 24
        }
      ]
    },
    {
      "cell_type": "markdown",
      "metadata": {
        "id": "Y211cGaUq0EH"
      },
      "source": [
        "Dodanie kolumny w jednej instrukcji"
      ]
    },
    {
      "cell_type": "code",
      "metadata": {
        "colab": {
          "base_uri": "https://localhost:8080/",
          "height": 204
        },
        "id": "nYwfpEyMqm8C",
        "outputId": "89facdb4-8a02-4901-f2bc-750aa25f7306"
      },
      "source": [
        "frame['SugarAndProtein'] = frame.Sugars + frame.Protein\n",
        "frame.head()"
      ],
      "execution_count": null,
      "outputs": [
        {
          "output_type": "execute_result",
          "data": {
            "text/html": [
              "<div>\n",
              "<style scoped>\n",
              "    .dataframe tbody tr th:only-of-type {\n",
              "        vertical-align: middle;\n",
              "    }\n",
              "\n",
              "    .dataframe tbody tr th {\n",
              "        vertical-align: top;\n",
              "    }\n",
              "\n",
              "    .dataframe thead th {\n",
              "        text-align: right;\n",
              "    }\n",
              "</style>\n",
              "<table border=\"1\" class=\"dataframe\">\n",
              "  <thead>\n",
              "    <tr style=\"text-align: right;\">\n",
              "      <th></th>\n",
              "      <th>Category</th>\n",
              "      <th>Item</th>\n",
              "      <th>Calories</th>\n",
              "      <th>TotalFat</th>\n",
              "      <th>Cholesterol</th>\n",
              "      <th>Sugars</th>\n",
              "      <th>Protein</th>\n",
              "      <th>TotalFat0</th>\n",
              "      <th>SugarAndFat</th>\n",
              "      <th>SugarAndProtein</th>\n",
              "    </tr>\n",
              "  </thead>\n",
              "  <tbody>\n",
              "    <tr>\n",
              "      <th>0</th>\n",
              "      <td>Breakfast</td>\n",
              "      <td>Egg McMuffin</td>\n",
              "      <td>300</td>\n",
              "      <td>13.0</td>\n",
              "      <td>260</td>\n",
              "      <td>3</td>\n",
              "      <td>17</td>\n",
              "      <td>0</td>\n",
              "      <td>16.0</td>\n",
              "      <td>20</td>\n",
              "    </tr>\n",
              "    <tr>\n",
              "      <th>1</th>\n",
              "      <td>Breakfast</td>\n",
              "      <td>Egg White Delight</td>\n",
              "      <td>250</td>\n",
              "      <td>8.0</td>\n",
              "      <td>25</td>\n",
              "      <td>3</td>\n",
              "      <td>18</td>\n",
              "      <td>0</td>\n",
              "      <td>11.0</td>\n",
              "      <td>21</td>\n",
              "    </tr>\n",
              "    <tr>\n",
              "      <th>2</th>\n",
              "      <td>Breakfast</td>\n",
              "      <td>Sausage McMuffin</td>\n",
              "      <td>370</td>\n",
              "      <td>23.0</td>\n",
              "      <td>45</td>\n",
              "      <td>2</td>\n",
              "      <td>14</td>\n",
              "      <td>0</td>\n",
              "      <td>25.0</td>\n",
              "      <td>16</td>\n",
              "    </tr>\n",
              "    <tr>\n",
              "      <th>3</th>\n",
              "      <td>Breakfast</td>\n",
              "      <td>Sausage McMuffin with Egg</td>\n",
              "      <td>450</td>\n",
              "      <td>28.0</td>\n",
              "      <td>285</td>\n",
              "      <td>2</td>\n",
              "      <td>21</td>\n",
              "      <td>0</td>\n",
              "      <td>30.0</td>\n",
              "      <td>23</td>\n",
              "    </tr>\n",
              "    <tr>\n",
              "      <th>4</th>\n",
              "      <td>Breakfast</td>\n",
              "      <td>Sausage McMuffin with Egg Whites</td>\n",
              "      <td>400</td>\n",
              "      <td>23.0</td>\n",
              "      <td>50</td>\n",
              "      <td>2</td>\n",
              "      <td>21</td>\n",
              "      <td>0</td>\n",
              "      <td>25.0</td>\n",
              "      <td>23</td>\n",
              "    </tr>\n",
              "  </tbody>\n",
              "</table>\n",
              "</div>"
            ],
            "text/plain": [
              "    Category                              Item  ...  SugarAndFat  SugarAndProtein\n",
              "0  Breakfast                      Egg McMuffin  ...         16.0               20\n",
              "1  Breakfast                 Egg White Delight  ...         11.0               21\n",
              "2  Breakfast                  Sausage McMuffin  ...         25.0               16\n",
              "3  Breakfast         Sausage McMuffin with Egg  ...         30.0               23\n",
              "4  Breakfast  Sausage McMuffin with Egg Whites  ...         25.0               23\n",
              "\n",
              "[5 rows x 10 columns]"
            ]
          },
          "metadata": {
            "tags": []
          },
          "execution_count": 25
        }
      ]
    },
    {
      "cell_type": "markdown",
      "metadata": {
        "id": "edVnrmcFrZpr"
      },
      "source": [
        "Nowe kolumny dochodzą na sam koniec, a co jeśli chcę umieścić kolumnę gdzieś w środku"
      ]
    },
    {
      "cell_type": "code",
      "metadata": {
        "colab": {
          "base_uri": "https://localhost:8080/",
          "height": 221
        },
        "id": "AILDs7jZrG8X",
        "outputId": "3456a222-c905-45db-a69a-a40d23b02664"
      },
      "source": [
        "frame.insert(loc=2, column='SPF', value=frame.Sugars+frame.Protein+frame.TotalFat)\n",
        "frame.head()"
      ],
      "execution_count": null,
      "outputs": [
        {
          "output_type": "execute_result",
          "data": {
            "text/html": [
              "<div>\n",
              "<style scoped>\n",
              "    .dataframe tbody tr th:only-of-type {\n",
              "        vertical-align: middle;\n",
              "    }\n",
              "\n",
              "    .dataframe tbody tr th {\n",
              "        vertical-align: top;\n",
              "    }\n",
              "\n",
              "    .dataframe thead th {\n",
              "        text-align: right;\n",
              "    }\n",
              "</style>\n",
              "<table border=\"1\" class=\"dataframe\">\n",
              "  <thead>\n",
              "    <tr style=\"text-align: right;\">\n",
              "      <th></th>\n",
              "      <th>Category</th>\n",
              "      <th>Item</th>\n",
              "      <th>SPF</th>\n",
              "      <th>Calories</th>\n",
              "      <th>TotalFat</th>\n",
              "      <th>Cholesterol</th>\n",
              "      <th>Sugars</th>\n",
              "      <th>Protein</th>\n",
              "      <th>TotalFat0</th>\n",
              "      <th>SugarAndFat</th>\n",
              "      <th>SugarAndProtein</th>\n",
              "    </tr>\n",
              "  </thead>\n",
              "  <tbody>\n",
              "    <tr>\n",
              "      <th>0</th>\n",
              "      <td>Breakfast</td>\n",
              "      <td>Egg McMuffin</td>\n",
              "      <td>33.0</td>\n",
              "      <td>300</td>\n",
              "      <td>13.0</td>\n",
              "      <td>260</td>\n",
              "      <td>3</td>\n",
              "      <td>17</td>\n",
              "      <td>0</td>\n",
              "      <td>16.0</td>\n",
              "      <td>20</td>\n",
              "    </tr>\n",
              "    <tr>\n",
              "      <th>1</th>\n",
              "      <td>Breakfast</td>\n",
              "      <td>Egg White Delight</td>\n",
              "      <td>29.0</td>\n",
              "      <td>250</td>\n",
              "      <td>8.0</td>\n",
              "      <td>25</td>\n",
              "      <td>3</td>\n",
              "      <td>18</td>\n",
              "      <td>0</td>\n",
              "      <td>11.0</td>\n",
              "      <td>21</td>\n",
              "    </tr>\n",
              "    <tr>\n",
              "      <th>2</th>\n",
              "      <td>Breakfast</td>\n",
              "      <td>Sausage McMuffin</td>\n",
              "      <td>39.0</td>\n",
              "      <td>370</td>\n",
              "      <td>23.0</td>\n",
              "      <td>45</td>\n",
              "      <td>2</td>\n",
              "      <td>14</td>\n",
              "      <td>0</td>\n",
              "      <td>25.0</td>\n",
              "      <td>16</td>\n",
              "    </tr>\n",
              "    <tr>\n",
              "      <th>3</th>\n",
              "      <td>Breakfast</td>\n",
              "      <td>Sausage McMuffin with Egg</td>\n",
              "      <td>51.0</td>\n",
              "      <td>450</td>\n",
              "      <td>28.0</td>\n",
              "      <td>285</td>\n",
              "      <td>2</td>\n",
              "      <td>21</td>\n",
              "      <td>0</td>\n",
              "      <td>30.0</td>\n",
              "      <td>23</td>\n",
              "    </tr>\n",
              "    <tr>\n",
              "      <th>4</th>\n",
              "      <td>Breakfast</td>\n",
              "      <td>Sausage McMuffin with Egg Whites</td>\n",
              "      <td>46.0</td>\n",
              "      <td>400</td>\n",
              "      <td>23.0</td>\n",
              "      <td>50</td>\n",
              "      <td>2</td>\n",
              "      <td>21</td>\n",
              "      <td>0</td>\n",
              "      <td>25.0</td>\n",
              "      <td>23</td>\n",
              "    </tr>\n",
              "  </tbody>\n",
              "</table>\n",
              "</div>"
            ],
            "text/plain": [
              "    Category                              Item  ...  SugarAndFat  SugarAndProtein\n",
              "0  Breakfast                      Egg McMuffin  ...         16.0               20\n",
              "1  Breakfast                 Egg White Delight  ...         11.0               21\n",
              "2  Breakfast                  Sausage McMuffin  ...         25.0               16\n",
              "3  Breakfast         Sausage McMuffin with Egg  ...         30.0               23\n",
              "4  Breakfast  Sausage McMuffin with Egg Whites  ...         25.0               23\n",
              "\n",
              "[5 rows x 11 columns]"
            ]
          },
          "metadata": {
            "tags": []
          },
          "execution_count": 26
        }
      ]
    },
    {
      "cell_type": "markdown",
      "metadata": {
        "id": "6vqY4oXOtboJ"
      },
      "source": [
        "Usuwanie kolumn"
      ]
    },
    {
      "cell_type": "code",
      "metadata": {
        "colab": {
          "base_uri": "https://localhost:8080/",
          "height": 204
        },
        "id": "KpfN1MssstAs",
        "outputId": "3ac48c90-ba1d-47e9-ef11-39706e42d69d"
      },
      "source": [
        "del frame['SugarAndProtein']\n",
        "frame.head()"
      ],
      "execution_count": null,
      "outputs": [
        {
          "output_type": "execute_result",
          "data": {
            "text/html": [
              "<div>\n",
              "<style scoped>\n",
              "    .dataframe tbody tr th:only-of-type {\n",
              "        vertical-align: middle;\n",
              "    }\n",
              "\n",
              "    .dataframe tbody tr th {\n",
              "        vertical-align: top;\n",
              "    }\n",
              "\n",
              "    .dataframe thead th {\n",
              "        text-align: right;\n",
              "    }\n",
              "</style>\n",
              "<table border=\"1\" class=\"dataframe\">\n",
              "  <thead>\n",
              "    <tr style=\"text-align: right;\">\n",
              "      <th></th>\n",
              "      <th>Category</th>\n",
              "      <th>Item</th>\n",
              "      <th>SPF</th>\n",
              "      <th>Calories</th>\n",
              "      <th>TotalFat</th>\n",
              "      <th>Cholesterol</th>\n",
              "      <th>Sugars</th>\n",
              "      <th>Protein</th>\n",
              "      <th>TotalFat0</th>\n",
              "      <th>SugarAndFat</th>\n",
              "    </tr>\n",
              "  </thead>\n",
              "  <tbody>\n",
              "    <tr>\n",
              "      <th>0</th>\n",
              "      <td>Breakfast</td>\n",
              "      <td>Egg McMuffin</td>\n",
              "      <td>33.0</td>\n",
              "      <td>300</td>\n",
              "      <td>13.0</td>\n",
              "      <td>260</td>\n",
              "      <td>3</td>\n",
              "      <td>17</td>\n",
              "      <td>0</td>\n",
              "      <td>16.0</td>\n",
              "    </tr>\n",
              "    <tr>\n",
              "      <th>1</th>\n",
              "      <td>Breakfast</td>\n",
              "      <td>Egg White Delight</td>\n",
              "      <td>29.0</td>\n",
              "      <td>250</td>\n",
              "      <td>8.0</td>\n",
              "      <td>25</td>\n",
              "      <td>3</td>\n",
              "      <td>18</td>\n",
              "      <td>0</td>\n",
              "      <td>11.0</td>\n",
              "    </tr>\n",
              "    <tr>\n",
              "      <th>2</th>\n",
              "      <td>Breakfast</td>\n",
              "      <td>Sausage McMuffin</td>\n",
              "      <td>39.0</td>\n",
              "      <td>370</td>\n",
              "      <td>23.0</td>\n",
              "      <td>45</td>\n",
              "      <td>2</td>\n",
              "      <td>14</td>\n",
              "      <td>0</td>\n",
              "      <td>25.0</td>\n",
              "    </tr>\n",
              "    <tr>\n",
              "      <th>3</th>\n",
              "      <td>Breakfast</td>\n",
              "      <td>Sausage McMuffin with Egg</td>\n",
              "      <td>51.0</td>\n",
              "      <td>450</td>\n",
              "      <td>28.0</td>\n",
              "      <td>285</td>\n",
              "      <td>2</td>\n",
              "      <td>21</td>\n",
              "      <td>0</td>\n",
              "      <td>30.0</td>\n",
              "    </tr>\n",
              "    <tr>\n",
              "      <th>4</th>\n",
              "      <td>Breakfast</td>\n",
              "      <td>Sausage McMuffin with Egg Whites</td>\n",
              "      <td>46.0</td>\n",
              "      <td>400</td>\n",
              "      <td>23.0</td>\n",
              "      <td>50</td>\n",
              "      <td>2</td>\n",
              "      <td>21</td>\n",
              "      <td>0</td>\n",
              "      <td>25.0</td>\n",
              "    </tr>\n",
              "  </tbody>\n",
              "</table>\n",
              "</div>"
            ],
            "text/plain": [
              "    Category                              Item  ...  TotalFat0  SugarAndFat\n",
              "0  Breakfast                      Egg McMuffin  ...          0         16.0\n",
              "1  Breakfast                 Egg White Delight  ...          0         11.0\n",
              "2  Breakfast                  Sausage McMuffin  ...          0         25.0\n",
              "3  Breakfast         Sausage McMuffin with Egg  ...          0         30.0\n",
              "4  Breakfast  Sausage McMuffin with Egg Whites  ...          0         25.0\n",
              "\n",
              "[5 rows x 10 columns]"
            ]
          },
          "metadata": {
            "tags": []
          },
          "execution_count": 27
        }
      ]
    }
  ]
}