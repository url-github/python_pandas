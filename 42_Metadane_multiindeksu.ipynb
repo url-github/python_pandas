{
  "nbformat": 4,
  "nbformat_minor": 0,
  "metadata": {
    "colab": {
      "name": "42.Metadane multiindeksu.ipynb",
      "provenance": [],
      "authorship_tag": "ABX9TyPMqCRmj4i8gLNzUz7ogztI"
    },
    "kernelspec": {
      "name": "python3",
      "display_name": "Python 3"
    },
    "language_info": {
      "name": "python"
    }
  },
  "cells": [
    {
      "cell_type": "code",
      "metadata": {
        "id": "O3_LMN6Drqvp"
      },
      "source": [
        "import pandas as pd\n",
        "import numpy as np"
      ],
      "execution_count": null,
      "outputs": []
    },
    {
      "cell_type": "code",
      "metadata": {
        "colab": {
          "base_uri": "https://localhost:8080/",
          "height": 204
        },
        "id": "cfhu1hlYr5mj",
        "outputId": "f82a90d0-d387-44cd-9460-502a68328ad8"
      },
      "source": [
        "incidents = pd.read_csv('/content/Canadian Railway Crossing Incidents.csv')\n",
        "incidents.head()"
      ],
      "execution_count": null,
      "outputs": [
        {
          "output_type": "execute_result",
          "data": {
            "text/html": [
              "<div>\n",
              "<style scoped>\n",
              "    .dataframe tbody tr th:only-of-type {\n",
              "        vertical-align: middle;\n",
              "    }\n",
              "\n",
              "    .dataframe tbody tr th {\n",
              "        vertical-align: top;\n",
              "    }\n",
              "\n",
              "    .dataframe thead th {\n",
              "        text-align: right;\n",
              "    }\n",
              "</style>\n",
              "<table border=\"1\" class=\"dataframe\">\n",
              "  <thead>\n",
              "    <tr style=\"text-align: right;\">\n",
              "      <th></th>\n",
              "      <th>Region</th>\n",
              "      <th>EventType</th>\n",
              "      <th>Public automated</th>\n",
              "      <th>Public passive</th>\n",
              "      <th>Private</th>\n",
              "      <th>Farm</th>\n",
              "    </tr>\n",
              "  </thead>\n",
              "  <tbody>\n",
              "    <tr>\n",
              "      <th>0</th>\n",
              "      <td>Newfoundland</td>\n",
              "      <td>Accidents</td>\n",
              "      <td>0</td>\n",
              "      <td>0</td>\n",
              "      <td>0</td>\n",
              "      <td>0</td>\n",
              "    </tr>\n",
              "    <tr>\n",
              "      <th>1</th>\n",
              "      <td>Newfoundland</td>\n",
              "      <td>Fatalities</td>\n",
              "      <td>0</td>\n",
              "      <td>0</td>\n",
              "      <td>0</td>\n",
              "      <td>0</td>\n",
              "    </tr>\n",
              "    <tr>\n",
              "      <th>2</th>\n",
              "      <td>Newfoundland</td>\n",
              "      <td>Serious injuries</td>\n",
              "      <td>0</td>\n",
              "      <td>0</td>\n",
              "      <td>0</td>\n",
              "      <td>0</td>\n",
              "    </tr>\n",
              "    <tr>\n",
              "      <th>3</th>\n",
              "      <td>Nova Scotia</td>\n",
              "      <td>Accidents</td>\n",
              "      <td>1</td>\n",
              "      <td>0</td>\n",
              "      <td>0</td>\n",
              "      <td>0</td>\n",
              "    </tr>\n",
              "    <tr>\n",
              "      <th>4</th>\n",
              "      <td>Nova Scotia</td>\n",
              "      <td>Fatalities</td>\n",
              "      <td>0</td>\n",
              "      <td>0</td>\n",
              "      <td>0</td>\n",
              "      <td>0</td>\n",
              "    </tr>\n",
              "  </tbody>\n",
              "</table>\n",
              "</div>"
            ],
            "text/plain": [
              "         Region         EventType  ...  Private  Farm\n",
              "0  Newfoundland         Accidents  ...        0     0\n",
              "1  Newfoundland        Fatalities  ...        0     0\n",
              "2  Newfoundland  Serious injuries  ...        0     0\n",
              "3   Nova Scotia         Accidents  ...        0     0\n",
              "4   Nova Scotia        Fatalities  ...        0     0\n",
              "\n",
              "[5 rows x 6 columns]"
            ]
          },
          "metadata": {
            "tags": []
          },
          "execution_count": 11
        }
      ]
    },
    {
      "cell_type": "code",
      "metadata": {
        "colab": {
          "base_uri": "https://localhost:8080/",
          "height": 235
        },
        "id": "MY3kSpATKW9j",
        "outputId": "fffe33f3-695b-4103-c72b-e72a7c6650d8"
      },
      "source": [
        "incidents.set_index('Region',inplace=True)\n",
        "incidents.head()"
      ],
      "execution_count": null,
      "outputs": [
        {
          "output_type": "execute_result",
          "data": {
            "text/html": [
              "<div>\n",
              "<style scoped>\n",
              "    .dataframe tbody tr th:only-of-type {\n",
              "        vertical-align: middle;\n",
              "    }\n",
              "\n",
              "    .dataframe tbody tr th {\n",
              "        vertical-align: top;\n",
              "    }\n",
              "\n",
              "    .dataframe thead th {\n",
              "        text-align: right;\n",
              "    }\n",
              "</style>\n",
              "<table border=\"1\" class=\"dataframe\">\n",
              "  <thead>\n",
              "    <tr style=\"text-align: right;\">\n",
              "      <th></th>\n",
              "      <th>EventType</th>\n",
              "      <th>Public automated</th>\n",
              "      <th>Public passive</th>\n",
              "      <th>Private</th>\n",
              "      <th>Farm</th>\n",
              "    </tr>\n",
              "    <tr>\n",
              "      <th>Region</th>\n",
              "      <th></th>\n",
              "      <th></th>\n",
              "      <th></th>\n",
              "      <th></th>\n",
              "      <th></th>\n",
              "    </tr>\n",
              "  </thead>\n",
              "  <tbody>\n",
              "    <tr>\n",
              "      <th>Newfoundland</th>\n",
              "      <td>Accidents</td>\n",
              "      <td>0</td>\n",
              "      <td>0</td>\n",
              "      <td>0</td>\n",
              "      <td>0</td>\n",
              "    </tr>\n",
              "    <tr>\n",
              "      <th>Newfoundland</th>\n",
              "      <td>Fatalities</td>\n",
              "      <td>0</td>\n",
              "      <td>0</td>\n",
              "      <td>0</td>\n",
              "      <td>0</td>\n",
              "    </tr>\n",
              "    <tr>\n",
              "      <th>Newfoundland</th>\n",
              "      <td>Serious injuries</td>\n",
              "      <td>0</td>\n",
              "      <td>0</td>\n",
              "      <td>0</td>\n",
              "      <td>0</td>\n",
              "    </tr>\n",
              "    <tr>\n",
              "      <th>Nova Scotia</th>\n",
              "      <td>Accidents</td>\n",
              "      <td>1</td>\n",
              "      <td>0</td>\n",
              "      <td>0</td>\n",
              "      <td>0</td>\n",
              "    </tr>\n",
              "    <tr>\n",
              "      <th>Nova Scotia</th>\n",
              "      <td>Fatalities</td>\n",
              "      <td>0</td>\n",
              "      <td>0</td>\n",
              "      <td>0</td>\n",
              "      <td>0</td>\n",
              "    </tr>\n",
              "  </tbody>\n",
              "</table>\n",
              "</div>"
            ],
            "text/plain": [
              "                     EventType  Public automated  Public passive  Private  Farm\n",
              "Region                                                                         \n",
              "Newfoundland         Accidents                 0               0        0     0\n",
              "Newfoundland        Fatalities                 0               0        0     0\n",
              "Newfoundland  Serious injuries                 0               0        0     0\n",
              "Nova Scotia          Accidents                 1               0        0     0\n",
              "Nova Scotia         Fatalities                 0               0        0     0"
            ]
          },
          "metadata": {},
          "execution_count": 21
        }
      ]
    },
    {
      "cell_type": "code",
      "metadata": {
        "colab": {
          "base_uri": "https://localhost:8080/"
        },
        "id": "MytPz5XPRwnH",
        "outputId": "b688ca09-35ac-4982-9cea-1560ff5485c3"
      },
      "source": [
        "incidents.index"
      ],
      "execution_count": null,
      "outputs": [
        {
          "output_type": "execute_result",
          "data": {
            "text/plain": [
              "Index(['Newfoundland', 'Newfoundland', 'Newfoundland', 'Nova Scotia',\n",
              "       'Nova Scotia', 'Nova Scotia', 'New Brunswick', 'New Brunswick',\n",
              "       'New Brunswick', 'Quebec', 'Quebec', 'Quebec', 'Ontario', 'Ontario',\n",
              "       'Ontario', 'Manitoba', 'Manitoba', 'Manitoba', 'Saskatchewan',\n",
              "       'Saskatchewan', 'Saskatchewan', 'Alberta', 'Alberta', 'Alberta',\n",
              "       'British Columbia', 'British Columbia', 'British Columbia',\n",
              "       'Northwest Territories', 'Northwest Territories',\n",
              "       'Northwest Territories'],\n",
              "      dtype='object', name='Region')"
            ]
          },
          "metadata": {},
          "execution_count": 22
        }
      ]
    },
    {
      "cell_type": "code",
      "metadata": {
        "colab": {
          "base_uri": "https://localhost:8080/",
          "height": 235
        },
        "id": "RiMFIaRDSOnH",
        "outputId": "7497a4f9-aa27-4c76-f88f-28480468357a"
      },
      "source": [
        "incidents.head()"
      ],
      "execution_count": null,
      "outputs": [
        {
          "output_type": "execute_result",
          "data": {
            "text/html": [
              "<div>\n",
              "<style scoped>\n",
              "    .dataframe tbody tr th:only-of-type {\n",
              "        vertical-align: middle;\n",
              "    }\n",
              "\n",
              "    .dataframe tbody tr th {\n",
              "        vertical-align: top;\n",
              "    }\n",
              "\n",
              "    .dataframe thead th {\n",
              "        text-align: right;\n",
              "    }\n",
              "</style>\n",
              "<table border=\"1\" class=\"dataframe\">\n",
              "  <thead>\n",
              "    <tr style=\"text-align: right;\">\n",
              "      <th></th>\n",
              "      <th>EventType</th>\n",
              "      <th>Public automated</th>\n",
              "      <th>Public passive</th>\n",
              "      <th>Private</th>\n",
              "      <th>Farm</th>\n",
              "    </tr>\n",
              "    <tr>\n",
              "      <th>Region</th>\n",
              "      <th></th>\n",
              "      <th></th>\n",
              "      <th></th>\n",
              "      <th></th>\n",
              "      <th></th>\n",
              "    </tr>\n",
              "  </thead>\n",
              "  <tbody>\n",
              "    <tr>\n",
              "      <th>Newfoundland</th>\n",
              "      <td>Accidents</td>\n",
              "      <td>0</td>\n",
              "      <td>0</td>\n",
              "      <td>0</td>\n",
              "      <td>0</td>\n",
              "    </tr>\n",
              "    <tr>\n",
              "      <th>Newfoundland</th>\n",
              "      <td>Fatalities</td>\n",
              "      <td>0</td>\n",
              "      <td>0</td>\n",
              "      <td>0</td>\n",
              "      <td>0</td>\n",
              "    </tr>\n",
              "    <tr>\n",
              "      <th>Newfoundland</th>\n",
              "      <td>Serious injuries</td>\n",
              "      <td>0</td>\n",
              "      <td>0</td>\n",
              "      <td>0</td>\n",
              "      <td>0</td>\n",
              "    </tr>\n",
              "    <tr>\n",
              "      <th>Nova Scotia</th>\n",
              "      <td>Accidents</td>\n",
              "      <td>1</td>\n",
              "      <td>0</td>\n",
              "      <td>0</td>\n",
              "      <td>0</td>\n",
              "    </tr>\n",
              "    <tr>\n",
              "      <th>Nova Scotia</th>\n",
              "      <td>Fatalities</td>\n",
              "      <td>0</td>\n",
              "      <td>0</td>\n",
              "      <td>0</td>\n",
              "      <td>0</td>\n",
              "    </tr>\n",
              "  </tbody>\n",
              "</table>\n",
              "</div>"
            ],
            "text/plain": [
              "                     EventType  Public automated  Public passive  Private  Farm\n",
              "Region                                                                         \n",
              "Newfoundland         Accidents                 0               0        0     0\n",
              "Newfoundland        Fatalities                 0               0        0     0\n",
              "Newfoundland  Serious injuries                 0               0        0     0\n",
              "Nova Scotia          Accidents                 1               0        0     0\n",
              "Nova Scotia         Fatalities                 0               0        0     0"
            ]
          },
          "metadata": {},
          "execution_count": 23
        }
      ]
    },
    {
      "cell_type": "code",
      "metadata": {
        "id": "8ATgGs19SYKf"
      },
      "source": [
        "incidents.reset_index(inplace=True)"
      ],
      "execution_count": null,
      "outputs": []
    },
    {
      "cell_type": "code",
      "metadata": {
        "colab": {
          "base_uri": "https://localhost:8080/",
          "height": 235
        },
        "id": "xp3P1xx3UKOQ",
        "outputId": "6e7493f9-24c4-4f0a-fb7e-65bdeaa9717f"
      },
      "source": [
        "incidents.set_index(['Region', 'EventType'],inplace=True)\n",
        "incidents.head()"
      ],
      "execution_count": null,
      "outputs": [
        {
          "output_type": "execute_result",
          "data": {
            "text/html": [
              "<div>\n",
              "<style scoped>\n",
              "    .dataframe tbody tr th:only-of-type {\n",
              "        vertical-align: middle;\n",
              "    }\n",
              "\n",
              "    .dataframe tbody tr th {\n",
              "        vertical-align: top;\n",
              "    }\n",
              "\n",
              "    .dataframe thead th {\n",
              "        text-align: right;\n",
              "    }\n",
              "</style>\n",
              "<table border=\"1\" class=\"dataframe\">\n",
              "  <thead>\n",
              "    <tr style=\"text-align: right;\">\n",
              "      <th></th>\n",
              "      <th></th>\n",
              "      <th>Public automated</th>\n",
              "      <th>Public passive</th>\n",
              "      <th>Private</th>\n",
              "      <th>Farm</th>\n",
              "    </tr>\n",
              "    <tr>\n",
              "      <th>Region</th>\n",
              "      <th>EventType</th>\n",
              "      <th></th>\n",
              "      <th></th>\n",
              "      <th></th>\n",
              "      <th></th>\n",
              "    </tr>\n",
              "  </thead>\n",
              "  <tbody>\n",
              "    <tr>\n",
              "      <th rowspan=\"3\" valign=\"top\">Newfoundland</th>\n",
              "      <th>Accidents</th>\n",
              "      <td>0</td>\n",
              "      <td>0</td>\n",
              "      <td>0</td>\n",
              "      <td>0</td>\n",
              "    </tr>\n",
              "    <tr>\n",
              "      <th>Fatalities</th>\n",
              "      <td>0</td>\n",
              "      <td>0</td>\n",
              "      <td>0</td>\n",
              "      <td>0</td>\n",
              "    </tr>\n",
              "    <tr>\n",
              "      <th>Serious injuries</th>\n",
              "      <td>0</td>\n",
              "      <td>0</td>\n",
              "      <td>0</td>\n",
              "      <td>0</td>\n",
              "    </tr>\n",
              "    <tr>\n",
              "      <th rowspan=\"2\" valign=\"top\">Nova Scotia</th>\n",
              "      <th>Accidents</th>\n",
              "      <td>1</td>\n",
              "      <td>0</td>\n",
              "      <td>0</td>\n",
              "      <td>0</td>\n",
              "    </tr>\n",
              "    <tr>\n",
              "      <th>Fatalities</th>\n",
              "      <td>0</td>\n",
              "      <td>0</td>\n",
              "      <td>0</td>\n",
              "      <td>0</td>\n",
              "    </tr>\n",
              "  </tbody>\n",
              "</table>\n",
              "</div>"
            ],
            "text/plain": [
              "                               Public automated  Public passive  Private  Farm\n",
              "Region       EventType                                                        \n",
              "Newfoundland Accidents                        0               0        0     0\n",
              "             Fatalities                       0               0        0     0\n",
              "             Serious injuries                 0               0        0     0\n",
              "Nova Scotia  Accidents                        1               0        0     0\n",
              "             Fatalities                       0               0        0     0"
            ]
          },
          "metadata": {},
          "execution_count": 25
        }
      ]
    },
    {
      "cell_type": "code",
      "metadata": {
        "colab": {
          "base_uri": "https://localhost:8080/"
        },
        "id": "lJpKhBrBUeR3",
        "outputId": "5ceaea6b-6634-4c0b-fbb6-b9ff7c7807a3"
      },
      "source": [
        "incidents.index"
      ],
      "execution_count": null,
      "outputs": [
        {
          "output_type": "execute_result",
          "data": {
            "text/plain": [
              "MultiIndex([(         'Newfoundland',        'Accidents'),\n",
              "            (         'Newfoundland',       'Fatalities'),\n",
              "            (         'Newfoundland', 'Serious injuries'),\n",
              "            (          'Nova Scotia',        'Accidents'),\n",
              "            (          'Nova Scotia',       'Fatalities'),\n",
              "            (          'Nova Scotia', 'Serious injuries'),\n",
              "            (        'New Brunswick',        'Accidents'),\n",
              "            (        'New Brunswick',       'Fatalities'),\n",
              "            (        'New Brunswick', 'Serious injuries'),\n",
              "            (               'Quebec',        'Accidents'),\n",
              "            (               'Quebec',       'Fatalities'),\n",
              "            (               'Quebec', 'Serious injuries'),\n",
              "            (              'Ontario',        'Accidents'),\n",
              "            (              'Ontario',       'Fatalities'),\n",
              "            (              'Ontario', 'Serious injuries'),\n",
              "            (             'Manitoba',        'Accidents'),\n",
              "            (             'Manitoba',       'Fatalities'),\n",
              "            (             'Manitoba', 'Serious injuries'),\n",
              "            (         'Saskatchewan',        'Accidents'),\n",
              "            (         'Saskatchewan',       'Fatalities'),\n",
              "            (         'Saskatchewan', 'Serious injuries'),\n",
              "            (              'Alberta',        'Accidents'),\n",
              "            (              'Alberta',       'Fatalities'),\n",
              "            (              'Alberta', 'Serious injuries'),\n",
              "            (     'British Columbia',        'Accidents'),\n",
              "            (     'British Columbia',       'Fatalities'),\n",
              "            (     'British Columbia', 'Serious injuries'),\n",
              "            ('Northwest Territories',        'Accidents'),\n",
              "            ('Northwest Territories',       'Fatalities'),\n",
              "            ('Northwest Territories', 'Serious injuries')],\n",
              "           names=['Region', 'EventType'])"
            ]
          },
          "metadata": {},
          "execution_count": 26
        }
      ]
    },
    {
      "cell_type": "code",
      "metadata": {
        "id": "-dQWAjnndlYl",
        "colab": {
          "base_uri": "https://localhost:8080/"
        },
        "outputId": "7eb97120-91f1-491b-b198-06ee5231dc66"
      },
      "source": [
        "incidents.index.get_level_values(0)"
      ],
      "execution_count": null,
      "outputs": [
        {
          "output_type": "execute_result",
          "data": {
            "text/plain": [
              "Index(['Newfoundland', 'Newfoundland', 'Newfoundland', 'Nova Scotia',\n",
              "       'Nova Scotia', 'Nova Scotia', 'New Brunswick', 'New Brunswick',\n",
              "       'New Brunswick', 'Quebec', 'Quebec', 'Quebec', 'Ontario', 'Ontario',\n",
              "       'Ontario', 'Manitoba', 'Manitoba', 'Manitoba', 'Saskatchewan',\n",
              "       'Saskatchewan', 'Saskatchewan', 'Alberta', 'Alberta', 'Alberta',\n",
              "       'British Columbia', 'British Columbia', 'British Columbia',\n",
              "       'Northwest Territories', 'Northwest Territories',\n",
              "       'Northwest Territories'],\n",
              "      dtype='object', name='Region')"
            ]
          },
          "metadata": {},
          "execution_count": 27
        }
      ]
    },
    {
      "cell_type": "code",
      "metadata": {
        "colab": {
          "base_uri": "https://localhost:8080/"
        },
        "id": "cd3l6li2fIjR",
        "outputId": "6cae32e4-df09-4718-f81f-bcfd620e0d81"
      },
      "source": [
        "incidents.index.get_level_values(1)"
      ],
      "execution_count": null,
      "outputs": [
        {
          "output_type": "execute_result",
          "data": {
            "text/plain": [
              "Index(['Accidents', 'Fatalities', 'Serious injuries', 'Accidents',\n",
              "       'Fatalities', 'Serious injuries', 'Accidents', 'Fatalities',\n",
              "       'Serious injuries', 'Accidents', 'Fatalities', 'Serious injuries',\n",
              "       'Accidents', 'Fatalities', 'Serious injuries', 'Accidents',\n",
              "       'Fatalities', 'Serious injuries', 'Accidents', 'Fatalities',\n",
              "       'Serious injuries', 'Accidents', 'Fatalities', 'Serious injuries',\n",
              "       'Accidents', 'Fatalities', 'Serious injuries', 'Accidents',\n",
              "       'Fatalities', 'Serious injuries'],\n",
              "      dtype='object', name='EventType')"
            ]
          },
          "metadata": {},
          "execution_count": 28
        }
      ]
    },
    {
      "cell_type": "code",
      "metadata": {
        "colab": {
          "base_uri": "https://localhost:8080/"
        },
        "id": "jGYGDD26fVIy",
        "outputId": "52d2e2cf-76da-483a-f98e-18d66af85691"
      },
      "source": [
        "incidents.index.names"
      ],
      "execution_count": null,
      "outputs": [
        {
          "output_type": "execute_result",
          "data": {
            "text/plain": [
              "FrozenList(['Region', 'EventType'])"
            ]
          },
          "metadata": {},
          "execution_count": 29
        }
      ]
    },
    {
      "cell_type": "code",
      "metadata": {
        "colab": {
          "base_uri": "https://localhost:8080/",
          "height": 235
        },
        "id": "9uWAG1ecfn-a",
        "outputId": "bb6bfd6b-492d-4d85-eedb-2447316a80ee"
      },
      "source": [
        "incidents.index.set_names(['Area','Event'],inplace=True)\n",
        "incidents.head()"
      ],
      "execution_count": null,
      "outputs": [
        {
          "output_type": "execute_result",
          "data": {
            "text/html": [
              "<div>\n",
              "<style scoped>\n",
              "    .dataframe tbody tr th:only-of-type {\n",
              "        vertical-align: middle;\n",
              "    }\n",
              "\n",
              "    .dataframe tbody tr th {\n",
              "        vertical-align: top;\n",
              "    }\n",
              "\n",
              "    .dataframe thead th {\n",
              "        text-align: right;\n",
              "    }\n",
              "</style>\n",
              "<table border=\"1\" class=\"dataframe\">\n",
              "  <thead>\n",
              "    <tr style=\"text-align: right;\">\n",
              "      <th></th>\n",
              "      <th></th>\n",
              "      <th>Public automated</th>\n",
              "      <th>Public passive</th>\n",
              "      <th>Private</th>\n",
              "      <th>Farm</th>\n",
              "    </tr>\n",
              "    <tr>\n",
              "      <th>Area</th>\n",
              "      <th>Event</th>\n",
              "      <th></th>\n",
              "      <th></th>\n",
              "      <th></th>\n",
              "      <th></th>\n",
              "    </tr>\n",
              "  </thead>\n",
              "  <tbody>\n",
              "    <tr>\n",
              "      <th rowspan=\"3\" valign=\"top\">Newfoundland</th>\n",
              "      <th>Accidents</th>\n",
              "      <td>0</td>\n",
              "      <td>0</td>\n",
              "      <td>0</td>\n",
              "      <td>0</td>\n",
              "    </tr>\n",
              "    <tr>\n",
              "      <th>Fatalities</th>\n",
              "      <td>0</td>\n",
              "      <td>0</td>\n",
              "      <td>0</td>\n",
              "      <td>0</td>\n",
              "    </tr>\n",
              "    <tr>\n",
              "      <th>Serious injuries</th>\n",
              "      <td>0</td>\n",
              "      <td>0</td>\n",
              "      <td>0</td>\n",
              "      <td>0</td>\n",
              "    </tr>\n",
              "    <tr>\n",
              "      <th rowspan=\"2\" valign=\"top\">Nova Scotia</th>\n",
              "      <th>Accidents</th>\n",
              "      <td>1</td>\n",
              "      <td>0</td>\n",
              "      <td>0</td>\n",
              "      <td>0</td>\n",
              "    </tr>\n",
              "    <tr>\n",
              "      <th>Fatalities</th>\n",
              "      <td>0</td>\n",
              "      <td>0</td>\n",
              "      <td>0</td>\n",
              "      <td>0</td>\n",
              "    </tr>\n",
              "  </tbody>\n",
              "</table>\n",
              "</div>"
            ],
            "text/plain": [
              "                               Public automated  Public passive  Private  Farm\n",
              "Area         Event                                                            \n",
              "Newfoundland Accidents                        0               0        0     0\n",
              "             Fatalities                       0               0        0     0\n",
              "             Serious injuries                 0               0        0     0\n",
              "Nova Scotia  Accidents                        1               0        0     0\n",
              "             Fatalities                       0               0        0     0"
            ]
          },
          "metadata": {},
          "execution_count": 30
        }
      ]
    }
  ]
}