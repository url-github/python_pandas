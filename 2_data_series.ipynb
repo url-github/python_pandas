{
  "nbformat": 4,
  "nbformat_minor": 0,
  "metadata": {
    "colab": {
      "name": "2.data series.ipynb",
      "provenance": [],
      "authorship_tag": "ABX9TyND1dSfG1ANEmfuQGqdWQre",
      "include_colab_link": true
    },
    "kernelspec": {
      "name": "python3",
      "display_name": "Python 3"
    },
    "language_info": {
      "name": "python"
    }
  },
  "cells": [
    {
      "cell_type": "markdown",
      "metadata": {
        "id": "view-in-github",
        "colab_type": "text"
      },
   
    },
    {
      "cell_type": "code",
      "metadata": {
        "colab": {
          "base_uri": "https://localhost:8080/"
        },
        "id": "HhR9fDxcA--L",
        "outputId": "e879d0d1-9f59-4f7a-a174-08d3ca93b5b2"
      },
      "source": [
        "from google.colab import drive\n",
        "drive.mount('/content/drive')"
      ],
      "execution_count": null,
      "outputs": [
        {
          "output_type": "stream",
          "text": [
            "Mounted at /content/drive\n"
          ],
          "name": "stdout"
        }
      ]
    },
    {
      "cell_type": "code",
      "metadata": {
        "id": "zocWAbyiBMuB"
      },
      "source": [
        "import pandas as pd\n",
        "import numpy as np\n",
        "import matplotlib.pyplot as plt\n",
        "import math as math"
      ],
      "execution_count": null,
      "outputs": []
    },
    {
      "cell_type": "code",
      "metadata": {
        "id": "EwTDJruoBVFj"
      },
      "source": [
        "cities=['London','Berlin','Warsaw','Paris']"
      ],
      "execution_count": null,
      "outputs": []
    },
    {
      "cell_type": "code",
      "metadata": {
        "colab": {
          "base_uri": "https://localhost:8080/"
        },
        "id": "F91S915HB3Wg",
        "outputId": "b22100c0-1aa6-492e-8775-9225f61dd4a5"
      },
      "source": [
        "cities"
      ],
      "execution_count": null,
      "outputs": [
        {
          "output_type": "execute_result",
          "data": {
            "text/plain": [
              "['London', 'Berlin', 'Warsaw', 'Paris']"
            ]
          },
          "metadata": {
            "tags": []
          },
          "execution_count": 15
        }
      ]
    },
    {
      "cell_type": "code",
      "metadata": {
        "colab": {
          "base_uri": "https://localhost:8080/"
        },
        "id": "byBV-ROfB4ti",
        "outputId": "93bb9574-c9e1-4a6d-9ba8-10ca8d0b3165"
      },
      "source": [
        "pd.Series(cities)\n",
        "\n",
        "# To jest obiekt Serii"
      ],
      "execution_count": null,
      "outputs": [
        {
          "output_type": "execute_result",
          "data": {
            "text/plain": [
              "0    London\n",
              "1    Berlin\n",
              "2    Warsaw\n",
              "3     Paris\n",
              "dtype: object"
            ]
          },
          "metadata": {
            "tags": []
          },
          "execution_count": 17
        }
      ]
    },
    {
      "cell_type": "code",
      "metadata": {
        "colab": {
          "base_uri": "https://localhost:8080/"
        },
        "id": "grxgvmrjCNFM",
        "outputId": "1c69d4dd-c563-411b-b6c4-0fb3176e36d1"
      },
      "source": [
        "primeNumbers=(2,6,4,554,646,46,464,646)\n",
        "pd.Series(primeNumbers)"
      ],
      "execution_count": null,
      "outputs": [
        {
          "output_type": "execute_result",
          "data": {
            "text/plain": [
              "0      2\n",
              "1      6\n",
              "2      4\n",
              "3    554\n",
              "4    646\n",
              "5     46\n",
              "6    464\n",
              "7    646\n",
              "dtype: int64"
            ]
          },
          "metadata": {
            "tags": []
          },
          "execution_count": 3
        }
      ]
    },
    {
      "cell_type": "code",
      "metadata": {
        "colab": {
          "base_uri": "https://localhost:8080/"
        },
        "id": "Xz9ESvrqDPrc",
        "outputId": "82eab473-026d-4165-ad3b-18e90c02fdbe"
      },
      "source": [
        "logicalValues = [True,True,False]\n",
        "pd.Series(logicalValues)"
      ],
      "execution_count": null,
      "outputs": [
        {
          "output_type": "execute_result",
          "data": {
            "text/plain": [
              "0     True\n",
              "1     True\n",
              "2    False\n",
              "dtype: bool"
            ]
          },
          "metadata": {
            "tags": []
          },
          "execution_count": 7
        }
      ]
    },
    {
      "cell_type": "code",
      "metadata": {
        "colab": {
          "base_uri": "https://localhost:8080/"
        },
        "id": "PS_mHhSmEA-k",
        "outputId": "622b16f6-8aa9-40c0-938c-134184692c16"
      },
      "source": [
        "example = {'Jaws' : 1975,\n",
        "           '1941' : 1979}\n",
        "\n",
        "example \n",
        "\n",
        "# To jest tabela hash'owana"
      ],
      "execution_count": null,
      "outputs": [
        {
          "output_type": "execute_result",
          "data": {
            "text/plain": [
              "{'1941': 1979, 'Jaws': 1975}"
            ]
          },
          "metadata": {
            "tags": []
          },
          "execution_count": 8
        }
      ]
    },
    {
      "cell_type": "code",
      "metadata": {
        "colab": {
          "base_uri": "https://localhost:8080/"
        },
        "id": "Q8FRk8J5O_04",
        "outputId": "c7aaa7db-8c51-4fd1-e43a-37f709de32cd"
      },
      "source": [
        "pd.Series(example)"
      ],
      "execution_count": null,
      "outputs": [
        {
          "output_type": "execute_result",
          "data": {
            "text/plain": [
              "Jaws    1975\n",
              "1941    1979\n",
              "dtype: int64"
            ]
          },
          "metadata": {
            "tags": []
          },
          "execution_count": 9
        }
      ]
    },
    {
      "cell_type": "markdown",
      "metadata": {
        "id": "osgSnHpsQnIK"
      },
      "source": [
        "Obiekt ma:\n",
        "- atrybuty (wartości, które obiekt posiada np. size czyli ile elementów znajduje się w obiekcie)\n",
        "- metody (to zmiana obiektu np. zwiększenie size dla obiektu na 5 wymaga użycie metody) niektóre metody pokrywają się z atrybutami \n"
      ]
    },
    {
      "cell_type": "code",
      "metadata": {
        "colab": {
          "base_uri": "https://localhost:8080/"
        },
        "id": "EacTeAwpTF07",
        "outputId": "c37d9bb6-2b0d-438b-f79d-d5d8546495fd"
      },
      "source": [
        "cities=['London','Berlin','Warsaw','Paris']\n",
        "citiesSeries = pd.Series(cities)\n",
        "citiesSeries"
      ],
      "execution_count": null,
      "outputs": [
        {
          "output_type": "execute_result",
          "data": {
            "text/plain": [
              "0    London\n",
              "1    Berlin\n",
              "2    Warsaw\n",
              "3     Paris\n",
              "dtype: object"
            ]
          },
          "metadata": {
            "tags": []
          },
          "execution_count": 11
        }
      ]
    },
    {
      "cell_type": "code",
      "metadata": {
        "colab": {
          "base_uri": "https://localhost:8080/"
        },
        "id": "jZC4R-DzT8fC",
        "outputId": "6ec57623-1c0e-45bd-bace-65fd9969013e"
      },
      "source": [
        "citiesSeries.size"
      ],
      "execution_count": null,
      "outputs": [
        {
          "output_type": "execute_result",
          "data": {
            "text/plain": [
              "4"
            ]
          },
          "metadata": {
            "tags": []
          },
          "execution_count": 12
        }
      ]
    },
    {
      "cell_type": "code",
      "metadata": {
        "colab": {
          "base_uri": "https://localhost:8080/"
        },
        "id": "-Szbd8trUAVS",
        "outputId": "98c5b532-f008-4a5f-ccf8-9e7aa61279ef"
      },
      "source": [
        "citiesSeries.abs"
      ],
      "execution_count": null,
      "outputs": [
        {
          "output_type": "execute_result",
          "data": {
            "text/plain": [
              "<bound method NDFrame.abs of 0    London\n",
              "1    Berlin\n",
              "2    Warsaw\n",
              "3     Paris\n",
              "dtype: object>"
            ]
          },
          "metadata": {
            "tags": []
          },
          "execution_count": 22
        }
      ]
    },
    {
      "cell_type": "code",
      "metadata": {
        "colab": {
          "base_uri": "https://localhost:8080/"
        },
        "id": "ikVDYa0RVA8h",
        "outputId": "afad2415-7165-499b-af6d-872f60c9d440"
      },
      "source": [
        "citiesSeries.aggregate"
      ],
      "execution_count": null,
      "outputs": [
        {
          "output_type": "execute_result",
          "data": {
            "text/plain": [
              "<bound method Series.aggregate of 0    London\n",
              "1    Berlin\n",
              "2    Warsaw\n",
              "3     Paris\n",
              "dtype: object>"
            ]
          },
          "metadata": {
            "tags": []
          },
          "execution_count": 23
        }
      ]
    },
    {
      "cell_type": "code",
      "metadata": {
        "colab": {
          "base_uri": "https://localhost:8080/"
        },
        "id": "TO0ipunnVFJP",
        "outputId": "5f9d232e-5b33-46c7-9aed-2037a404fc34"
      },
      "source": [
        "citiesSeries.is_unique"
      ],
      "execution_count": null,
      "outputs": [
        {
          "output_type": "execute_result",
          "data": {
            "text/plain": [
              "True"
            ]
          },
          "metadata": {
            "tags": []
          },
          "execution_count": 24
        }
      ]
    },
    {
      "cell_type": "code",
      "metadata": {
        "colab": {
          "base_uri": "https://localhost:8080/"
        },
        "id": "22MJygOpWck-",
        "outputId": "7a9fc781-1e35-44cd-b039-00d07975fb33"
      },
      "source": [
        "citiesSeries.index"
      ],
      "execution_count": null,
      "outputs": [
        {
          "output_type": "execute_result",
          "data": {
            "text/plain": [
              "RangeIndex(start=0, stop=4, step=1)"
            ]
          },
          "metadata": {
            "tags": []
          },
          "execution_count": 25
        }
      ]
    },
    {
      "cell_type": "code",
      "metadata": {
        "colab": {
          "base_uri": "https://localhost:8080/"
        },
        "id": "ku7G1ClLW0f_",
        "outputId": "1988917e-8faf-411b-a26d-d0213cf57e0c"
      },
      "source": [
        "citiesSeries.values"
      ],
      "execution_count": null,
      "outputs": [
        {
          "output_type": "execute_result",
          "data": {
            "text/plain": [
              "array(['London', 'Berlin', 'Warsaw', 'Paris'], dtype=object)"
            ]
          },
          "metadata": {
            "tags": []
          },
          "execution_count": 26
        }
      ]
    },
    {
      "cell_type": "code",
      "metadata": {
        "colab": {
          "base_uri": "https://localhost:8080/"
        },
        "id": "UOUSUaYOXQJL",
        "outputId": "695b9e4d-fea6-4680-802c-76d4046c7262"
      },
      "source": [
        "citiesSeries.shape"
      ],
      "execution_count": null,
      "outputs": [
        {
          "output_type": "execute_result",
          "data": {
            "text/plain": [
              "(4,)"
            ]
          },
          "metadata": {
            "tags": []
          },
          "execution_count": 27
        }
      ]
    },
    {
      "cell_type": "code",
      "metadata": {
        "colab": {
          "base_uri": "https://localhost:8080/"
        },
        "id": "ufGvoFcsX8G_",
        "outputId": "6d6f6f59-1522-41cd-98aa-011e5b0caf89"
      },
      "source": [
        "monotonicList = [1,2,4,5,6,7,8]\n",
        "monotonicSeries = pd.Series(monotonicList)\n",
        "monotonicSeries"
      ],
      "execution_count": null,
      "outputs": [
        {
          "output_type": "execute_result",
          "data": {
            "text/plain": [
              "0    1\n",
              "1    2\n",
              "2    4\n",
              "3    5\n",
              "4    6\n",
              "5    7\n",
              "6    8\n",
              "dtype: int64"
            ]
          },
          "metadata": {
            "tags": []
          },
          "execution_count": 30
        }
      ]
    },
    {
      "cell_type": "code",
      "metadata": {
        "colab": {
          "base_uri": "https://localhost:8080/"
        },
        "id": "Bmvl8rnfYtUn",
        "outputId": "b76302a0-6129-4ee7-b0c8-ae9063f94c11"
      },
      "source": [
        "monotonicSeries.is_monotonic"
      ],
      "execution_count": null,
      "outputs": [
        {
          "output_type": "execute_result",
          "data": {
            "text/plain": [
              "True"
            ]
          },
          "metadata": {
            "tags": []
          },
          "execution_count": 31
        }
      ]
    },
    {
      "cell_type": "code",
      "metadata": {
        "colab": {
          "base_uri": "https://localhost:8080/"
        },
        "id": "s_qvzE8GZGcw",
        "outputId": "42abcf0d-2cd7-47ef-bf64-7661068398e3"
      },
      "source": [
        "monotonicSeries.is_monotonic_increasing"
      ],
      "execution_count": null,
      "outputs": [
        {
          "output_type": "execute_result",
          "data": {
            "text/plain": [
              "True"
            ]
          },
          "metadata": {
            "tags": []
          },
          "execution_count": 32
        }
      ]
    },
    {
      "cell_type": "code",
      "metadata": {
        "colab": {
          "base_uri": "https://localhost:8080/"
        },
        "id": "NP6_N8ZQZt3v",
        "outputId": "2f340bb7-c5ea-44e6-f795-02957e17855b"
      },
      "source": [
        "monotonicSeries.is_monotonic_decreasing"
      ],
      "execution_count": null,
      "outputs": [
        {
          "output_type": "execute_result",
          "data": {
            "text/plain": [
              "False"
            ]
          },
          "metadata": {
            "tags": []
          },
          "execution_count": 33
        }
      ]
    },
    {
      "cell_type": "code",
      "metadata": {
        "colab": {
          "base_uri": "https://localhost:8080/"
        },
        "id": "fqequ-P9Z5WD",
        "outputId": "59907f3d-e391-4372-dd37-ac64a3e58cff"
      },
      "source": [
        "stringList = ['Cola', 'Redbull', 'Sprite']\n",
        "stringSeries = pd.Series(stringList)\n",
        "stringSeries"
      ],
      "execution_count": null,
      "outputs": [
        {
          "output_type": "execute_result",
          "data": {
            "text/plain": [
              "0       Cola\n",
              "1    Redbull\n",
              "2     Sprite\n",
              "dtype: object"
            ]
          },
          "metadata": {
            "tags": []
          },
          "execution_count": 34
        }
      ]
    },
    {
      "cell_type": "code",
      "metadata": {
        "colab": {
          "base_uri": "https://localhost:8080/"
        },
        "id": "xEtcqcKVc-6K",
        "outputId": "59db2300-21e0-44b1-d5d9-60f9b2f3baee"
      },
      "source": [
        "stringSeries.is_monotonic"
      ],
      "execution_count": null,
      "outputs": [
        {
          "output_type": "execute_result",
          "data": {
            "text/plain": [
              "True"
            ]
          },
          "metadata": {
            "tags": []
          },
          "execution_count": 35
        }
      ]
    },
    {
      "cell_type": "code",
      "metadata": {
        "colab": {
          "base_uri": "https://localhost:8080/"
        },
        "id": "uAguje00dKxy",
        "outputId": "075acb57-7496-497f-daae-d0e77bce888b"
      },
      "source": [
        "stringSeries.is_monotonic_increasing"
      ],
      "execution_count": null,
      "outputs": [
        {
          "output_type": "execute_result",
          "data": {
            "text/plain": [
              "True"
            ]
          },
          "metadata": {
            "tags": []
          },
          "execution_count": 36
        }
      ]
    },
    {
      "cell_type": "code",
      "metadata": {
        "colab": {
          "base_uri": "https://localhost:8080/"
        },
        "id": "jv38X0b9dSsA",
        "outputId": "be4efc88-f4be-40de-9445-7e9daaf7ae13"
      },
      "source": [
        "monotonicList = [1,2,4,5,6,7,8]\n",
        "monotonicSeries = pd.Series(monotonicList)\n",
        "monotonicSeries"
      ],
      "execution_count": null,
      "outputs": [
        {
          "output_type": "execute_result",
          "data": {
            "text/plain": [
              "0    1\n",
              "1    2\n",
              "2    4\n",
              "3    5\n",
              "4    6\n",
              "5    7\n",
              "6    8\n",
              "dtype: int64"
            ]
          },
          "metadata": {
            "tags": []
          },
          "execution_count": 37
        }
      ]
    },
    {
      "cell_type": "code",
      "metadata": {
        "colab": {
          "base_uri": "https://localhost:8080/"
        },
        "id": "MyuAYgcofHgZ",
        "outputId": "ced0a538-5f5c-47ab-fd46-7e8a6d3044ec"
      },
      "source": [
        "monotonicList = (1,2,4,5,6,7,8,15)\n",
        "monotonicSeries = pd.Series(monotonicList)\n",
        "monotonicSeries"
      ],
      "execution_count": null,
      "outputs": [
        {
          "output_type": "execute_result",
          "data": {
            "text/plain": [
              "0     1\n",
              "1     2\n",
              "2     4\n",
              "3     5\n",
              "4     6\n",
              "5     7\n",
              "6     8\n",
              "7    15\n",
              "dtype: int64"
            ]
          },
          "metadata": {
            "tags": []
          },
          "execution_count": 13
        }
      ]
    },
    {
      "cell_type": "code",
      "metadata": {
        "colab": {
          "base_uri": "https://localhost:8080/"
        },
        "id": "kGhuUjuQfOQA",
        "outputId": "47166b34-af2c-4bcc-936b-115b8e4281f9"
      },
      "source": [
        "monotonicSeries.sum()"
      ],
      "execution_count": null,
      "outputs": [
        {
          "output_type": "execute_result",
          "data": {
            "text/plain": [
              "48"
            ]
          },
          "metadata": {
            "tags": []
          },
          "execution_count": 16
        }
      ]
    },
    {
      "cell_type": "code",
      "metadata": {
        "colab": {
          "base_uri": "https://localhost:8080/"
        },
        "id": "ojemWozmfnuo",
        "outputId": "86175f00-d320-46e7-df4c-0c1b7981fc89"
      },
      "source": [
        "monotonicSeries.min()"
      ],
      "execution_count": null,
      "outputs": [
        {
          "output_type": "execute_result",
          "data": {
            "text/plain": [
              "1"
            ]
          },
          "metadata": {
            "tags": []
          },
          "execution_count": 17
        }
      ]
    },
    {
      "cell_type": "code",
      "metadata": {
        "colab": {
          "base_uri": "https://localhost:8080/"
        },
        "id": "SCj3Vw7efu0k",
        "outputId": "09ed335c-e57e-4090-b531-b3f7713e0e17"
      },
      "source": [
        "monotonicSeries.mean()"
      ],
      "execution_count": null,
      "outputs": [
        {
          "output_type": "execute_result",
          "data": {
            "text/plain": [
              "6.0"
            ]
          },
          "metadata": {
            "tags": []
          },
          "execution_count": 18
        }
      ]
    },
    {
      "cell_type": "code",
      "metadata": {
        "colab": {
          "base_uri": "https://localhost:8080/"
        },
        "id": "xQQLfOjmf-Zi",
        "outputId": "d2fd44d5-a901-497d-b1fe-4d1ee347d696"
      },
      "source": [
        "monotonicSeries.count()"
      ],
      "execution_count": null,
      "outputs": [
        {
          "output_type": "execute_result",
          "data": {
            "text/plain": [
              "8"
            ]
          },
          "metadata": {
            "tags": []
          },
          "execution_count": 19
        }
      ]
    },
    {
      "cell_type": "code",
      "metadata": {
        "colab": {
          "base_uri": "https://localhost:8080/"
        },
        "id": "NaJadlRbpa2h",
        "outputId": "82828f57-2a21-4d19-a17f-bd77bad92436"
      },
      "source": [
        "monotonicSeries.index"
      ],
      "execution_count": null,
      "outputs": [
        {
          "output_type": "execute_result",
          "data": {
            "text/plain": [
              "RangeIndex(start=0, stop=8, step=1)"
            ]
          },
          "metadata": {
            "tags": []
          },
          "execution_count": 20
        }
      ]
    },
    {
      "cell_type": "code",
      "metadata": {
        "colab": {
          "base_uri": "https://localhost:8080/"
        },
        "id": "VnTNv7EvrrWL",
        "outputId": "e8981667-5cfb-4573-d81a-d43439744e9e"
      },
      "source": [
        "monotonicSeries.keys()"
      ],
      "execution_count": null,
      "outputs": [
        {
          "output_type": "execute_result",
          "data": {
            "text/plain": [
              "RangeIndex(start=0, stop=8, step=1)"
            ]
          },
          "metadata": {
            "tags": []
          },
          "execution_count": 21
        }
      ]
    },
    {
      "cell_type": "code",
      "metadata": {
        "colab": {
          "base_uri": "https://localhost:8080/"
        },
        "id": "aN7fWPoOrxO6",
        "outputId": "3723294b-93e7-4236-81e6-2a2d1f4ee4db"
      },
      "source": [
        "monotonicSeries.values"
      ],
      "execution_count": null,
      "outputs": [
        {
          "output_type": "execute_result",
          "data": {
            "text/plain": [
              "array([ 1,  2,  4,  5,  6,  7,  8, 15])"
            ]
          },
          "metadata": {
            "tags": []
          },
          "execution_count": 22
        }
      ]
    },
    {
      "cell_type": "code",
      "metadata": {
        "colab": {
          "base_uri": "https://localhost:8080/"
        },
        "id": "dVLxjuL0sVC-",
        "outputId": "ac01a43d-3145-4344-8073-9fb0a1a89157"
      },
      "source": [
        "monotonicSeries.tolist()"
      ],
      "execution_count": null,
      "outputs": [
        {
          "output_type": "execute_result",
          "data": {
            "text/plain": [
              "[1, 2, 4, 5, 6, 7, 8, 15]"
            ]
          },
          "metadata": {
            "tags": []
          },
          "execution_count": 23
        }
      ]
    },
    {
      "cell_type": "code",
      "metadata": {
        "colab": {
          "base_uri": "https://localhost:8080/"
        },
        "id": "7_LYNRJ1s5Ln",
        "outputId": "30398416-d6a0-4301-d8c7-5b024614598f"
      },
      "source": [
        "monotonicSeries.add(10)\n",
        "\n",
        "# użycie metody tworzy kopię więc jeśli potrzebuje tych wyników musze je zapisać:\n",
        "# newSeries = monotonicSeries.add(10)"
      ],
      "execution_count": null,
      "outputs": [
        {
          "output_type": "execute_result",
          "data": {
            "text/plain": [
              "0    11\n",
              "1    12\n",
              "2    14\n",
              "3    15\n",
              "4    16\n",
              "5    17\n",
              "6    18\n",
              "7    25\n",
              "dtype: int64"
            ]
          },
          "metadata": {
            "tags": []
          },
          "execution_count": 24
        }
      ]
    },
    {
      "cell_type": "code",
      "metadata": {
        "colab": {
          "base_uri": "https://localhost:8080/"
        },
        "id": "lA-QzsTGvkS7",
        "outputId": "3f381d6d-6b09-4710-d59b-44f639ab3327"
      },
      "source": [
        "monotonicSeries"
      ],
      "execution_count": null,
      "outputs": [
        {
          "output_type": "execute_result",
          "data": {
            "text/plain": [
              "0     1\n",
              "1     2\n",
              "2     4\n",
              "3     5\n",
              "4     6\n",
              "5     7\n",
              "6     8\n",
              "7    15\n",
              "dtype: int64"
            ]
          },
          "metadata": {
            "tags": []
          },
          "execution_count": 25
        }
      ]
    },
    {
      "cell_type": "code",
      "metadata": {
        "colab": {
          "base_uri": "https://localhost:8080/"
        },
        "id": "Y-O32eKPwCPY",
        "outputId": "6a19698e-f15d-4fb0-f976-d03288923ba8"
      },
      "source": [
        "newSeries = monotonicSeries.add(10)\n",
        "newSeries"
      ],
      "execution_count": null,
      "outputs": [
        {
          "output_type": "execute_result",
          "data": {
            "text/plain": [
              "0    11\n",
              "1    12\n",
              "2    14\n",
              "3    15\n",
              "4    16\n",
              "5    17\n",
              "6    18\n",
              "7    25\n",
              "dtype: int64"
            ]
          },
          "metadata": {
            "tags": []
          },
          "execution_count": 27
        }
      ]
    },
    {
      "cell_type": "code",
      "metadata": {
        "id": "ZMC8XHaixFt0",
        "colab": {
          "base_uri": "https://localhost:8080/"
        },
        "outputId": "93e56975-52c6-41f0-ebda-398d29218dc1"
      },
      "source": [
        "currencies = ['USD', 'EUR', 'PLN', 'EUR', 'EUR']\n",
        "countries = ['USA', 'Spain', 'Poland', 'Portugal', 'Italy']\n",
        "\n",
        "curSeries = pd.Series(countries,currencies)\n",
        "curSeries"
      ],
      "execution_count": null,
      "outputs": [
        {
          "output_type": "execute_result",
          "data": {
            "text/plain": [
              "USD         USA\n",
              "EUR       Spain\n",
              "PLN      Poland\n",
              "EUR    Portugal\n",
              "EUR       Italy\n",
              "dtype: object"
            ]
          },
          "metadata": {
            "tags": []
          },
          "execution_count": 4
        }
      ]
    },
    {
      "cell_type": "code",
      "metadata": {
        "colab": {
          "base_uri": "https://localhost:8080/"
        },
        "id": "-eCju7wcImw7",
        "outputId": "63ce7479-937b-4b85-d480-083061a957ce"
      },
      "source": [
        "countrySeries = pd.Series(currencies, countries)\n",
        "countrySeries"
      ],
      "execution_count": null,
      "outputs": [
        {
          "output_type": "execute_result",
          "data": {
            "text/plain": [
              "USA         USD\n",
              "Spain       EUR\n",
              "Poland      PLN\n",
              "Portugal    EUR\n",
              "Italy       EUR\n",
              "dtype: object"
            ]
          },
          "metadata": {
            "tags": []
          },
          "execution_count": 5
        }
      ]
    },
    {
      "cell_type": "code",
      "metadata": {
        "id": "hbSjRRlKJdOy",
        "colab": {
          "base_uri": "https://localhost:8080/"
        },
        "outputId": "4f770aff-98f4-40ad-ebf5-21df9aa6ce12"
      },
      "source": [
        "curSeries = pd.Series(data = currencies, index = countries)\n",
        "curSeries"
      ],
      "execution_count": null,
      "outputs": [
        {
          "output_type": "execute_result",
          "data": {
            "text/plain": [
              "USA         USD\n",
              "Spain       EUR\n",
              "Poland      PLN\n",
              "Portugal    EUR\n",
              "Italy       EUR\n",
              "dtype: object"
            ]
          },
          "metadata": {
            "tags": []
          },
          "execution_count": 7
        }
      ]
    },
    {
      "cell_type": "code",
      "metadata": {
        "colab": {
          "base_uri": "https://localhost:8080/"
        },
        "id": "UyCMmnT0P2B4",
        "outputId": "16ec0efd-6546-4ee2-aa28-702d865b594d"
      },
      "source": [
        "curSeries = pd.Series(data = countries, index = currencies)\n",
        "curSeries"
      ],
      "execution_count": null,
      "outputs": [
        {
          "output_type": "execute_result",
          "data": {
            "text/plain": [
              "USD         USA\n",
              "EUR       Spain\n",
              "PLN      Poland\n",
              "EUR    Portugal\n",
              "EUR       Italy\n",
              "dtype: object"
            ]
          },
          "metadata": {
            "tags": []
          },
          "execution_count": 10
        }
      ]
    },
    {
      "cell_type": "code",
      "metadata": {
        "colab": {
          "base_uri": "https://localhost:8080/"
        },
        "id": "sFnMK_lWQBWB",
        "outputId": "abffb836-1978-413f-90da-409143de2fda"
      },
      "source": [
        "# słownik\n",
        "dictCountry = {'USD':'USA', 'USD':'Australia'}\n",
        "dictCountry"
      ],
      "execution_count": null,
      "outputs": [
        {
          "output_type": "execute_result",
          "data": {
            "text/plain": [
              "{'USD': 'Australia'}"
            ]
          },
          "metadata": {
            "tags": []
          },
          "execution_count": 16
        }
      ]
    },
    {
      "cell_type": "code",
      "metadata": {
        "colab": {
          "base_uri": "https://localhost:8080/"
        },
        "id": "a3lk8R9kRnGu",
        "outputId": "8c3d627f-e54d-4b6b-fed3-9ba664ddddff"
      },
      "source": [
        "dictCountry = {'USD': 'USA', 'USD': 'USA'}\n",
        "dictCountry"
      ],
      "execution_count": null,
      "outputs": [
        {
          "output_type": "execute_result",
          "data": {
            "text/plain": [
              "{'USD': 'USA'}"
            ]
          },
          "metadata": {
            "tags": []
          },
          "execution_count": 15
        }
      ]
    }
  ]
}
