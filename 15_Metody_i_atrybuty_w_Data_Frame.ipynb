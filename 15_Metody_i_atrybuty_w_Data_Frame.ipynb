{
  "nbformat": 4,
  "nbformat_minor": 0,
  "metadata": {
    "colab": {
      "name": "15.Metody i atrybuty w Data Frame.ipynb",
      "provenance": [],
      "authorship_tag": "ABX9TyP+IEXjFlby+Obyab/dcE+U"
    },
    "kernelspec": {
      "name": "python3",
      "display_name": "Python 3"
    },
    "language_info": {
      "name": "python"
    }
  },
  "cells": [
    {
      "cell_type": "code",
      "metadata": {
        "id": "SxkOJqpVjV9J"
      },
      "source": [
        "import pandas as pd\n",
        "import numpy as np\n",
        "import matplotlib.pyplot as plt\n",
        "import math as math"
      ],
      "execution_count": null,
      "outputs": []
    },
    {
      "cell_type": "code",
      "metadata": {
        "colab": {
          "base_uri": "https://localhost:8080/",
          "height": 445
        },
        "id": "vwSaafVMjgfP",
        "outputId": "b25591a3-3d6c-4f8b-9934-e410108d6f14"
      },
      "source": [
        "frame = pd.read_csv('/content/Mcdonalds.csv')\n",
        "frame.head()"
      ],
      "execution_count": null,
      "outputs": [
        {
          "output_type": "execute_result",
          "data": {
            "text/html": [
              "<div>\n",
              "<style scoped>\n",
              "    .dataframe tbody tr th:only-of-type {\n",
              "        vertical-align: middle;\n",
              "    }\n",
              "\n",
              "    .dataframe tbody tr th {\n",
              "        vertical-align: top;\n",
              "    }\n",
              "\n",
              "    .dataframe thead th {\n",
              "        text-align: right;\n",
              "    }\n",
              "</style>\n",
              "<table border=\"1\" class=\"dataframe\">\n",
              "  <thead>\n",
              "    <tr style=\"text-align: right;\">\n",
              "      <th></th>\n",
              "      <th>Category</th>\n",
              "      <th>Item</th>\n",
              "      <th>Serving Size</th>\n",
              "      <th>Calories</th>\n",
              "      <th>Calories from Fat</th>\n",
              "      <th>TotalFat</th>\n",
              "      <th>Total Fat (% Daily Value)</th>\n",
              "      <th>Saturated Fat</th>\n",
              "      <th>Saturated Fat (% Daily Value)</th>\n",
              "      <th>Trans Fat</th>\n",
              "      <th>Cholesterol</th>\n",
              "      <th>Cholesterol (% Daily Value)</th>\n",
              "      <th>Sodium</th>\n",
              "      <th>Sodium (% Daily Value)</th>\n",
              "      <th>Carbohydrates</th>\n",
              "      <th>Carbohydrates (% Daily Value)</th>\n",
              "      <th>Dietary Fiber</th>\n",
              "      <th>Dietary Fiber (% Daily Value)</th>\n",
              "      <th>Sugars</th>\n",
              "      <th>Protein</th>\n",
              "      <th>Vitamin A (% Daily Value)</th>\n",
              "      <th>Vitamin C (% Daily Value)</th>\n",
              "      <th>Calcium (% Daily Value)</th>\n",
              "      <th>Iron (% Daily Value)</th>\n",
              "    </tr>\n",
              "  </thead>\n",
              "  <tbody>\n",
              "    <tr>\n",
              "      <th>0</th>\n",
              "      <td>Breakfast</td>\n",
              "      <td>Egg McMuffin</td>\n",
              "      <td>4.8 oz (136 g)</td>\n",
              "      <td>300</td>\n",
              "      <td>120</td>\n",
              "      <td>13.0</td>\n",
              "      <td>20</td>\n",
              "      <td>5.0</td>\n",
              "      <td>25</td>\n",
              "      <td>0.0</td>\n",
              "      <td>260</td>\n",
              "      <td>87</td>\n",
              "      <td>750</td>\n",
              "      <td>31</td>\n",
              "      <td>31</td>\n",
              "      <td>10</td>\n",
              "      <td>4</td>\n",
              "      <td>17</td>\n",
              "      <td>3</td>\n",
              "      <td>17</td>\n",
              "      <td>10</td>\n",
              "      <td>0</td>\n",
              "      <td>25</td>\n",
              "      <td>15</td>\n",
              "    </tr>\n",
              "    <tr>\n",
              "      <th>1</th>\n",
              "      <td>Breakfast</td>\n",
              "      <td>Egg White Delight</td>\n",
              "      <td>4.8 oz (135 g)</td>\n",
              "      <td>250</td>\n",
              "      <td>70</td>\n",
              "      <td>8.0</td>\n",
              "      <td>12</td>\n",
              "      <td>3.0</td>\n",
              "      <td>15</td>\n",
              "      <td>0.0</td>\n",
              "      <td>25</td>\n",
              "      <td>8</td>\n",
              "      <td>770</td>\n",
              "      <td>32</td>\n",
              "      <td>30</td>\n",
              "      <td>10</td>\n",
              "      <td>4</td>\n",
              "      <td>17</td>\n",
              "      <td>3</td>\n",
              "      <td>18</td>\n",
              "      <td>6</td>\n",
              "      <td>0</td>\n",
              "      <td>25</td>\n",
              "      <td>8</td>\n",
              "    </tr>\n",
              "    <tr>\n",
              "      <th>2</th>\n",
              "      <td>Breakfast</td>\n",
              "      <td>Sausage McMuffin</td>\n",
              "      <td>3.9 oz (111 g)</td>\n",
              "      <td>370</td>\n",
              "      <td>200</td>\n",
              "      <td>23.0</td>\n",
              "      <td>35</td>\n",
              "      <td>8.0</td>\n",
              "      <td>42</td>\n",
              "      <td>0.0</td>\n",
              "      <td>45</td>\n",
              "      <td>15</td>\n",
              "      <td>780</td>\n",
              "      <td>33</td>\n",
              "      <td>29</td>\n",
              "      <td>10</td>\n",
              "      <td>4</td>\n",
              "      <td>17</td>\n",
              "      <td>2</td>\n",
              "      <td>14</td>\n",
              "      <td>8</td>\n",
              "      <td>0</td>\n",
              "      <td>25</td>\n",
              "      <td>10</td>\n",
              "    </tr>\n",
              "    <tr>\n",
              "      <th>3</th>\n",
              "      <td>Breakfast</td>\n",
              "      <td>Sausage McMuffin with Egg</td>\n",
              "      <td>5.7 oz (161 g)</td>\n",
              "      <td>450</td>\n",
              "      <td>250</td>\n",
              "      <td>28.0</td>\n",
              "      <td>43</td>\n",
              "      <td>10.0</td>\n",
              "      <td>52</td>\n",
              "      <td>0.0</td>\n",
              "      <td>285</td>\n",
              "      <td>95</td>\n",
              "      <td>860</td>\n",
              "      <td>36</td>\n",
              "      <td>30</td>\n",
              "      <td>10</td>\n",
              "      <td>4</td>\n",
              "      <td>17</td>\n",
              "      <td>2</td>\n",
              "      <td>21</td>\n",
              "      <td>15</td>\n",
              "      <td>0</td>\n",
              "      <td>30</td>\n",
              "      <td>15</td>\n",
              "    </tr>\n",
              "    <tr>\n",
              "      <th>4</th>\n",
              "      <td>Breakfast</td>\n",
              "      <td>Sausage McMuffin with Egg Whites</td>\n",
              "      <td>5.7 oz (161 g)</td>\n",
              "      <td>400</td>\n",
              "      <td>210</td>\n",
              "      <td>23.0</td>\n",
              "      <td>35</td>\n",
              "      <td>8.0</td>\n",
              "      <td>42</td>\n",
              "      <td>0.0</td>\n",
              "      <td>50</td>\n",
              "      <td>16</td>\n",
              "      <td>880</td>\n",
              "      <td>37</td>\n",
              "      <td>30</td>\n",
              "      <td>10</td>\n",
              "      <td>4</td>\n",
              "      <td>17</td>\n",
              "      <td>2</td>\n",
              "      <td>21</td>\n",
              "      <td>6</td>\n",
              "      <td>0</td>\n",
              "      <td>25</td>\n",
              "      <td>10</td>\n",
              "    </tr>\n",
              "  </tbody>\n",
              "</table>\n",
              "</div>"
            ],
            "text/plain": [
              "    Category  ... Iron (% Daily Value)\n",
              "0  Breakfast  ...                   15\n",
              "1  Breakfast  ...                    8\n",
              "2  Breakfast  ...                   10\n",
              "3  Breakfast  ...                   15\n",
              "4  Breakfast  ...                   10\n",
              "\n",
              "[5 rows x 24 columns]"
            ]
          },
          "metadata": {
            "tags": []
          },
          "execution_count": 3
        }
      ]
    },
    {
      "cell_type": "code",
      "metadata": {
        "colab": {
          "base_uri": "https://localhost:8080/"
        },
        "id": "VfxIVAlZj5hy",
        "outputId": "2a943b6b-5fbf-4d24-d6c3-605b5ea6668b"
      },
      "source": [
        "series = pd.read_csv('/content/Mcdonalds.csv', usecols=['Item', 'Calories'], index_col='Item', squeeze=True)\n",
        "series.head()"
      ],
      "execution_count": null,
      "outputs": [
        {
          "output_type": "execute_result",
          "data": {
            "text/plain": [
              "Item\n",
              "Egg McMuffin                        300\n",
              "Egg White Delight                   250\n",
              "Sausage McMuffin                    370\n",
              "Sausage McMuffin with Egg           450\n",
              "Sausage McMuffin with Egg Whites    400\n",
              "Name: Calories, dtype: int64"
            ]
          },
          "metadata": {
            "tags": []
          },
          "execution_count": 4
        }
      ]
    },
    {
      "cell_type": "code",
      "metadata": {
        "colab": {
          "base_uri": "https://localhost:8080/"
        },
        "id": "xTyO4TWjkerK",
        "outputId": "fd7b317b-8f3c-4b28-eb6e-88e9da4aa420"
      },
      "source": [
        "series.count()"
      ],
      "execution_count": null,
      "outputs": [
        {
          "output_type": "execute_result",
          "data": {
            "text/plain": [
              "260"
            ]
          },
          "metadata": {
            "tags": []
          },
          "execution_count": 5
        }
      ]
    },
    {
      "cell_type": "code",
      "metadata": {
        "colab": {
          "base_uri": "https://localhost:8080/"
        },
        "id": "0jGBfUGllFbC",
        "outputId": "f5933f45-ab49-4062-b219-2b4cfc983f7d"
      },
      "source": [
        "frame.count()"
      ],
      "execution_count": null,
      "outputs": [
        {
          "output_type": "execute_result",
          "data": {
            "text/plain": [
              "Category                         260\n",
              "Item                             260\n",
              "Serving Size                     260\n",
              "Calories                         260\n",
              "Calories from Fat                260\n",
              "TotalFat                         260\n",
              "Total Fat (% Daily Value)        260\n",
              "Saturated Fat                    260\n",
              "Saturated Fat (% Daily Value)    260\n",
              "Trans Fat                        260\n",
              "Cholesterol                      260\n",
              "Cholesterol (% Daily Value)      260\n",
              "Sodium                           260\n",
              "Sodium (% Daily Value)           260\n",
              "Carbohydrates                    260\n",
              "Carbohydrates (% Daily Value)    260\n",
              "Dietary Fiber                    260\n",
              "Dietary Fiber (% Daily Value)    260\n",
              "Sugars                           260\n",
              "Protein                          260\n",
              "Vitamin A (% Daily Value)        260\n",
              "Vitamin C (% Daily Value)        260\n",
              "Calcium (% Daily Value)          260\n",
              "Iron (% Daily Value)             260\n",
              "dtype: int64"
            ]
          },
          "metadata": {
            "tags": []
          },
          "execution_count": 6
        }
      ]
    },
    {
      "cell_type": "code",
      "metadata": {
        "colab": {
          "base_uri": "https://localhost:8080/"
        },
        "id": "D-TyQcCAlN_a",
        "outputId": "e566d0c1-8876-4c81-9d40-1a1500479519"
      },
      "source": [
        "len(series)"
      ],
      "execution_count": null,
      "outputs": [
        {
          "output_type": "execute_result",
          "data": {
            "text/plain": [
              "260"
            ]
          },
          "metadata": {
            "tags": []
          },
          "execution_count": 7
        }
      ]
    },
    {
      "cell_type": "code",
      "metadata": {
        "colab": {
          "base_uri": "https://localhost:8080/"
        },
        "id": "lEestrlvlgAO",
        "outputId": "0a6d46b8-909d-464c-ece5-b6daf9d3c085"
      },
      "source": [
        "len(frame)"
      ],
      "execution_count": null,
      "outputs": [
        {
          "output_type": "execute_result",
          "data": {
            "text/plain": [
              "260"
            ]
          },
          "metadata": {
            "tags": []
          },
          "execution_count": 8
        }
      ]
    },
    {
      "cell_type": "code",
      "metadata": {
        "colab": {
          "base_uri": "https://localhost:8080/"
        },
        "id": "XukXz856lkxR",
        "outputId": "d9fbec41-90cc-4e0b-969e-7744f43a74a9"
      },
      "source": [
        "series.dtypes"
      ],
      "execution_count": null,
      "outputs": [
        {
          "output_type": "execute_result",
          "data": {
            "text/plain": [
              "dtype('int64')"
            ]
          },
          "metadata": {
            "tags": []
          },
          "execution_count": 9
        }
      ]
    },
    {
      "cell_type": "code",
      "metadata": {
        "colab": {
          "base_uri": "https://localhost:8080/"
        },
        "id": "T-129IrtlpwS",
        "outputId": "9b959afe-a6a8-4a64-a3d5-cfc5a8dab888"
      },
      "source": [
        "frame.dtypes"
      ],
      "execution_count": null,
      "outputs": [
        {
          "output_type": "execute_result",
          "data": {
            "text/plain": [
              "Category                          object\n",
              "Item                              object\n",
              "Serving Size                      object\n",
              "Calories                           int64\n",
              "Calories from Fat                  int64\n",
              "TotalFat                         float64\n",
              "Total Fat (% Daily Value)          int64\n",
              "Saturated Fat                    float64\n",
              "Saturated Fat (% Daily Value)      int64\n",
              "Trans Fat                        float64\n",
              "Cholesterol                        int64\n",
              "Cholesterol (% Daily Value)        int64\n",
              "Sodium                             int64\n",
              "Sodium (% Daily Value)             int64\n",
              "Carbohydrates                      int64\n",
              "Carbohydrates (% Daily Value)      int64\n",
              "Dietary Fiber                      int64\n",
              "Dietary Fiber (% Daily Value)      int64\n",
              "Sugars                             int64\n",
              "Protein                            int64\n",
              "Vitamin A (% Daily Value)          int64\n",
              "Vitamin C (% Daily Value)          int64\n",
              "Calcium (% Daily Value)            int64\n",
              "Iron (% Daily Value)               int64\n",
              "dtype: object"
            ]
          },
          "metadata": {
            "tags": []
          },
          "execution_count": 10
        }
      ]
    },
    {
      "cell_type": "code",
      "metadata": {
        "colab": {
          "base_uri": "https://localhost:8080/"
        },
        "id": "OasZwk33lztl",
        "outputId": "3bbf21cb-c6fd-4e53-bea5-e20a4750e3a7"
      },
      "source": [
        "frame.dtypes.value_counts()"
      ],
      "execution_count": null,
      "outputs": [
        {
          "output_type": "execute_result",
          "data": {
            "text/plain": [
              "int64      18\n",
              "object      3\n",
              "float64     3\n",
              "dtype: int64"
            ]
          },
          "metadata": {
            "tags": []
          },
          "execution_count": 15
        }
      ]
    },
    {
      "cell_type": "code",
      "metadata": {
        "colab": {
          "base_uri": "https://localhost:8080/"
        },
        "id": "i5wn80u8nwYo",
        "outputId": "450f8f33-5737-4018-d754-16d70550bc99"
      },
      "source": [
        "series.shape"
      ],
      "execution_count": null,
      "outputs": [
        {
          "output_type": "execute_result",
          "data": {
            "text/plain": [
              "(260,)"
            ]
          },
          "metadata": {
            "tags": []
          },
          "execution_count": 17
        }
      ]
    },
    {
      "cell_type": "code",
      "metadata": {
        "colab": {
          "base_uri": "https://localhost:8080/"
        },
        "id": "dzNyQ0BQnyMI",
        "outputId": "897461b2-0abb-4022-de3f-07ec8e4d6bf6"
      },
      "source": [
        "frame.shape"
      ],
      "execution_count": null,
      "outputs": [
        {
          "output_type": "execute_result",
          "data": {
            "text/plain": [
              "(260, 24)"
            ]
          },
          "metadata": {
            "tags": []
          },
          "execution_count": 18
        }
      ]
    },
    {
      "cell_type": "code",
      "metadata": {
        "colab": {
          "base_uri": "https://localhost:8080/"
        },
        "id": "bMoXchRKn0MT",
        "outputId": "d3a27e2c-290a-4c3b-fa44-b2e99c05b73a"
      },
      "source": [
        "series.axes"
      ],
      "execution_count": null,
      "outputs": [
        {
          "output_type": "execute_result",
          "data": {
            "text/plain": [
              "[Index(['Egg McMuffin', 'Egg White Delight', 'Sausage McMuffin',\n",
              "        'Sausage McMuffin with Egg', 'Sausage McMuffin with Egg Whites',\n",
              "        'Steak & Egg McMuffin', 'Bacon, Egg & Cheese Biscuit (Regular Biscuit)',\n",
              "        'Bacon, Egg & Cheese Biscuit (Large Biscuit)',\n",
              "        'Bacon, Egg & Cheese Biscuit with Egg Whites (Regular Biscuit)',\n",
              "        'Bacon, Egg & Cheese Biscuit with Egg Whites (Large Biscuit)',\n",
              "        ...\n",
              "        'Shamrock Shake (Medium)', 'Shamrock Shake (Large)',\n",
              "        'McFlurry with M&M’s Candies (Small)',\n",
              "        'McFlurry with M&M’s Candies (Medium)',\n",
              "        'McFlurry with M&M’s Candies (Snack)',\n",
              "        'McFlurry with Oreo Cookies (Small)',\n",
              "        'McFlurry with Oreo Cookies (Medium)',\n",
              "        'McFlurry with Oreo Cookies (Snack)',\n",
              "        'McFlurry with Reese's Peanut Butter Cups (Medium)',\n",
              "        'McFlurry with Reese's Peanut Butter Cups (Snack)'],\n",
              "       dtype='object', name='Item', length=260)]"
            ]
          },
          "metadata": {
            "tags": []
          },
          "execution_count": 19
        }
      ]
    },
    {
      "cell_type": "code",
      "metadata": {
        "colab": {
          "base_uri": "https://localhost:8080/"
        },
        "id": "y_LcRXdLoG78",
        "outputId": "6a1d2e62-8195-4bc4-ebd7-15cdfe5f0950"
      },
      "source": [
        "frame.axes"
      ],
      "execution_count": null,
      "outputs": [
        {
          "output_type": "execute_result",
          "data": {
            "text/plain": [
              "[RangeIndex(start=0, stop=260, step=1),\n",
              " Index(['Category', 'Item', 'Serving Size', 'Calories', 'Calories from Fat',\n",
              "        'TotalFat', 'Total Fat (% Daily Value)', 'Saturated Fat',\n",
              "        'Saturated Fat (% Daily Value)', 'Trans Fat', 'Cholesterol',\n",
              "        'Cholesterol (% Daily Value)', 'Sodium', 'Sodium (% Daily Value)',\n",
              "        'Carbohydrates', 'Carbohydrates (% Daily Value)', 'Dietary Fiber',\n",
              "        'Dietary Fiber (% Daily Value)', 'Sugars', 'Protein',\n",
              "        'Vitamin A (% Daily Value)', 'Vitamin C (% Daily Value)',\n",
              "        'Calcium (% Daily Value)', 'Iron (% Daily Value)'],\n",
              "       dtype='object')]"
            ]
          },
          "metadata": {
            "tags": []
          },
          "execution_count": 20
        }
      ]
    },
    {
      "cell_type": "code",
      "metadata": {
        "colab": {
          "base_uri": "https://localhost:8080/"
        },
        "id": "drw2kibMo1lL",
        "outputId": "62157bf7-d6bd-4522-8078-173ffe6aedd9"
      },
      "source": [
        "series.index"
      ],
      "execution_count": null,
      "outputs": [
        {
          "output_type": "execute_result",
          "data": {
            "text/plain": [
              "Index(['Egg McMuffin', 'Egg White Delight', 'Sausage McMuffin',\n",
              "       'Sausage McMuffin with Egg', 'Sausage McMuffin with Egg Whites',\n",
              "       'Steak & Egg McMuffin', 'Bacon, Egg & Cheese Biscuit (Regular Biscuit)',\n",
              "       'Bacon, Egg & Cheese Biscuit (Large Biscuit)',\n",
              "       'Bacon, Egg & Cheese Biscuit with Egg Whites (Regular Biscuit)',\n",
              "       'Bacon, Egg & Cheese Biscuit with Egg Whites (Large Biscuit)',\n",
              "       ...\n",
              "       'Shamrock Shake (Medium)', 'Shamrock Shake (Large)',\n",
              "       'McFlurry with M&M’s Candies (Small)',\n",
              "       'McFlurry with M&M’s Candies (Medium)',\n",
              "       'McFlurry with M&M’s Candies (Snack)',\n",
              "       'McFlurry with Oreo Cookies (Small)',\n",
              "       'McFlurry with Oreo Cookies (Medium)',\n",
              "       'McFlurry with Oreo Cookies (Snack)',\n",
              "       'McFlurry with Reese's Peanut Butter Cups (Medium)',\n",
              "       'McFlurry with Reese's Peanut Butter Cups (Snack)'],\n",
              "      dtype='object', name='Item', length=260)"
            ]
          },
          "metadata": {
            "tags": []
          },
          "execution_count": 21
        }
      ]
    },
    {
      "cell_type": "code",
      "metadata": {
        "colab": {
          "base_uri": "https://localhost:8080/"
        },
        "id": "XhatJtnophD7",
        "outputId": "f5d2f16f-75d8-450b-cec6-b66533fb4f26"
      },
      "source": [
        "frame.index"
      ],
      "execution_count": null,
      "outputs": [
        {
          "output_type": "execute_result",
          "data": {
            "text/plain": [
              "RangeIndex(start=0, stop=260, step=1)"
            ]
          },
          "metadata": {
            "tags": []
          },
          "execution_count": 22
        }
      ]
    },
    {
      "cell_type": "code",
      "metadata": {
        "id": "L6t5UvMyp7Uz"
      },
      "source": [
        "# series.columns"
      ],
      "execution_count": null,
      "outputs": []
    },
    {
      "cell_type": "code",
      "metadata": {
        "id": "RWK8rWFHqIIA",
        "colab": {
          "base_uri": "https://localhost:8080/"
        },
        "outputId": "a4a3973f-9865-4442-8030-ddced9696ecd"
      },
      "source": [
        "frame.columns"
      ],
      "execution_count": null,
      "outputs": [
        {
          "output_type": "execute_result",
          "data": {
            "text/plain": [
              "Index(['Category', 'Item', 'Serving Size', 'Calories', 'Calories from Fat',\n",
              "       'TotalFat', 'Total Fat (% Daily Value)', 'Saturated Fat',\n",
              "       'Saturated Fat (% Daily Value)', 'Trans Fat', 'Cholesterol',\n",
              "       'Cholesterol (% Daily Value)', 'Sodium', 'Sodium (% Daily Value)',\n",
              "       'Carbohydrates', 'Carbohydrates (% Daily Value)', 'Dietary Fiber',\n",
              "       'Dietary Fiber (% Daily Value)', 'Sugars', 'Protein',\n",
              "       'Vitamin A (% Daily Value)', 'Vitamin C (% Daily Value)',\n",
              "       'Calcium (% Daily Value)', 'Iron (% Daily Value)'],\n",
              "      dtype='object')"
            ]
          },
          "metadata": {
            "tags": []
          },
          "execution_count": 24
        }
      ]
    },
    {
      "cell_type": "code",
      "metadata": {
        "id": "uC1Js_ZtqLMT",
        "colab": {
          "base_uri": "https://localhost:8080/"
        },
        "outputId": "00edafde-fac7-4fcc-fb37-8a906c3b0899"
      },
      "source": [
        "series.values"
      ],
      "execution_count": null,
      "outputs": [
        {
          "output_type": "execute_result",
          "data": {
            "text/plain": [
              "array([ 300,  250,  370,  450,  400,  430,  460,  520,  410,  470,  430,\n",
              "        480,  510,  570,  460,  520,  410,  470,  540,  460,  400,  420,\n",
              "        550,  500,  620,  570,  670,  740,  800,  640,  690, 1090, 1150,\n",
              "        990, 1050,  350,  520,  300,  150,  460,  290,  260,  530,  520,\n",
              "        600,  610,  540,  750,  240,  290,  430,  720,  380,  440,  430,\n",
              "        430,  500,  510,  350,  670,  510,  610,  450,  750,  590,  430,\n",
              "        360,  480,  430,  360,  630,  480,  610,  450,  670,  520,  540,\n",
              "        380,  190,  280,  470,  940, 1880,  390,  140,  380,  220,  140,\n",
              "        450,  290,  340,  260,  330,  250,  360,  280,  230,  340,  510,\n",
              "        110,   20,   15,  150,  250,  160,  150,   45,  330,  340,  280,\n",
              "        140,  200,  280,  100,    0,    0,    0,    0,  140,  190,  270,\n",
              "        100,    0,    0,    0,    0,  140,  200,  280,  100,  100,  130,\n",
              "         80,  150,  190,  280,    0,    0,    0,    0,    0,  150,  180,\n",
              "        220,  110,    0,    0,    0,  170,  210,  280,  270,  340,  430,\n",
              "        270,  330,  430,  260,  330,  420,  210,  260,  330,  100,  130,\n",
              "        170,  200,  250,  310,  200,  250,  310,  190,  240,  300,  140,\n",
              "        170,  220,  340,  410,  500,  270,  330,  390,  320,  390,  480,\n",
              "        250,  310,  370,  360,  440,  540,  280,  340,  400,  140,  190,\n",
              "        270,  130,  180,  260,  130,  180,  250,  120,  170,  240,   80,\n",
              "        120,  160,  290,  350,  480,  240,  290,  390,  280,  340,  460,\n",
              "        230,  270,  370,  450,  550,  670,  450,  550,  670,  530,  630,\n",
              "        760,  220,  260,  340,  210,  250,  330,  210,  260,  340,  530,\n",
              "        660,  820,  550,  690,  850,  560,  700,  850,  660,  820,  650,\n",
              "        930,  430,  510,  690,  340,  810,  410])"
            ]
          },
          "metadata": {
            "tags": []
          },
          "execution_count": 25
        }
      ]
    },
    {
      "cell_type": "code",
      "metadata": {
        "colab": {
          "base_uri": "https://localhost:8080/"
        },
        "id": "9ph4J7_OrIQj",
        "outputId": "7a041b20-084d-4905-9ce3-23ac40debdeb"
      },
      "source": [
        "frame.values"
      ],
      "execution_count": null,
      "outputs": [
        {
          "output_type": "execute_result",
          "data": {
            "text/plain": [
              "array([['Breakfast', 'Egg McMuffin', '4.8 oz (136 g)', ..., 0, 25, 15],\n",
              "       ['Breakfast', 'Egg White Delight', '4.8 oz (135 g)', ..., 0, 25,\n",
              "        8],\n",
              "       ['Breakfast', 'Sausage McMuffin', '3.9 oz (111 g)', ..., 0, 25,\n",
              "        10],\n",
              "       ...,\n",
              "       ['Smoothies & Shakes', 'McFlurry with Oreo Cookies (Snack)',\n",
              "        '6.7 oz (190 g)', ..., 0, 25, 6],\n",
              "       ['Smoothies & Shakes',\n",
              "        \"McFlurry with Reese's Peanut Butter Cups (Medium)\",\n",
              "        '14.2 oz (403 g)', ..., 0, 60, 6],\n",
              "       ['Smoothies & Shakes',\n",
              "        \"McFlurry with Reese's Peanut Butter Cups (Snack)\",\n",
              "        '7.1 oz (202 g)', ..., 0, 30, 4]], dtype=object)"
            ]
          },
          "metadata": {
            "tags": []
          },
          "execution_count": 26
        }
      ]
    },
    {
      "cell_type": "code",
      "metadata": {
        "colab": {
          "base_uri": "https://localhost:8080/"
        },
        "id": "uSuCfOcwrTnX",
        "outputId": "6337150f-db1b-42f7-e992-25ffa6e9d826"
      },
      "source": [
        "frame.info()"
      ],
      "execution_count": null,
      "outputs": [
        {
          "output_type": "stream",
          "text": [
            "<class 'pandas.core.frame.DataFrame'>\n",
            "RangeIndex: 260 entries, 0 to 259\n",
            "Data columns (total 24 columns):\n",
            " #   Column                         Non-Null Count  Dtype  \n",
            "---  ------                         --------------  -----  \n",
            " 0   Category                       260 non-null    object \n",
            " 1   Item                           260 non-null    object \n",
            " 2   Serving Size                   260 non-null    object \n",
            " 3   Calories                       260 non-null    int64  \n",
            " 4   Calories from Fat              260 non-null    int64  \n",
            " 5   TotalFat                       260 non-null    float64\n",
            " 6   Total Fat (% Daily Value)      260 non-null    int64  \n",
            " 7   Saturated Fat                  260 non-null    float64\n",
            " 8   Saturated Fat (% Daily Value)  260 non-null    int64  \n",
            " 9   Trans Fat                      260 non-null    float64\n",
            " 10  Cholesterol                    260 non-null    int64  \n",
            " 11  Cholesterol (% Daily Value)    260 non-null    int64  \n",
            " 12  Sodium                         260 non-null    int64  \n",
            " 13  Sodium (% Daily Value)         260 non-null    int64  \n",
            " 14  Carbohydrates                  260 non-null    int64  \n",
            " 15  Carbohydrates (% Daily Value)  260 non-null    int64  \n",
            " 16  Dietary Fiber                  260 non-null    int64  \n",
            " 17  Dietary Fiber (% Daily Value)  260 non-null    int64  \n",
            " 18  Sugars                         260 non-null    int64  \n",
            " 19  Protein                        260 non-null    int64  \n",
            " 20  Vitamin A (% Daily Value)      260 non-null    int64  \n",
            " 21  Vitamin C (% Daily Value)      260 non-null    int64  \n",
            " 22  Calcium (% Daily Value)        260 non-null    int64  \n",
            " 23  Iron (% Daily Value)           260 non-null    int64  \n",
            "dtypes: float64(3), int64(18), object(3)\n",
            "memory usage: 48.9+ KB\n"
          ],
          "name": "stdout"
        }
      ]
    },
    {
      "cell_type": "code",
      "metadata": {
        "colab": {
          "base_uri": "https://localhost:8080/"
        },
        "id": "4TEVy221rydP",
        "outputId": "865bd6ac-41f3-4dec-cb93-509e59fd975e"
      },
      "source": [
        "series.value_counts()"
      ],
      "execution_count": null,
      "outputs": [
        {
          "output_type": "execute_result",
          "data": {
            "text/plain": [
              "0      16\n",
              "340    10\n",
              "430    10\n",
              "280     9\n",
              "250     8\n",
              "       ..\n",
              "740     1\n",
              "760     1\n",
              "930     1\n",
              "810     1\n",
              "650     1\n",
              "Name: Calories, Length: 78, dtype: int64"
            ]
          },
          "metadata": {
            "tags": []
          },
          "execution_count": 28
        }
      ]
    },
    {
      "cell_type": "code",
      "metadata": {
        "colab": {
          "base_uri": "https://localhost:8080/"
        },
        "id": "JHVzWxCcsZJe",
        "outputId": "ec169b60-2e02-4be7-f824-9ed9406dabe6"
      },
      "source": [
        "frame['Calories'].value_counts()"
      ],
      "execution_count": null,
      "outputs": [
        {
          "output_type": "execute_result",
          "data": {
            "text/plain": [
              "0      16\n",
              "340    10\n",
              "430    10\n",
              "280     9\n",
              "250     8\n",
              "       ..\n",
              "740     1\n",
              "760     1\n",
              "930     1\n",
              "810     1\n",
              "650     1\n",
              "Name: Calories, Length: 78, dtype: int64"
            ]
          },
          "metadata": {
            "tags": []
          },
          "execution_count": 29
        }
      ]
    },
    {
      "cell_type": "code",
      "metadata": {
        "colab": {
          "base_uri": "https://localhost:8080/"
        },
        "id": "YZattIJXsrgP",
        "outputId": "91ab75f0-d303-45a5-e207-22d3c547a4e6"
      },
      "source": [
        "frame['Category'].value_counts()"
      ],
      "execution_count": null,
      "outputs": [
        {
          "output_type": "execute_result",
          "data": {
            "text/plain": [
              "Coffee & Tea          95\n",
              "Breakfast             42\n",
              "Smoothies & Shakes    28\n",
              "Beverages             27\n",
              "Chicken & Fish        27\n",
              "Beef & Pork           15\n",
              "Snacks & Sides        13\n",
              "Desserts               7\n",
              "Salads                 6\n",
              "Name: Category, dtype: int64"
            ]
          },
          "metadata": {
            "tags": []
          },
          "execution_count": 30
        }
      ]
    },
    {
      "cell_type": "markdown",
      "metadata": {
        "id": "7DcSTEZ8A3cY"
      },
      "source": [
        "Metodą sample losowo wybiorę dane; za każdym razem mogą być inne"
      ]
    },
    {
      "cell_type": "code",
      "metadata": {
        "colab": {
          "base_uri": "https://localhost:8080/"
        },
        "id": "jS-_6gLXAJq9",
        "outputId": "a2ff487d-5997-4ac7-96a8-f96f3708a3db"
      },
      "source": [
        "series.sample()"
      ],
      "execution_count": null,
      "outputs": [
        {
          "output_type": "execute_result",
          "data": {
            "text/plain": [
              "Item\n",
              "Bacon, Egg & Cheese Bagel with Egg Whites    570\n",
              "Name: Calories, dtype: int64"
            ]
          },
          "metadata": {
            "tags": []
          },
          "execution_count": 31
        }
      ]
    },
    {
      "cell_type": "code",
      "metadata": {
        "colab": {
          "base_uri": "https://localhost:8080/",
          "height": 219
        },
        "id": "APSMgGQiAf2E",
        "outputId": "57c35914-dff9-4089-b591-b3755f03e180"
      },
      "source": [
        "frame.sample()"
      ],
      "execution_count": null,
      "outputs": [
        {
          "output_type": "execute_result",
          "data": {
            "text/html": [
              "<div>\n",
              "<style scoped>\n",
              "    .dataframe tbody tr th:only-of-type {\n",
              "        vertical-align: middle;\n",
              "    }\n",
              "\n",
              "    .dataframe tbody tr th {\n",
              "        vertical-align: top;\n",
              "    }\n",
              "\n",
              "    .dataframe thead th {\n",
              "        text-align: right;\n",
              "    }\n",
              "</style>\n",
              "<table border=\"1\" class=\"dataframe\">\n",
              "  <thead>\n",
              "    <tr style=\"text-align: right;\">\n",
              "      <th></th>\n",
              "      <th>Category</th>\n",
              "      <th>Item</th>\n",
              "      <th>Serving Size</th>\n",
              "      <th>Calories</th>\n",
              "      <th>Calories from Fat</th>\n",
              "      <th>TotalFat</th>\n",
              "      <th>Total Fat (% Daily Value)</th>\n",
              "      <th>Saturated Fat</th>\n",
              "      <th>Saturated Fat (% Daily Value)</th>\n",
              "      <th>Trans Fat</th>\n",
              "      <th>Cholesterol</th>\n",
              "      <th>Cholesterol (% Daily Value)</th>\n",
              "      <th>Sodium</th>\n",
              "      <th>Sodium (% Daily Value)</th>\n",
              "      <th>Carbohydrates</th>\n",
              "      <th>Carbohydrates (% Daily Value)</th>\n",
              "      <th>Dietary Fiber</th>\n",
              "      <th>Dietary Fiber (% Daily Value)</th>\n",
              "      <th>Sugars</th>\n",
              "      <th>Protein</th>\n",
              "      <th>Vitamin A (% Daily Value)</th>\n",
              "      <th>Vitamin C (% Daily Value)</th>\n",
              "      <th>Calcium (% Daily Value)</th>\n",
              "      <th>Iron (% Daily Value)</th>\n",
              "    </tr>\n",
              "  </thead>\n",
              "  <tbody>\n",
              "    <tr>\n",
              "      <th>187</th>\n",
              "      <td>Coffee &amp; Tea</td>\n",
              "      <td>Nonfat Caramel Mocha (Small)</td>\n",
              "      <td>12 fl oz cup</td>\n",
              "      <td>250</td>\n",
              "      <td>30</td>\n",
              "      <td>3.5</td>\n",
              "      <td>5</td>\n",
              "      <td>2.0</td>\n",
              "      <td>10</td>\n",
              "      <td>0.0</td>\n",
              "      <td>15</td>\n",
              "      <td>5</td>\n",
              "      <td>170</td>\n",
              "      <td>7</td>\n",
              "      <td>45</td>\n",
              "      <td>15</td>\n",
              "      <td>1</td>\n",
              "      <td>3</td>\n",
              "      <td>41</td>\n",
              "      <td>10</td>\n",
              "      <td>10</td>\n",
              "      <td>0</td>\n",
              "      <td>35</td>\n",
              "      <td>2</td>\n",
              "    </tr>\n",
              "  </tbody>\n",
              "</table>\n",
              "</div>"
            ],
            "text/plain": [
              "         Category  ... Iron (% Daily Value)\n",
              "187  Coffee & Tea  ...                    2\n",
              "\n",
              "[1 rows x 24 columns]"
            ]
          },
          "metadata": {
            "tags": []
          },
          "execution_count": 32
        }
      ]
    },
    {
      "cell_type": "code",
      "metadata": {
        "colab": {
          "base_uri": "https://localhost:8080/",
          "height": 349
        },
        "id": "Ea_M6X0XA2A_",
        "outputId": "0566f259-619a-4921-a235-d17fcc7e35dd"
      },
      "source": [
        "frame.sample(n=3)"
      ],
      "execution_count": null,
      "outputs": [
        {
          "output_type": "execute_result",
          "data": {
            "text/html": [
              "<div>\n",
              "<style scoped>\n",
              "    .dataframe tbody tr th:only-of-type {\n",
              "        vertical-align: middle;\n",
              "    }\n",
              "\n",
              "    .dataframe tbody tr th {\n",
              "        vertical-align: top;\n",
              "    }\n",
              "\n",
              "    .dataframe thead th {\n",
              "        text-align: right;\n",
              "    }\n",
              "</style>\n",
              "<table border=\"1\" class=\"dataframe\">\n",
              "  <thead>\n",
              "    <tr style=\"text-align: right;\">\n",
              "      <th></th>\n",
              "      <th>Category</th>\n",
              "      <th>Item</th>\n",
              "      <th>Serving Size</th>\n",
              "      <th>Calories</th>\n",
              "      <th>Calories from Fat</th>\n",
              "      <th>TotalFat</th>\n",
              "      <th>Total Fat (% Daily Value)</th>\n",
              "      <th>Saturated Fat</th>\n",
              "      <th>Saturated Fat (% Daily Value)</th>\n",
              "      <th>Trans Fat</th>\n",
              "      <th>Cholesterol</th>\n",
              "      <th>Cholesterol (% Daily Value)</th>\n",
              "      <th>Sodium</th>\n",
              "      <th>Sodium (% Daily Value)</th>\n",
              "      <th>Carbohydrates</th>\n",
              "      <th>Carbohydrates (% Daily Value)</th>\n",
              "      <th>Dietary Fiber</th>\n",
              "      <th>Dietary Fiber (% Daily Value)</th>\n",
              "      <th>Sugars</th>\n",
              "      <th>Protein</th>\n",
              "      <th>Vitamin A (% Daily Value)</th>\n",
              "      <th>Vitamin C (% Daily Value)</th>\n",
              "      <th>Calcium (% Daily Value)</th>\n",
              "      <th>Iron (% Daily Value)</th>\n",
              "    </tr>\n",
              "  </thead>\n",
              "  <tbody>\n",
              "    <tr>\n",
              "      <th>138</th>\n",
              "      <td>Coffee &amp; Tea</td>\n",
              "      <td>Iced Tea (Medium)</td>\n",
              "      <td>21 fl oz cup</td>\n",
              "      <td>0</td>\n",
              "      <td>0</td>\n",
              "      <td>0.0</td>\n",
              "      <td>0</td>\n",
              "      <td>0.0</td>\n",
              "      <td>0</td>\n",
              "      <td>0.0</td>\n",
              "      <td>0</td>\n",
              "      <td>0</td>\n",
              "      <td>10</td>\n",
              "      <td>0</td>\n",
              "      <td>0</td>\n",
              "      <td>0</td>\n",
              "      <td>0</td>\n",
              "      <td>0</td>\n",
              "      <td>0</td>\n",
              "      <td>0</td>\n",
              "      <td>0</td>\n",
              "      <td>0</td>\n",
              "      <td>0</td>\n",
              "      <td>0</td>\n",
              "    </tr>\n",
              "    <tr>\n",
              "      <th>181</th>\n",
              "      <td>Coffee &amp; Tea</td>\n",
              "      <td>Mocha with Nonfat Milk (Small)</td>\n",
              "      <td>12 fl oz cup</td>\n",
              "      <td>270</td>\n",
              "      <td>30</td>\n",
              "      <td>3.5</td>\n",
              "      <td>5</td>\n",
              "      <td>2.0</td>\n",
              "      <td>11</td>\n",
              "      <td>0.0</td>\n",
              "      <td>15</td>\n",
              "      <td>5</td>\n",
              "      <td>150</td>\n",
              "      <td>6</td>\n",
              "      <td>49</td>\n",
              "      <td>16</td>\n",
              "      <td>2</td>\n",
              "      <td>6</td>\n",
              "      <td>43</td>\n",
              "      <td>11</td>\n",
              "      <td>10</td>\n",
              "      <td>0</td>\n",
              "      <td>35</td>\n",
              "      <td>6</td>\n",
              "    </tr>\n",
              "    <tr>\n",
              "      <th>141</th>\n",
              "      <td>Coffee &amp; Tea</td>\n",
              "      <td>Sweet Tea (Small)</td>\n",
              "      <td>16 fl oz cup</td>\n",
              "      <td>150</td>\n",
              "      <td>0</td>\n",
              "      <td>0.0</td>\n",
              "      <td>0</td>\n",
              "      <td>0.0</td>\n",
              "      <td>0</td>\n",
              "      <td>0.0</td>\n",
              "      <td>0</td>\n",
              "      <td>0</td>\n",
              "      <td>10</td>\n",
              "      <td>0</td>\n",
              "      <td>36</td>\n",
              "      <td>12</td>\n",
              "      <td>0</td>\n",
              "      <td>0</td>\n",
              "      <td>36</td>\n",
              "      <td>1</td>\n",
              "      <td>0</td>\n",
              "      <td>0</td>\n",
              "      <td>0</td>\n",
              "      <td>0</td>\n",
              "    </tr>\n",
              "  </tbody>\n",
              "</table>\n",
              "</div>"
            ],
            "text/plain": [
              "         Category  ... Iron (% Daily Value)\n",
              "138  Coffee & Tea  ...                    0\n",
              "181  Coffee & Tea  ...                    6\n",
              "141  Coffee & Tea  ...                    0\n",
              "\n",
              "[3 rows x 24 columns]"
            ]
          },
          "metadata": {
            "tags": []
          },
          "execution_count": 33
        }
      ]
    },
    {
      "cell_type": "code",
      "metadata": {
        "colab": {
          "base_uri": "https://localhost:8080/",
          "height": 419
        },
        "id": "ow34j3MpBRA3",
        "outputId": "a94de5d6-8134-4c55-a379-b5a0f42dccc4"
      },
      "source": [
        "frame.sample(n=3, axis='columns')"
      ],
      "execution_count": null,
      "outputs": [
        {
          "output_type": "execute_result",
          "data": {
            "text/html": [
              "<div>\n",
              "<style scoped>\n",
              "    .dataframe tbody tr th:only-of-type {\n",
              "        vertical-align: middle;\n",
              "    }\n",
              "\n",
              "    .dataframe tbody tr th {\n",
              "        vertical-align: top;\n",
              "    }\n",
              "\n",
              "    .dataframe thead th {\n",
              "        text-align: right;\n",
              "    }\n",
              "</style>\n",
              "<table border=\"1\" class=\"dataframe\">\n",
              "  <thead>\n",
              "    <tr style=\"text-align: right;\">\n",
              "      <th></th>\n",
              "      <th>Total Fat (% Daily Value)</th>\n",
              "      <th>Calories</th>\n",
              "      <th>Cholesterol</th>\n",
              "    </tr>\n",
              "  </thead>\n",
              "  <tbody>\n",
              "    <tr>\n",
              "      <th>0</th>\n",
              "      <td>20</td>\n",
              "      <td>300</td>\n",
              "      <td>260</td>\n",
              "    </tr>\n",
              "    <tr>\n",
              "      <th>1</th>\n",
              "      <td>12</td>\n",
              "      <td>250</td>\n",
              "      <td>25</td>\n",
              "    </tr>\n",
              "    <tr>\n",
              "      <th>2</th>\n",
              "      <td>35</td>\n",
              "      <td>370</td>\n",
              "      <td>45</td>\n",
              "    </tr>\n",
              "    <tr>\n",
              "      <th>3</th>\n",
              "      <td>43</td>\n",
              "      <td>450</td>\n",
              "      <td>285</td>\n",
              "    </tr>\n",
              "    <tr>\n",
              "      <th>4</th>\n",
              "      <td>35</td>\n",
              "      <td>400</td>\n",
              "      <td>50</td>\n",
              "    </tr>\n",
              "    <tr>\n",
              "      <th>...</th>\n",
              "      <td>...</td>\n",
              "      <td>...</td>\n",
              "      <td>...</td>\n",
              "    </tr>\n",
              "    <tr>\n",
              "      <th>255</th>\n",
              "      <td>26</td>\n",
              "      <td>510</td>\n",
              "      <td>45</td>\n",
              "    </tr>\n",
              "    <tr>\n",
              "      <th>256</th>\n",
              "      <td>35</td>\n",
              "      <td>690</td>\n",
              "      <td>55</td>\n",
              "    </tr>\n",
              "    <tr>\n",
              "      <th>257</th>\n",
              "      <td>17</td>\n",
              "      <td>340</td>\n",
              "      <td>30</td>\n",
              "    </tr>\n",
              "    <tr>\n",
              "      <th>258</th>\n",
              "      <td>50</td>\n",
              "      <td>810</td>\n",
              "      <td>60</td>\n",
              "    </tr>\n",
              "    <tr>\n",
              "      <th>259</th>\n",
              "      <td>25</td>\n",
              "      <td>410</td>\n",
              "      <td>30</td>\n",
              "    </tr>\n",
              "  </tbody>\n",
              "</table>\n",
              "<p>260 rows × 3 columns</p>\n",
              "</div>"
            ],
            "text/plain": [
              "     Total Fat (% Daily Value)  Calories  Cholesterol\n",
              "0                           20       300          260\n",
              "1                           12       250           25\n",
              "2                           35       370           45\n",
              "3                           43       450          285\n",
              "4                           35       400           50\n",
              "..                         ...       ...          ...\n",
              "255                         26       510           45\n",
              "256                         35       690           55\n",
              "257                         17       340           30\n",
              "258                         50       810           60\n",
              "259                         25       410           30\n",
              "\n",
              "[260 rows x 3 columns]"
            ]
          },
          "metadata": {
            "tags": []
          },
          "execution_count": 35
        }
      ]
    }
  ]
}