{
  "nbformat": 4,
  "nbformat_minor": 0,
  "metadata": {
    "colab": {
      "name": "6.Sprawdzanie czy element jest w serii.ipynb",
      "provenance": [],
      "collapsed_sections": [],
      "authorship_tag": "ABX9TyN68aFzYyiP3IzwgDiON9us"
    },
    "kernelspec": {
      "name": "python3",
      "display_name": "Python 3"
    },
    "language_info": {
      "name": "python"
    }
  },
  "cells": [
    {
      "cell_type": "code",
      "metadata": {
        "id": "_JMNPumJO3_5"
      },
      "source": [
        "import pandas as pd\n",
        "import numpy as np\n",
        "import matplotlib.pyplot as plt\n",
        "import math as math"
      ],
      "execution_count": null,
      "outputs": []
    },
    {
      "cell_type": "code",
      "metadata": {
        "colab": {
          "base_uri": "https://localhost:8080/"
        },
        "id": "C5rpP5vQZC-2",
        "outputId": "4c77fba7-283b-4ff2-d868-dc96884dd5d5"
      },
      "source": [
        "countries = ['EN', 'FR', 'PL', 'IT']\n",
        "'PL' in countries"
      ],
      "execution_count": null,
      "outputs": [
        {
          "output_type": "execute_result",
          "data": {
            "text/plain": [
              "True"
            ]
          },
          "metadata": {
            "tags": []
          },
          "execution_count": 2
        }
      ]
    },
    {
      "cell_type": "code",
      "metadata": {
        "colab": {
          "base_uri": "https://localhost:8080/"
        },
        "id": "kHDB1E_IZrAM",
        "outputId": "82c04d10-b116-4ca0-9488-57e7c22e7493"
      },
      "source": [
        "'ES' in countries"
      ],
      "execution_count": null,
      "outputs": [
        {
          "output_type": "execute_result",
          "data": {
            "text/plain": [
              "False"
            ]
          },
          "metadata": {
            "tags": []
          },
          "execution_count": 3
        }
      ]
    },
    {
      "cell_type": "code",
      "metadata": {
        "colab": {
          "base_uri": "https://localhost:8080/"
        },
        "id": "VIs45XXvZ2i0",
        "outputId": "ef063af5-6dff-4291-fcc7-80e7284b3f43"
      },
      "source": [
        "pok = pd.read_csv('/content/pokemon.csv', usecols=['Name'], squeeze=True)\n",
        "pok.head()"
      ],
      "execution_count": null,
      "outputs": [
        {
          "output_type": "execute_result",
          "data": {
            "text/plain": [
              "0                Bulbasaur\n",
              "1                  Ivysaur\n",
              "2                 Venusaur\n",
              "3    VenusaurMega Venusaur\n",
              "4               Charmander\n",
              "Name: Name, dtype: object"
            ]
          },
          "metadata": {
            "tags": []
          },
          "execution_count": 8
        }
      ]
    },
    {
      "cell_type": "code",
      "metadata": {
        "colab": {
          "base_uri": "https://localhost:8080/"
        },
        "id": "KKZFCZpla4zU",
        "outputId": "08c651dd-f6bc-447b-d277-bba8cbca7528"
      },
      "source": [
        "# Domyślnie odszukanie elementu w serii jest możliwe na indeksie\n",
        "\n",
        "3 in pok"
      ],
      "execution_count": null,
      "outputs": [
        {
          "output_type": "execute_result",
          "data": {
            "text/plain": [
              "True"
            ]
          },
          "metadata": {
            "tags": []
          },
          "execution_count": 9
        }
      ]
    },
    {
      "cell_type": "code",
      "metadata": {
        "colab": {
          "base_uri": "https://localhost:8080/"
        },
        "id": "ytlr6zKgcQTG",
        "outputId": "d67f2077-dfa5-4749-b27a-afe431ac0b18"
      },
      "source": [
        "'Venusaur' in pok"
      ],
      "execution_count": null,
      "outputs": [
        {
          "output_type": "execute_result",
          "data": {
            "text/plain": [
              "False"
            ]
          },
          "metadata": {
            "tags": []
          },
          "execution_count": 11
        }
      ]
    },
    {
      "cell_type": "code",
      "metadata": {
        "colab": {
          "base_uri": "https://localhost:8080/"
        },
        "id": "oh3OrzUycTm0",
        "outputId": "b064eab0-b7f4-4fda-b5eb-177128dac5aa"
      },
      "source": [
        "pok.index"
      ],
      "execution_count": null,
      "outputs": [
        {
          "output_type": "execute_result",
          "data": {
            "text/plain": [
              "RangeIndex(start=0, stop=800, step=1)"
            ]
          },
          "metadata": {
            "tags": []
          },
          "execution_count": 12
        }
      ]
    },
    {
      "cell_type": "code",
      "metadata": {
        "colab": {
          "base_uri": "https://localhost:8080/"
        },
        "id": "L0mQDnXWcqSo",
        "outputId": "337c1baf-dace-4ee6-af6e-5108ab64d2e3"
      },
      "source": [
        "3 in pok.index"
      ],
      "execution_count": null,
      "outputs": [
        {
          "output_type": "execute_result",
          "data": {
            "text/plain": [
              "True"
            ]
          },
          "metadata": {
            "tags": []
          },
          "execution_count": 13
        }
      ]
    },
    {
      "cell_type": "code",
      "metadata": {
        "colab": {
          "base_uri": "https://localhost:8080/"
        },
        "id": "wFgWhHHyctqs",
        "outputId": "b41aa1f6-d8d9-4dcb-b714-1b9339802ed5"
      },
      "source": [
        "pok.values"
      ],
      "execution_count": null,
      "outputs": [
        {
          "output_type": "execute_result",
          "data": {
            "text/plain": [
              "array(['Bulbasaur', 'Ivysaur', 'Venusaur', 'VenusaurMega Venusaur',\n",
              "       'Charmander', 'Charmeleon', 'Charizard',\n",
              "       'CharizardMega Charizard X', 'CharizardMega Charizard Y',\n",
              "       'Squirtle', 'Wartortle', 'Blastoise', 'BlastoiseMega Blastoise',\n",
              "       'Caterpie', 'Metapod', 'Butterfree', 'Weedle', 'Kakuna',\n",
              "       'Beedrill', 'BeedrillMega Beedrill', 'Pidgey', 'Pidgeotto',\n",
              "       'Pidgeot', 'PidgeotMega Pidgeot', 'Rattata', 'Raticate', 'Spearow',\n",
              "       'Fearow', 'Ekans', 'Arbok', 'Pikachu', 'Raichu', 'Sandshrew',\n",
              "       'Sandslash', 'Nidoran♀', 'Nidorina', 'Nidoqueen', 'Nidoran♂',\n",
              "       'Nidorino', 'Nidoking', 'Clefairy', 'Clefable', 'Vulpix',\n",
              "       'Ninetales', 'Jigglypuff', 'Wigglytuff', 'Zubat', 'Golbat',\n",
              "       'Oddish', 'Gloom', 'Vileplume', 'Paras', 'Parasect', 'Venonat',\n",
              "       'Venomoth', 'Diglett', 'Dugtrio', 'Meowth', 'Persian', 'Psyduck',\n",
              "       'Golduck', 'Mankey', 'Primeape', 'Growlithe', 'Arcanine',\n",
              "       'Poliwag', 'Poliwhirl', 'Poliwrath', 'Abra', 'Kadabra', 'Alakazam',\n",
              "       'AlakazamMega Alakazam', 'Machop', 'Machoke', 'Machamp',\n",
              "       'Bellsprout', 'Weepinbell', 'Victreebel', 'Tentacool',\n",
              "       'Tentacruel', 'Geodude', 'Graveler', 'Golem', 'Ponyta', 'Rapidash',\n",
              "       'Slowpoke', 'Slowbro', 'SlowbroMega Slowbro', 'Magnemite',\n",
              "       'Magneton', \"Farfetch'd\", 'Doduo', 'Dodrio', 'Seel', 'Dewgong',\n",
              "       'Grimer', 'Muk', 'Shellder', 'Cloyster', 'Gastly', 'Haunter',\n",
              "       'Gengar', 'GengarMega Gengar', 'Onix', 'Drowzee', 'Hypno',\n",
              "       'Krabby', 'Kingler', 'Voltorb', 'Electrode', 'Exeggcute',\n",
              "       'Exeggutor', 'Cubone', 'Marowak', 'Hitmonlee', 'Hitmonchan',\n",
              "       'Lickitung', 'Koffing', 'Weezing', 'Rhyhorn', 'Rhydon', 'Chansey',\n",
              "       'Tangela', 'Kangaskhan', 'KangaskhanMega Kangaskhan', 'Horsea',\n",
              "       'Seadra', 'Goldeen', 'Seaking', 'Staryu', 'Starmie', 'Mr. Mime',\n",
              "       'Scyther', 'Jynx', 'Electabuzz', 'Magmar', 'Pinsir',\n",
              "       'PinsirMega Pinsir', 'Tauros', 'Magikarp', 'Gyarados',\n",
              "       'GyaradosMega Gyarados', 'Lapras', 'Ditto', 'Eevee', 'Vaporeon',\n",
              "       'Jolteon', 'Flareon', 'Porygon', 'Omanyte', 'Omastar', 'Kabuto',\n",
              "       'Kabutops', 'Aerodactyl', 'AerodactylMega Aerodactyl', 'Snorlax',\n",
              "       'Articuno', 'Zapdos', 'Moltres', 'Dratini', 'Dragonair',\n",
              "       'Dragonite', 'Mewtwo', 'MewtwoMega Mewtwo X',\n",
              "       'MewtwoMega Mewtwo Y', 'Mew', 'Chikorita', 'Bayleef', 'Meganium',\n",
              "       'Cyndaquil', 'Quilava', 'Typhlosion', 'Totodile', 'Croconaw',\n",
              "       'Feraligatr', 'Sentret', 'Furret', 'Hoothoot', 'Noctowl', 'Ledyba',\n",
              "       'Ledian', 'Spinarak', 'Ariados', 'Crobat', 'Chinchou', 'Lanturn',\n",
              "       'Pichu', 'Cleffa', 'Igglybuff', 'Togepi', 'Togetic', 'Natu',\n",
              "       'Xatu', 'Mareep', 'Flaaffy', 'Ampharos', 'AmpharosMega Ampharos',\n",
              "       'Bellossom', 'Marill', 'Azumarill', 'Sudowoodo', 'Politoed',\n",
              "       'Hoppip', 'Skiploom', 'Jumpluff', 'Aipom', 'Sunkern', 'Sunflora',\n",
              "       'Yanma', 'Wooper', 'Quagsire', 'Espeon', 'Umbreon', 'Murkrow',\n",
              "       'Slowking', 'Misdreavus', 'Unown', 'Wobbuffet', 'Girafarig',\n",
              "       'Pineco', 'Forretress', 'Dunsparce', 'Gligar', 'Steelix',\n",
              "       'SteelixMega Steelix', 'Snubbull', 'Granbull', 'Qwilfish',\n",
              "       'Scizor', 'ScizorMega Scizor', 'Shuckle', 'Heracross',\n",
              "       'HeracrossMega Heracross', 'Sneasel', 'Teddiursa', 'Ursaring',\n",
              "       'Slugma', 'Magcargo', 'Swinub', 'Piloswine', 'Corsola', 'Remoraid',\n",
              "       'Octillery', 'Delibird', 'Mantine', 'Skarmory', 'Houndour',\n",
              "       'Houndoom', 'HoundoomMega Houndoom', 'Kingdra', 'Phanpy',\n",
              "       'Donphan', 'Porygon2', 'Stantler', 'Smeargle', 'Tyrogue',\n",
              "       'Hitmontop', 'Smoochum', 'Elekid', 'Magby', 'Miltank', 'Blissey',\n",
              "       'Raikou', 'Entei', 'Suicune', 'Larvitar', 'Pupitar', 'Tyranitar',\n",
              "       'TyranitarMega Tyranitar', 'Lugia', 'Ho-oh', 'Celebi', 'Treecko',\n",
              "       'Grovyle', 'Sceptile', 'SceptileMega Sceptile', 'Torchic',\n",
              "       'Combusken', 'Blaziken', 'BlazikenMega Blaziken', 'Mudkip',\n",
              "       'Marshtomp', 'Swampert', 'SwampertMega Swampert', 'Poochyena',\n",
              "       'Mightyena', 'Zigzagoon', 'Linoone', 'Wurmple', 'Silcoon',\n",
              "       'Beautifly', 'Cascoon', 'Dustox', 'Lotad', 'Lombre', 'Ludicolo',\n",
              "       'Seedot', 'Nuzleaf', 'Shiftry', 'Taillow', 'Swellow', 'Wingull',\n",
              "       'Pelipper', 'Ralts', 'Kirlia', 'Gardevoir',\n",
              "       'GardevoirMega Gardevoir', 'Surskit', 'Masquerain', 'Shroomish',\n",
              "       'Breloom', 'Slakoth', 'Vigoroth', 'Slaking', 'Nincada', 'Ninjask',\n",
              "       'Shedinja', 'Whismur', 'Loudred', 'Exploud', 'Makuhita',\n",
              "       'Hariyama', 'Azurill', 'Nosepass', 'Skitty', 'Delcatty', 'Sableye',\n",
              "       'SableyeMega Sableye', 'Mawile', 'MawileMega Mawile', 'Aron',\n",
              "       'Lairon', 'Aggron', 'AggronMega Aggron', 'Meditite', 'Medicham',\n",
              "       'MedichamMega Medicham', 'Electrike', 'Manectric',\n",
              "       'ManectricMega Manectric', 'Plusle', 'Minun', 'Volbeat',\n",
              "       'Illumise', 'Roselia', 'Gulpin', 'Swalot', 'Carvanha', 'Sharpedo',\n",
              "       'SharpedoMega Sharpedo', 'Wailmer', 'Wailord', 'Numel', 'Camerupt',\n",
              "       'CameruptMega Camerupt', 'Torkoal', 'Spoink', 'Grumpig', 'Spinda',\n",
              "       'Trapinch', 'Vibrava', 'Flygon', 'Cacnea', 'Cacturne', 'Swablu',\n",
              "       'Altaria', 'AltariaMega Altaria', 'Zangoose', 'Seviper',\n",
              "       'Lunatone', 'Solrock', 'Barboach', 'Whiscash', 'Corphish',\n",
              "       'Crawdaunt', 'Baltoy', 'Claydol', 'Lileep', 'Cradily', 'Anorith',\n",
              "       'Armaldo', 'Feebas', 'Milotic', 'Castform', 'Kecleon', 'Shuppet',\n",
              "       'Banette', 'BanetteMega Banette', 'Duskull', 'Dusclops', 'Tropius',\n",
              "       'Chimecho', 'Absol', 'AbsolMega Absol', 'Wynaut', 'Snorunt',\n",
              "       'Glalie', 'GlalieMega Glalie', 'Spheal', 'Sealeo', 'Walrein',\n",
              "       'Clamperl', 'Huntail', 'Gorebyss', 'Relicanth', 'Luvdisc', 'Bagon',\n",
              "       'Shelgon', 'Salamence', 'SalamenceMega Salamence', 'Beldum',\n",
              "       'Metang', 'Metagross', 'MetagrossMega Metagross', 'Regirock',\n",
              "       'Regice', 'Registeel', 'Latias', 'LatiasMega Latias', 'Latios',\n",
              "       'LatiosMega Latios', 'Kyogre', 'KyogrePrimal Kyogre', 'Groudon',\n",
              "       'GroudonPrimal Groudon', 'Rayquaza', 'RayquazaMega Rayquaza',\n",
              "       'Jirachi', 'DeoxysNormal Forme', 'DeoxysAttack Forme',\n",
              "       'DeoxysDefense Forme', 'DeoxysSpeed Forme', 'Turtwig', 'Grotle',\n",
              "       'Torterra', 'Chimchar', 'Monferno', 'Infernape', 'Piplup',\n",
              "       'Prinplup', 'Empoleon', 'Starly', 'Staravia', 'Staraptor',\n",
              "       'Bidoof', 'Bibarel', 'Kricketot', 'Kricketune', 'Shinx', 'Luxio',\n",
              "       'Luxray', 'Budew', 'Roserade', 'Cranidos', 'Rampardos', 'Shieldon',\n",
              "       'Bastiodon', 'Burmy', 'WormadamPlant Cloak', 'WormadamSandy Cloak',\n",
              "       'WormadamTrash Cloak', 'Mothim', 'Combee', 'Vespiquen',\n",
              "       'Pachirisu', 'Buizel', 'Floatzel', 'Cherubi', 'Cherrim', 'Shellos',\n",
              "       'Gastrodon', 'Ambipom', 'Drifloon', 'Drifblim', 'Buneary',\n",
              "       'Lopunny', 'LopunnyMega Lopunny', 'Mismagius', 'Honchkrow',\n",
              "       'Glameow', 'Purugly', 'Chingling', 'Stunky', 'Skuntank', 'Bronzor',\n",
              "       'Bronzong', 'Bonsly', 'Mime Jr.', 'Happiny', 'Chatot', 'Spiritomb',\n",
              "       'Gible', 'Gabite', 'Garchomp', 'GarchompMega Garchomp', 'Munchlax',\n",
              "       'Riolu', 'Lucario', 'LucarioMega Lucario', 'Hippopotas',\n",
              "       'Hippowdon', 'Skorupi', 'Drapion', 'Croagunk', 'Toxicroak',\n",
              "       'Carnivine', 'Finneon', 'Lumineon', 'Mantyke', 'Snover',\n",
              "       'Abomasnow', 'AbomasnowMega Abomasnow', 'Weavile', 'Magnezone',\n",
              "       'Lickilicky', 'Rhyperior', 'Tangrowth', 'Electivire', 'Magmortar',\n",
              "       'Togekiss', 'Yanmega', 'Leafeon', 'Glaceon', 'Gliscor',\n",
              "       'Mamoswine', 'Porygon-Z', 'Gallade', 'GalladeMega Gallade',\n",
              "       'Probopass', 'Dusknoir', 'Froslass', 'Rotom', 'RotomHeat Rotom',\n",
              "       'RotomWash Rotom', 'RotomFrost Rotom', 'RotomFan Rotom',\n",
              "       'RotomMow Rotom', 'Uxie', 'Mesprit', 'Azelf', 'Dialga', 'Palkia',\n",
              "       'Heatran', 'Regigigas', 'GiratinaAltered Forme',\n",
              "       'GiratinaOrigin Forme', 'Cresselia', 'Phione', 'Manaphy',\n",
              "       'Darkrai', 'ShayminLand Forme', 'ShayminSky Forme', 'Arceus',\n",
              "       'Victini', 'Snivy', 'Servine', 'Serperior', 'Tepig', 'Pignite',\n",
              "       'Emboar', 'Oshawott', 'Dewott', 'Samurott', 'Patrat', 'Watchog',\n",
              "       'Lillipup', 'Herdier', 'Stoutland', 'Purrloin', 'Liepard',\n",
              "       'Pansage', 'Simisage', 'Pansear', 'Simisear', 'Panpour',\n",
              "       'Simipour', 'Munna', 'Musharna', 'Pidove', 'Tranquill', 'Unfezant',\n",
              "       'Blitzle', 'Zebstrika', 'Roggenrola', 'Boldore', 'Gigalith',\n",
              "       'Woobat', 'Swoobat', 'Drilbur', 'Excadrill', 'Audino',\n",
              "       'AudinoMega Audino', 'Timburr', 'Gurdurr', 'Conkeldurr', 'Tympole',\n",
              "       'Palpitoad', 'Seismitoad', 'Throh', 'Sawk', 'Sewaddle', 'Swadloon',\n",
              "       'Leavanny', 'Venipede', 'Whirlipede', 'Scolipede', 'Cottonee',\n",
              "       'Whimsicott', 'Petilil', 'Lilligant', 'Basculin', 'Sandile',\n",
              "       'Krokorok', 'Krookodile', 'Darumaka', 'DarmanitanStandard Mode',\n",
              "       'DarmanitanZen Mode', 'Maractus', 'Dwebble', 'Crustle', 'Scraggy',\n",
              "       'Scrafty', 'Sigilyph', 'Yamask', 'Cofagrigus', 'Tirtouga',\n",
              "       'Carracosta', 'Archen', 'Archeops', 'Trubbish', 'Garbodor',\n",
              "       'Zorua', 'Zoroark', 'Minccino', 'Cinccino', 'Gothita', 'Gothorita',\n",
              "       'Gothitelle', 'Solosis', 'Duosion', 'Reuniclus', 'Ducklett',\n",
              "       'Swanna', 'Vanillite', 'Vanillish', 'Vanilluxe', 'Deerling',\n",
              "       'Sawsbuck', 'Emolga', 'Karrablast', 'Escavalier', 'Foongus',\n",
              "       'Amoonguss', 'Frillish', 'Jellicent', 'Alomomola', 'Joltik',\n",
              "       'Galvantula', 'Ferroseed', 'Ferrothorn', 'Klink', 'Klang',\n",
              "       'Klinklang', 'Tynamo', 'Eelektrik', 'Eelektross', 'Elgyem',\n",
              "       'Beheeyem', 'Litwick', 'Lampent', 'Chandelure', 'Axew', 'Fraxure',\n",
              "       'Haxorus', 'Cubchoo', 'Beartic', 'Cryogonal', 'Shelmet',\n",
              "       'Accelgor', 'Stunfisk', 'Mienfoo', 'Mienshao', 'Druddigon',\n",
              "       'Golett', 'Golurk', 'Pawniard', 'Bisharp', 'Bouffalant', 'Rufflet',\n",
              "       'Braviary', 'Vullaby', 'Mandibuzz', 'Heatmor', 'Durant', 'Deino',\n",
              "       'Zweilous', 'Hydreigon', 'Larvesta', 'Volcarona', 'Cobalion',\n",
              "       'Terrakion', 'Virizion', 'TornadusIncarnate Forme',\n",
              "       'TornadusTherian Forme', 'ThundurusIncarnate Forme',\n",
              "       'ThundurusTherian Forme', 'Reshiram', 'Zekrom',\n",
              "       'LandorusIncarnate Forme', 'LandorusTherian Forme', 'Kyurem',\n",
              "       'KyuremBlack Kyurem', 'KyuremWhite Kyurem', 'KeldeoOrdinary Forme',\n",
              "       'KeldeoResolute Forme', 'MeloettaAria Forme',\n",
              "       'MeloettaPirouette Forme', 'Genesect', 'Chespin', 'Quilladin',\n",
              "       'Chesnaught', 'Fennekin', 'Braixen', 'Delphox', 'Froakie',\n",
              "       'Frogadier', 'Greninja', 'Bunnelby', 'Diggersby', 'Fletchling',\n",
              "       'Fletchinder', 'Talonflame', 'Scatterbug', 'Spewpa', 'Vivillon',\n",
              "       'Litleo', 'Pyroar', 'Flabébé', 'Floette', 'Florges', 'Skiddo',\n",
              "       'Gogoat', 'Pancham', 'Pangoro', 'Furfrou', 'Espurr',\n",
              "       'MeowsticMale', 'MeowsticFemale', 'Honedge', 'Doublade',\n",
              "       'AegislashBlade Forme', 'AegislashShield Forme', 'Spritzee',\n",
              "       'Aromatisse', 'Swirlix', 'Slurpuff', 'Inkay', 'Malamar', 'Binacle',\n",
              "       'Barbaracle', 'Skrelp', 'Dragalge', 'Clauncher', 'Clawitzer',\n",
              "       'Helioptile', 'Heliolisk', 'Tyrunt', 'Tyrantrum', 'Amaura',\n",
              "       'Aurorus', 'Sylveon', 'Hawlucha', 'Dedenne', 'Carbink', 'Goomy',\n",
              "       'Sliggoo', 'Goodra', 'Klefki', 'Phantump', 'Trevenant',\n",
              "       'PumpkabooAverage Size', 'PumpkabooSmall Size',\n",
              "       'PumpkabooLarge Size', 'PumpkabooSuper Size',\n",
              "       'GourgeistAverage Size', 'GourgeistSmall Size',\n",
              "       'GourgeistLarge Size', 'GourgeistSuper Size', 'Bergmite',\n",
              "       'Avalugg', 'Noibat', 'Noivern', 'Xerneas', 'Yveltal',\n",
              "       'Zygarde50% Forme', 'Diancie', 'DiancieMega Diancie',\n",
              "       'HoopaHoopa Confined', 'HoopaHoopa Unbound', 'Volcanion'],\n",
              "      dtype=object)"
            ]
          },
          "metadata": {
            "tags": []
          },
          "execution_count": 14
        }
      ]
    },
    {
      "cell_type": "code",
      "metadata": {
        "colab": {
          "base_uri": "https://localhost:8080/"
        },
        "id": "6-q7J6gXdA2g",
        "outputId": "1353332f-8a64-4e8f-e462-3b2f415d6874"
      },
      "source": [
        "'Venusaur' in pok.values"
      ],
      "execution_count": null,
      "outputs": [
        {
          "output_type": "execute_result",
          "data": {
            "text/plain": [
              "True"
            ]
          },
          "metadata": {
            "tags": []
          },
          "execution_count": 15
        }
      ]
    }
  ]
}