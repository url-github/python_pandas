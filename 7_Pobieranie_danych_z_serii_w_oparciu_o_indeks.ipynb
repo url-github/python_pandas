{
  "nbformat": 4,
  "nbformat_minor": 0,
  "metadata": {
    "colab": {
      "name": "7.Pobieranie danych z serii w oparciu o indeks.ipynb",
      "provenance": [],
      "collapsed_sections": [],
      "authorship_tag": "ABX9TyMPCJvWsWDgsmUGWgCgvxcj"
    },
    "kernelspec": {
      "name": "python3",
      "display_name": "Python 3"
    },
    "language_info": {
      "name": "python"
    }
  },
  "cells": [
    {
      "cell_type": "code",
      "metadata": {
        "id": "_JMNPumJO3_5"
      },
      "source": [
        "import pandas as pd\n",
        "import numpy as np\n",
        "import matplotlib.pyplot as plt\n",
        "import math as math"
      ],
      "execution_count": null,
      "outputs": []
    },
    {
      "cell_type": "code",
      "metadata": {
        "id": "-NqFm4W3eqmr"
      },
      "source": [
        "pok = pd.read_csv('/content/pokemon.csv', usecols=['Name'], squeeze=True)"
      ],
      "execution_count": null,
      "outputs": []
    },
    {
      "cell_type": "code",
      "metadata": {
        "colab": {
          "base_uri": "https://localhost:8080/",
          "height": 35
        },
        "id": "1Ln9IiFIfBkH",
        "outputId": "2682196f-a876-4574-b6ff-20b1fef66de7"
      },
      "source": [
        "pok[73]"
      ],
      "execution_count": null,
      "outputs": [
        {
          "output_type": "execute_result",
          "data": {
            "application/vnd.google.colaboratory.intrinsic+json": {
              "type": "string"
            },
            "text/plain": [
              "'Machoke'"
            ]
          },
          "metadata": {
            "tags": []
          },
          "execution_count": 3
        }
      ]
    },
    {
      "cell_type": "code",
      "metadata": {
        "colab": {
          "base_uri": "https://localhost:8080/"
        },
        "id": "UhT2drf5fZdw",
        "outputId": "e7575ed1-a2dd-4ab7-c1cc-f795c834cd2b"
      },
      "source": [
        "# pok[64,73,575] Będzie error\n",
        "\n",
        "pok[[64,73,575]]"
      ],
      "execution_count": null,
      "outputs": [
        {
          "output_type": "execute_result",
          "data": {
            "text/plain": [
              "64     Arcanine\n",
              "73      Machoke\n",
              "575    Simipour\n",
              "Name: Name, dtype: object"
            ]
          },
          "metadata": {
            "tags": []
          },
          "execution_count": 4
        }
      ]
    },
    {
      "cell_type": "code",
      "metadata": {
        "colab": {
          "base_uri": "https://localhost:8080/"
        },
        "id": "Id0I_RXOf3GF",
        "outputId": "2a710e20-2a8c-446f-c0ea-01fcc5bab617"
      },
      "source": [
        "pok[2:10]"
      ],
      "execution_count": null,
      "outputs": [
        {
          "output_type": "execute_result",
          "data": {
            "text/plain": [
              "2                     Venusaur\n",
              "3        VenusaurMega Venusaur\n",
              "4                   Charmander\n",
              "5                   Charmeleon\n",
              "6                    Charizard\n",
              "7    CharizardMega Charizard X\n",
              "8    CharizardMega Charizard Y\n",
              "9                     Squirtle\n",
              "Name: Name, dtype: object"
            ]
          },
          "metadata": {
            "tags": []
          },
          "execution_count": 5
        }
      ]
    },
    {
      "cell_type": "code",
      "metadata": {
        "colab": {
          "base_uri": "https://localhost:8080/"
        },
        "id": "II4jNKGugGhM",
        "outputId": "c663e953-2b72-49fd-ab7a-5ade2275c389"
      },
      "source": [
        "pok[795:]"
      ],
      "execution_count": null,
      "outputs": [
        {
          "output_type": "execute_result",
          "data": {
            "text/plain": [
              "795                Diancie\n",
              "796    DiancieMega Diancie\n",
              "797    HoopaHoopa Confined\n",
              "798     HoopaHoopa Unbound\n",
              "799              Volcanion\n",
              "Name: Name, dtype: object"
            ]
          },
          "metadata": {
            "tags": []
          },
          "execution_count": 6
        }
      ]
    },
    {
      "cell_type": "code",
      "metadata": {
        "colab": {
          "base_uri": "https://localhost:8080/"
        },
        "id": "HxG-7WBzhykH",
        "outputId": "330ae47e-7b30-45ed-9236-b4dcf4da4134"
      },
      "source": [
        "pok[795:800]"
      ],
      "execution_count": null,
      "outputs": [
        {
          "output_type": "execute_result",
          "data": {
            "text/plain": [
              "795                Diancie\n",
              "796    DiancieMega Diancie\n",
              "797    HoopaHoopa Confined\n",
              "798     HoopaHoopa Unbound\n",
              "799              Volcanion\n",
              "Name: Name, dtype: object"
            ]
          },
          "metadata": {
            "tags": []
          },
          "execution_count": 7
        }
      ]
    },
    {
      "cell_type": "code",
      "metadata": {
        "colab": {
          "base_uri": "https://localhost:8080/"
        },
        "id": "RG_NpTZch48o",
        "outputId": "3f6aa645-dfca-42d9-9ccb-135bc465d87e"
      },
      "source": [
        "pok[:4]"
      ],
      "execution_count": null,
      "outputs": [
        {
          "output_type": "execute_result",
          "data": {
            "text/plain": [
              "0                Bulbasaur\n",
              "1                  Ivysaur\n",
              "2                 Venusaur\n",
              "3    VenusaurMega Venusaur\n",
              "Name: Name, dtype: object"
            ]
          },
          "metadata": {
            "tags": []
          },
          "execution_count": 8
        }
      ]
    },
    {
      "cell_type": "code",
      "metadata": {
        "colab": {
          "base_uri": "https://localhost:8080/"
        },
        "id": "3tLqusi4iSNQ",
        "outputId": "dfff631d-130a-408e-e0aa-8104bfe0d3cc"
      },
      "source": [
        "pok[-2:]"
      ],
      "execution_count": null,
      "outputs": [
        {
          "output_type": "execute_result",
          "data": {
            "text/plain": [
              "798    HoopaHoopa Unbound\n",
              "799             Volcanion\n",
              "Name: Name, dtype: object"
            ]
          },
          "metadata": {
            "tags": []
          },
          "execution_count": 9
        }
      ]
    }
  ]
}