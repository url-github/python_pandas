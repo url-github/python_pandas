{
  "nbformat": 4,
  "nbformat_minor": 0,
  "metadata": {
    "colab": {
      "name": "47.Metoda agg().ipynb",
      "provenance": [],
      "authorship_tag": "ABX9TyNPcmyDjwDA7JmHL95XGiae"
    },
    "kernelspec": {
      "name": "python3",
      "display_name": "Python 3"
    },
    "language_info": {
      "name": "python"
    }
  },
  "cells": [
    {
      "cell_type": "code",
      "metadata": {
        "id": "d47QtS4jxkKK"
      },
      "source": [
        "import pandas as pd\n",
        "import numpy as np"
      ],
      "execution_count": null,
      "outputs": []
    },
    {
      "cell_type": "code",
      "metadata": {
        "colab": {
          "base_uri": "https://localhost:8080/",
          "height": 306
        },
        "id": "TAsK1wNMxpCD",
        "outputId": "9507e2e2-83d7-48c8-9671-6fbd14fb8a58"
      },
      "source": [
        "products = pd.read_csv('/content/WA_Sales_Products_2012-14.csv')\n",
        "products.head()"
      ],
      "execution_count": null,
      "outputs": [
        {
          "output_type": "execute_result",
          "data": {
            "text/html": [
              "<div>\n",
              "<style scoped>\n",
              "    .dataframe tbody tr th:only-of-type {\n",
              "        vertical-align: middle;\n",
              "    }\n",
              "\n",
              "    .dataframe tbody tr th {\n",
              "        vertical-align: top;\n",
              "    }\n",
              "\n",
              "    .dataframe thead th {\n",
              "        text-align: right;\n",
              "    }\n",
              "</style>\n",
              "<table border=\"1\" class=\"dataframe\">\n",
              "  <thead>\n",
              "    <tr style=\"text-align: right;\">\n",
              "      <th></th>\n",
              "      <th>Retailer country</th>\n",
              "      <th>Order method type</th>\n",
              "      <th>Retailer type</th>\n",
              "      <th>Product line</th>\n",
              "      <th>Product type</th>\n",
              "      <th>Product</th>\n",
              "      <th>Year</th>\n",
              "      <th>Quarter</th>\n",
              "      <th>Revenue</th>\n",
              "      <th>Quantity</th>\n",
              "      <th>Gross margin</th>\n",
              "    </tr>\n",
              "  </thead>\n",
              "  <tbody>\n",
              "    <tr>\n",
              "      <th>0</th>\n",
              "      <td>United States</td>\n",
              "      <td>Fax</td>\n",
              "      <td>Outdoors Shop</td>\n",
              "      <td>Camping Equipment</td>\n",
              "      <td>Cooking Gear</td>\n",
              "      <td>TrailChef Deluxe Cook Set</td>\n",
              "      <td>2012</td>\n",
              "      <td>Q1 2012</td>\n",
              "      <td>59628.66</td>\n",
              "      <td>489</td>\n",
              "      <td>0.347548</td>\n",
              "    </tr>\n",
              "    <tr>\n",
              "      <th>1</th>\n",
              "      <td>United States</td>\n",
              "      <td>Fax</td>\n",
              "      <td>Outdoors Shop</td>\n",
              "      <td>Camping Equipment</td>\n",
              "      <td>Cooking Gear</td>\n",
              "      <td>TrailChef Double Flame</td>\n",
              "      <td>2012</td>\n",
              "      <td>Q1 2012</td>\n",
              "      <td>35950.32</td>\n",
              "      <td>252</td>\n",
              "      <td>0.474274</td>\n",
              "    </tr>\n",
              "    <tr>\n",
              "      <th>2</th>\n",
              "      <td>United States</td>\n",
              "      <td>Fax</td>\n",
              "      <td>Outdoors Shop</td>\n",
              "      <td>Camping Equipment</td>\n",
              "      <td>Tents</td>\n",
              "      <td>Star Dome</td>\n",
              "      <td>2012</td>\n",
              "      <td>Q1 2012</td>\n",
              "      <td>89940.48</td>\n",
              "      <td>147</td>\n",
              "      <td>0.352772</td>\n",
              "    </tr>\n",
              "    <tr>\n",
              "      <th>3</th>\n",
              "      <td>United States</td>\n",
              "      <td>Fax</td>\n",
              "      <td>Outdoors Shop</td>\n",
              "      <td>Camping Equipment</td>\n",
              "      <td>Tents</td>\n",
              "      <td>Star Gazer 2</td>\n",
              "      <td>2012</td>\n",
              "      <td>Q1 2012</td>\n",
              "      <td>165883.41</td>\n",
              "      <td>303</td>\n",
              "      <td>0.282938</td>\n",
              "    </tr>\n",
              "    <tr>\n",
              "      <th>4</th>\n",
              "      <td>United States</td>\n",
              "      <td>Fax</td>\n",
              "      <td>Outdoors Shop</td>\n",
              "      <td>Camping Equipment</td>\n",
              "      <td>Sleeping Bags</td>\n",
              "      <td>Hibernator Lite</td>\n",
              "      <td>2012</td>\n",
              "      <td>Q1 2012</td>\n",
              "      <td>119822.20</td>\n",
              "      <td>1415</td>\n",
              "      <td>0.291450</td>\n",
              "    </tr>\n",
              "  </tbody>\n",
              "</table>\n",
              "</div>"
            ],
            "text/plain": [
              "  Retailer country Order method type  ... Quantity Gross margin\n",
              "0    United States               Fax  ...      489     0.347548\n",
              "1    United States               Fax  ...      252     0.474274\n",
              "2    United States               Fax  ...      147     0.352772\n",
              "3    United States               Fax  ...      303     0.282938\n",
              "4    United States               Fax  ...     1415     0.291450\n",
              "\n",
              "[5 rows x 11 columns]"
            ]
          },
          "metadata": {},
          "execution_count": 2
        }
      ]
    },
    {
      "cell_type": "code",
      "metadata": {
        "colab": {
          "base_uri": "https://localhost:8080/"
        },
        "id": "kMCO-_V6LEku",
        "outputId": "8af35417-e48e-4c8d-f1b2-6b9ed6ec1bdf"
      },
      "source": [
        "products.describe"
      ],
      "execution_count": null,
      "outputs": [
        {
          "output_type": "execute_result",
          "data": {
            "text/plain": [
              "<bound method NDFrame.describe of       Retailer country Order method type  ... Quantity Gross margin\n",
              "0        United States               Fax  ...      489     0.347548\n",
              "1        United States               Fax  ...      252     0.474274\n",
              "2        United States               Fax  ...      147     0.352772\n",
              "3        United States               Fax  ...      303     0.282938\n",
              "4        United States               Fax  ...     1415     0.291450\n",
              "...                ...               ...  ...      ...          ...\n",
              "88470            Spain       Sales visit  ...      171     0.299114\n",
              "88471            Spain       Sales visit  ...      191     0.446287\n",
              "88472            Spain       Sales visit  ...      236     0.569420\n",
              "88473            Spain       Sales visit  ...     1470     0.491667\n",
              "88474            Spain       Sales visit  ...     1176     0.387895\n",
              "\n",
              "[88475 rows x 11 columns]>"
            ]
          },
          "metadata": {},
          "execution_count": 8
        }
      ]
    },
    {
      "cell_type": "code",
      "metadata": {
        "id": "SBajLL1sLc2t"
      },
      "source": [
        "groups = products.groupby(by=['Retailer country', 'Year'])"
      ],
      "execution_count": null,
      "outputs": []
    },
    {
      "cell_type": "code",
      "metadata": {
        "colab": {
          "base_uri": "https://localhost:8080/"
        },
        "id": "4tfFHfqXK233",
        "outputId": "1c131b3a-419d-46c0-eaaf-0280677bbc88"
      },
      "source": [
        "groups['Revenue'].sum().head()"
      ],
      "execution_count": null,
      "outputs": [
        {
          "output_type": "execute_result",
          "data": {
            "text/plain": [
              "Retailer country  Year\n",
              "Australia         2012    25607043.50\n",
              "                  2013    47799737.14\n",
              "                  2014    35893188.50\n",
              "Austria           2012    34568089.63\n",
              "                  2013    44996737.04\n",
              "Name: Revenue, dtype: float64"
            ]
          },
          "metadata": {},
          "execution_count": 6
        }
      ]
    },
    {
      "cell_type": "code",
      "metadata": {
        "colab": {
          "base_uri": "https://localhost:8080/"
        },
        "id": "1Qm5JoVYMQTf",
        "outputId": "2a3d3d41-445d-4943-9f1c-00a83f9cb5eb"
      },
      "source": [
        "groups.Revenue.sum().head()"
      ],
      "execution_count": null,
      "outputs": [
        {
          "output_type": "execute_result",
          "data": {
            "text/plain": [
              "Retailer country  Year\n",
              "Australia         2012    25607043.50\n",
              "                  2013    47799737.14\n",
              "                  2014    35893188.50\n",
              "Austria           2012    34568089.63\n",
              "                  2013    44996737.04\n",
              "Name: Revenue, dtype: float64"
            ]
          },
          "metadata": {},
          "execution_count": 11
        }
      ]
    },
    {
      "cell_type": "code",
      "metadata": {
        "colab": {
          "base_uri": "https://localhost:8080/"
        },
        "id": "DgAMvoZJK_5B",
        "outputId": "a4ab981d-5cb9-4c67-9031-01d0b797a153"
      },
      "source": [
        "groups['Quantity'].sum().head()"
      ],
      "execution_count": null,
      "outputs": [
        {
          "output_type": "execute_result",
          "data": {
            "text/plain": [
              "Retailer country  Year\n",
              "Australia         2012    522186\n",
              "                  2013    839750\n",
              "                  2014    638845\n",
              "Austria           2012    702134\n",
              "                  2013    803771\n",
              "Name: Quantity, dtype: int64"
            ]
          },
          "metadata": {},
          "execution_count": 9
        }
      ]
    },
    {
      "cell_type": "code",
      "metadata": {
        "colab": {
          "base_uri": "https://localhost:8080/"
        },
        "id": "YAK1gIAhMheT",
        "outputId": "f0206a7d-a1d6-4fb8-c960-188e7a223ab9"
      },
      "source": [
        "groups.Quantity.sum().head()"
      ],
      "execution_count": null,
      "outputs": [
        {
          "output_type": "execute_result",
          "data": {
            "text/plain": [
              "Retailer country  Year\n",
              "Australia         2012    522186\n",
              "                  2013    839750\n",
              "                  2014    638845\n",
              "Austria           2012    702134\n",
              "                  2013    803771\n",
              "Name: Quantity, dtype: int64"
            ]
          },
          "metadata": {},
          "execution_count": 12
        }
      ]
    },
    {
      "cell_type": "code",
      "metadata": {
        "colab": {
          "base_uri": "https://localhost:8080/"
        },
        "id": "dpa0VB-_Lkdg",
        "outputId": "3932db7e-dbe8-4d0a-ec8e-b2fec26c631b"
      },
      "source": [
        "groups['Gross margin'].sum().head()"
      ],
      "execution_count": null,
      "outputs": [
        {
          "output_type": "execute_result",
          "data": {
            "text/plain": [
              "Retailer country  Year\n",
              "Australia         2012    625.835424\n",
              "                  2013    625.650690\n",
              "                  2014    390.336301\n",
              "Austria           2012    636.115492\n",
              "                  2013    665.086198\n",
              "Name: Gross margin, dtype: float64"
            ]
          },
          "metadata": {},
          "execution_count": 10
        }
      ]
    },
    {
      "cell_type": "code",
      "metadata": {
        "colab": {
          "base_uri": "https://localhost:8080/",
          "height": 235
        },
        "id": "rUAe0bffLvqR",
        "outputId": "e7b541eb-b26f-4950-fda7-0261f0668557"
      },
      "source": [
        "groups.agg({'Revenue' : 'sum'}).head()"
      ],
      "execution_count": null,
      "outputs": [
        {
          "output_type": "execute_result",
          "data": {
            "text/html": [
              "<div>\n",
              "<style scoped>\n",
              "    .dataframe tbody tr th:only-of-type {\n",
              "        vertical-align: middle;\n",
              "    }\n",
              "\n",
              "    .dataframe tbody tr th {\n",
              "        vertical-align: top;\n",
              "    }\n",
              "\n",
              "    .dataframe thead th {\n",
              "        text-align: right;\n",
              "    }\n",
              "</style>\n",
              "<table border=\"1\" class=\"dataframe\">\n",
              "  <thead>\n",
              "    <tr style=\"text-align: right;\">\n",
              "      <th></th>\n",
              "      <th></th>\n",
              "      <th>Revenue</th>\n",
              "    </tr>\n",
              "    <tr>\n",
              "      <th>Retailer country</th>\n",
              "      <th>Year</th>\n",
              "      <th></th>\n",
              "    </tr>\n",
              "  </thead>\n",
              "  <tbody>\n",
              "    <tr>\n",
              "      <th rowspan=\"3\" valign=\"top\">Australia</th>\n",
              "      <th>2012</th>\n",
              "      <td>25607043.50</td>\n",
              "    </tr>\n",
              "    <tr>\n",
              "      <th>2013</th>\n",
              "      <td>47799737.14</td>\n",
              "    </tr>\n",
              "    <tr>\n",
              "      <th>2014</th>\n",
              "      <td>35893188.50</td>\n",
              "    </tr>\n",
              "    <tr>\n",
              "      <th rowspan=\"2\" valign=\"top\">Austria</th>\n",
              "      <th>2012</th>\n",
              "      <td>34568089.63</td>\n",
              "    </tr>\n",
              "    <tr>\n",
              "      <th>2013</th>\n",
              "      <td>44996737.04</td>\n",
              "    </tr>\n",
              "  </tbody>\n",
              "</table>\n",
              "</div>"
            ],
            "text/plain": [
              "                           Revenue\n",
              "Retailer country Year             \n",
              "Australia        2012  25607043.50\n",
              "                 2013  47799737.14\n",
              "                 2014  35893188.50\n",
              "Austria          2012  34568089.63\n",
              "                 2013  44996737.04"
            ]
          },
          "metadata": {},
          "execution_count": 13
        }
      ]
    },
    {
      "cell_type": "code",
      "metadata": {
        "colab": {
          "base_uri": "https://localhost:8080/",
          "height": 235
        },
        "id": "QMdgXFRLNEi9",
        "outputId": "42e87f0c-5cab-42ae-b69f-828842211159"
      },
      "source": [
        "groups.agg({'Gross margin' : 'mean'}).head()"
      ],
      "execution_count": null,
      "outputs": [
        {
          "output_type": "execute_result",
          "data": {
            "text/html": [
              "<div>\n",
              "<style scoped>\n",
              "    .dataframe tbody tr th:only-of-type {\n",
              "        vertical-align: middle;\n",
              "    }\n",
              "\n",
              "    .dataframe tbody tr th {\n",
              "        vertical-align: top;\n",
              "    }\n",
              "\n",
              "    .dataframe thead th {\n",
              "        text-align: right;\n",
              "    }\n",
              "</style>\n",
              "<table border=\"1\" class=\"dataframe\">\n",
              "  <thead>\n",
              "    <tr style=\"text-align: right;\">\n",
              "      <th></th>\n",
              "      <th></th>\n",
              "      <th>Gross margin</th>\n",
              "    </tr>\n",
              "    <tr>\n",
              "      <th>Retailer country</th>\n",
              "      <th>Year</th>\n",
              "      <th></th>\n",
              "    </tr>\n",
              "  </thead>\n",
              "  <tbody>\n",
              "    <tr>\n",
              "      <th rowspan=\"3\" valign=\"top\">Australia</th>\n",
              "      <th>2012</th>\n",
              "      <td>0.447985</td>\n",
              "    </tr>\n",
              "    <tr>\n",
              "      <th>2013</th>\n",
              "      <td>0.457347</td>\n",
              "    </tr>\n",
              "    <tr>\n",
              "      <th>2014</th>\n",
              "      <td>0.446609</td>\n",
              "    </tr>\n",
              "    <tr>\n",
              "      <th rowspan=\"2\" valign=\"top\">Austria</th>\n",
              "      <th>2012</th>\n",
              "      <td>0.446084</td>\n",
              "    </tr>\n",
              "    <tr>\n",
              "      <th>2013</th>\n",
              "      <td>0.456790</td>\n",
              "    </tr>\n",
              "  </tbody>\n",
              "</table>\n",
              "</div>"
            ],
            "text/plain": [
              "                       Gross margin\n",
              "Retailer country Year              \n",
              "Australia        2012      0.447985\n",
              "                 2013      0.457347\n",
              "                 2014      0.446609\n",
              "Austria          2012      0.446084\n",
              "                 2013      0.456790"
            ]
          },
          "metadata": {},
          "execution_count": 14
        }
      ]
    },
    {
      "cell_type": "code",
      "metadata": {
        "colab": {
          "base_uri": "https://localhost:8080/",
          "height": 235
        },
        "id": "Mcn8_pwNNm00",
        "outputId": "5a7b3f8c-d7cd-4b94-cfd1-77d0ae774b19"
      },
      "source": [
        "groups.agg({'Revenue' : 'sum',\n",
        "            'Quantity' : 'sum',\n",
        "            'Gross margin' : 'mean'}).head()"
      ],
      "execution_count": null,
      "outputs": [
        {
          "output_type": "execute_result",
          "data": {
            "text/html": [
              "<div>\n",
              "<style scoped>\n",
              "    .dataframe tbody tr th:only-of-type {\n",
              "        vertical-align: middle;\n",
              "    }\n",
              "\n",
              "    .dataframe tbody tr th {\n",
              "        vertical-align: top;\n",
              "    }\n",
              "\n",
              "    .dataframe thead th {\n",
              "        text-align: right;\n",
              "    }\n",
              "</style>\n",
              "<table border=\"1\" class=\"dataframe\">\n",
              "  <thead>\n",
              "    <tr style=\"text-align: right;\">\n",
              "      <th></th>\n",
              "      <th></th>\n",
              "      <th>Revenue</th>\n",
              "      <th>Quantity</th>\n",
              "      <th>Gross margin</th>\n",
              "    </tr>\n",
              "    <tr>\n",
              "      <th>Retailer country</th>\n",
              "      <th>Year</th>\n",
              "      <th></th>\n",
              "      <th></th>\n",
              "      <th></th>\n",
              "    </tr>\n",
              "  </thead>\n",
              "  <tbody>\n",
              "    <tr>\n",
              "      <th rowspan=\"3\" valign=\"top\">Australia</th>\n",
              "      <th>2012</th>\n",
              "      <td>25607043.50</td>\n",
              "      <td>522186</td>\n",
              "      <td>0.447985</td>\n",
              "    </tr>\n",
              "    <tr>\n",
              "      <th>2013</th>\n",
              "      <td>47799737.14</td>\n",
              "      <td>839750</td>\n",
              "      <td>0.457347</td>\n",
              "    </tr>\n",
              "    <tr>\n",
              "      <th>2014</th>\n",
              "      <td>35893188.50</td>\n",
              "      <td>638845</td>\n",
              "      <td>0.446609</td>\n",
              "    </tr>\n",
              "    <tr>\n",
              "      <th rowspan=\"2\" valign=\"top\">Austria</th>\n",
              "      <th>2012</th>\n",
              "      <td>34568089.63</td>\n",
              "      <td>702134</td>\n",
              "      <td>0.446084</td>\n",
              "    </tr>\n",
              "    <tr>\n",
              "      <th>2013</th>\n",
              "      <td>44996737.04</td>\n",
              "      <td>803771</td>\n",
              "      <td>0.456790</td>\n",
              "    </tr>\n",
              "  </tbody>\n",
              "</table>\n",
              "</div>"
            ],
            "text/plain": [
              "                           Revenue  Quantity  Gross margin\n",
              "Retailer country Year                                     \n",
              "Australia        2012  25607043.50    522186      0.447985\n",
              "                 2013  47799737.14    839750      0.457347\n",
              "                 2014  35893188.50    638845      0.446609\n",
              "Austria          2012  34568089.63    702134      0.446084\n",
              "                 2013  44996737.04    803771      0.456790"
            ]
          },
          "metadata": {},
          "execution_count": 16
        }
      ]
    },
    {
      "cell_type": "code",
      "metadata": {
        "colab": {
          "base_uri": "https://localhost:8080/",
          "height": 266
        },
        "id": "hiLImYcZT_XG",
        "outputId": "762098a3-3e6c-4ec0-d8b1-bdf07f365c92"
      },
      "source": [
        "groups.agg({'Revenue' : ['sum','min','max'],\n",
        "            'Quantity' : ['sum','min','max'],\n",
        "            'Gross margin' : 'mean'}).head()"
      ],
      "execution_count": null,
      "outputs": [
        {
          "output_type": "execute_result",
          "data": {
            "text/html": [
              "<div>\n",
              "<style scoped>\n",
              "    .dataframe tbody tr th:only-of-type {\n",
              "        vertical-align: middle;\n",
              "    }\n",
              "\n",
              "    .dataframe tbody tr th {\n",
              "        vertical-align: top;\n",
              "    }\n",
              "\n",
              "    .dataframe thead tr th {\n",
              "        text-align: left;\n",
              "    }\n",
              "\n",
              "    .dataframe thead tr:last-of-type th {\n",
              "        text-align: right;\n",
              "    }\n",
              "</style>\n",
              "<table border=\"1\" class=\"dataframe\">\n",
              "  <thead>\n",
              "    <tr>\n",
              "      <th></th>\n",
              "      <th></th>\n",
              "      <th colspan=\"3\" halign=\"left\">Revenue</th>\n",
              "      <th colspan=\"3\" halign=\"left\">Quantity</th>\n",
              "      <th>Gross margin</th>\n",
              "    </tr>\n",
              "    <tr>\n",
              "      <th></th>\n",
              "      <th></th>\n",
              "      <th>sum</th>\n",
              "      <th>min</th>\n",
              "      <th>max</th>\n",
              "      <th>sum</th>\n",
              "      <th>min</th>\n",
              "      <th>max</th>\n",
              "      <th>mean</th>\n",
              "    </tr>\n",
              "    <tr>\n",
              "      <th>Retailer country</th>\n",
              "      <th>Year</th>\n",
              "      <th></th>\n",
              "      <th></th>\n",
              "      <th></th>\n",
              "      <th></th>\n",
              "      <th></th>\n",
              "      <th></th>\n",
              "      <th></th>\n",
              "    </tr>\n",
              "  </thead>\n",
              "  <tbody>\n",
              "    <tr>\n",
              "      <th rowspan=\"3\" valign=\"top\">Australia</th>\n",
              "      <th>2012</th>\n",
              "      <td>25607043.50</td>\n",
              "      <td>0.0</td>\n",
              "      <td>254026.08</td>\n",
              "      <td>522186</td>\n",
              "      <td>4</td>\n",
              "      <td>6083</td>\n",
              "      <td>0.447985</td>\n",
              "    </tr>\n",
              "    <tr>\n",
              "      <th>2013</th>\n",
              "      <td>47799737.14</td>\n",
              "      <td>0.0</td>\n",
              "      <td>443746.60</td>\n",
              "      <td>839750</td>\n",
              "      <td>10</td>\n",
              "      <td>9442</td>\n",
              "      <td>0.457347</td>\n",
              "    </tr>\n",
              "    <tr>\n",
              "      <th>2014</th>\n",
              "      <td>35893188.50</td>\n",
              "      <td>0.0</td>\n",
              "      <td>516135.14</td>\n",
              "      <td>638845</td>\n",
              "      <td>1</td>\n",
              "      <td>20031</td>\n",
              "      <td>0.446609</td>\n",
              "    </tr>\n",
              "    <tr>\n",
              "      <th rowspan=\"2\" valign=\"top\">Austria</th>\n",
              "      <th>2012</th>\n",
              "      <td>34568089.63</td>\n",
              "      <td>0.0</td>\n",
              "      <td>199715.40</td>\n",
              "      <td>702134</td>\n",
              "      <td>5</td>\n",
              "      <td>6471</td>\n",
              "      <td>0.446084</td>\n",
              "    </tr>\n",
              "    <tr>\n",
              "      <th>2013</th>\n",
              "      <td>44996737.04</td>\n",
              "      <td>0.0</td>\n",
              "      <td>317161.24</td>\n",
              "      <td>803771</td>\n",
              "      <td>4</td>\n",
              "      <td>9662</td>\n",
              "      <td>0.456790</td>\n",
              "    </tr>\n",
              "  </tbody>\n",
              "</table>\n",
              "</div>"
            ],
            "text/plain": [
              "                           Revenue                  ... Quantity        Gross margin\n",
              "                               sum  min        max  ...      min    max         mean\n",
              "Retailer country Year                               ...                             \n",
              "Australia        2012  25607043.50  0.0  254026.08  ...        4   6083     0.447985\n",
              "                 2013  47799737.14  0.0  443746.60  ...       10   9442     0.457347\n",
              "                 2014  35893188.50  0.0  516135.14  ...        1  20031     0.446609\n",
              "Austria          2012  34568089.63  0.0  199715.40  ...        5   6471     0.446084\n",
              "                 2013  44996737.04  0.0  317161.24  ...        4   9662     0.456790\n",
              "\n",
              "[5 rows x 7 columns]"
            ]
          },
          "metadata": {},
          "execution_count": 17
        }
      ]
    },
    {
      "cell_type": "code",
      "metadata": {
        "colab": {
          "base_uri": "https://localhost:8080/",
          "height": 266
        },
        "id": "9doe0IwLVBTN",
        "outputId": "d9add201-b7c3-4acd-8b0c-a5ed213741f3"
      },
      "source": [
        "my_aggregation = ['sum','min','max']\n",
        "\n",
        "groups.agg({'Revenue' : my_aggregation,\n",
        "            'Quantity' : my_aggregation,\n",
        "            'Gross margin' : 'mean'}).head()"
      ],
      "execution_count": null,
      "outputs": [
        {
          "output_type": "execute_result",
          "data": {
            "text/html": [
              "<div>\n",
              "<style scoped>\n",
              "    .dataframe tbody tr th:only-of-type {\n",
              "        vertical-align: middle;\n",
              "    }\n",
              "\n",
              "    .dataframe tbody tr th {\n",
              "        vertical-align: top;\n",
              "    }\n",
              "\n",
              "    .dataframe thead tr th {\n",
              "        text-align: left;\n",
              "    }\n",
              "\n",
              "    .dataframe thead tr:last-of-type th {\n",
              "        text-align: right;\n",
              "    }\n",
              "</style>\n",
              "<table border=\"1\" class=\"dataframe\">\n",
              "  <thead>\n",
              "    <tr>\n",
              "      <th></th>\n",
              "      <th></th>\n",
              "      <th colspan=\"3\" halign=\"left\">Revenue</th>\n",
              "      <th colspan=\"3\" halign=\"left\">Quantity</th>\n",
              "      <th>Gross margin</th>\n",
              "    </tr>\n",
              "    <tr>\n",
              "      <th></th>\n",
              "      <th></th>\n",
              "      <th>sum</th>\n",
              "      <th>min</th>\n",
              "      <th>max</th>\n",
              "      <th>sum</th>\n",
              "      <th>min</th>\n",
              "      <th>max</th>\n",
              "      <th>mean</th>\n",
              "    </tr>\n",
              "    <tr>\n",
              "      <th>Retailer country</th>\n",
              "      <th>Year</th>\n",
              "      <th></th>\n",
              "      <th></th>\n",
              "      <th></th>\n",
              "      <th></th>\n",
              "      <th></th>\n",
              "      <th></th>\n",
              "      <th></th>\n",
              "    </tr>\n",
              "  </thead>\n",
              "  <tbody>\n",
              "    <tr>\n",
              "      <th rowspan=\"3\" valign=\"top\">Australia</th>\n",
              "      <th>2012</th>\n",
              "      <td>25607043.50</td>\n",
              "      <td>0.0</td>\n",
              "      <td>254026.08</td>\n",
              "      <td>522186</td>\n",
              "      <td>4</td>\n",
              "      <td>6083</td>\n",
              "      <td>0.447985</td>\n",
              "    </tr>\n",
              "    <tr>\n",
              "      <th>2013</th>\n",
              "      <td>47799737.14</td>\n",
              "      <td>0.0</td>\n",
              "      <td>443746.60</td>\n",
              "      <td>839750</td>\n",
              "      <td>10</td>\n",
              "      <td>9442</td>\n",
              "      <td>0.457347</td>\n",
              "    </tr>\n",
              "    <tr>\n",
              "      <th>2014</th>\n",
              "      <td>35893188.50</td>\n",
              "      <td>0.0</td>\n",
              "      <td>516135.14</td>\n",
              "      <td>638845</td>\n",
              "      <td>1</td>\n",
              "      <td>20031</td>\n",
              "      <td>0.446609</td>\n",
              "    </tr>\n",
              "    <tr>\n",
              "      <th rowspan=\"2\" valign=\"top\">Austria</th>\n",
              "      <th>2012</th>\n",
              "      <td>34568089.63</td>\n",
              "      <td>0.0</td>\n",
              "      <td>199715.40</td>\n",
              "      <td>702134</td>\n",
              "      <td>5</td>\n",
              "      <td>6471</td>\n",
              "      <td>0.446084</td>\n",
              "    </tr>\n",
              "    <tr>\n",
              "      <th>2013</th>\n",
              "      <td>44996737.04</td>\n",
              "      <td>0.0</td>\n",
              "      <td>317161.24</td>\n",
              "      <td>803771</td>\n",
              "      <td>4</td>\n",
              "      <td>9662</td>\n",
              "      <td>0.456790</td>\n",
              "    </tr>\n",
              "  </tbody>\n",
              "</table>\n",
              "</div>"
            ],
            "text/plain": [
              "                           Revenue                  ... Quantity        Gross margin\n",
              "                               sum  min        max  ...      min    max         mean\n",
              "Retailer country Year                               ...                             \n",
              "Australia        2012  25607043.50  0.0  254026.08  ...        4   6083     0.447985\n",
              "                 2013  47799737.14  0.0  443746.60  ...       10   9442     0.457347\n",
              "                 2014  35893188.50  0.0  516135.14  ...        1  20031     0.446609\n",
              "Austria          2012  34568089.63  0.0  199715.40  ...        5   6471     0.446084\n",
              "                 2013  44996737.04  0.0  317161.24  ...        4   9662     0.456790\n",
              "\n",
              "[5 rows x 7 columns]"
            ]
          },
          "metadata": {},
          "execution_count": 18
        }
      ]
    }
  ]
}