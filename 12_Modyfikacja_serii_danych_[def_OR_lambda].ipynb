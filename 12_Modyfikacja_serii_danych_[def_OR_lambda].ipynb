{
  "nbformat": 4,
  "nbformat_minor": 0,
  "metadata": {
    "colab": {
      "name": "12.Modyfikacja serii danych [def OR lambda].ipynb",
      "provenance": [],
      "authorship_tag": "ABX9TyPloBZDCVPMRV+M8DW+cCK/"
    },
    "kernelspec": {
      "name": "python3",
      "display_name": "Python 3"
    },
    "language_info": {
      "name": "python"
    }
  },
  "cells": [
    {
      "cell_type": "code",
      "metadata": {
        "id": "_zS8nOy_dkJ_"
      },
      "source": [
        "import pandas as pd\n",
        "import numpy as np\n",
        "import matplotlib.pyplot as plt\n",
        "import math as math"
      ],
      "execution_count": null,
      "outputs": []
    },
    {
      "cell_type": "code",
      "metadata": {
        "colab": {
          "base_uri": "https://localhost:8080/"
        },
        "id": "Bc-yM-Z4d7aW",
        "outputId": "ff49c582-9997-4896-aac6-65ee5f125194"
      },
      "source": [
        "pok = pd.read_csv('/content/pokemon.csv', usecols=['Name','Attack'], squeeze=True,index_col='Name')\n",
        "pok.head()"
      ],
      "execution_count": null,
      "outputs": [
        {
          "output_type": "execute_result",
          "data": {
            "text/plain": [
              "Name\n",
              "Bulbasaur                 49\n",
              "Ivysaur                   62\n",
              "Venusaur                  82\n",
              "VenusaurMega Venusaur    100\n",
              "Charmander                52\n",
              "Name: Attack, dtype: int64"
            ]
          },
          "metadata": {
            "tags": []
          },
          "execution_count": 3
        }
      ]
    },
    {
      "cell_type": "code",
      "metadata": {
        "colab": {
          "base_uri": "https://localhost:8080/"
        },
        "id": "3Z2eSZLqpaam",
        "outputId": "8e2bb2fc-0d3a-4f43-bff3-d4b3656bbe82"
      },
      "source": [
        "pok * 100"
      ],
      "execution_count": null,
      "outputs": [
        {
          "output_type": "execute_result",
          "data": {
            "text/plain": [
              "Name\n",
              "Bulbasaur                 4900\n",
              "Ivysaur                   6200\n",
              "Venusaur                  8200\n",
              "VenusaurMega Venusaur    10000\n",
              "Charmander                5200\n",
              "                         ...  \n",
              "Diancie                  10000\n",
              "DiancieMega Diancie      16000\n",
              "HoopaHoopa Confined      11000\n",
              "HoopaHoopa Unbound       16000\n",
              "Volcanion                11000\n",
              "Name: Attack, Length: 800, dtype: int64"
            ]
          },
          "metadata": {
            "tags": []
          },
          "execution_count": 4
        }
      ]
    },
    {
      "cell_type": "code",
      "metadata": {
        "colab": {
          "base_uri": "https://localhost:8080/"
        },
        "id": "S7_DCaXIp8c9",
        "outputId": "d52c74e0-13cf-40fd-99cd-a2c127ae4c2d"
      },
      "source": [
        "pok100 = pok * 100\n",
        "pok100"
      ],
      "execution_count": null,
      "outputs": [
        {
          "output_type": "execute_result",
          "data": {
            "text/plain": [
              "Name\n",
              "Bulbasaur                 4900\n",
              "Ivysaur                   6200\n",
              "Venusaur                  8200\n",
              "VenusaurMega Venusaur    10000\n",
              "Charmander                5200\n",
              "                         ...  \n",
              "Diancie                  10000\n",
              "DiancieMega Diancie      16000\n",
              "HoopaHoopa Confined      11000\n",
              "HoopaHoopa Unbound       16000\n",
              "Volcanion                11000\n",
              "Name: Attack, Length: 800, dtype: int64"
            ]
          },
          "metadata": {
            "tags": []
          },
          "execution_count": 5
        }
      ]
    },
    {
      "cell_type": "code",
      "metadata": {
        "colab": {
          "base_uri": "https://localhost:8080/"
        },
        "id": "Cm580-c7qsDA",
        "outputId": "ec8084f2-3709-4ff4-970f-6bfa22ba6384"
      },
      "source": [
        "pokString = pd.read_csv('/content/pokemon.csv', usecols=['Name','Type 1'], squeeze=True,index_col='Name')\n",
        "pokString.head()"
      ],
      "execution_count": null,
      "outputs": [
        {
          "output_type": "execute_result",
          "data": {
            "text/plain": [
              "Name\n",
              "Bulbasaur                Grass\n",
              "Ivysaur                  Grass\n",
              "Venusaur                 Grass\n",
              "VenusaurMega Venusaur    Grass\n",
              "Charmander                Fire\n",
              "Name: Type 1, dtype: object"
            ]
          },
          "metadata": {
            "tags": []
          },
          "execution_count": 6
        }
      ]
    },
    {
      "cell_type": "code",
      "metadata": {
        "id": "fM2IUe0jrQZY",
        "colab": {
          "base_uri": "https://localhost:8080/"
        },
        "outputId": "1423ba83-6581-4342-987c-e650073b8cd9"
      },
      "source": [
        "pokString.str.upper()"
      ],
      "execution_count": null,
      "outputs": [
        {
          "output_type": "execute_result",
          "data": {
            "text/plain": [
              "Name\n",
              "Bulbasaur                  GRASS\n",
              "Ivysaur                    GRASS\n",
              "Venusaur                   GRASS\n",
              "VenusaurMega Venusaur      GRASS\n",
              "Charmander                  FIRE\n",
              "                          ...   \n",
              "Diancie                     ROCK\n",
              "DiancieMega Diancie         ROCK\n",
              "HoopaHoopa Confined      PSYCHIC\n",
              "HoopaHoopa Unbound       PSYCHIC\n",
              "Volcanion                   FIRE\n",
              "Name: Type 1, Length: 800, dtype: object"
            ]
          },
          "metadata": {
            "tags": []
          },
          "execution_count": 7
        }
      ]
    },
    {
      "cell_type": "code",
      "metadata": {
        "colab": {
          "base_uri": "https://localhost:8080/"
        },
        "id": "6hrFIOYUsC4S",
        "outputId": "6e111e90-646f-40d2-fc34-b297a0342158"
      },
      "source": [
        "pokStringUpper = pokString.str.upper()\n",
        "pokStringUpper"
      ],
      "execution_count": null,
      "outputs": [
        {
          "output_type": "execute_result",
          "data": {
            "text/plain": [
              "Name\n",
              "Bulbasaur                  GRASS\n",
              "Ivysaur                    GRASS\n",
              "Venusaur                   GRASS\n",
              "VenusaurMega Venusaur      GRASS\n",
              "Charmander                  FIRE\n",
              "                          ...   \n",
              "Diancie                     ROCK\n",
              "DiancieMega Diancie         ROCK\n",
              "HoopaHoopa Confined      PSYCHIC\n",
              "HoopaHoopa Unbound       PSYCHIC\n",
              "Volcanion                   FIRE\n",
              "Name: Type 1, Length: 800, dtype: object"
            ]
          },
          "metadata": {
            "tags": []
          },
          "execution_count": 10
        }
      ]
    },
    {
      "cell_type": "code",
      "metadata": {
        "colab": {
          "base_uri": "https://localhost:8080/"
        },
        "id": "GjGeMZxfsJ3n",
        "outputId": "436aa94d-5a6f-48e1-b7a9-9fc3105a8fa3"
      },
      "source": [
        "pokWithType = \"TYPE:\" + pokString.str.upper()\n",
        "pokWithType"
      ],
      "execution_count": null,
      "outputs": [
        {
          "output_type": "execute_result",
          "data": {
            "text/plain": [
              "Name\n",
              "Bulbasaur                  TYPE:GRASS\n",
              "Ivysaur                    TYPE:GRASS\n",
              "Venusaur                   TYPE:GRASS\n",
              "VenusaurMega Venusaur      TYPE:GRASS\n",
              "Charmander                  TYPE:FIRE\n",
              "                             ...     \n",
              "Diancie                     TYPE:ROCK\n",
              "DiancieMega Diancie         TYPE:ROCK\n",
              "HoopaHoopa Confined      TYPE:PSYCHIC\n",
              "HoopaHoopa Unbound       TYPE:PSYCHIC\n",
              "Volcanion                   TYPE:FIRE\n",
              "Name: Type 1, Length: 800, dtype: object"
            ]
          },
          "metadata": {
            "tags": []
          },
          "execution_count": 11
        }
      ]
    },
    {
      "cell_type": "code",
      "metadata": {
        "colab": {
          "base_uri": "https://localhost:8080/"
        },
        "id": "DobRLMfitAnP",
        "outputId": "b92a05e4-b15e-4380-a1ee-270e01069e46"
      },
      "source": [
        "pokWithType.head()"
      ],
      "execution_count": null,
      "outputs": [
        {
          "output_type": "execute_result",
          "data": {
            "text/plain": [
              "Name\n",
              "Bulbasaur                TYPE:GRASS\n",
              "Ivysaur                  TYPE:GRASS\n",
              "Venusaur                 TYPE:GRASS\n",
              "VenusaurMega Venusaur    TYPE:GRASS\n",
              "Charmander                TYPE:FIRE\n",
              "Name: Type 1, dtype: object"
            ]
          },
          "metadata": {
            "tags": []
          },
          "execution_count": 12
        }
      ]
    },
    {
      "cell_type": "code",
      "metadata": {
        "colab": {
          "base_uri": "https://localhost:8080/"
        },
        "id": "no4nzeCAtgHH",
        "outputId": "7dc899b9-67e8-4e89-b79c-a5af2fd74433"
      },
      "source": [
        "pok.head()"
      ],
      "execution_count": null,
      "outputs": [
        {
          "output_type": "execute_result",
          "data": {
            "text/plain": [
              "Name\n",
              "Bulbasaur                 49\n",
              "Ivysaur                   62\n",
              "Venusaur                  82\n",
              "VenusaurMega Venusaur    100\n",
              "Charmander                52\n",
              "Name: Attack, dtype: int64"
            ]
          },
          "metadata": {
            "tags": []
          },
          "execution_count": 13
        }
      ]
    },
    {
      "cell_type": "code",
      "metadata": {
        "colab": {
          "base_uri": "https://localhost:8080/"
        },
        "id": "C6UKGyhztsfW",
        "outputId": "4ca90238-1ba6-4da8-9fc7-45355459fe10"
      },
      "source": [
        "pok.value_counts()"
      ],
      "execution_count": null,
      "outputs": [
        {
          "output_type": "execute_result",
          "data": {
            "text/plain": [
              "100    40\n",
              "65     39\n",
              "80     37\n",
              "50     37\n",
              "85     33\n",
              "       ..\n",
              "121     1\n",
              "128     1\n",
              "74      1\n",
              "129     1\n",
              "190     1\n",
              "Name: Attack, Length: 111, dtype: int64"
            ]
          },
          "metadata": {
            "tags": []
          },
          "execution_count": 14
        }
      ]
    },
    {
      "cell_type": "code",
      "metadata": {
        "colab": {
          "base_uri": "https://localhost:8080/"
        },
        "id": "cymI6pf4t3pO",
        "outputId": "0176aa7c-2562-4187-bbee-4136606019f6"
      },
      "source": [
        "pokString.head()"
      ],
      "execution_count": null,
      "outputs": [
        {
          "output_type": "execute_result",
          "data": {
            "text/plain": [
              "Name\n",
              "Bulbasaur                Grass\n",
              "Ivysaur                  Grass\n",
              "Venusaur                 Grass\n",
              "VenusaurMega Venusaur    Grass\n",
              "Charmander                Fire\n",
              "Name: Type 1, dtype: object"
            ]
          },
          "metadata": {
            "tags": []
          },
          "execution_count": 15
        }
      ]
    },
    {
      "cell_type": "code",
      "metadata": {
        "colab": {
          "base_uri": "https://localhost:8080/"
        },
        "id": "gh7PtLtWuY97",
        "outputId": "dc8ff4ca-6be3-46a1-acbd-12dca5d23316"
      },
      "source": [
        "pokString.value_counts()"
      ],
      "execution_count": null,
      "outputs": [
        {
          "output_type": "execute_result",
          "data": {
            "text/plain": [
              "Water       112\n",
              "Normal       98\n",
              "Grass        70\n",
              "Bug          69\n",
              "Psychic      57\n",
              "Fire         52\n",
              "Electric     44\n",
              "Rock         44\n",
              "Ghost        32\n",
              "Dragon       32\n",
              "Ground       32\n",
              "Dark         31\n",
              "Poison       28\n",
              "Fighting     27\n",
              "Steel        27\n",
              "Ice          24\n",
              "Fairy        17\n",
              "Flying        4\n",
              "Name: Type 1, dtype: int64"
            ]
          },
          "metadata": {
            "tags": []
          },
          "execution_count": 17
        }
      ]
    },
    {
      "cell_type": "code",
      "metadata": {
        "id": "J3N-z3grue3q"
      },
      "source": [
        "# Definiuje funkcje aby podmienić wybrane wartości w serii\n",
        "\n",
        "def ReplaceType(oldType):\n",
        "  if oldType == \"Grass\" or oldType == \"Ground\":\n",
        "    return \"Nature\"\n",
        "  else:\n",
        "    return oldType"
      ],
      "execution_count": null,
      "outputs": []
    },
    {
      "cell_type": "code",
      "metadata": {
        "colab": {
          "base_uri": "https://localhost:8080/",
          "height": 35
        },
        "id": "RtmNWZUbxR85",
        "outputId": "a9c4d7ef-9f29-4b20-88a5-2fa6aa4c150a"
      },
      "source": [
        "ReplaceType('Fire')"
      ],
      "execution_count": null,
      "outputs": [
        {
          "output_type": "execute_result",
          "data": {
            "application/vnd.google.colaboratory.intrinsic+json": {
              "type": "string"
            },
            "text/plain": [
              "'Fire'"
            ]
          },
          "metadata": {
            "tags": []
          },
          "execution_count": 20
        }
      ]
    },
    {
      "cell_type": "code",
      "metadata": {
        "colab": {
          "base_uri": "https://localhost:8080/",
          "height": 35
        },
        "id": "T3bG8DloxWcd",
        "outputId": "b66af258-8303-4b68-a813-f671b66304a4"
      },
      "source": [
        "ReplaceType('Grass')"
      ],
      "execution_count": null,
      "outputs": [
        {
          "output_type": "execute_result",
          "data": {
            "application/vnd.google.colaboratory.intrinsic+json": {
              "type": "string"
            },
            "text/plain": [
              "'Nature'"
            ]
          },
          "metadata": {
            "tags": []
          },
          "execution_count": 21
        }
      ]
    },
    {
      "cell_type": "code",
      "metadata": {
        "colab": {
          "base_uri": "https://localhost:8080/",
          "height": 35
        },
        "id": "9I33AH9Sx_yV",
        "outputId": "48b71cc3-84bc-45ce-e8b8-b43a641029ba"
      },
      "source": [
        "ReplaceType('Ground')"
      ],
      "execution_count": null,
      "outputs": [
        {
          "output_type": "execute_result",
          "data": {
            "application/vnd.google.colaboratory.intrinsic+json": {
              "type": "string"
            },
            "text/plain": [
              "'Nature'"
            ]
          },
          "metadata": {
            "tags": []
          },
          "execution_count": 22
        }
      ]
    },
    {
      "cell_type": "code",
      "metadata": {
        "colab": {
          "base_uri": "https://localhost:8080/",
          "height": 35
        },
        "id": "uPBeqs_pyDpq",
        "outputId": "376a9c97-2820-420b-c64b-47b7c1f0e50e"
      },
      "source": [
        "ReplaceType('Nature')"
      ],
      "execution_count": null,
      "outputs": [
        {
          "output_type": "execute_result",
          "data": {
            "application/vnd.google.colaboratory.intrinsic+json": {
              "type": "string"
            },
            "text/plain": [
              "'Nature'"
            ]
          },
          "metadata": {
            "tags": []
          },
          "execution_count": 23
        }
      ]
    },
    {
      "cell_type": "code",
      "metadata": {
        "colab": {
          "base_uri": "https://localhost:8080/",
          "height": 35
        },
        "id": "G5XF1rLlyJFu",
        "outputId": "b9a5475e-36c6-41ee-8a8b-4ecf55aec382"
      },
      "source": [
        "ReplaceType('oldType')"
      ],
      "execution_count": null,
      "outputs": [
        {
          "output_type": "execute_result",
          "data": {
            "application/vnd.google.colaboratory.intrinsic+json": {
              "type": "string"
            },
            "text/plain": [
              "'oldType'"
            ]
          },
          "metadata": {
            "tags": []
          },
          "execution_count": 24
        }
      ]
    },
    {
      "cell_type": "code",
      "metadata": {
        "colab": {
          "base_uri": "https://localhost:8080/",
          "height": 35
        },
        "id": "Iiug7MS5yUy2",
        "outputId": "3d5fae67-c814-4e6c-deb2-9bdc47f7c2e6"
      },
      "source": [
        "ReplaceType('example')"
      ],
      "execution_count": null,
      "outputs": [
        {
          "output_type": "execute_result",
          "data": {
            "application/vnd.google.colaboratory.intrinsic+json": {
              "type": "string"
            },
            "text/plain": [
              "'example'"
            ]
          },
          "metadata": {
            "tags": []
          },
          "execution_count": 26
        }
      ]
    },
    {
      "cell_type": "code",
      "metadata": {
        "colab": {
          "base_uri": "https://localhost:8080/"
        },
        "id": "MVVOHSkByauq",
        "outputId": "830e21e8-084d-4638-c51d-b07892b60ff8"
      },
      "source": [
        "# Kiedy mam do zaaplikowania funkcję do serii to używam metody apply\n",
        "\n",
        "pokNature = pokString.apply(ReplaceType)\n",
        "pokNature.head()"
      ],
      "execution_count": null,
      "outputs": [
        {
          "output_type": "execute_result",
          "data": {
            "text/plain": [
              "Name\n",
              "Bulbasaur                Nature\n",
              "Ivysaur                  Nature\n",
              "Venusaur                 Nature\n",
              "VenusaurMega Venusaur    Nature\n",
              "Charmander                 Fire\n",
              "Name: Type 1, dtype: object"
            ]
          },
          "metadata": {
            "tags": []
          },
          "execution_count": 31
        }
      ]
    },
    {
      "cell_type": "code",
      "metadata": {
        "colab": {
          "base_uri": "https://localhost:8080/"
        },
        "id": "2XDZzmqRzPia",
        "outputId": "8c9e36ab-5914-4f0f-db3c-fe272c920931"
      },
      "source": [
        "pokNature.value_counts()"
      ],
      "execution_count": null,
      "outputs": [
        {
          "output_type": "execute_result",
          "data": {
            "text/plain": [
              "Water       112\n",
              "Nature      102\n",
              "Normal       98\n",
              "Bug          69\n",
              "Psychic      57\n",
              "Fire         52\n",
              "Electric     44\n",
              "Rock         44\n",
              "Ghost        32\n",
              "Dragon       32\n",
              "Dark         31\n",
              "Poison       28\n",
              "Fighting     27\n",
              "Steel        27\n",
              "Ice          24\n",
              "Fairy        17\n",
              "Flying        4\n",
              "Name: Type 1, dtype: int64"
            ]
          },
          "metadata": {
            "tags": []
          },
          "execution_count": 32
        }
      ]
    },
    {
      "cell_type": "code",
      "metadata": {
        "colab": {
          "base_uri": "https://localhost:8080/"
        },
        "id": "hOmSsNVx0Qs9",
        "outputId": "acd6abbf-fcb2-475d-f44a-272276cdf3c5"
      },
      "source": [
        "pokString"
      ],
      "execution_count": null,
      "outputs": [
        {
          "output_type": "execute_result",
          "data": {
            "text/plain": [
              "Name\n",
              "Bulbasaur                  Grass\n",
              "Ivysaur                    Grass\n",
              "Venusaur                   Grass\n",
              "VenusaurMega Venusaur      Grass\n",
              "Charmander                  Fire\n",
              "                          ...   \n",
              "Diancie                     Rock\n",
              "DiancieMega Diancie         Rock\n",
              "HoopaHoopa Confined      Psychic\n",
              "HoopaHoopa Unbound       Psychic\n",
              "Volcanion                   Fire\n",
              "Name: Type 1, Length: 800, dtype: object"
            ]
          },
          "metadata": {
            "tags": []
          },
          "execution_count": 33
        }
      ]
    },
    {
      "cell_type": "code",
      "metadata": {
        "colab": {
          "base_uri": "https://localhost:8080/"
        },
        "id": "C_9no-UB1TM5",
        "outputId": "9a6e2828-2051-4059-ec05-2a6c7b7716c3"
      },
      "source": [
        "# Jeżeli nie chcę deklarowaĆ funkcji mogę użyć lambda funkcję\n",
        "\n",
        "pokLambda = pokString.apply(lambda aText: aText.upper())\n",
        "pokLambda.head()"
      ],
      "execution_count": null,
      "outputs": [
        {
          "output_type": "execute_result",
          "data": {
            "text/plain": [
              "Name\n",
              "Bulbasaur                GRASS\n",
              "Ivysaur                  GRASS\n",
              "Venusaur                 GRASS\n",
              "VenusaurMega Venusaur    GRASS\n",
              "Charmander                FIRE\n",
              "Name: Type 1, dtype: object"
            ]
          },
          "metadata": {
            "tags": []
          },
          "execution_count": 35
        }
      ]
    }
  ]
}