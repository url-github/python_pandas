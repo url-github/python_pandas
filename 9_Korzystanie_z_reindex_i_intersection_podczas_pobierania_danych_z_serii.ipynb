{
  "nbformat": 4,
  "nbformat_minor": 0,
  "metadata": {
    "colab": {
      "name": "9.Korzystanie z reindex i intersection podczas pobierania danych z serii.ipynb",
      "provenance": [],
      "authorship_tag": "ABX9TyNnVmkz0GgKELLpBCGMC2mF"
    },
    "kernelspec": {
      "name": "python3",
      "display_name": "Python 3"
    },
    "language_info": {
      "name": "python"
    }
  },
  "cells": [
    {
      "cell_type": "code",
      "metadata": {
        "id": "kK4_bwmosKjD"
      },
      "source": [
        "import pandas as pd\n",
        "import numpy as np\n",
        "import matplotlib.pyplot as plt\n",
        "import math as math"
      ],
      "execution_count": null,
      "outputs": []
    },
    {
      "cell_type": "code",
      "metadata": {
        "colab": {
          "base_uri": "https://localhost:8080/"
        },
        "id": "qVA3ufEFs9Up",
        "outputId": "2c9acc1d-f79d-47b9-d13c-e65021d088f1"
      },
      "source": [
        "index = ['a', 'b', 'c', 'd', 'e1', 'e2']\n",
        "values = ['Austria', 'Belgium', 'Canada', 'Denmark', 'England', 'Estonia']\n",
        "s = pd.Series(values,index)\n",
        "s"
      ],
      "execution_count": null,
      "outputs": [
        {
          "output_type": "execute_result",
          "data": {
            "text/plain": [
              "a     Austria\n",
              "b     Belgium\n",
              "c      Canada\n",
              "d     Denmark\n",
              "e1    England\n",
              "e2    Estonia\n",
              "dtype: object"
            ]
          },
          "metadata": {
            "tags": []
          },
          "execution_count": 2
        }
      ]
    },
    {
      "cell_type": "code",
      "metadata": {
        "colab": {
          "base_uri": "https://localhost:8080/"
        },
        "id": "x9HTqtfL5Lki",
        "outputId": "f071c38b-3ba5-4a89-9d22-795b7601e3ce"
      },
      "source": [
        "searchList = ['a', 'b']\n",
        "s.loc[searchList]"
      ],
      "execution_count": null,
      "outputs": [
        {
          "output_type": "execute_result",
          "data": {
            "text/plain": [
              "a    Austria\n",
              "b    Belgium\n",
              "dtype: object"
            ]
          },
          "metadata": {
            "tags": []
          },
          "execution_count": 3
        }
      ]
    },
    {
      "cell_type": "code",
      "metadata": {
        "colab": {
          "base_uri": "https://localhost:8080/"
        },
        "id": "Ype_6-Di6W7G",
        "outputId": "f682927d-16bd-4e86-c150-4be292a49570"
      },
      "source": [
        "searchListNotFound = ['a', 'b', 'f']\n",
        "\n",
        "# Jeżeli na liście nie znajduje się wartość, aby nie robić błędu stosuję metodę reindex\n",
        "\n",
        "s.reindex(searchListNotFound)"
      ],
      "execution_count": null,
      "outputs": [
        {
          "output_type": "execute_result",
          "data": {
            "text/plain": [
              "a    Austria\n",
              "b    Belgium\n",
              "f        NaN\n",
              "dtype: object"
            ]
          },
          "metadata": {
            "tags": []
          },
          "execution_count": 5
        }
      ]
    },
    {
      "cell_type": "code",
      "metadata": {
        "id": "ityiXp036NZk",
        "colab": {
          "base_uri": "https://localhost:8080/"
        },
        "outputId": "81d042a7-bcb0-4840-8be8-1865a5d7e00f"
      },
      "source": [
        "s.index"
      ],
      "execution_count": null,
      "outputs": [
        {
          "output_type": "execute_result",
          "data": {
            "text/plain": [
              "Index(['a', 'b', 'c', 'd', 'e1', 'e2'], dtype='object')"
            ]
          },
          "metadata": {
            "tags": []
          },
          "execution_count": 6
        }
      ]
    },
    {
      "cell_type": "code",
      "metadata": {
        "colab": {
          "base_uri": "https://localhost:8080/"
        },
        "id": "uxdU24kK8iLy",
        "outputId": "dfbb5b75-2d24-4405-d669-a5ed13c97d85"
      },
      "source": [
        "s.index.intersection(searchListNotFound)"
      ],
      "execution_count": null,
      "outputs": [
        {
          "output_type": "execute_result",
          "data": {
            "text/plain": [
              "Index(['a', 'b'], dtype='object')"
            ]
          },
          "metadata": {
            "tags": []
          },
          "execution_count": 7
        }
      ]
    },
    {
      "cell_type": "code",
      "metadata": {
        "colab": {
          "base_uri": "https://localhost:8080/"
        },
        "id": "_mAeJ9lG8wy3",
        "outputId": "fb95cbf4-4ea2-4320-ae62-ae1ecfe44f60"
      },
      "source": [
        "s.loc[s.index.intersection(searchListNotFound)]"
      ],
      "execution_count": null,
      "outputs": [
        {
          "output_type": "execute_result",
          "data": {
            "text/plain": [
              "a    Austria\n",
              "b    Belgium\n",
              "dtype: object"
            ]
          },
          "metadata": {
            "tags": []
          },
          "execution_count": 8
        }
      ]
    },
    {
      "cell_type": "code",
      "metadata": {
        "colab": {
          "base_uri": "https://localhost:8080/"
        },
        "id": "ituDyeMs9HoH",
        "outputId": "58cfa57a-cd04-4b9b-92e7-6f3a31c56e04"
      },
      "source": [
        "index = ['a', 'b', 'c', 'd', 'e', 'e']\n",
        "values = ['Austria', 'Belgium', 'Canada', 'Denmark', 'England', 'Estonia']\n",
        "s = pd.Series(values,index)\n",
        "s"
      ],
      "execution_count": null,
      "outputs": [
        {
          "output_type": "execute_result",
          "data": {
            "text/plain": [
              "a    Austria\n",
              "b    Belgium\n",
              "c     Canada\n",
              "d    Denmark\n",
              "e    England\n",
              "e    Estonia\n",
              "dtype: object"
            ]
          },
          "metadata": {
            "tags": []
          },
          "execution_count": 9
        }
      ]
    },
    {
      "cell_type": "code",
      "metadata": {
        "id": "kXLnzlqq9qsX"
      },
      "source": [
        "# s.loc[s.reindex(searchListNotFound)] ValueError: cannot reindex from a duplicate axis"
      ],
      "execution_count": null,
      "outputs": []
    },
    {
      "cell_type": "code",
      "metadata": {
        "colab": {
          "base_uri": "https://localhost:8080/"
        },
        "id": "GHSI5zbH970_",
        "outputId": "08ccbf84-c9b8-4058-f57e-e25a93b24e5e"
      },
      "source": [
        "s.loc[s.index.intersection(searchListNotFound)]"
      ],
      "execution_count": null,
      "outputs": [
        {
          "output_type": "execute_result",
          "data": {
            "text/plain": [
              "a    Austria\n",
              "b    Belgium\n",
              "dtype: object"
            ]
          },
          "metadata": {
            "tags": []
          },
          "execution_count": 12
        }
      ]
    },
    {
      "cell_type": "code",
      "metadata": {
        "colab": {
          "base_uri": "https://localhost:8080/"
        },
        "id": "hrkzrFhv-RPK",
        "outputId": "5738c78c-4670-4096-d54c-8bdf98aea84f"
      },
      "source": [
        "searchListNotFound += 'e'\n",
        "searchListNotFound"
      ],
      "execution_count": null,
      "outputs": [
        {
          "output_type": "execute_result",
          "data": {
            "text/plain": [
              "['a', 'b', 'f', 'e', 'e']"
            ]
          },
          "metadata": {
            "tags": []
          },
          "execution_count": 14
        }
      ]
    },
    {
      "cell_type": "code",
      "metadata": {
        "colab": {
          "base_uri": "https://localhost:8080/"
        },
        "id": "GdrdKL8_-mpr",
        "outputId": "bd76bae8-7059-41c2-bbdb-583cc2ee50ee"
      },
      "source": [
        "s.loc[s.index.intersection(searchListNotFound)]"
      ],
      "execution_count": null,
      "outputs": [
        {
          "output_type": "execute_result",
          "data": {
            "text/plain": [
              "a    Austria\n",
              "b    Belgium\n",
              "e    England\n",
              "e    Estonia\n",
              "dtype: object"
            ]
          },
          "metadata": {
            "tags": []
          },
          "execution_count": 15
        }
      ]
    }
  ]
}