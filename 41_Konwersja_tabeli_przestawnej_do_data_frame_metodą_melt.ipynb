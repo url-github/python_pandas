{
  "nbformat": 4,
  "nbformat_minor": 0,
  "metadata": {
    "colab": {
      "name": "41.Konwersja tabeli przestawnej do data frame metodą melt.ipynb",
      "provenance": [],
      "authorship_tag": "ABX9TyOOrnE4hXZNrU7ftjGiNVeN"
    },
    "kernelspec": {
      "name": "python3",
      "display_name": "Python 3"
    },
    "language_info": {
      "name": "python"
    }
  },
  "cells": [
    {
      "cell_type": "code",
      "metadata": {
        "id": "ha043ByhfcVC"
      },
      "source": [
        "import pandas as pd\n",
        "import numpy as np"
      ],
      "execution_count": null,
      "outputs": []
    },
    {
      "cell_type": "code",
      "metadata": {
        "colab": {
          "base_uri": "https://localhost:8080/",
          "height": 306
        },
        "id": "Ca91aqIqiEXl",
        "outputId": "6ed781f0-eaaf-4e3b-96b1-a6c01dd3a4df"
      },
      "source": [
        "sales = pd.read_csv('/content/WA_Sales_Products_2012-14.csv')\n",
        "sales.head()"
      ],
      "execution_count": null,
      "outputs": [
        {
          "output_type": "execute_result",
          "data": {
            "text/html": [
              "<div>\n",
              "<style scoped>\n",
              "    .dataframe tbody tr th:only-of-type {\n",
              "        vertical-align: middle;\n",
              "    }\n",
              "\n",
              "    .dataframe tbody tr th {\n",
              "        vertical-align: top;\n",
              "    }\n",
              "\n",
              "    .dataframe thead th {\n",
              "        text-align: right;\n",
              "    }\n",
              "</style>\n",
              "<table border=\"1\" class=\"dataframe\">\n",
              "  <thead>\n",
              "    <tr style=\"text-align: right;\">\n",
              "      <th></th>\n",
              "      <th>Retailer country</th>\n",
              "      <th>Order method type</th>\n",
              "      <th>Retailer type</th>\n",
              "      <th>Product line</th>\n",
              "      <th>Product type</th>\n",
              "      <th>Product</th>\n",
              "      <th>Year</th>\n",
              "      <th>Quarter</th>\n",
              "      <th>Revenue</th>\n",
              "      <th>Quantity</th>\n",
              "      <th>Gross margin</th>\n",
              "    </tr>\n",
              "  </thead>\n",
              "  <tbody>\n",
              "    <tr>\n",
              "      <th>0</th>\n",
              "      <td>United States</td>\n",
              "      <td>Fax</td>\n",
              "      <td>Outdoors Shop</td>\n",
              "      <td>Camping Equipment</td>\n",
              "      <td>Cooking Gear</td>\n",
              "      <td>TrailChef Deluxe Cook Set</td>\n",
              "      <td>2012</td>\n",
              "      <td>Q1 2012</td>\n",
              "      <td>59628.66</td>\n",
              "      <td>489</td>\n",
              "      <td>0.347548</td>\n",
              "    </tr>\n",
              "    <tr>\n",
              "      <th>1</th>\n",
              "      <td>United States</td>\n",
              "      <td>Fax</td>\n",
              "      <td>Outdoors Shop</td>\n",
              "      <td>Camping Equipment</td>\n",
              "      <td>Cooking Gear</td>\n",
              "      <td>TrailChef Double Flame</td>\n",
              "      <td>2012</td>\n",
              "      <td>Q1 2012</td>\n",
              "      <td>35950.32</td>\n",
              "      <td>252</td>\n",
              "      <td>0.474274</td>\n",
              "    </tr>\n",
              "    <tr>\n",
              "      <th>2</th>\n",
              "      <td>United States</td>\n",
              "      <td>Fax</td>\n",
              "      <td>Outdoors Shop</td>\n",
              "      <td>Camping Equipment</td>\n",
              "      <td>Tents</td>\n",
              "      <td>Star Dome</td>\n",
              "      <td>2012</td>\n",
              "      <td>Q1 2012</td>\n",
              "      <td>89940.48</td>\n",
              "      <td>147</td>\n",
              "      <td>0.352772</td>\n",
              "    </tr>\n",
              "    <tr>\n",
              "      <th>3</th>\n",
              "      <td>United States</td>\n",
              "      <td>Fax</td>\n",
              "      <td>Outdoors Shop</td>\n",
              "      <td>Camping Equipment</td>\n",
              "      <td>Tents</td>\n",
              "      <td>Star Gazer 2</td>\n",
              "      <td>2012</td>\n",
              "      <td>Q1 2012</td>\n",
              "      <td>165883.41</td>\n",
              "      <td>303</td>\n",
              "      <td>0.282938</td>\n",
              "    </tr>\n",
              "    <tr>\n",
              "      <th>4</th>\n",
              "      <td>United States</td>\n",
              "      <td>Fax</td>\n",
              "      <td>Outdoors Shop</td>\n",
              "      <td>Camping Equipment</td>\n",
              "      <td>Sleeping Bags</td>\n",
              "      <td>Hibernator Lite</td>\n",
              "      <td>2012</td>\n",
              "      <td>Q1 2012</td>\n",
              "      <td>119822.20</td>\n",
              "      <td>1415</td>\n",
              "      <td>0.291450</td>\n",
              "    </tr>\n",
              "  </tbody>\n",
              "</table>\n",
              "</div>"
            ],
            "text/plain": [
              "  Retailer country Order method type  ... Quantity Gross margin\n",
              "0    United States               Fax  ...      489     0.347548\n",
              "1    United States               Fax  ...      252     0.474274\n",
              "2    United States               Fax  ...      147     0.352772\n",
              "3    United States               Fax  ...      303     0.282938\n",
              "4    United States               Fax  ...     1415     0.291450\n",
              "\n",
              "[5 rows x 11 columns]"
            ]
          },
          "metadata": {
            "tags": []
          },
          "execution_count": 2
        }
      ]
    },
    {
      "cell_type": "code",
      "metadata": {
        "colab": {
          "base_uri": "https://localhost:8080/",
          "height": 235
        },
        "id": "kYloKQLljGSH",
        "outputId": "0953fdc2-85eb-45c2-ebb5-db3b4ee03bd6"
      },
      "source": [
        "sales.pivot_table(index='Retailer country', columns='Year', values='Revenue', aggfunc='sum').head()"
      ],
      "execution_count": null,
      "outputs": [
        {
          "output_type": "execute_result",
          "data": {
            "text/html": [
              "<div>\n",
              "<style scoped>\n",
              "    .dataframe tbody tr th:only-of-type {\n",
              "        vertical-align: middle;\n",
              "    }\n",
              "\n",
              "    .dataframe tbody tr th {\n",
              "        vertical-align: top;\n",
              "    }\n",
              "\n",
              "    .dataframe thead th {\n",
              "        text-align: right;\n",
              "    }\n",
              "</style>\n",
              "<table border=\"1\" class=\"dataframe\">\n",
              "  <thead>\n",
              "    <tr style=\"text-align: right;\">\n",
              "      <th>Year</th>\n",
              "      <th>2012</th>\n",
              "      <th>2013</th>\n",
              "      <th>2014</th>\n",
              "    </tr>\n",
              "    <tr>\n",
              "      <th>Retailer country</th>\n",
              "      <th></th>\n",
              "      <th></th>\n",
              "      <th></th>\n",
              "    </tr>\n",
              "  </thead>\n",
              "  <tbody>\n",
              "    <tr>\n",
              "      <th>Australia</th>\n",
              "      <td>25607043.50</td>\n",
              "      <td>47799737.14</td>\n",
              "      <td>35893188.50</td>\n",
              "    </tr>\n",
              "    <tr>\n",
              "      <th>Austria</th>\n",
              "      <td>34568089.63</td>\n",
              "      <td>44996737.04</td>\n",
              "      <td>33801788.98</td>\n",
              "    </tr>\n",
              "    <tr>\n",
              "      <th>Belgium</th>\n",
              "      <td>30396297.49</td>\n",
              "      <td>38375432.68</td>\n",
              "      <td>28186839.74</td>\n",
              "    </tr>\n",
              "    <tr>\n",
              "      <th>Brazil</th>\n",
              "      <td>34234876.30</td>\n",
              "      <td>43389953.66</td>\n",
              "      <td>31440841.48</td>\n",
              "    </tr>\n",
              "    <tr>\n",
              "      <th>Canada</th>\n",
              "      <td>75428386.09</td>\n",
              "      <td>98134069.39</td>\n",
              "      <td>73325209.39</td>\n",
              "    </tr>\n",
              "  </tbody>\n",
              "</table>\n",
              "</div>"
            ],
            "text/plain": [
              "Year                     2012         2013         2014\n",
              "Retailer country                                       \n",
              "Australia         25607043.50  47799737.14  35893188.50\n",
              "Austria           34568089.63  44996737.04  33801788.98\n",
              "Belgium           30396297.49  38375432.68  28186839.74\n",
              "Brazil            34234876.30  43389953.66  31440841.48\n",
              "Canada            75428386.09  98134069.39  73325209.39"
            ]
          },
          "metadata": {
            "tags": []
          },
          "execution_count": 3
        }
      ]
    },
    {
      "cell_type": "code",
      "metadata": {
        "colab": {
          "base_uri": "https://localhost:8080/",
          "height": 235
        },
        "id": "73HqHPUOlEMM",
        "outputId": "c26de5f0-9396-48fc-91bf-d4f3b6d0b19e"
      },
      "source": [
        "pt = sales.pivot_table(index='Retailer country', columns='Year', values='Revenue', aggfunc='sum')\n",
        "pt.head()"
      ],
      "execution_count": null,
      "outputs": [
        {
          "output_type": "execute_result",
          "data": {
            "text/html": [
              "<div>\n",
              "<style scoped>\n",
              "    .dataframe tbody tr th:only-of-type {\n",
              "        vertical-align: middle;\n",
              "    }\n",
              "\n",
              "    .dataframe tbody tr th {\n",
              "        vertical-align: top;\n",
              "    }\n",
              "\n",
              "    .dataframe thead th {\n",
              "        text-align: right;\n",
              "    }\n",
              "</style>\n",
              "<table border=\"1\" class=\"dataframe\">\n",
              "  <thead>\n",
              "    <tr style=\"text-align: right;\">\n",
              "      <th>Year</th>\n",
              "      <th>2012</th>\n",
              "      <th>2013</th>\n",
              "      <th>2014</th>\n",
              "    </tr>\n",
              "    <tr>\n",
              "      <th>Retailer country</th>\n",
              "      <th></th>\n",
              "      <th></th>\n",
              "      <th></th>\n",
              "    </tr>\n",
              "  </thead>\n",
              "  <tbody>\n",
              "    <tr>\n",
              "      <th>Australia</th>\n",
              "      <td>25607043.50</td>\n",
              "      <td>47799737.14</td>\n",
              "      <td>35893188.50</td>\n",
              "    </tr>\n",
              "    <tr>\n",
              "      <th>Austria</th>\n",
              "      <td>34568089.63</td>\n",
              "      <td>44996737.04</td>\n",
              "      <td>33801788.98</td>\n",
              "    </tr>\n",
              "    <tr>\n",
              "      <th>Belgium</th>\n",
              "      <td>30396297.49</td>\n",
              "      <td>38375432.68</td>\n",
              "      <td>28186839.74</td>\n",
              "    </tr>\n",
              "    <tr>\n",
              "      <th>Brazil</th>\n",
              "      <td>34234876.30</td>\n",
              "      <td>43389953.66</td>\n",
              "      <td>31440841.48</td>\n",
              "    </tr>\n",
              "    <tr>\n",
              "      <th>Canada</th>\n",
              "      <td>75428386.09</td>\n",
              "      <td>98134069.39</td>\n",
              "      <td>73325209.39</td>\n",
              "    </tr>\n",
              "  </tbody>\n",
              "</table>\n",
              "</div>"
            ],
            "text/plain": [
              "Year                     2012         2013         2014\n",
              "Retailer country                                       \n",
              "Australia         25607043.50  47799737.14  35893188.50\n",
              "Austria           34568089.63  44996737.04  33801788.98\n",
              "Belgium           30396297.49  38375432.68  28186839.74\n",
              "Brazil            34234876.30  43389953.66  31440841.48\n",
              "Canada            75428386.09  98134069.39  73325209.39"
            ]
          },
          "metadata": {
            "tags": []
          },
          "execution_count": 4
        }
      ]
    },
    {
      "cell_type": "code",
      "metadata": {
        "colab": {
          "base_uri": "https://localhost:8080/",
          "height": 204
        },
        "id": "QzQLwbzMlbAz",
        "outputId": "f6907f65-d6bd-467d-cda0-369b106e4783"
      },
      "source": [
        "pt.reset_index(inplace=True)\n",
        "pt.head()"
      ],
      "execution_count": null,
      "outputs": [
        {
          "output_type": "execute_result",
          "data": {
            "text/html": [
              "<div>\n",
              "<style scoped>\n",
              "    .dataframe tbody tr th:only-of-type {\n",
              "        vertical-align: middle;\n",
              "    }\n",
              "\n",
              "    .dataframe tbody tr th {\n",
              "        vertical-align: top;\n",
              "    }\n",
              "\n",
              "    .dataframe thead th {\n",
              "        text-align: right;\n",
              "    }\n",
              "</style>\n",
              "<table border=\"1\" class=\"dataframe\">\n",
              "  <thead>\n",
              "    <tr style=\"text-align: right;\">\n",
              "      <th>Year</th>\n",
              "      <th>Retailer country</th>\n",
              "      <th>2012</th>\n",
              "      <th>2013</th>\n",
              "      <th>2014</th>\n",
              "    </tr>\n",
              "  </thead>\n",
              "  <tbody>\n",
              "    <tr>\n",
              "      <th>0</th>\n",
              "      <td>Australia</td>\n",
              "      <td>25607043.50</td>\n",
              "      <td>47799737.14</td>\n",
              "      <td>35893188.50</td>\n",
              "    </tr>\n",
              "    <tr>\n",
              "      <th>1</th>\n",
              "      <td>Austria</td>\n",
              "      <td>34568089.63</td>\n",
              "      <td>44996737.04</td>\n",
              "      <td>33801788.98</td>\n",
              "    </tr>\n",
              "    <tr>\n",
              "      <th>2</th>\n",
              "      <td>Belgium</td>\n",
              "      <td>30396297.49</td>\n",
              "      <td>38375432.68</td>\n",
              "      <td>28186839.74</td>\n",
              "    </tr>\n",
              "    <tr>\n",
              "      <th>3</th>\n",
              "      <td>Brazil</td>\n",
              "      <td>34234876.30</td>\n",
              "      <td>43389953.66</td>\n",
              "      <td>31440841.48</td>\n",
              "    </tr>\n",
              "    <tr>\n",
              "      <th>4</th>\n",
              "      <td>Canada</td>\n",
              "      <td>75428386.09</td>\n",
              "      <td>98134069.39</td>\n",
              "      <td>73325209.39</td>\n",
              "    </tr>\n",
              "  </tbody>\n",
              "</table>\n",
              "</div>"
            ],
            "text/plain": [
              "Year Retailer country         2012         2013         2014\n",
              "0           Australia  25607043.50  47799737.14  35893188.50\n",
              "1             Austria  34568089.63  44996737.04  33801788.98\n",
              "2             Belgium  30396297.49  38375432.68  28186839.74\n",
              "3              Brazil  34234876.30  43389953.66  31440841.48\n",
              "4              Canada  75428386.09  98134069.39  73325209.39"
            ]
          },
          "metadata": {
            "tags": []
          },
          "execution_count": 5
        }
      ]
    },
    {
      "cell_type": "code",
      "metadata": {
        "colab": {
          "base_uri": "https://localhost:8080/",
          "height": 204
        },
        "id": "d4wd4BBwmCLf",
        "outputId": "c69b28ec-a12e-457f-c38e-19f88da648b2"
      },
      "source": [
        "pt.fillna(0, inplace=True)\n",
        "pt.head()"
      ],
      "execution_count": null,
      "outputs": [
        {
          "output_type": "execute_result",
          "data": {
            "text/html": [
              "<div>\n",
              "<style scoped>\n",
              "    .dataframe tbody tr th:only-of-type {\n",
              "        vertical-align: middle;\n",
              "    }\n",
              "\n",
              "    .dataframe tbody tr th {\n",
              "        vertical-align: top;\n",
              "    }\n",
              "\n",
              "    .dataframe thead th {\n",
              "        text-align: right;\n",
              "    }\n",
              "</style>\n",
              "<table border=\"1\" class=\"dataframe\">\n",
              "  <thead>\n",
              "    <tr style=\"text-align: right;\">\n",
              "      <th>Year</th>\n",
              "      <th>Retailer country</th>\n",
              "      <th>2012</th>\n",
              "      <th>2013</th>\n",
              "      <th>2014</th>\n",
              "    </tr>\n",
              "  </thead>\n",
              "  <tbody>\n",
              "    <tr>\n",
              "      <th>0</th>\n",
              "      <td>Australia</td>\n",
              "      <td>25607043.50</td>\n",
              "      <td>47799737.14</td>\n",
              "      <td>35893188.50</td>\n",
              "    </tr>\n",
              "    <tr>\n",
              "      <th>1</th>\n",
              "      <td>Austria</td>\n",
              "      <td>34568089.63</td>\n",
              "      <td>44996737.04</td>\n",
              "      <td>33801788.98</td>\n",
              "    </tr>\n",
              "    <tr>\n",
              "      <th>2</th>\n",
              "      <td>Belgium</td>\n",
              "      <td>30396297.49</td>\n",
              "      <td>38375432.68</td>\n",
              "      <td>28186839.74</td>\n",
              "    </tr>\n",
              "    <tr>\n",
              "      <th>3</th>\n",
              "      <td>Brazil</td>\n",
              "      <td>34234876.30</td>\n",
              "      <td>43389953.66</td>\n",
              "      <td>31440841.48</td>\n",
              "    </tr>\n",
              "    <tr>\n",
              "      <th>4</th>\n",
              "      <td>Canada</td>\n",
              "      <td>75428386.09</td>\n",
              "      <td>98134069.39</td>\n",
              "      <td>73325209.39</td>\n",
              "    </tr>\n",
              "  </tbody>\n",
              "</table>\n",
              "</div>"
            ],
            "text/plain": [
              "Year Retailer country         2012         2013         2014\n",
              "0           Australia  25607043.50  47799737.14  35893188.50\n",
              "1             Austria  34568089.63  44996737.04  33801788.98\n",
              "2             Belgium  30396297.49  38375432.68  28186839.74\n",
              "3              Brazil  34234876.30  43389953.66  31440841.48\n",
              "4              Canada  75428386.09  98134069.39  73325209.39"
            ]
          },
          "metadata": {
            "tags": []
          },
          "execution_count": 6
        }
      ]
    },
    {
      "cell_type": "code",
      "metadata": {
        "colab": {
          "base_uri": "https://localhost:8080/",
          "height": 204
        },
        "id": "ZLcKd6WKnBPL",
        "outputId": "2669f8a5-5618-402d-ed35-42dacaf8d620"
      },
      "source": [
        "pt.melt(id_vars='Retailer country', value_name='RevenueSum', var_name='YearOfTransaction', value_vars=[2013,2014]).head()"
      ],
      "execution_count": null,
      "outputs": [
        {
          "output_type": "execute_result",
          "data": {
            "text/html": [
              "<div>\n",
              "<style scoped>\n",
              "    .dataframe tbody tr th:only-of-type {\n",
              "        vertical-align: middle;\n",
              "    }\n",
              "\n",
              "    .dataframe tbody tr th {\n",
              "        vertical-align: top;\n",
              "    }\n",
              "\n",
              "    .dataframe thead th {\n",
              "        text-align: right;\n",
              "    }\n",
              "</style>\n",
              "<table border=\"1\" class=\"dataframe\">\n",
              "  <thead>\n",
              "    <tr style=\"text-align: right;\">\n",
              "      <th></th>\n",
              "      <th>Retailer country</th>\n",
              "      <th>YearOfTransaction</th>\n",
              "      <th>RevenueSum</th>\n",
              "    </tr>\n",
              "  </thead>\n",
              "  <tbody>\n",
              "    <tr>\n",
              "      <th>0</th>\n",
              "      <td>Australia</td>\n",
              "      <td>2013</td>\n",
              "      <td>47799737.14</td>\n",
              "    </tr>\n",
              "    <tr>\n",
              "      <th>1</th>\n",
              "      <td>Austria</td>\n",
              "      <td>2013</td>\n",
              "      <td>44996737.04</td>\n",
              "    </tr>\n",
              "    <tr>\n",
              "      <th>2</th>\n",
              "      <td>Belgium</td>\n",
              "      <td>2013</td>\n",
              "      <td>38375432.68</td>\n",
              "    </tr>\n",
              "    <tr>\n",
              "      <th>3</th>\n",
              "      <td>Brazil</td>\n",
              "      <td>2013</td>\n",
              "      <td>43389953.66</td>\n",
              "    </tr>\n",
              "    <tr>\n",
              "      <th>4</th>\n",
              "      <td>Canada</td>\n",
              "      <td>2013</td>\n",
              "      <td>98134069.39</td>\n",
              "    </tr>\n",
              "  </tbody>\n",
              "</table>\n",
              "</div>"
            ],
            "text/plain": [
              "  Retailer country YearOfTransaction   RevenueSum\n",
              "0        Australia              2013  47799737.14\n",
              "1          Austria              2013  44996737.04\n",
              "2          Belgium              2013  38375432.68\n",
              "3           Brazil              2013  43389953.66\n",
              "4           Canada              2013  98134069.39"
            ]
          },
          "metadata": {
            "tags": []
          },
          "execution_count": 8
        }
      ]
    },
    {
      "cell_type": "code",
      "metadata": {
        "colab": {
          "base_uri": "https://localhost:8080/",
          "height": 235
        },
        "id": "iOx5by0FomR0",
        "outputId": "4bcb9ff1-1efb-4921-8812-216f1f511fbb"
      },
      "source": [
        "pt = sales.pivot_table(index='Retailer country', columns='Year', values='Revenue', aggfunc='sum')\n",
        "pt.head()"
      ],
      "execution_count": null,
      "outputs": [
        {
          "output_type": "execute_result",
          "data": {
            "text/html": [
              "<div>\n",
              "<style scoped>\n",
              "    .dataframe tbody tr th:only-of-type {\n",
              "        vertical-align: middle;\n",
              "    }\n",
              "\n",
              "    .dataframe tbody tr th {\n",
              "        vertical-align: top;\n",
              "    }\n",
              "\n",
              "    .dataframe thead th {\n",
              "        text-align: right;\n",
              "    }\n",
              "</style>\n",
              "<table border=\"1\" class=\"dataframe\">\n",
              "  <thead>\n",
              "    <tr style=\"text-align: right;\">\n",
              "      <th>Year</th>\n",
              "      <th>2012</th>\n",
              "      <th>2013</th>\n",
              "      <th>2014</th>\n",
              "    </tr>\n",
              "    <tr>\n",
              "      <th>Retailer country</th>\n",
              "      <th></th>\n",
              "      <th></th>\n",
              "      <th></th>\n",
              "    </tr>\n",
              "  </thead>\n",
              "  <tbody>\n",
              "    <tr>\n",
              "      <th>Australia</th>\n",
              "      <td>25607043.50</td>\n",
              "      <td>47799737.14</td>\n",
              "      <td>35893188.50</td>\n",
              "    </tr>\n",
              "    <tr>\n",
              "      <th>Austria</th>\n",
              "      <td>34568089.63</td>\n",
              "      <td>44996737.04</td>\n",
              "      <td>33801788.98</td>\n",
              "    </tr>\n",
              "    <tr>\n",
              "      <th>Belgium</th>\n",
              "      <td>30396297.49</td>\n",
              "      <td>38375432.68</td>\n",
              "      <td>28186839.74</td>\n",
              "    </tr>\n",
              "    <tr>\n",
              "      <th>Brazil</th>\n",
              "      <td>34234876.30</td>\n",
              "      <td>43389953.66</td>\n",
              "      <td>31440841.48</td>\n",
              "    </tr>\n",
              "    <tr>\n",
              "      <th>Canada</th>\n",
              "      <td>75428386.09</td>\n",
              "      <td>98134069.39</td>\n",
              "      <td>73325209.39</td>\n",
              "    </tr>\n",
              "  </tbody>\n",
              "</table>\n",
              "</div>"
            ],
            "text/plain": [
              "Year                     2012         2013         2014\n",
              "Retailer country                                       \n",
              "Australia         25607043.50  47799737.14  35893188.50\n",
              "Austria           34568089.63  44996737.04  33801788.98\n",
              "Belgium           30396297.49  38375432.68  28186839.74\n",
              "Brazil            34234876.30  43389953.66  31440841.48\n",
              "Canada            75428386.09  98134069.39  73325209.39"
            ]
          },
          "metadata": {
            "tags": []
          },
          "execution_count": 9
        }
      ]
    },
    {
      "cell_type": "code",
      "metadata": {
        "colab": {
          "base_uri": "https://localhost:8080/",
          "height": 235
        },
        "id": "tKRx7DHrpRGz",
        "outputId": "c2c8a965-24be-4171-8214-cdc87197b478"
      },
      "source": [
        "upvt = pt.unstack().to_frame().swaplevel().head()\n",
        "upvt.columns=['RevenueSum']\n",
        "upvt.head()"
      ],
      "execution_count": null,
      "outputs": [
        {
          "output_type": "execute_result",
          "data": {
            "text/html": [
              "<div>\n",
              "<style scoped>\n",
              "    .dataframe tbody tr th:only-of-type {\n",
              "        vertical-align: middle;\n",
              "    }\n",
              "\n",
              "    .dataframe tbody tr th {\n",
              "        vertical-align: top;\n",
              "    }\n",
              "\n",
              "    .dataframe thead th {\n",
              "        text-align: right;\n",
              "    }\n",
              "</style>\n",
              "<table border=\"1\" class=\"dataframe\">\n",
              "  <thead>\n",
              "    <tr style=\"text-align: right;\">\n",
              "      <th></th>\n",
              "      <th></th>\n",
              "      <th>RevenueSum</th>\n",
              "    </tr>\n",
              "    <tr>\n",
              "      <th>Retailer country</th>\n",
              "      <th>Year</th>\n",
              "      <th></th>\n",
              "    </tr>\n",
              "  </thead>\n",
              "  <tbody>\n",
              "    <tr>\n",
              "      <th>Australia</th>\n",
              "      <th>2012</th>\n",
              "      <td>25607043.50</td>\n",
              "    </tr>\n",
              "    <tr>\n",
              "      <th>Austria</th>\n",
              "      <th>2012</th>\n",
              "      <td>34568089.63</td>\n",
              "    </tr>\n",
              "    <tr>\n",
              "      <th>Belgium</th>\n",
              "      <th>2012</th>\n",
              "      <td>30396297.49</td>\n",
              "    </tr>\n",
              "    <tr>\n",
              "      <th>Brazil</th>\n",
              "      <th>2012</th>\n",
              "      <td>34234876.30</td>\n",
              "    </tr>\n",
              "    <tr>\n",
              "      <th>Canada</th>\n",
              "      <th>2012</th>\n",
              "      <td>75428386.09</td>\n",
              "    </tr>\n",
              "  </tbody>\n",
              "</table>\n",
              "</div>"
            ],
            "text/plain": [
              "                        RevenueSum\n",
              "Retailer country Year             \n",
              "Australia        2012  25607043.50\n",
              "Austria          2012  34568089.63\n",
              "Belgium          2012  30396297.49\n",
              "Brazil           2012  34234876.30\n",
              "Canada           2012  75428386.09"
            ]
          },
          "metadata": {
            "tags": []
          },
          "execution_count": 10
        }
      ]
    }
  ]
}