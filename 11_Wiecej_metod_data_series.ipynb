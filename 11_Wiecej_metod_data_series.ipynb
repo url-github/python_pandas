{
  "nbformat": 4,
  "nbformat_minor": 0,
  "metadata": {
    "colab": {
      "name": "11.Wiecej metod data series.ipynb",
      "provenance": [],
      "authorship_tag": "ABX9TyPV9CfcL78Q/T3QwUhGNc4k"
    },
    "kernelspec": {
      "name": "python3",
      "display_name": "Python 3"
    },
    "language_info": {
      "name": "python"
    }
  },
  "cells": [
    {
      "cell_type": "code",
      "metadata": {
        "id": "8lYYQhQcRktl"
      },
      "source": [
        "import pandas as pd\n",
        "import numpy as np\n",
        "import matplotlib.pyplot as plt\n",
        "import math as math"
      ],
      "execution_count": null,
      "outputs": []
    },
    {
      "cell_type": "code",
      "metadata": {
        "colab": {
          "base_uri": "https://localhost:8080/"
        },
        "id": "JOs4sg_VSAxT",
        "outputId": "e3f90586-3bca-4b9f-a409-a61c676ff82e"
      },
      "source": [
        "pok = pd.read_csv('/content/pokemon.csv', usecols=['Name','Attack'], squeeze=True,index_col='Name')\n",
        "pok.head()"
      ],
      "execution_count": null,
      "outputs": [
        {
          "output_type": "execute_result",
          "data": {
            "text/plain": [
              "Name\n",
              "Bulbasaur                 49\n",
              "Ivysaur                   62\n",
              "Venusaur                  82\n",
              "VenusaurMega Venusaur    100\n",
              "Charmander                52\n",
              "Name: Attack, dtype: int64"
            ]
          },
          "metadata": {
            "tags": []
          },
          "execution_count": 2
        }
      ]
    },
    {
      "cell_type": "code",
      "metadata": {
        "colab": {
          "base_uri": "https://localhost:8080/"
        },
        "id": "Y3Cpv9KLTNYR",
        "outputId": "a882494e-3ab5-4884-9170-3f6ec8e0d644"
      },
      "source": [
        "pok.count()"
      ],
      "execution_count": null,
      "outputs": [
        {
          "output_type": "execute_result",
          "data": {
            "text/plain": [
              "800"
            ]
          },
          "metadata": {
            "tags": []
          },
          "execution_count": 3
        }
      ]
    },
    {
      "cell_type": "code",
      "metadata": {
        "id": "c1pewq3OTbw9",
        "colab": {
          "base_uri": "https://localhost:8080/"
        },
        "outputId": "f6f10448-f6fe-4600-be0e-2f79898a7a86"
      },
      "source": [
        "pokType = pd.read_csv('/content/pokemon.csv', usecols=['Name','Type 2'], squeeze=True,index_col='Name')\n",
        "pokType.head()"
      ],
      "execution_count": null,
      "outputs": [
        {
          "output_type": "execute_result",
          "data": {
            "text/plain": [
              "Name\n",
              "Bulbasaur                Poison\n",
              "Ivysaur                  Poison\n",
              "Venusaur                 Poison\n",
              "VenusaurMega Venusaur    Poison\n",
              "Charmander                  NaN\n",
              "Name: Type 2, dtype: object"
            ]
          },
          "metadata": {
            "tags": []
          },
          "execution_count": 7
        }
      ]
    },
    {
      "cell_type": "code",
      "metadata": {
        "colab": {
          "base_uri": "https://localhost:8080/"
        },
        "id": "fYdkRJZDUrve",
        "outputId": "d11c4ce5-4888-42bc-f504-089e6de20650"
      },
      "source": [
        "pokType.value_counts()"
      ],
      "execution_count": null,
      "outputs": [
        {
          "output_type": "execute_result",
          "data": {
            "text/plain": [
              "Flying      97\n",
              "Ground      35\n",
              "Poison      34\n",
              "Psychic     33\n",
              "Fighting    26\n",
              "Grass       25\n",
              "Fairy       23\n",
              "Steel       22\n",
              "Dark        20\n",
              "Dragon      18\n",
              "Water       14\n",
              "Rock        14\n",
              "Ice         14\n",
              "Ghost       14\n",
              "Fire        12\n",
              "Electric     6\n",
              "Normal       4\n",
              "Bug          3\n",
              "Name: Type 2, dtype: int64"
            ]
          },
          "metadata": {
            "tags": []
          },
          "execution_count": 6
        }
      ]
    },
    {
      "cell_type": "code",
      "metadata": {
        "colab": {
          "base_uri": "https://localhost:8080/"
        },
        "id": "par3lG_FVU6-",
        "outputId": "bdd6ea14-6e4e-49d5-df8b-768d43a134f0"
      },
      "source": [
        "pok.min()"
      ],
      "execution_count": null,
      "outputs": [
        {
          "output_type": "execute_result",
          "data": {
            "text/plain": [
              "5"
            ]
          },
          "metadata": {
            "tags": []
          },
          "execution_count": 9
        }
      ]
    },
    {
      "cell_type": "code",
      "metadata": {
        "id": "PA0FGV9FVnY9",
        "colab": {
          "base_uri": "https://localhost:8080/"
        },
        "outputId": "5ac59ac2-edaf-4223-f995-e7ef88dbdbfe"
      },
      "source": [
        "pok.max()"
      ],
      "execution_count": null,
      "outputs": [
        {
          "output_type": "execute_result",
          "data": {
            "text/plain": [
              "190"
            ]
          },
          "metadata": {
            "tags": []
          },
          "execution_count": 10
        }
      ]
    },
    {
      "cell_type": "code",
      "metadata": {
        "colab": {
          "base_uri": "https://localhost:8080/",
          "height": 35
        },
        "id": "Kw3uGqxeW40a",
        "outputId": "59e52a88-6deb-41eb-ef2a-efc640f2ad6c"
      },
      "source": [
        "# To nazwa pok z siłą ataku 5\n",
        "\n",
        "pok.idxmin()"
      ],
      "execution_count": null,
      "outputs": [
        {
          "output_type": "execute_result",
          "data": {
            "application/vnd.google.colaboratory.intrinsic+json": {
              "type": "string"
            },
            "text/plain": [
              "'Chansey'"
            ]
          },
          "metadata": {
            "tags": []
          },
          "execution_count": 12
        }
      ]
    },
    {
      "cell_type": "code",
      "metadata": {
        "colab": {
          "base_uri": "https://localhost:8080/"
        },
        "id": "KvtGasyBW-7g",
        "outputId": "1fe6e72b-8739-4940-aae2-27601c89e0da"
      },
      "source": [
        "pok.loc[pok.idxmin()]"
      ],
      "execution_count": null,
      "outputs": [
        {
          "output_type": "execute_result",
          "data": {
            "text/plain": [
              "5"
            ]
          },
          "metadata": {
            "tags": []
          },
          "execution_count": 13
        }
      ]
    },
    {
      "cell_type": "code",
      "metadata": {
        "colab": {
          "base_uri": "https://localhost:8080/",
          "height": 35
        },
        "id": "l0bk58iqXz6Q",
        "outputId": "c900c148-aaf3-423d-c34d-56dda5027e5f"
      },
      "source": [
        "pok.idxmax()"
      ],
      "execution_count": null,
      "outputs": [
        {
          "output_type": "execute_result",
          "data": {
            "application/vnd.google.colaboratory.intrinsic+json": {
              "type": "string"
            },
            "text/plain": [
              "'MewtwoMega Mewtwo X'"
            ]
          },
          "metadata": {
            "tags": []
          },
          "execution_count": 14
        }
      ]
    },
    {
      "cell_type": "code",
      "metadata": {
        "colab": {
          "base_uri": "https://localhost:8080/"
        },
        "id": "NE8Dghn-YAe7",
        "outputId": "fb7cd644-04d3-49fb-e968-9d1bf36b8263"
      },
      "source": [
        "pok.loc[pok.idxmax()]"
      ],
      "execution_count": null,
      "outputs": [
        {
          "output_type": "execute_result",
          "data": {
            "text/plain": [
              "190"
            ]
          },
          "metadata": {
            "tags": []
          },
          "execution_count": 15
        }
      ]
    },
    {
      "cell_type": "code",
      "metadata": {
        "colab": {
          "base_uri": "https://localhost:8080/"
        },
        "id": "8jEvGfB3Z_WT",
        "outputId": "fa3d5331-7370-44f5-a046-7d3323a8fa5a"
      },
      "source": [
        "pok.mean()"
      ],
      "execution_count": null,
      "outputs": [
        {
          "output_type": "execute_result",
          "data": {
            "text/plain": [
              "79.00125"
            ]
          },
          "metadata": {
            "tags": []
          },
          "execution_count": 16
        }
      ]
    },
    {
      "cell_type": "code",
      "metadata": {
        "colab": {
          "base_uri": "https://localhost:8080/"
        },
        "id": "kCqcWf2vaCmH",
        "outputId": "ebc2d75b-7a33-4df5-90bc-47a93028cead"
      },
      "source": [
        "pok.sum() / pok.count()"
      ],
      "execution_count": null,
      "outputs": [
        {
          "output_type": "execute_result",
          "data": {
            "text/plain": [
              "79.00125"
            ]
          },
          "metadata": {
            "tags": []
          },
          "execution_count": 17
        }
      ]
    },
    {
      "cell_type": "code",
      "metadata": {
        "colab": {
          "base_uri": "https://localhost:8080/"
        },
        "id": "AGBLwiCSaJ1j",
        "outputId": "bf2d3ac0-93ed-4829-a396-423ff1fc151d"
      },
      "source": [
        "pok.median()"
      ],
      "execution_count": null,
      "outputs": [
        {
          "output_type": "execute_result",
          "data": {
            "text/plain": [
              "75.0"
            ]
          },
          "metadata": {
            "tags": []
          },
          "execution_count": 18
        }
      ]
    },
    {
      "cell_type": "code",
      "metadata": {
        "colab": {
          "base_uri": "https://localhost:8080/"
        },
        "id": "H_Q6isSebV2A",
        "outputId": "aed28407-265e-435a-90f6-c6e1623bdb81"
      },
      "source": [
        "pok.std()"
      ],
      "execution_count": null,
      "outputs": [
        {
          "output_type": "execute_result",
          "data": {
            "text/plain": [
              "32.45736586949843"
            ]
          },
          "metadata": {
            "tags": []
          },
          "execution_count": 19
        }
      ]
    }
  ]
}