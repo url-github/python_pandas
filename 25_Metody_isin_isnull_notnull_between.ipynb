{
  "nbformat": 4,
  "nbformat_minor": 0,
  "metadata": {
    "colab": {
      "name": "25.Metody isin isnull notnull between.ipynb",
      "provenance": [],
      "authorship_tag": "ABX9TyNreEcPcnubztgY9Tr/Idd1"
    },
    "kernelspec": {
      "name": "python3",
      "display_name": "Python 3"
    },
    "language_info": {
      "name": "python"
    }
  },
  "cells": [
    {
      "cell_type": "code",
      "metadata": {
        "id": "PniwPJSoZRm8"
      },
      "source": [
        "import pandas as pd\n",
        "import numpy as np"
      ],
      "execution_count": null,
      "outputs": []
    },
    {
      "cell_type": "code",
      "metadata": {
        "colab": {
          "base_uri": "https://localhost:8080/",
          "height": 235
        },
        "id": "IrniI4cSZxLM",
        "outputId": "b1aa0c0b-0047-4c2b-fda2-03e8e0974426"
      },
      "source": [
        "fuel = pd.read_csv(\"fuel.csv\",\n",
        "usecols=['Vehicle ID','Year','Make',\n",
        "'Model','Class','Fuel Type',\n",
        "'Combined MPG (FT1)','Start Stop Technology'],\n",
        "index_col = 'Vehicle ID', low_memory=False)\n",
        "fuel.head()"
      ],
      "execution_count": null,
      "outputs": [
        {
          "output_type": "execute_result",
          "data": {
            "text/html": [
              "<div>\n",
              "<style scoped>\n",
              "    .dataframe tbody tr th:only-of-type {\n",
              "        vertical-align: middle;\n",
              "    }\n",
              "\n",
              "    .dataframe tbody tr th {\n",
              "        vertical-align: top;\n",
              "    }\n",
              "\n",
              "    .dataframe thead th {\n",
              "        text-align: right;\n",
              "    }\n",
              "</style>\n",
              "<table border=\"1\" class=\"dataframe\">\n",
              "  <thead>\n",
              "    <tr style=\"text-align: right;\">\n",
              "      <th></th>\n",
              "      <th>Year</th>\n",
              "      <th>Make</th>\n",
              "      <th>Model</th>\n",
              "      <th>Class</th>\n",
              "      <th>Fuel Type</th>\n",
              "      <th>Combined MPG (FT1)</th>\n",
              "      <th>Start Stop Technology</th>\n",
              "    </tr>\n",
              "    <tr>\n",
              "      <th>Vehicle ID</th>\n",
              "      <th></th>\n",
              "      <th></th>\n",
              "      <th></th>\n",
              "      <th></th>\n",
              "      <th></th>\n",
              "      <th></th>\n",
              "      <th></th>\n",
              "    </tr>\n",
              "  </thead>\n",
              "  <tbody>\n",
              "    <tr>\n",
              "      <th>26587</th>\n",
              "      <td>1984</td>\n",
              "      <td>Alfa Romeo</td>\n",
              "      <td>GT V6 2.5</td>\n",
              "      <td>Minicompact Cars</td>\n",
              "      <td>Regular</td>\n",
              "      <td>20</td>\n",
              "      <td>NaN</td>\n",
              "    </tr>\n",
              "    <tr>\n",
              "      <th>27705</th>\n",
              "      <td>1984</td>\n",
              "      <td>Alfa Romeo</td>\n",
              "      <td>GT V6 2.5</td>\n",
              "      <td>Minicompact Cars</td>\n",
              "      <td>Regular</td>\n",
              "      <td>20</td>\n",
              "      <td>NaN</td>\n",
              "    </tr>\n",
              "    <tr>\n",
              "      <th>26561</th>\n",
              "      <td>1984</td>\n",
              "      <td>Alfa Romeo</td>\n",
              "      <td>Spider Veloce 2000</td>\n",
              "      <td>Two Seaters</td>\n",
              "      <td>Regular</td>\n",
              "      <td>21</td>\n",
              "      <td>NaN</td>\n",
              "    </tr>\n",
              "    <tr>\n",
              "      <th>27681</th>\n",
              "      <td>1984</td>\n",
              "      <td>Alfa Romeo</td>\n",
              "      <td>Spider Veloce 2000</td>\n",
              "      <td>Two Seaters</td>\n",
              "      <td>Regular</td>\n",
              "      <td>21</td>\n",
              "      <td>NaN</td>\n",
              "    </tr>\n",
              "    <tr>\n",
              "      <th>27550</th>\n",
              "      <td>1984</td>\n",
              "      <td>AM General</td>\n",
              "      <td>DJ Po Vehicle 2WD</td>\n",
              "      <td>Special Purpose Vehicle 2WD</td>\n",
              "      <td>Regular</td>\n",
              "      <td>17</td>\n",
              "      <td>NaN</td>\n",
              "    </tr>\n",
              "  </tbody>\n",
              "</table>\n",
              "</div>"
            ],
            "text/plain": [
              "            Year        Make  ... Combined MPG (FT1) Start Stop Technology\n",
              "Vehicle ID                    ...                                         \n",
              "26587       1984  Alfa Romeo  ...                 20                   NaN\n",
              "27705       1984  Alfa Romeo  ...                 20                   NaN\n",
              "26561       1984  Alfa Romeo  ...                 21                   NaN\n",
              "27681       1984  Alfa Romeo  ...                 21                   NaN\n",
              "27550       1984  AM General  ...                 17                   NaN\n",
              "\n",
              "[5 rows x 7 columns]"
            ]
          },
          "metadata": {
            "tags": []
          },
          "execution_count": 3
        }
      ]
    },
    {
      "cell_type": "code",
      "metadata": {
        "colab": {
          "base_uri": "https://localhost:8080/"
        },
        "id": "TnUGZO-vZzV0",
        "outputId": "7971b14b-8af8-42b5-88c4-acfad5a63960"
      },
      "source": [
        "listOfCars = ['Renault', 'Toyota','Ford']\n",
        "isInList = fuel['Make'].isin(listOfCars)\n",
        "isInList.head()"
      ],
      "execution_count": null,
      "outputs": [
        {
          "output_type": "execute_result",
          "data": {
            "text/plain": [
              "Vehicle ID\n",
              "26587    False\n",
              "27705    False\n",
              "26561    False\n",
              "27681    False\n",
              "27550    False\n",
              "Name: Make, dtype: bool"
            ]
          },
          "metadata": {
            "tags": []
          },
          "execution_count": 4
        }
      ]
    },
    {
      "cell_type": "code",
      "metadata": {
        "colab": {
          "base_uri": "https://localhost:8080/",
          "height": 235
        },
        "id": "btXnKEkracBi",
        "outputId": "782d3d4d-97db-4a57-bd97-9a52df360fb7"
      },
      "source": [
        "fuel[isInList].head()"
      ],
      "execution_count": null,
      "outputs": [
        {
          "output_type": "execute_result",
          "data": {
            "text/html": [
              "<div>\n",
              "<style scoped>\n",
              "    .dataframe tbody tr th:only-of-type {\n",
              "        vertical-align: middle;\n",
              "    }\n",
              "\n",
              "    .dataframe tbody tr th {\n",
              "        vertical-align: top;\n",
              "    }\n",
              "\n",
              "    .dataframe thead th {\n",
              "        text-align: right;\n",
              "    }\n",
              "</style>\n",
              "<table border=\"1\" class=\"dataframe\">\n",
              "  <thead>\n",
              "    <tr style=\"text-align: right;\">\n",
              "      <th></th>\n",
              "      <th>Year</th>\n",
              "      <th>Make</th>\n",
              "      <th>Model</th>\n",
              "      <th>Class</th>\n",
              "      <th>Fuel Type</th>\n",
              "      <th>Combined MPG (FT1)</th>\n",
              "      <th>Start Stop Technology</th>\n",
              "    </tr>\n",
              "    <tr>\n",
              "      <th>Vehicle ID</th>\n",
              "      <th></th>\n",
              "      <th></th>\n",
              "      <th></th>\n",
              "      <th></th>\n",
              "      <th></th>\n",
              "      <th></th>\n",
              "      <th></th>\n",
              "    </tr>\n",
              "  </thead>\n",
              "  <tbody>\n",
              "    <tr>\n",
              "      <th>27613</th>\n",
              "      <td>1984</td>\n",
              "      <td>Ford</td>\n",
              "      <td>Bronco 4WD</td>\n",
              "      <td>Special Purpose Vehicle 4WD</td>\n",
              "      <td>Regular</td>\n",
              "      <td>13</td>\n",
              "      <td>NaN</td>\n",
              "    </tr>\n",
              "    <tr>\n",
              "      <th>27616</th>\n",
              "      <td>1984</td>\n",
              "      <td>Ford</td>\n",
              "      <td>Bronco 4WD</td>\n",
              "      <td>Special Purpose Vehicle 4WD</td>\n",
              "      <td>Regular</td>\n",
              "      <td>11</td>\n",
              "      <td>NaN</td>\n",
              "    </tr>\n",
              "    <tr>\n",
              "      <th>27619</th>\n",
              "      <td>1984</td>\n",
              "      <td>Ford</td>\n",
              "      <td>Bronco 4WD</td>\n",
              "      <td>Special Purpose Vehicle 4WD</td>\n",
              "      <td>Regular</td>\n",
              "      <td>10</td>\n",
              "      <td>NaN</td>\n",
              "    </tr>\n",
              "    <tr>\n",
              "      <th>27622</th>\n",
              "      <td>1984</td>\n",
              "      <td>Ford</td>\n",
              "      <td>Bronco 4WD</td>\n",
              "      <td>Special Purpose Vehicle 4WD</td>\n",
              "      <td>Regular</td>\n",
              "      <td>11</td>\n",
              "      <td>NaN</td>\n",
              "    </tr>\n",
              "    <tr>\n",
              "      <th>28472</th>\n",
              "      <td>1984</td>\n",
              "      <td>Ford</td>\n",
              "      <td>Bronco 4WD</td>\n",
              "      <td>Special Purpose Vehicle 4WD</td>\n",
              "      <td>Regular</td>\n",
              "      <td>13</td>\n",
              "      <td>NaN</td>\n",
              "    </tr>\n",
              "  </tbody>\n",
              "</table>\n",
              "</div>"
            ],
            "text/plain": [
              "            Year  Make  ... Combined MPG (FT1) Start Stop Technology\n",
              "Vehicle ID              ...                                         \n",
              "27613       1984  Ford  ...                 13                   NaN\n",
              "27616       1984  Ford  ...                 11                   NaN\n",
              "27619       1984  Ford  ...                 10                   NaN\n",
              "27622       1984  Ford  ...                 11                   NaN\n",
              "28472       1984  Ford  ...                 13                   NaN\n",
              "\n",
              "[5 rows x 7 columns]"
            ]
          },
          "metadata": {
            "tags": []
          },
          "execution_count": 5
        }
      ]
    },
    {
      "cell_type": "code",
      "metadata": {
        "colab": {
          "base_uri": "https://localhost:8080/"
        },
        "id": "ZEp_mlOcapOm",
        "outputId": "ceb1eb93-dc90-4e36-bb57-22f154fa2470"
      },
      "source": [
        "isNoStartStopDefined = fuel['Start Stop Technology'].isnull()\n",
        "isNoStartStopDefined.head()"
      ],
      "execution_count": null,
      "outputs": [
        {
          "output_type": "execute_result",
          "data": {
            "text/plain": [
              "Vehicle ID\n",
              "26587    True\n",
              "27705    True\n",
              "26561    True\n",
              "27681    True\n",
              "27550    True\n",
              "Name: Start Stop Technology, dtype: bool"
            ]
          },
          "metadata": {
            "tags": []
          },
          "execution_count": 6
        }
      ]
    },
    {
      "cell_type": "code",
      "metadata": {
        "colab": {
          "base_uri": "https://localhost:8080/",
          "height": 235
        },
        "id": "epz7Vblwa0Qy",
        "outputId": "057505c6-7119-482f-9ca3-cbb835d17a8f"
      },
      "source": [
        "fuel[isNoStartStopDefined].head()"
      ],
      "execution_count": null,
      "outputs": [
        {
          "output_type": "execute_result",
          "data": {
            "text/html": [
              "<div>\n",
              "<style scoped>\n",
              "    .dataframe tbody tr th:only-of-type {\n",
              "        vertical-align: middle;\n",
              "    }\n",
              "\n",
              "    .dataframe tbody tr th {\n",
              "        vertical-align: top;\n",
              "    }\n",
              "\n",
              "    .dataframe thead th {\n",
              "        text-align: right;\n",
              "    }\n",
              "</style>\n",
              "<table border=\"1\" class=\"dataframe\">\n",
              "  <thead>\n",
              "    <tr style=\"text-align: right;\">\n",
              "      <th></th>\n",
              "      <th>Year</th>\n",
              "      <th>Make</th>\n",
              "      <th>Model</th>\n",
              "      <th>Class</th>\n",
              "      <th>Fuel Type</th>\n",
              "      <th>Combined MPG (FT1)</th>\n",
              "      <th>Start Stop Technology</th>\n",
              "    </tr>\n",
              "    <tr>\n",
              "      <th>Vehicle ID</th>\n",
              "      <th></th>\n",
              "      <th></th>\n",
              "      <th></th>\n",
              "      <th></th>\n",
              "      <th></th>\n",
              "      <th></th>\n",
              "      <th></th>\n",
              "    </tr>\n",
              "  </thead>\n",
              "  <tbody>\n",
              "    <tr>\n",
              "      <th>26587</th>\n",
              "      <td>1984</td>\n",
              "      <td>Alfa Romeo</td>\n",
              "      <td>GT V6 2.5</td>\n",
              "      <td>Minicompact Cars</td>\n",
              "      <td>Regular</td>\n",
              "      <td>20</td>\n",
              "      <td>NaN</td>\n",
              "    </tr>\n",
              "    <tr>\n",
              "      <th>27705</th>\n",
              "      <td>1984</td>\n",
              "      <td>Alfa Romeo</td>\n",
              "      <td>GT V6 2.5</td>\n",
              "      <td>Minicompact Cars</td>\n",
              "      <td>Regular</td>\n",
              "      <td>20</td>\n",
              "      <td>NaN</td>\n",
              "    </tr>\n",
              "    <tr>\n",
              "      <th>26561</th>\n",
              "      <td>1984</td>\n",
              "      <td>Alfa Romeo</td>\n",
              "      <td>Spider Veloce 2000</td>\n",
              "      <td>Two Seaters</td>\n",
              "      <td>Regular</td>\n",
              "      <td>21</td>\n",
              "      <td>NaN</td>\n",
              "    </tr>\n",
              "    <tr>\n",
              "      <th>27681</th>\n",
              "      <td>1984</td>\n",
              "      <td>Alfa Romeo</td>\n",
              "      <td>Spider Veloce 2000</td>\n",
              "      <td>Two Seaters</td>\n",
              "      <td>Regular</td>\n",
              "      <td>21</td>\n",
              "      <td>NaN</td>\n",
              "    </tr>\n",
              "    <tr>\n",
              "      <th>27550</th>\n",
              "      <td>1984</td>\n",
              "      <td>AM General</td>\n",
              "      <td>DJ Po Vehicle 2WD</td>\n",
              "      <td>Special Purpose Vehicle 2WD</td>\n",
              "      <td>Regular</td>\n",
              "      <td>17</td>\n",
              "      <td>NaN</td>\n",
              "    </tr>\n",
              "  </tbody>\n",
              "</table>\n",
              "</div>"
            ],
            "text/plain": [
              "            Year        Make  ... Combined MPG (FT1) Start Stop Technology\n",
              "Vehicle ID                    ...                                         \n",
              "26587       1984  Alfa Romeo  ...                 20                   NaN\n",
              "27705       1984  Alfa Romeo  ...                 20                   NaN\n",
              "26561       1984  Alfa Romeo  ...                 21                   NaN\n",
              "27681       1984  Alfa Romeo  ...                 21                   NaN\n",
              "27550       1984  AM General  ...                 17                   NaN\n",
              "\n",
              "[5 rows x 7 columns]"
            ]
          },
          "metadata": {
            "tags": []
          },
          "execution_count": 7
        }
      ]
    },
    {
      "cell_type": "code",
      "metadata": {
        "colab": {
          "base_uri": "https://localhost:8080/"
        },
        "id": "WXVHdE8MbEiX",
        "outputId": "74c5277b-4fc5-48b7-a78c-e08dd41937e5"
      },
      "source": [
        "mpg50_60 = fuel['Combined MPG (FT1)'].between(50,60)\n",
        "mpg50_60.head()"
      ],
      "execution_count": null,
      "outputs": [
        {
          "output_type": "execute_result",
          "data": {
            "text/plain": [
              "Vehicle ID\n",
              "26587    False\n",
              "27705    False\n",
              "26561    False\n",
              "27681    False\n",
              "27550    False\n",
              "Name: Combined MPG (FT1), dtype: bool"
            ]
          },
          "metadata": {
            "tags": []
          },
          "execution_count": 8
        }
      ]
    },
    {
      "cell_type": "code",
      "metadata": {
        "colab": {
          "base_uri": "https://localhost:8080/",
          "height": 80
        },
        "id": "xRxmKoTXbSkq",
        "outputId": "095fe218-873d-40e7-c089-efdf1138430a"
      },
      "source": [
        "fuel[mpg50_60].head()"
      ],
      "execution_count": null,
      "outputs": [
        {
          "output_type": "execute_result",
          "data": {
            "text/html": [
              "<div>\n",
              "<style scoped>\n",
              "    .dataframe tbody tr th:only-of-type {\n",
              "        vertical-align: middle;\n",
              "    }\n",
              "\n",
              "    .dataframe tbody tr th {\n",
              "        vertical-align: top;\n",
              "    }\n",
              "\n",
              "    .dataframe thead th {\n",
              "        text-align: right;\n",
              "    }\n",
              "</style>\n",
              "<table border=\"1\" class=\"dataframe\">\n",
              "  <thead>\n",
              "    <tr style=\"text-align: right;\">\n",
              "      <th></th>\n",
              "      <th>Year</th>\n",
              "      <th>Make</th>\n",
              "      <th>Model</th>\n",
              "      <th>Class</th>\n",
              "      <th>Fuel Type</th>\n",
              "      <th>Combined MPG (FT1)</th>\n",
              "      <th>Start Stop Technology</th>\n",
              "    </tr>\n",
              "    <tr>\n",
              "      <th>Vehicle ID</th>\n",
              "      <th></th>\n",
              "      <th></th>\n",
              "      <th></th>\n",
              "      <th></th>\n",
              "      <th></th>\n",
              "      <th></th>\n",
              "      <th></th>\n",
              "    </tr>\n",
              "  </thead>\n",
              "  <tbody>\n",
              "  </tbody>\n",
              "</table>\n",
              "</div>"
            ],
            "text/plain": [
              "Empty DataFrame\n",
              "Columns: [Year, Make, Model, Class, Fuel Type, Combined MPG (FT1), Start Stop Technology]\n",
              "Index: []"
            ]
          },
          "metadata": {
            "tags": []
          },
          "execution_count": 9
        }
      ]
    },
    {
      "cell_type": "code",
      "metadata": {
        "colab": {
          "base_uri": "https://localhost:8080/"
        },
        "id": "KQwvIaXebVce",
        "outputId": "e920080d-c336-40c0-c11b-7fe777eea384"
      },
      "source": [
        "print('There are %d cars within the list %s' %\n",
        " (len(fuel[isInList]), listOfCars))\n",
        "print('There are %d cars where Start/Stop technology is not determined' %\n",
        "len(fuel[isNoStartStopDefined]))\n",
        "print('There are %d cars where Start/Stop technology is determined' %\n",
        "len(fuel[mpg50_60]))"
      ],
      "execution_count": null,
      "outputs": [
        {
          "output_type": "stream",
          "text": [
            "There are 574 cars within the list ['Renault', 'Toyota', 'Ford']\n",
            "There are 3601 cars where Start/Stop technology is not determined\n",
            "There are 0 cars where Start/Stop technology is determined\n"
          ],
          "name": "stdout"
        }
      ]
    },
    {
      "cell_type": "code",
      "metadata": {
        "id": "UG7uRQjtbn33"
      },
      "source": [
        ""
      ],
      "execution_count": null,
      "outputs": []
    }
  ]
}