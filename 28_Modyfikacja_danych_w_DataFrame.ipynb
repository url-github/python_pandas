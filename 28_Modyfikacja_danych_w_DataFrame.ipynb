{
  "nbformat": 4,
  "nbformat_minor": 0,
  "metadata": {
    "colab": {
      "name": "28.Modyfikacja danych w DataFrame.ipynb",
      "provenance": [],
      "authorship_tag": "ABX9TyPE4AzS+w0x+XPVvcKLVHSD"
    },
    "kernelspec": {
      "name": "python3",
      "display_name": "Python 3"
    },
    "language_info": {
      "name": "python"
    }
  },
  "cells": [
    {
      "cell_type": "code",
      "metadata": {
        "id": "dCHEy_BTus1j"
      },
      "source": [
        "import pandas as pd\n",
        "import numpy as np\n",
        "import matplotlib.pyplot as plt\n",
        "import math as math"
      ],
      "execution_count": null,
      "outputs": []
    },
    {
      "cell_type": "code",
      "metadata": {
        "colab": {
          "base_uri": "https://localhost:8080/",
          "height": 205
        },
        "id": "a6v31Ol6u-W0",
        "outputId": "7c59b75c-7566-4f26-bf3c-5fa3b8c1968b"
      },
      "source": [
        "frame = pd.read_csv('/content/Insurance.csv')\n",
        "frame.head()"
      ],
      "execution_count": null,
      "outputs": [
        {
          "output_type": "execute_result",
          "data": {
            "text/html": [
              "<div>\n",
              "<style scoped>\n",
              "    .dataframe tbody tr th:only-of-type {\n",
              "        vertical-align: middle;\n",
              "    }\n",
              "\n",
              "    .dataframe tbody tr th {\n",
              "        vertical-align: top;\n",
              "    }\n",
              "\n",
              "    .dataframe thead th {\n",
              "        text-align: right;\n",
              "    }\n",
              "</style>\n",
              "<table border=\"1\" class=\"dataframe\">\n",
              "  <thead>\n",
              "    <tr style=\"text-align: right;\">\n",
              "      <th></th>\n",
              "      <th>ID</th>\n",
              "      <th>District</th>\n",
              "      <th>Group</th>\n",
              "      <th>Age</th>\n",
              "      <th>Holders</th>\n",
              "      <th>Claims</th>\n",
              "    </tr>\n",
              "  </thead>\n",
              "  <tbody>\n",
              "    <tr>\n",
              "      <th>0</th>\n",
              "      <td>1</td>\n",
              "      <td>1</td>\n",
              "      <td>&lt;1l</td>\n",
              "      <td>&lt;25</td>\n",
              "      <td>197</td>\n",
              "      <td>38</td>\n",
              "    </tr>\n",
              "    <tr>\n",
              "      <th>1</th>\n",
              "      <td>2</td>\n",
              "      <td>1</td>\n",
              "      <td>&lt;1l</td>\n",
              "      <td>25-29</td>\n",
              "      <td>264</td>\n",
              "      <td>35</td>\n",
              "    </tr>\n",
              "    <tr>\n",
              "      <th>2</th>\n",
              "      <td>3</td>\n",
              "      <td>1</td>\n",
              "      <td>&lt;1l</td>\n",
              "      <td>30-35</td>\n",
              "      <td>246</td>\n",
              "      <td>20</td>\n",
              "    </tr>\n",
              "    <tr>\n",
              "      <th>3</th>\n",
              "      <td>4</td>\n",
              "      <td>1</td>\n",
              "      <td>&lt;1l</td>\n",
              "      <td>&gt;35</td>\n",
              "      <td>1680</td>\n",
              "      <td>156</td>\n",
              "    </tr>\n",
              "    <tr>\n",
              "      <th>4</th>\n",
              "      <td>5</td>\n",
              "      <td>1</td>\n",
              "      <td>1-1.5l</td>\n",
              "      <td>&lt;25</td>\n",
              "      <td>284</td>\n",
              "      <td>63</td>\n",
              "    </tr>\n",
              "  </tbody>\n",
              "</table>\n",
              "</div>"
            ],
            "text/plain": [
              "   ID  District   Group    Age  Holders  Claims\n",
              "0   1         1     <1l    <25      197      38\n",
              "1   2         1     <1l  25-29      264      35\n",
              "2   3         1     <1l  30-35      246      20\n",
              "3   4         1     <1l    >35     1680     156\n",
              "4   5         1  1-1.5l    <25      284      63"
            ]
          },
          "metadata": {
            "tags": []
          },
          "execution_count": 2
        }
      ]
    },
    {
      "cell_type": "code",
      "metadata": {
        "id": "UFFJ52aqwEJG"
      },
      "source": [
        "import pandas as pd\n",
        "import numpy as np\n",
        "import matplotlib.pyplot as plt\n",
        "import math as math"
      ],
      "execution_count": null,
      "outputs": []
    },
    {
      "cell_type": "code",
      "metadata": {
        "colab": {
          "base_uri": "https://localhost:8080/",
          "height": 205
        },
        "id": "5dNMe7qqxPpF",
        "outputId": "4830b8e5-5763-4a70-9cf4-8d86949e0abf"
      },
      "source": [
        "frame = pd.read_csv('/content/Insurance.csv')\n",
        "frame.head()"
      ],
      "execution_count": null,
      "outputs": [
        {
          "output_type": "execute_result",
          "data": {
            "text/html": [
              "<div>\n",
              "<style scoped>\n",
              "    .dataframe tbody tr th:only-of-type {\n",
              "        vertical-align: middle;\n",
              "    }\n",
              "\n",
              "    .dataframe tbody tr th {\n",
              "        vertical-align: top;\n",
              "    }\n",
              "\n",
              "    .dataframe thead th {\n",
              "        text-align: right;\n",
              "    }\n",
              "</style>\n",
              "<table border=\"1\" class=\"dataframe\">\n",
              "  <thead>\n",
              "    <tr style=\"text-align: right;\">\n",
              "      <th></th>\n",
              "      <th>ID</th>\n",
              "      <th>District</th>\n",
              "      <th>Group</th>\n",
              "      <th>Age</th>\n",
              "      <th>Holders</th>\n",
              "      <th>Claims</th>\n",
              "    </tr>\n",
              "  </thead>\n",
              "  <tbody>\n",
              "    <tr>\n",
              "      <th>0</th>\n",
              "      <td>1</td>\n",
              "      <td>1</td>\n",
              "      <td>&lt;1l</td>\n",
              "      <td>&lt;25</td>\n",
              "      <td>197</td>\n",
              "      <td>38</td>\n",
              "    </tr>\n",
              "    <tr>\n",
              "      <th>1</th>\n",
              "      <td>2</td>\n",
              "      <td>1</td>\n",
              "      <td>&lt;1l</td>\n",
              "      <td>25-29</td>\n",
              "      <td>264</td>\n",
              "      <td>35</td>\n",
              "    </tr>\n",
              "    <tr>\n",
              "      <th>2</th>\n",
              "      <td>3</td>\n",
              "      <td>1</td>\n",
              "      <td>&lt;1l</td>\n",
              "      <td>30-35</td>\n",
              "      <td>246</td>\n",
              "      <td>20</td>\n",
              "    </tr>\n",
              "    <tr>\n",
              "      <th>3</th>\n",
              "      <td>4</td>\n",
              "      <td>1</td>\n",
              "      <td>&lt;1l</td>\n",
              "      <td>&gt;35</td>\n",
              "      <td>1680</td>\n",
              "      <td>156</td>\n",
              "    </tr>\n",
              "    <tr>\n",
              "      <th>4</th>\n",
              "      <td>5</td>\n",
              "      <td>1</td>\n",
              "      <td>1-1.5l</td>\n",
              "      <td>&lt;25</td>\n",
              "      <td>284</td>\n",
              "      <td>63</td>\n",
              "    </tr>\n",
              "  </tbody>\n",
              "</table>\n",
              "</div>"
            ],
            "text/plain": [
              "   ID  District   Group    Age  Holders  Claims\n",
              "0   1         1     <1l    <25      197      38\n",
              "1   2         1     <1l  25-29      264      35\n",
              "2   3         1     <1l  30-35      246      20\n",
              "3   4         1     <1l    >35     1680     156\n",
              "4   5         1  1-1.5l    <25      284      63"
            ]
          },
          "metadata": {
            "tags": []
          },
          "execution_count": 4
        }
      ]
    },
    {
      "cell_type": "code",
      "metadata": {
        "colab": {
          "base_uri": "https://localhost:8080/"
        },
        "id": "Ccw0geuhxiug",
        "outputId": "13a296cc-d29f-4970-9e2b-9f14097f5b38"
      },
      "source": [
        "frame.loc[2,'Claims']"
      ],
      "execution_count": null,
      "outputs": [
        {
          "output_type": "execute_result",
          "data": {
            "text/plain": [
              "20"
            ]
          },
          "metadata": {
            "tags": []
          },
          "execution_count": 5
        }
      ]
    },
    {
      "cell_type": "code",
      "metadata": {
        "id": "doUFt_pWyzFM"
      },
      "source": [
        "frame.loc[2,'Claims'] = 19"
      ],
      "execution_count": null,
      "outputs": []
    },
    {
      "cell_type": "code",
      "metadata": {
        "colab": {
          "base_uri": "https://localhost:8080/",
          "height": 205
        },
        "id": "WMl_94a6y857",
        "outputId": "60cf9945-b083-4f3c-ab91-360f24a66426"
      },
      "source": [
        "frame.head()"
      ],
      "execution_count": null,
      "outputs": [
        {
          "output_type": "execute_result",
          "data": {
            "text/html": [
              "<div>\n",
              "<style scoped>\n",
              "    .dataframe tbody tr th:only-of-type {\n",
              "        vertical-align: middle;\n",
              "    }\n",
              "\n",
              "    .dataframe tbody tr th {\n",
              "        vertical-align: top;\n",
              "    }\n",
              "\n",
              "    .dataframe thead th {\n",
              "        text-align: right;\n",
              "    }\n",
              "</style>\n",
              "<table border=\"1\" class=\"dataframe\">\n",
              "  <thead>\n",
              "    <tr style=\"text-align: right;\">\n",
              "      <th></th>\n",
              "      <th>ID</th>\n",
              "      <th>District</th>\n",
              "      <th>Group</th>\n",
              "      <th>Age</th>\n",
              "      <th>Holders</th>\n",
              "      <th>Claims</th>\n",
              "    </tr>\n",
              "  </thead>\n",
              "  <tbody>\n",
              "    <tr>\n",
              "      <th>0</th>\n",
              "      <td>1</td>\n",
              "      <td>1</td>\n",
              "      <td>&lt;1l</td>\n",
              "      <td>&lt;25</td>\n",
              "      <td>197</td>\n",
              "      <td>38</td>\n",
              "    </tr>\n",
              "    <tr>\n",
              "      <th>1</th>\n",
              "      <td>2</td>\n",
              "      <td>1</td>\n",
              "      <td>&lt;1l</td>\n",
              "      <td>25-29</td>\n",
              "      <td>264</td>\n",
              "      <td>35</td>\n",
              "    </tr>\n",
              "    <tr>\n",
              "      <th>2</th>\n",
              "      <td>3</td>\n",
              "      <td>1</td>\n",
              "      <td>&lt;1l</td>\n",
              "      <td>30-35</td>\n",
              "      <td>246</td>\n",
              "      <td>19</td>\n",
              "    </tr>\n",
              "    <tr>\n",
              "      <th>3</th>\n",
              "      <td>4</td>\n",
              "      <td>1</td>\n",
              "      <td>&lt;1l</td>\n",
              "      <td>&gt;35</td>\n",
              "      <td>1680</td>\n",
              "      <td>156</td>\n",
              "    </tr>\n",
              "    <tr>\n",
              "      <th>4</th>\n",
              "      <td>5</td>\n",
              "      <td>1</td>\n",
              "      <td>1-1.5l</td>\n",
              "      <td>&lt;25</td>\n",
              "      <td>284</td>\n",
              "      <td>63</td>\n",
              "    </tr>\n",
              "  </tbody>\n",
              "</table>\n",
              "</div>"
            ],
            "text/plain": [
              "   ID  District   Group    Age  Holders  Claims\n",
              "0   1         1     <1l    <25      197      38\n",
              "1   2         1     <1l  25-29      264      35\n",
              "2   3         1     <1l  30-35      246      19\n",
              "3   4         1     <1l    >35     1680     156\n",
              "4   5         1  1-1.5l    <25      284      63"
            ]
          },
          "metadata": {
            "tags": []
          },
          "execution_count": 7
        }
      ]
    },
    {
      "cell_type": "code",
      "metadata": {
        "colab": {
          "base_uri": "https://localhost:8080/",
          "height": 205
        },
        "id": "Jpu0VGsMy_IT",
        "outputId": "4032f075-c02e-4db9-a5cc-4aea11ddf061"
      },
      "source": [
        "frame.loc[2,'Claims'] += 1\n",
        "frame.head()"
      ],
      "execution_count": null,
      "outputs": [
        {
          "output_type": "execute_result",
          "data": {
            "text/html": [
              "<div>\n",
              "<style scoped>\n",
              "    .dataframe tbody tr th:only-of-type {\n",
              "        vertical-align: middle;\n",
              "    }\n",
              "\n",
              "    .dataframe tbody tr th {\n",
              "        vertical-align: top;\n",
              "    }\n",
              "\n",
              "    .dataframe thead th {\n",
              "        text-align: right;\n",
              "    }\n",
              "</style>\n",
              "<table border=\"1\" class=\"dataframe\">\n",
              "  <thead>\n",
              "    <tr style=\"text-align: right;\">\n",
              "      <th></th>\n",
              "      <th>ID</th>\n",
              "      <th>District</th>\n",
              "      <th>Group</th>\n",
              "      <th>Age</th>\n",
              "      <th>Holders</th>\n",
              "      <th>Claims</th>\n",
              "    </tr>\n",
              "  </thead>\n",
              "  <tbody>\n",
              "    <tr>\n",
              "      <th>0</th>\n",
              "      <td>1</td>\n",
              "      <td>1</td>\n",
              "      <td>&lt;1l</td>\n",
              "      <td>&lt;25</td>\n",
              "      <td>197</td>\n",
              "      <td>38</td>\n",
              "    </tr>\n",
              "    <tr>\n",
              "      <th>1</th>\n",
              "      <td>2</td>\n",
              "      <td>1</td>\n",
              "      <td>&lt;1l</td>\n",
              "      <td>25-29</td>\n",
              "      <td>264</td>\n",
              "      <td>35</td>\n",
              "    </tr>\n",
              "    <tr>\n",
              "      <th>2</th>\n",
              "      <td>3</td>\n",
              "      <td>1</td>\n",
              "      <td>&lt;1l</td>\n",
              "      <td>30-35</td>\n",
              "      <td>246</td>\n",
              "      <td>20</td>\n",
              "    </tr>\n",
              "    <tr>\n",
              "      <th>3</th>\n",
              "      <td>4</td>\n",
              "      <td>1</td>\n",
              "      <td>&lt;1l</td>\n",
              "      <td>&gt;35</td>\n",
              "      <td>1680</td>\n",
              "      <td>156</td>\n",
              "    </tr>\n",
              "    <tr>\n",
              "      <th>4</th>\n",
              "      <td>5</td>\n",
              "      <td>1</td>\n",
              "      <td>1-1.5l</td>\n",
              "      <td>&lt;25</td>\n",
              "      <td>284</td>\n",
              "      <td>63</td>\n",
              "    </tr>\n",
              "  </tbody>\n",
              "</table>\n",
              "</div>"
            ],
            "text/plain": [
              "   ID  District   Group    Age  Holders  Claims\n",
              "0   1         1     <1l    <25      197      38\n",
              "1   2         1     <1l  25-29      264      35\n",
              "2   3         1     <1l  30-35      246      20\n",
              "3   4         1     <1l    >35     1680     156\n",
              "4   5         1  1-1.5l    <25      284      63"
            ]
          },
          "metadata": {
            "tags": []
          },
          "execution_count": 8
        }
      ]
    },
    {
      "cell_type": "markdown",
      "metadata": {
        "id": "5vzYxjJSzqwj"
      },
      "source": [
        "Modyfikacja większej ilości danych w kolumnie za jednym zamachem"
      ]
    },
    {
      "cell_type": "code",
      "metadata": {
        "colab": {
          "base_uri": "https://localhost:8080/"
        },
        "id": "hsz8rxY9zd3v",
        "outputId": "cd375ed2-60bf-417b-db1f-ec8995e99f19"
      },
      "source": [
        "frame['Age'] == '<25'"
      ],
      "execution_count": null,
      "outputs": [
        {
          "output_type": "execute_result",
          "data": {
            "text/plain": [
              "0      True\n",
              "1     False\n",
              "2     False\n",
              "3     False\n",
              "4      True\n",
              "      ...  \n",
              "59    False\n",
              "60     True\n",
              "61    False\n",
              "62    False\n",
              "63    False\n",
              "Name: Age, Length: 64, dtype: bool"
            ]
          },
          "metadata": {
            "tags": []
          },
          "execution_count": 11
        }
      ]
    },
    {
      "cell_type": "code",
      "metadata": {
        "colab": {
          "base_uri": "https://localhost:8080/",
          "height": 422
        },
        "id": "5FnPZbq30JZz",
        "outputId": "415f0d83-3ef8-40c2-f89c-9943483a64a7"
      },
      "source": [
        "isYounger25 = frame['Age'] == '<25'\n",
        "frame.where(isYounger25)"
      ],
      "execution_count": null,
      "outputs": [
        {
          "output_type": "execute_result",
          "data": {
            "text/html": [
              "<div>\n",
              "<style scoped>\n",
              "    .dataframe tbody tr th:only-of-type {\n",
              "        vertical-align: middle;\n",
              "    }\n",
              "\n",
              "    .dataframe tbody tr th {\n",
              "        vertical-align: top;\n",
              "    }\n",
              "\n",
              "    .dataframe thead th {\n",
              "        text-align: right;\n",
              "    }\n",
              "</style>\n",
              "<table border=\"1\" class=\"dataframe\">\n",
              "  <thead>\n",
              "    <tr style=\"text-align: right;\">\n",
              "      <th></th>\n",
              "      <th>ID</th>\n",
              "      <th>District</th>\n",
              "      <th>Group</th>\n",
              "      <th>Age</th>\n",
              "      <th>Holders</th>\n",
              "      <th>Claims</th>\n",
              "    </tr>\n",
              "  </thead>\n",
              "  <tbody>\n",
              "    <tr>\n",
              "      <th>0</th>\n",
              "      <td>1.0</td>\n",
              "      <td>1.0</td>\n",
              "      <td>&lt;1l</td>\n",
              "      <td>&lt;25</td>\n",
              "      <td>197.0</td>\n",
              "      <td>38.0</td>\n",
              "    </tr>\n",
              "    <tr>\n",
              "      <th>1</th>\n",
              "      <td>NaN</td>\n",
              "      <td>NaN</td>\n",
              "      <td>NaN</td>\n",
              "      <td>NaN</td>\n",
              "      <td>NaN</td>\n",
              "      <td>NaN</td>\n",
              "    </tr>\n",
              "    <tr>\n",
              "      <th>2</th>\n",
              "      <td>NaN</td>\n",
              "      <td>NaN</td>\n",
              "      <td>NaN</td>\n",
              "      <td>NaN</td>\n",
              "      <td>NaN</td>\n",
              "      <td>NaN</td>\n",
              "    </tr>\n",
              "    <tr>\n",
              "      <th>3</th>\n",
              "      <td>NaN</td>\n",
              "      <td>NaN</td>\n",
              "      <td>NaN</td>\n",
              "      <td>NaN</td>\n",
              "      <td>NaN</td>\n",
              "      <td>NaN</td>\n",
              "    </tr>\n",
              "    <tr>\n",
              "      <th>4</th>\n",
              "      <td>5.0</td>\n",
              "      <td>1.0</td>\n",
              "      <td>1-1.5l</td>\n",
              "      <td>&lt;25</td>\n",
              "      <td>284.0</td>\n",
              "      <td>63.0</td>\n",
              "    </tr>\n",
              "    <tr>\n",
              "      <th>...</th>\n",
              "      <td>...</td>\n",
              "      <td>...</td>\n",
              "      <td>...</td>\n",
              "      <td>...</td>\n",
              "      <td>...</td>\n",
              "      <td>...</td>\n",
              "    </tr>\n",
              "    <tr>\n",
              "      <th>59</th>\n",
              "      <td>NaN</td>\n",
              "      <td>NaN</td>\n",
              "      <td>NaN</td>\n",
              "      <td>NaN</td>\n",
              "      <td>NaN</td>\n",
              "      <td>NaN</td>\n",
              "    </tr>\n",
              "    <tr>\n",
              "      <th>60</th>\n",
              "      <td>61.0</td>\n",
              "      <td>4.0</td>\n",
              "      <td>&gt;2l</td>\n",
              "      <td>&lt;25</td>\n",
              "      <td>3.0</td>\n",
              "      <td>0.0</td>\n",
              "    </tr>\n",
              "    <tr>\n",
              "      <th>61</th>\n",
              "      <td>NaN</td>\n",
              "      <td>NaN</td>\n",
              "      <td>NaN</td>\n",
              "      <td>NaN</td>\n",
              "      <td>NaN</td>\n",
              "      <td>NaN</td>\n",
              "    </tr>\n",
              "    <tr>\n",
              "      <th>62</th>\n",
              "      <td>NaN</td>\n",
              "      <td>NaN</td>\n",
              "      <td>NaN</td>\n",
              "      <td>NaN</td>\n",
              "      <td>NaN</td>\n",
              "      <td>NaN</td>\n",
              "    </tr>\n",
              "    <tr>\n",
              "      <th>63</th>\n",
              "      <td>NaN</td>\n",
              "      <td>NaN</td>\n",
              "      <td>NaN</td>\n",
              "      <td>NaN</td>\n",
              "      <td>NaN</td>\n",
              "      <td>NaN</td>\n",
              "    </tr>\n",
              "  </tbody>\n",
              "</table>\n",
              "<p>64 rows × 6 columns</p>\n",
              "</div>"
            ],
            "text/plain": [
              "      ID  District   Group  Age  Holders  Claims\n",
              "0    1.0       1.0     <1l  <25    197.0    38.0\n",
              "1    NaN       NaN     NaN  NaN      NaN     NaN\n",
              "2    NaN       NaN     NaN  NaN      NaN     NaN\n",
              "3    NaN       NaN     NaN  NaN      NaN     NaN\n",
              "4    5.0       1.0  1-1.5l  <25    284.0    63.0\n",
              "..   ...       ...     ...  ...      ...     ...\n",
              "59   NaN       NaN     NaN  NaN      NaN     NaN\n",
              "60  61.0       4.0     >2l  <25      3.0     0.0\n",
              "61   NaN       NaN     NaN  NaN      NaN     NaN\n",
              "62   NaN       NaN     NaN  NaN      NaN     NaN\n",
              "63   NaN       NaN     NaN  NaN      NaN     NaN\n",
              "\n",
              "[64 rows x 6 columns]"
            ]
          },
          "metadata": {
            "tags": []
          },
          "execution_count": 12
        }
      ]
    },
    {
      "cell_type": "markdown",
      "metadata": {
        "id": "u4ftlXVj-cdj"
      },
      "source": [
        "dropna usuwa NaN; nawiasy kwadratowe [ ] nie usuną NaN"
      ]
    },
    {
      "cell_type": "code",
      "metadata": {
        "colab": {
          "base_uri": "https://localhost:8080/",
          "height": 205
        },
        "id": "Q7rmR77r1EGK",
        "outputId": "1c24b3ef-629a-4521-8179-4c578ec653e4"
      },
      "source": [
        "frame.where(isYounger25).dropna().head()"
      ],
      "execution_count": null,
      "outputs": [
        {
          "output_type": "execute_result",
          "data": {
            "text/html": [
              "<div>\n",
              "<style scoped>\n",
              "    .dataframe tbody tr th:only-of-type {\n",
              "        vertical-align: middle;\n",
              "    }\n",
              "\n",
              "    .dataframe tbody tr th {\n",
              "        vertical-align: top;\n",
              "    }\n",
              "\n",
              "    .dataframe thead th {\n",
              "        text-align: right;\n",
              "    }\n",
              "</style>\n",
              "<table border=\"1\" class=\"dataframe\">\n",
              "  <thead>\n",
              "    <tr style=\"text-align: right;\">\n",
              "      <th></th>\n",
              "      <th>ID</th>\n",
              "      <th>District</th>\n",
              "      <th>Group</th>\n",
              "      <th>Age</th>\n",
              "      <th>Holders</th>\n",
              "      <th>Claims</th>\n",
              "    </tr>\n",
              "  </thead>\n",
              "  <tbody>\n",
              "    <tr>\n",
              "      <th>0</th>\n",
              "      <td>1.0</td>\n",
              "      <td>1.0</td>\n",
              "      <td>&lt;1l</td>\n",
              "      <td>&lt;25</td>\n",
              "      <td>197.0</td>\n",
              "      <td>38.0</td>\n",
              "    </tr>\n",
              "    <tr>\n",
              "      <th>4</th>\n",
              "      <td>5.0</td>\n",
              "      <td>1.0</td>\n",
              "      <td>1-1.5l</td>\n",
              "      <td>&lt;25</td>\n",
              "      <td>284.0</td>\n",
              "      <td>63.0</td>\n",
              "    </tr>\n",
              "    <tr>\n",
              "      <th>8</th>\n",
              "      <td>9.0</td>\n",
              "      <td>1.0</td>\n",
              "      <td>1.5-2l</td>\n",
              "      <td>&lt;25</td>\n",
              "      <td>133.0</td>\n",
              "      <td>19.0</td>\n",
              "    </tr>\n",
              "    <tr>\n",
              "      <th>12</th>\n",
              "      <td>13.0</td>\n",
              "      <td>1.0</td>\n",
              "      <td>&gt;2l</td>\n",
              "      <td>&lt;25</td>\n",
              "      <td>24.0</td>\n",
              "      <td>4.0</td>\n",
              "    </tr>\n",
              "    <tr>\n",
              "      <th>16</th>\n",
              "      <td>17.0</td>\n",
              "      <td>2.0</td>\n",
              "      <td>&lt;1l</td>\n",
              "      <td>&lt;25</td>\n",
              "      <td>85.0</td>\n",
              "      <td>22.0</td>\n",
              "    </tr>\n",
              "  </tbody>\n",
              "</table>\n",
              "</div>"
            ],
            "text/plain": [
              "      ID  District   Group  Age  Holders  Claims\n",
              "0    1.0       1.0     <1l  <25    197.0    38.0\n",
              "4    5.0       1.0  1-1.5l  <25    284.0    63.0\n",
              "8    9.0       1.0  1.5-2l  <25    133.0    19.0\n",
              "12  13.0       1.0     >2l  <25     24.0     4.0\n",
              "16  17.0       2.0     <1l  <25     85.0    22.0"
            ]
          },
          "metadata": {
            "tags": []
          },
          "execution_count": 15
        }
      ]
    },
    {
      "cell_type": "code",
      "metadata": {
        "colab": {
          "base_uri": "https://localhost:8080/",
          "height": 205
        },
        "id": "UhRFPddV1NVW",
        "outputId": "fbeeb65a-f44d-441a-a181-048cebf87f0d"
      },
      "source": [
        "frame[isYounger25].head()"
      ],
      "execution_count": null,
      "outputs": [
        {
          "output_type": "execute_result",
          "data": {
            "text/html": [
              "<div>\n",
              "<style scoped>\n",
              "    .dataframe tbody tr th:only-of-type {\n",
              "        vertical-align: middle;\n",
              "    }\n",
              "\n",
              "    .dataframe tbody tr th {\n",
              "        vertical-align: top;\n",
              "    }\n",
              "\n",
              "    .dataframe thead th {\n",
              "        text-align: right;\n",
              "    }\n",
              "</style>\n",
              "<table border=\"1\" class=\"dataframe\">\n",
              "  <thead>\n",
              "    <tr style=\"text-align: right;\">\n",
              "      <th></th>\n",
              "      <th>ID</th>\n",
              "      <th>District</th>\n",
              "      <th>Group</th>\n",
              "      <th>Age</th>\n",
              "      <th>Holders</th>\n",
              "      <th>Claims</th>\n",
              "    </tr>\n",
              "  </thead>\n",
              "  <tbody>\n",
              "    <tr>\n",
              "      <th>0</th>\n",
              "      <td>1</td>\n",
              "      <td>1</td>\n",
              "      <td>&lt;1l</td>\n",
              "      <td>&lt;25</td>\n",
              "      <td>197</td>\n",
              "      <td>38</td>\n",
              "    </tr>\n",
              "    <tr>\n",
              "      <th>4</th>\n",
              "      <td>5</td>\n",
              "      <td>1</td>\n",
              "      <td>1-1.5l</td>\n",
              "      <td>&lt;25</td>\n",
              "      <td>284</td>\n",
              "      <td>63</td>\n",
              "    </tr>\n",
              "    <tr>\n",
              "      <th>8</th>\n",
              "      <td>9</td>\n",
              "      <td>1</td>\n",
              "      <td>1.5-2l</td>\n",
              "      <td>&lt;25</td>\n",
              "      <td>133</td>\n",
              "      <td>19</td>\n",
              "    </tr>\n",
              "    <tr>\n",
              "      <th>12</th>\n",
              "      <td>13</td>\n",
              "      <td>1</td>\n",
              "      <td>&gt;2l</td>\n",
              "      <td>&lt;25</td>\n",
              "      <td>24</td>\n",
              "      <td>4</td>\n",
              "    </tr>\n",
              "    <tr>\n",
              "      <th>16</th>\n",
              "      <td>17</td>\n",
              "      <td>2</td>\n",
              "      <td>&lt;1l</td>\n",
              "      <td>&lt;25</td>\n",
              "      <td>85</td>\n",
              "      <td>22</td>\n",
              "    </tr>\n",
              "  </tbody>\n",
              "</table>\n",
              "</div>"
            ],
            "text/plain": [
              "    ID  District   Group  Age  Holders  Claims\n",
              "0    1         1     <1l  <25      197      38\n",
              "4    5         1  1-1.5l  <25      284      63\n",
              "8    9         1  1.5-2l  <25      133      19\n",
              "12  13         1     >2l  <25       24       4\n",
              "16  17         2     <1l  <25       85      22"
            ]
          },
          "metadata": {
            "tags": []
          },
          "execution_count": 14
        }
      ]
    },
    {
      "cell_type": "code",
      "metadata": {
        "colab": {
          "base_uri": "https://localhost:8080/"
        },
        "id": "QnP6CzLX-EUM",
        "outputId": "c2a244ad-aea4-45da-a76a-44e25021c052"
      },
      "source": [
        "frame.loc[isYounger25,'Holders'].head()"
      ],
      "execution_count": null,
      "outputs": [
        {
          "output_type": "execute_result",
          "data": {
            "text/plain": [
              "0     197\n",
              "4     284\n",
              "8     133\n",
              "12     24\n",
              "16     85\n",
              "Name: Holders, dtype: int64"
            ]
          },
          "metadata": {
            "tags": []
          },
          "execution_count": 16
        }
      ]
    },
    {
      "cell_type": "code",
      "metadata": {
        "colab": {
          "base_uri": "https://localhost:8080/"
        },
        "id": "534ykGigTl6D",
        "outputId": "37e25ea4-34b1-47ba-c38b-6371afc76f7e"
      },
      "source": [
        "frame.loc[isYounger25,'Holders'] + 100"
      ],
      "execution_count": null,
      "outputs": [
        {
          "output_type": "execute_result",
          "data": {
            "text/plain": [
              "0     297\n",
              "4     384\n",
              "8     233\n",
              "12    124\n",
              "16    185\n",
              "20    249\n",
              "24    166\n",
              "28    109\n",
              "32    135\n",
              "36    153\n",
              "40    124\n",
              "44    107\n",
              "48    120\n",
              "52    131\n",
              "56    118\n",
              "60    103\n",
              "Name: Holders, dtype: int64"
            ]
          },
          "metadata": {
            "tags": []
          },
          "execution_count": 19
        }
      ]
    },
    {
      "cell_type": "code",
      "metadata": {
        "colab": {
          "base_uri": "https://localhost:8080/",
          "height": 205
        },
        "id": "K5WrZzdBUBT-",
        "outputId": "919b776d-a7d4-4248-ebf6-5582474971f7"
      },
      "source": [
        "frame.loc[isYounger25,'Holders'] = frame.loc[isYounger25, 'Holders'] + 100\n",
        "frame.head()"
      ],
      "execution_count": null,
      "outputs": [
        {
          "output_type": "execute_result",
          "data": {
            "text/html": [
              "<div>\n",
              "<style scoped>\n",
              "    .dataframe tbody tr th:only-of-type {\n",
              "        vertical-align: middle;\n",
              "    }\n",
              "\n",
              "    .dataframe tbody tr th {\n",
              "        vertical-align: top;\n",
              "    }\n",
              "\n",
              "    .dataframe thead th {\n",
              "        text-align: right;\n",
              "    }\n",
              "</style>\n",
              "<table border=\"1\" class=\"dataframe\">\n",
              "  <thead>\n",
              "    <tr style=\"text-align: right;\">\n",
              "      <th></th>\n",
              "      <th>ID</th>\n",
              "      <th>District</th>\n",
              "      <th>Group</th>\n",
              "      <th>Age</th>\n",
              "      <th>Holders</th>\n",
              "      <th>Claims</th>\n",
              "    </tr>\n",
              "  </thead>\n",
              "  <tbody>\n",
              "    <tr>\n",
              "      <th>0</th>\n",
              "      <td>1</td>\n",
              "      <td>1</td>\n",
              "      <td>&lt;1l</td>\n",
              "      <td>&lt;25</td>\n",
              "      <td>297</td>\n",
              "      <td>38</td>\n",
              "    </tr>\n",
              "    <tr>\n",
              "      <th>1</th>\n",
              "      <td>2</td>\n",
              "      <td>1</td>\n",
              "      <td>&lt;1l</td>\n",
              "      <td>25-29</td>\n",
              "      <td>264</td>\n",
              "      <td>35</td>\n",
              "    </tr>\n",
              "    <tr>\n",
              "      <th>2</th>\n",
              "      <td>3</td>\n",
              "      <td>1</td>\n",
              "      <td>&lt;1l</td>\n",
              "      <td>30-35</td>\n",
              "      <td>246</td>\n",
              "      <td>20</td>\n",
              "    </tr>\n",
              "    <tr>\n",
              "      <th>3</th>\n",
              "      <td>4</td>\n",
              "      <td>1</td>\n",
              "      <td>&lt;1l</td>\n",
              "      <td>&gt;35</td>\n",
              "      <td>1680</td>\n",
              "      <td>156</td>\n",
              "    </tr>\n",
              "    <tr>\n",
              "      <th>4</th>\n",
              "      <td>5</td>\n",
              "      <td>1</td>\n",
              "      <td>1-1.5l</td>\n",
              "      <td>&lt;25</td>\n",
              "      <td>384</td>\n",
              "      <td>63</td>\n",
              "    </tr>\n",
              "  </tbody>\n",
              "</table>\n",
              "</div>"
            ],
            "text/plain": [
              "   ID  District   Group    Age  Holders  Claims\n",
              "0   1         1     <1l    <25      297      38\n",
              "1   2         1     <1l  25-29      264      35\n",
              "2   3         1     <1l  30-35      246      20\n",
              "3   4         1     <1l    >35     1680     156\n",
              "4   5         1  1-1.5l    <25      384      63"
            ]
          },
          "metadata": {
            "tags": []
          },
          "execution_count": 20
        }
      ]
    },
    {
      "cell_type": "markdown",
      "metadata": {
        "id": "8QU0JJreVXUq"
      },
      "source": [
        "Uproszczony powyższy zapis to:"
      ]
    },
    {
      "cell_type": "code",
      "metadata": {
        "colab": {
          "base_uri": "https://localhost:8080/",
          "height": 205
        },
        "id": "xTCFHQ3qUzDl",
        "outputId": "303959a2-939d-4dff-fad0-8c5fce4b87cd"
      },
      "source": [
        "frame.loc[isYounger25,'Holders'] += 1000\n",
        "frame.head()"
      ],
      "execution_count": null,
      "outputs": [
        {
          "output_type": "execute_result",
          "data": {
            "text/html": [
              "<div>\n",
              "<style scoped>\n",
              "    .dataframe tbody tr th:only-of-type {\n",
              "        vertical-align: middle;\n",
              "    }\n",
              "\n",
              "    .dataframe tbody tr th {\n",
              "        vertical-align: top;\n",
              "    }\n",
              "\n",
              "    .dataframe thead th {\n",
              "        text-align: right;\n",
              "    }\n",
              "</style>\n",
              "<table border=\"1\" class=\"dataframe\">\n",
              "  <thead>\n",
              "    <tr style=\"text-align: right;\">\n",
              "      <th></th>\n",
              "      <th>ID</th>\n",
              "      <th>District</th>\n",
              "      <th>Group</th>\n",
              "      <th>Age</th>\n",
              "      <th>Holders</th>\n",
              "      <th>Claims</th>\n",
              "    </tr>\n",
              "  </thead>\n",
              "  <tbody>\n",
              "    <tr>\n",
              "      <th>0</th>\n",
              "      <td>1</td>\n",
              "      <td>1</td>\n",
              "      <td>&lt;1l</td>\n",
              "      <td>&lt;25</td>\n",
              "      <td>1297</td>\n",
              "      <td>38</td>\n",
              "    </tr>\n",
              "    <tr>\n",
              "      <th>1</th>\n",
              "      <td>2</td>\n",
              "      <td>1</td>\n",
              "      <td>&lt;1l</td>\n",
              "      <td>25-29</td>\n",
              "      <td>264</td>\n",
              "      <td>35</td>\n",
              "    </tr>\n",
              "    <tr>\n",
              "      <th>2</th>\n",
              "      <td>3</td>\n",
              "      <td>1</td>\n",
              "      <td>&lt;1l</td>\n",
              "      <td>30-35</td>\n",
              "      <td>246</td>\n",
              "      <td>20</td>\n",
              "    </tr>\n",
              "    <tr>\n",
              "      <th>3</th>\n",
              "      <td>4</td>\n",
              "      <td>1</td>\n",
              "      <td>&lt;1l</td>\n",
              "      <td>&gt;35</td>\n",
              "      <td>1680</td>\n",
              "      <td>156</td>\n",
              "    </tr>\n",
              "    <tr>\n",
              "      <th>4</th>\n",
              "      <td>5</td>\n",
              "      <td>1</td>\n",
              "      <td>1-1.5l</td>\n",
              "      <td>&lt;25</td>\n",
              "      <td>1384</td>\n",
              "      <td>63</td>\n",
              "    </tr>\n",
              "  </tbody>\n",
              "</table>\n",
              "</div>"
            ],
            "text/plain": [
              "   ID  District   Group    Age  Holders  Claims\n",
              "0   1         1     <1l    <25     1297      38\n",
              "1   2         1     <1l  25-29      264      35\n",
              "2   3         1     <1l  30-35      246      20\n",
              "3   4         1     <1l    >35     1680     156\n",
              "4   5         1  1-1.5l    <25     1384      63"
            ]
          },
          "metadata": {
            "tags": []
          },
          "execution_count": 21
        }
      ]
    },
    {
      "cell_type": "code",
      "metadata": {
        "colab": {
          "base_uri": "https://localhost:8080/",
          "height": 205
        },
        "id": "ObUb95SYVrbp",
        "outputId": "aa7706fa-f00e-45ef-9bc5-05dd86da8d31"
      },
      "source": [
        "frame.loc[isYounger25,'Holders'] = frame['Holders'] + 1000\n",
        "frame.head()"
      ],
      "execution_count": null,
      "outputs": [
        {
          "output_type": "execute_result",
          "data": {
            "text/html": [
              "<div>\n",
              "<style scoped>\n",
              "    .dataframe tbody tr th:only-of-type {\n",
              "        vertical-align: middle;\n",
              "    }\n",
              "\n",
              "    .dataframe tbody tr th {\n",
              "        vertical-align: top;\n",
              "    }\n",
              "\n",
              "    .dataframe thead th {\n",
              "        text-align: right;\n",
              "    }\n",
              "</style>\n",
              "<table border=\"1\" class=\"dataframe\">\n",
              "  <thead>\n",
              "    <tr style=\"text-align: right;\">\n",
              "      <th></th>\n",
              "      <th>ID</th>\n",
              "      <th>District</th>\n",
              "      <th>Group</th>\n",
              "      <th>Age</th>\n",
              "      <th>Holders</th>\n",
              "      <th>Claims</th>\n",
              "    </tr>\n",
              "  </thead>\n",
              "  <tbody>\n",
              "    <tr>\n",
              "      <th>0</th>\n",
              "      <td>1</td>\n",
              "      <td>1</td>\n",
              "      <td>&lt;1l</td>\n",
              "      <td>&lt;25</td>\n",
              "      <td>2297</td>\n",
              "      <td>38</td>\n",
              "    </tr>\n",
              "    <tr>\n",
              "      <th>1</th>\n",
              "      <td>2</td>\n",
              "      <td>1</td>\n",
              "      <td>&lt;1l</td>\n",
              "      <td>25-29</td>\n",
              "      <td>264</td>\n",
              "      <td>35</td>\n",
              "    </tr>\n",
              "    <tr>\n",
              "      <th>2</th>\n",
              "      <td>3</td>\n",
              "      <td>1</td>\n",
              "      <td>&lt;1l</td>\n",
              "      <td>30-35</td>\n",
              "      <td>246</td>\n",
              "      <td>20</td>\n",
              "    </tr>\n",
              "    <tr>\n",
              "      <th>3</th>\n",
              "      <td>4</td>\n",
              "      <td>1</td>\n",
              "      <td>&lt;1l</td>\n",
              "      <td>&gt;35</td>\n",
              "      <td>1680</td>\n",
              "      <td>156</td>\n",
              "    </tr>\n",
              "    <tr>\n",
              "      <th>4</th>\n",
              "      <td>5</td>\n",
              "      <td>1</td>\n",
              "      <td>1-1.5l</td>\n",
              "      <td>&lt;25</td>\n",
              "      <td>2384</td>\n",
              "      <td>63</td>\n",
              "    </tr>\n",
              "  </tbody>\n",
              "</table>\n",
              "</div>"
            ],
            "text/plain": [
              "   ID  District   Group    Age  Holders  Claims\n",
              "0   1         1     <1l    <25     2297      38\n",
              "1   2         1     <1l  25-29      264      35\n",
              "2   3         1     <1l  30-35      246      20\n",
              "3   4         1     <1l    >35     1680     156\n",
              "4   5         1  1-1.5l    <25     2384      63"
            ]
          },
          "metadata": {
            "tags": []
          },
          "execution_count": 22
        }
      ]
    }
  ]
}